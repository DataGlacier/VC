{
 "cells": [
  {
   "cell_type": "markdown",
   "id": "5893ec9f-5a74-4368-a154-185d37f17720",
   "metadata": {},
   "source": [
    "# Week 4: Model Deployment on Flask by Connor Bryson"
   ]
  },
  {
   "cell_type": "markdown",
   "id": "6f667ea8-2643-4d41-a01b-dba22f7e0c79",
   "metadata": {},
   "source": [
    "## Here is the code for my python model with Flask Set up"
   ]
  },
  {
   "cell_type": "markdown",
   "id": "ea5fd78c-4569-4a28-8e2b-c5157ee99236",
   "metadata": {},
   "source": [
    "## I chose a Random Forest Regressor for the data and the data came from the Kaggle Titanic Machine Learning Competition"
   ]
  },
  {
   "cell_type": "markdown",
   "id": "bb3f9b3e-371c-46cd-8c22-4c34d90a18c2",
   "metadata": {},
   "source": [
    "### The model predicts the probability of survivability based on number of siblings and parch."
   ]
  },
  {
   "cell_type": "code",
   "execution_count": null,
   "id": "93fe9412-b03f-4c6d-982c-278aaded0f29",
   "metadata": {},
   "outputs": [],
   "source": [
    "# # -*- coding: utf-8 -*-\n",
    "# \"\"\"\n",
    "# Created on Fri Sep 22 14:32:59 2023\n",
    "\n",
    "# @author: cdbry\n",
    "# \"\"\"\n",
    "\n",
    "# import numpy as np\n",
    "# import pandas as pd\n",
    "# from flask import Flask, request, render_template\n",
    "# from sklearn.ensemble import RandomForestRegressor\n",
    "\n",
    "# train_data = pd.read_csv(r\"C:\\Users\\cdbry\\Desktop\\Data Glacier Internship\\Repositories\\Data-Glacier-Internship-Fall-2023\\Week 4\\Deployment_Flask\\data/train.csv\")\n",
    "# test_data = pd.read_csv(r\"C:\\Users\\cdbry\\Desktop\\Data Glacier Internship\\Repositories\\Data-Glacier-Internship-Fall-2023\\Week 4\\Deployment_Flask\\data/test.csv\")\n",
    "\n",
    "\n",
    "# app = Flask(__name__)\n",
    "\n",
    "\n",
    "# y = train_data[\"Survived\"]\n",
    "# features = [\"SibSp\", \"Parch\"]\n",
    "# X = pd.get_dummies(train_data[features].dropna(how ='any'))\n",
    "\n",
    "\n",
    "\n",
    "\n",
    "# model = RandomForestRegressor(n_estimators=100, max_depth=5, random_state=1)\n",
    "# model.fit(X, y)\n",
    "\n",
    "\n",
    "# @app.route('/')\n",
    "\n",
    "# def home():\n",
    "#     return render_template(\"template.html\")\n",
    "\n",
    "\n",
    "# @app.route('/predict', methods = ['POST'])\n",
    "\n",
    "# def predict():\n",
    "#     \"\"\"\n",
    "#     For rending results on HTML GUI\n",
    "#     \"\"\"\n",
    "    \n",
    "#     int_features = [int(x) for x in request.form.values()]\n",
    "#     final_features = [np.array(int_features)]\n",
    "#     prediction = model.predict(final_features)\n",
    "    \n",
    "#     return render_template('template.html', prediction_text = f\"Probability they survived: {prediction[0]}\")\n",
    "    \n",
    "                           \n",
    "# if __name__ == \"__main__\":\n",
    "#     app.run(port = 5000, debug = True)"
   ]
  },
  {
   "cell_type": "markdown",
   "id": "ac91f405-7704-470c-aed2-2e0c5ba53efa",
   "metadata": {},
   "source": [
    "## Next I made the templates folder for the html template and put it with the model"
   ]
  },
  {
   "cell_type": "markdown",
   "id": "c8218180-51b5-43f8-8803-8c41495af4fb",
   "metadata": {},
   "source": [
    "## Then I made the html template which is shown below"
   ]
  },
  {
   "cell_type": "code",
   "execution_count": null,
   "id": "008f5bd5-c652-4c80-8aa3-2095584ff6aa",
   "metadata": {},
   "outputs": [],
   "source": [
    "# <!DOCTYPE html>\n",
    "# <html >\n",
    "# <!--From https://codepen.io/frytyler/pen/EGdtg-->\n",
    "# <head>\n",
    "#     <meta charset=\"UTF-8\">\n",
    "#     <title>My Machine Learning API</title>\n",
    "#     <link href='https://fonts.googleapis.com/css?family=Pacifico' rel='stylesheet' type='text/css'>\n",
    "# <link href='https://fonts.googleapis.com/css?family=Arimo' rel='stylesheet' type='text/css'>\n",
    "# <link href='https://fonts.googleapis.com/css?family=Hind:300' rel='stylesheet' type='text/css'>\n",
    "# <link href='https://fonts.googleapis.com/css?family=Open+Sans+Condensed:300' rel='stylesheet' type='text/css'>\n",
    "# <link rel=\"stylesheet\" href=\"{{ url_for('static', filename='css/style.css') }}\">\n",
    "\n",
    "# </head>    \n",
    "\n",
    "# <body>\n",
    "#     <div class=\"Login\">\n",
    "#     <h1>Predict Survivability</h1>\n",
    "    \n",
    "#     <!-- Main Input For Recieving Query to our ML -->\n",
    "#     <form action=\"{{ url_for('predict')}}\" method=\"post\">\n",
    "#         <input type=\"text\" name=\"SibSp\" placeholder=\"Siblings\" required=\"required\" />\n",
    "#         <input type=\"text\" name=\"Parch\" placeholder=\"Parch\" required=\"required\" />\n",
    "        \n",
    "#         <button type=\"submit\" class=\"btn btn-primary btn-block btn-large\">Predict</button>\n",
    "#     </form>\n",
    "    \n",
    "#     <br>\n",
    "#     <br>\n",
    "#     {{ prediction_text }}\n",
    "\n",
    "# </div>\n",
    "\n",
    "# </body>\n",
    "# </html>"
   ]
  },
  {
   "cell_type": "markdown",
   "id": "e0b65ace-69f5-4522-83e8-9199ce9fecc7",
   "metadata": {},
   "source": [
    "## Below are screenshots of the end product"
   ]
  },
  {
   "cell_type": "markdown",
   "id": "e0f71966-90f8-42b2-9b2f-333d08e60ca9",
   "metadata": {},
   "source": [
    "### Home Page"
   ]
  },
  {
   "cell_type": "markdown",
   "id": "0e03c5f8-263b-413c-9b66-97007481ca55",
   "metadata": {},
   "source": [
    "![HOMEPAGE](HomePage.jpg)\n",
    "![PREDICTIONPAGE](PredictionPage.jpg)"
   ]
  }
 ],
 "metadata": {
  "kernelspec": {
   "display_name": "Python 3 (ipykernel)",
   "language": "python",
   "name": "python3"
  },
  "language_info": {
   "codemirror_mode": {
    "name": "ipython",
    "version": 3
   },
   "file_extension": ".py",
   "mimetype": "text/x-python",
   "name": "python",
   "nbconvert_exporter": "python",
   "pygments_lexer": "ipython3",
   "version": "3.9.17"
  }
 },
 "nbformat": 4,
 "nbformat_minor": 5
}
