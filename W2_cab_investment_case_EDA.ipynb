{
  "nbformat": 4,
  "nbformat_minor": 0,
  "metadata": {
    "colab": {
      "name": "W2 - cab investment case - EDA.ipynb",
      "provenance": [],
      "collapsed_sections": [
        "nJ32fO4n2BY2"
      ],
      "authorship_tag": "ABX9TyPfHhPXh83V9t36W9Rdwm59",
      "include_colab_link": true
    },
    "kernelspec": {
      "name": "python3",
      "display_name": "Python 3"
    },
    "language_info": {
      "name": "python"
    }
  },
  "cells": [
    {
      "cell_type": "markdown",
      "metadata": {
        "id": "view-in-github",
        "colab_type": "text"
      },
      "source": [
        "<a href=\"https://colab.research.google.com/github/YuyangXie1998/DataGlacier/blob/main/W2_cab_investment_case_EDA.ipynb\" target=\"_parent\"><img src=\"https://colab.research.google.com/assets/colab-badge.svg\" alt=\"Open In Colab\"/></a>"
      ]
    },
    {
      "cell_type": "markdown",
      "source": [
        "# G2M insight for Cab Investment firm"
      ],
      "metadata": {
        "id": "PM8_Zm414ilG"
      }
    },
    {
      "cell_type": "markdown",
      "source": [
        "## 1. Business Problems"
      ],
      "metadata": {
        "id": "8W119hEn5XLr"
      }
    },
    {
      "cell_type": "markdown",
      "source": [
        "In this case, we will mainly investigate two business problems as follows:\n",
        "1. Is there any seasonality in number of customers using the cab service?\n",
        "2. Which company has maximum cab users at a particular time period?"
      ],
      "metadata": {
        "id": "jgCyQxDr5vVJ"
      }
    },
    {
      "cell_type": "code",
      "source": [
        "# Does margin proportionally increase with increase in number of customers?\n",
        "# What are the attributes of these customer segments?"
      ],
      "metadata": {
        "id": "4MVxseRVHsFV"
      },
      "execution_count": null,
      "outputs": []
    },
    {
      "cell_type": "markdown",
      "source": [
        "## 2. Data Preparation"
      ],
      "metadata": {
        "id": "V7gI-U2f5avv"
      }
    },
    {
      "cell_type": "code",
      "source": [
        "# import the required packages\n",
        "import pandas as pd\n",
        "import matplotlib.pyplot as plt\n",
        "import matplotlib as mp\n",
        "import numpy as np\n",
        "import seaborn as sns\n",
        "from matplotlib.ticker import PercentFormatter\n",
        "\n",
        "import warnings\n",
        "warnings.filterwarnings(\"ignore\")"
      ],
      "metadata": {
        "id": "HQgPxdJPDFEM"
      },
      "execution_count": 1,
      "outputs": []
    },
    {
      "cell_type": "markdown",
      "source": [
        "### 2.1 Data Loading"
      ],
      "metadata": {
        "id": "64v1eyLaJc3O"
      }
    },
    {
      "cell_type": "code",
      "execution_count": 2,
      "metadata": {
        "id": "B_BCbWPSCh9m"
      },
      "outputs": [],
      "source": [
        "url_cab = 'https://raw.githubusercontent.com/DataGlacier/DataSets/main/Cab_Data.csv'\n",
        "url_city = 'https://raw.githubusercontent.com/DataGlacier/DataSets/main/City.csv'\n",
        "url_cust = 'https://raw.githubusercontent.com/DataGlacier/DataSets/main/Customer_ID.csv'\n",
        "url_tran = 'https://raw.githubusercontent.com/DataGlacier/DataSets/main/Transaction_ID.csv'"
      ]
    },
    {
      "cell_type": "code",
      "source": [
        "import requests\n",
        "#just a dummy file URL\n",
        "info1 = requests.head(url_cab)\n",
        "info2 = requests.head(url_city)\n",
        "info3 = requests.head(url_cust)\n",
        "info4 = requests.head(url_tran)\n",
        "#fetching the header information\n",
        "print(info1.headers)\n",
        "print(info2.headers)\n",
        "print(info3.headers)\n",
        "print(info4.headers)\n",
        "#printing the details"
      ],
      "metadata": {
        "colab": {
          "base_uri": "https://localhost:8080/"
        },
        "id": "MPdGVleS2MN1",
        "outputId": "b7a011cb-e2ca-4c4b-bacb-cd1dadc95c42"
      },
      "execution_count": 3,
      "outputs": [
        {
          "output_type": "stream",
          "name": "stdout",
          "text": [
            "{'Connection': 'keep-alive', 'Content-Length': '5240663', 'Cache-Control': 'max-age=300', 'Content-Security-Policy': \"default-src 'none'; style-src 'unsafe-inline'; sandbox\", 'Content-Type': 'text/plain; charset=utf-8', 'ETag': 'W/\"14e4000dab3162a866b3e02d33910d0c01caf906390c3e3646f2cde108c0ee88\"', 'Strict-Transport-Security': 'max-age=31536000', 'X-Content-Type-Options': 'nosniff', 'X-Frame-Options': 'deny', 'X-XSS-Protection': '1; mode=block', 'X-GitHub-Request-Id': '382A:54AC:16B3:2C37:627F33BC', 'Content-Encoding': 'gzip', 'Accept-Ranges': 'bytes', 'Date': 'Sat, 14 May 2022 04:54:15 GMT', 'Via': '1.1 varnish', 'X-Served-By': 'cache-hkg17920-HKG', 'X-Cache': 'HIT', 'X-Cache-Hits': '1', 'X-Timer': 'S1652504056.537984,VS0,VE7', 'Vary': 'Authorization,Accept-Encoding,Origin', 'Access-Control-Allow-Origin': '*', 'X-Fastly-Request-ID': 'cc469228e55596a6a7955ba34a842c07bfe8e770', 'Expires': 'Sat, 14 May 2022 04:59:15 GMT', 'Source-Age': '139'}\n",
            "{'Connection': 'keep-alive', 'Content-Length': '453', 'Cache-Control': 'max-age=300', 'Content-Security-Policy': \"default-src 'none'; style-src 'unsafe-inline'; sandbox\", 'Content-Type': 'text/plain; charset=utf-8', 'ETag': 'W/\"f70fe778a84aa6427b670a938332b839cc2076f4d6d3e0b73ed43eed0a60bbcb\"', 'Strict-Transport-Security': 'max-age=31536000', 'X-Content-Type-Options': 'nosniff', 'X-Frame-Options': 'deny', 'X-XSS-Protection': '1; mode=block', 'X-GitHub-Request-Id': '1B12:0912:117C27:1F41AC:627F33BE', 'Content-Encoding': 'gzip', 'Accept-Ranges': 'bytes', 'Date': 'Sat, 14 May 2022 04:54:15 GMT', 'Via': '1.1 varnish', 'X-Served-By': 'cache-hkg17934-HKG', 'X-Cache': 'HIT', 'X-Cache-Hits': '2', 'X-Timer': 'S1652504056.600273,VS0,VE0', 'Vary': 'Authorization,Accept-Encoding,Origin', 'Access-Control-Allow-Origin': '*', 'X-Fastly-Request-ID': 'cb69c02c51e4133dd6e03cfbd751c31e89ee7a62', 'Expires': 'Sat, 14 May 2022 04:59:15 GMT', 'Source-Age': '138'}\n",
            "{'Connection': 'keep-alive', 'Content-Length': '372908', 'Cache-Control': 'max-age=300', 'Content-Security-Policy': \"default-src 'none'; style-src 'unsafe-inline'; sandbox\", 'Content-Type': 'text/plain; charset=utf-8', 'ETag': 'W/\"fefa6c248fcccad1b64444df90c61e6c3c1a628bb2c1eca19c4c476fcf7a49a3\"', 'Strict-Transport-Security': 'max-age=31536000', 'X-Content-Type-Options': 'nosniff', 'X-Frame-Options': 'deny', 'X-XSS-Protection': '1; mode=block', 'X-GitHub-Request-Id': '7572:7E7E:363EF:5575D:627F33BF', 'Content-Encoding': 'gzip', 'Accept-Ranges': 'bytes', 'Date': 'Sat, 14 May 2022 04:54:15 GMT', 'Via': '1.1 varnish', 'X-Served-By': 'cache-hkg17926-HKG', 'X-Cache': 'HIT', 'X-Cache-Hits': '1', 'X-Timer': 'S1652504056.663499,VS0,VE1', 'Vary': 'Authorization,Accept-Encoding,Origin', 'Access-Control-Allow-Origin': '*', 'X-Fastly-Request-ID': 'b0dc2c61e7c91f5baf8b9ff826c8e5d382181c2d', 'Expires': 'Sat, 14 May 2022 04:59:15 GMT', 'Source-Age': '138'}\n",
            "{'Connection': 'keep-alive', 'Content-Length': '2373343', 'Cache-Control': 'max-age=300', 'Content-Security-Policy': \"default-src 'none'; style-src 'unsafe-inline'; sandbox\", 'Content-Type': 'text/plain; charset=utf-8', 'ETag': 'W/\"8b1b716b18625cdc8cdeaab8b9cf01884af0e866e5abb3b99fa69164fe15041b\"', 'Strict-Transport-Security': 'max-age=31536000', 'X-Content-Type-Options': 'nosniff', 'X-Frame-Options': 'deny', 'X-XSS-Protection': '1; mode=block', 'X-GitHub-Request-Id': '145E:2A90:EE965:1CAEA7:627F33BF', 'Content-Encoding': 'gzip', 'Accept-Ranges': 'bytes', 'Date': 'Sat, 14 May 2022 04:54:15 GMT', 'Via': '1.1 varnish', 'X-Served-By': 'cache-hkg17933-HKG', 'X-Cache': 'HIT', 'X-Cache-Hits': '1', 'X-Timer': 'S1652504056.719016,VS0,VE3', 'Vary': 'Authorization,Accept-Encoding,Origin', 'Access-Control-Allow-Origin': '*', 'X-Fastly-Request-ID': '136ab71684725047b4eaa19cb38a306ed0c7f773', 'Expires': 'Sat, 14 May 2022 04:59:15 GMT', 'Source-Age': '137'}\n"
          ]
        }
      ]
    },
    {
      "cell_type": "code",
      "source": [
        "df_cab = pd.read_csv(url_cab)\n",
        "df_city = pd.read_csv(url_city)\n",
        "df_cust = pd.read_csv(url_cust)\n",
        "df_tran = pd.read_csv(url_tran)"
      ],
      "metadata": {
        "id": "NOjHbeCcDVH0"
      },
      "execution_count": 4,
      "outputs": []
    },
    {
      "cell_type": "code",
      "source": [
        "df_cab.head()"
      ],
      "metadata": {
        "colab": {
          "base_uri": "https://localhost:8080/",
          "height": 206
        },
        "id": "I_Hfh9U7D3Ee",
        "outputId": "f6487ada-518a-462b-d644-f39bc44aa378"
      },
      "execution_count": 5,
      "outputs": [
        {
          "output_type": "execute_result",
          "data": {
            "text/plain": [
              "   Transaction ID  Date of Travel   Company        City  KM Travelled  \\\n",
              "0        10000011           42377  Pink Cab  ATLANTA GA         30.45   \n",
              "1        10000012           42375  Pink Cab  ATLANTA GA         28.62   \n",
              "2        10000013           42371  Pink Cab  ATLANTA GA          9.04   \n",
              "3        10000014           42376  Pink Cab  ATLANTA GA         33.17   \n",
              "4        10000015           42372  Pink Cab  ATLANTA GA          8.73   \n",
              "\n",
              "   Price Charged  Cost of Trip  \n",
              "0         370.95       313.635  \n",
              "1         358.52       334.854  \n",
              "2         125.20        97.632  \n",
              "3         377.40       351.602  \n",
              "4         114.62        97.776  "
            ],
            "text/html": [
              "\n",
              "  <div id=\"df-d739eb7f-ea54-4b3c-bec5-d39bc4496b31\">\n",
              "    <div class=\"colab-df-container\">\n",
              "      <div>\n",
              "<style scoped>\n",
              "    .dataframe tbody tr th:only-of-type {\n",
              "        vertical-align: middle;\n",
              "    }\n",
              "\n",
              "    .dataframe tbody tr th {\n",
              "        vertical-align: top;\n",
              "    }\n",
              "\n",
              "    .dataframe thead th {\n",
              "        text-align: right;\n",
              "    }\n",
              "</style>\n",
              "<table border=\"1\" class=\"dataframe\">\n",
              "  <thead>\n",
              "    <tr style=\"text-align: right;\">\n",
              "      <th></th>\n",
              "      <th>Transaction ID</th>\n",
              "      <th>Date of Travel</th>\n",
              "      <th>Company</th>\n",
              "      <th>City</th>\n",
              "      <th>KM Travelled</th>\n",
              "      <th>Price Charged</th>\n",
              "      <th>Cost of Trip</th>\n",
              "    </tr>\n",
              "  </thead>\n",
              "  <tbody>\n",
              "    <tr>\n",
              "      <th>0</th>\n",
              "      <td>10000011</td>\n",
              "      <td>42377</td>\n",
              "      <td>Pink Cab</td>\n",
              "      <td>ATLANTA GA</td>\n",
              "      <td>30.45</td>\n",
              "      <td>370.95</td>\n",
              "      <td>313.635</td>\n",
              "    </tr>\n",
              "    <tr>\n",
              "      <th>1</th>\n",
              "      <td>10000012</td>\n",
              "      <td>42375</td>\n",
              "      <td>Pink Cab</td>\n",
              "      <td>ATLANTA GA</td>\n",
              "      <td>28.62</td>\n",
              "      <td>358.52</td>\n",
              "      <td>334.854</td>\n",
              "    </tr>\n",
              "    <tr>\n",
              "      <th>2</th>\n",
              "      <td>10000013</td>\n",
              "      <td>42371</td>\n",
              "      <td>Pink Cab</td>\n",
              "      <td>ATLANTA GA</td>\n",
              "      <td>9.04</td>\n",
              "      <td>125.20</td>\n",
              "      <td>97.632</td>\n",
              "    </tr>\n",
              "    <tr>\n",
              "      <th>3</th>\n",
              "      <td>10000014</td>\n",
              "      <td>42376</td>\n",
              "      <td>Pink Cab</td>\n",
              "      <td>ATLANTA GA</td>\n",
              "      <td>33.17</td>\n",
              "      <td>377.40</td>\n",
              "      <td>351.602</td>\n",
              "    </tr>\n",
              "    <tr>\n",
              "      <th>4</th>\n",
              "      <td>10000015</td>\n",
              "      <td>42372</td>\n",
              "      <td>Pink Cab</td>\n",
              "      <td>ATLANTA GA</td>\n",
              "      <td>8.73</td>\n",
              "      <td>114.62</td>\n",
              "      <td>97.776</td>\n",
              "    </tr>\n",
              "  </tbody>\n",
              "</table>\n",
              "</div>\n",
              "      <button class=\"colab-df-convert\" onclick=\"convertToInteractive('df-d739eb7f-ea54-4b3c-bec5-d39bc4496b31')\"\n",
              "              title=\"Convert this dataframe to an interactive table.\"\n",
              "              style=\"display:none;\">\n",
              "        \n",
              "  <svg xmlns=\"http://www.w3.org/2000/svg\" height=\"24px\"viewBox=\"0 0 24 24\"\n",
              "       width=\"24px\">\n",
              "    <path d=\"M0 0h24v24H0V0z\" fill=\"none\"/>\n",
              "    <path d=\"M18.56 5.44l.94 2.06.94-2.06 2.06-.94-2.06-.94-.94-2.06-.94 2.06-2.06.94zm-11 1L8.5 8.5l.94-2.06 2.06-.94-2.06-.94L8.5 2.5l-.94 2.06-2.06.94zm10 10l.94 2.06.94-2.06 2.06-.94-2.06-.94-.94-2.06-.94 2.06-2.06.94z\"/><path d=\"M17.41 7.96l-1.37-1.37c-.4-.4-.92-.59-1.43-.59-.52 0-1.04.2-1.43.59L10.3 9.45l-7.72 7.72c-.78.78-.78 2.05 0 2.83L4 21.41c.39.39.9.59 1.41.59.51 0 1.02-.2 1.41-.59l7.78-7.78 2.81-2.81c.8-.78.8-2.07 0-2.86zM5.41 20L4 18.59l7.72-7.72 1.47 1.35L5.41 20z\"/>\n",
              "  </svg>\n",
              "      </button>\n",
              "      \n",
              "  <style>\n",
              "    .colab-df-container {\n",
              "      display:flex;\n",
              "      flex-wrap:wrap;\n",
              "      gap: 12px;\n",
              "    }\n",
              "\n",
              "    .colab-df-convert {\n",
              "      background-color: #E8F0FE;\n",
              "      border: none;\n",
              "      border-radius: 50%;\n",
              "      cursor: pointer;\n",
              "      display: none;\n",
              "      fill: #1967D2;\n",
              "      height: 32px;\n",
              "      padding: 0 0 0 0;\n",
              "      width: 32px;\n",
              "    }\n",
              "\n",
              "    .colab-df-convert:hover {\n",
              "      background-color: #E2EBFA;\n",
              "      box-shadow: 0px 1px 2px rgba(60, 64, 67, 0.3), 0px 1px 3px 1px rgba(60, 64, 67, 0.15);\n",
              "      fill: #174EA6;\n",
              "    }\n",
              "\n",
              "    [theme=dark] .colab-df-convert {\n",
              "      background-color: #3B4455;\n",
              "      fill: #D2E3FC;\n",
              "    }\n",
              "\n",
              "    [theme=dark] .colab-df-convert:hover {\n",
              "      background-color: #434B5C;\n",
              "      box-shadow: 0px 1px 3px 1px rgba(0, 0, 0, 0.15);\n",
              "      filter: drop-shadow(0px 1px 2px rgba(0, 0, 0, 0.3));\n",
              "      fill: #FFFFFF;\n",
              "    }\n",
              "  </style>\n",
              "\n",
              "      <script>\n",
              "        const buttonEl =\n",
              "          document.querySelector('#df-d739eb7f-ea54-4b3c-bec5-d39bc4496b31 button.colab-df-convert');\n",
              "        buttonEl.style.display =\n",
              "          google.colab.kernel.accessAllowed ? 'block' : 'none';\n",
              "\n",
              "        async function convertToInteractive(key) {\n",
              "          const element = document.querySelector('#df-d739eb7f-ea54-4b3c-bec5-d39bc4496b31');\n",
              "          const dataTable =\n",
              "            await google.colab.kernel.invokeFunction('convertToInteractive',\n",
              "                                                     [key], {});\n",
              "          if (!dataTable) return;\n",
              "\n",
              "          const docLinkHtml = 'Like what you see? Visit the ' +\n",
              "            '<a target=\"_blank\" href=https://colab.research.google.com/notebooks/data_table.ipynb>data table notebook</a>'\n",
              "            + ' to learn more about interactive tables.';\n",
              "          element.innerHTML = '';\n",
              "          dataTable['output_type'] = 'display_data';\n",
              "          await google.colab.output.renderOutput(dataTable, element);\n",
              "          const docLink = document.createElement('div');\n",
              "          docLink.innerHTML = docLinkHtml;\n",
              "          element.appendChild(docLink);\n",
              "        }\n",
              "      </script>\n",
              "    </div>\n",
              "  </div>\n",
              "  "
            ]
          },
          "metadata": {},
          "execution_count": 5
        }
      ]
    },
    {
      "cell_type": "code",
      "source": [
        "df_cab.shape"
      ],
      "metadata": {
        "colab": {
          "base_uri": "https://localhost:8080/"
        },
        "id": "gJL-6RKftKDV",
        "outputId": "051dc538-fd14-4c70-ca16-ac0ce5df1d8b"
      },
      "execution_count": 6,
      "outputs": [
        {
          "output_type": "execute_result",
          "data": {
            "text/plain": [
              "(359392, 7)"
            ]
          },
          "metadata": {},
          "execution_count": 6
        }
      ]
    },
    {
      "cell_type": "code",
      "source": [
        "df_city.head()"
      ],
      "metadata": {
        "colab": {
          "base_uri": "https://localhost:8080/",
          "height": 206
        },
        "id": "HMYz-eE4D5wX",
        "outputId": "b9c81ccf-ab6c-49d1-f23d-c5db109d4b5c"
      },
      "execution_count": 7,
      "outputs": [
        {
          "output_type": "execute_result",
          "data": {
            "text/plain": [
              "             City   Population      Users\n",
              "0     NEW YORK NY   8,405,837    302,149 \n",
              "1      CHICAGO IL   1,955,130    164,468 \n",
              "2  LOS ANGELES CA   1,595,037    144,132 \n",
              "3        MIAMI FL   1,339,155     17,675 \n",
              "4  SILICON VALLEY   1,177,609     27,247 "
            ],
            "text/html": [
              "\n",
              "  <div id=\"df-9c48a5da-d694-414c-951d-ed421fe3418e\">\n",
              "    <div class=\"colab-df-container\">\n",
              "      <div>\n",
              "<style scoped>\n",
              "    .dataframe tbody tr th:only-of-type {\n",
              "        vertical-align: middle;\n",
              "    }\n",
              "\n",
              "    .dataframe tbody tr th {\n",
              "        vertical-align: top;\n",
              "    }\n",
              "\n",
              "    .dataframe thead th {\n",
              "        text-align: right;\n",
              "    }\n",
              "</style>\n",
              "<table border=\"1\" class=\"dataframe\">\n",
              "  <thead>\n",
              "    <tr style=\"text-align: right;\">\n",
              "      <th></th>\n",
              "      <th>City</th>\n",
              "      <th>Population</th>\n",
              "      <th>Users</th>\n",
              "    </tr>\n",
              "  </thead>\n",
              "  <tbody>\n",
              "    <tr>\n",
              "      <th>0</th>\n",
              "      <td>NEW YORK NY</td>\n",
              "      <td>8,405,837</td>\n",
              "      <td>302,149</td>\n",
              "    </tr>\n",
              "    <tr>\n",
              "      <th>1</th>\n",
              "      <td>CHICAGO IL</td>\n",
              "      <td>1,955,130</td>\n",
              "      <td>164,468</td>\n",
              "    </tr>\n",
              "    <tr>\n",
              "      <th>2</th>\n",
              "      <td>LOS ANGELES CA</td>\n",
              "      <td>1,595,037</td>\n",
              "      <td>144,132</td>\n",
              "    </tr>\n",
              "    <tr>\n",
              "      <th>3</th>\n",
              "      <td>MIAMI FL</td>\n",
              "      <td>1,339,155</td>\n",
              "      <td>17,675</td>\n",
              "    </tr>\n",
              "    <tr>\n",
              "      <th>4</th>\n",
              "      <td>SILICON VALLEY</td>\n",
              "      <td>1,177,609</td>\n",
              "      <td>27,247</td>\n",
              "    </tr>\n",
              "  </tbody>\n",
              "</table>\n",
              "</div>\n",
              "      <button class=\"colab-df-convert\" onclick=\"convertToInteractive('df-9c48a5da-d694-414c-951d-ed421fe3418e')\"\n",
              "              title=\"Convert this dataframe to an interactive table.\"\n",
              "              style=\"display:none;\">\n",
              "        \n",
              "  <svg xmlns=\"http://www.w3.org/2000/svg\" height=\"24px\"viewBox=\"0 0 24 24\"\n",
              "       width=\"24px\">\n",
              "    <path d=\"M0 0h24v24H0V0z\" fill=\"none\"/>\n",
              "    <path d=\"M18.56 5.44l.94 2.06.94-2.06 2.06-.94-2.06-.94-.94-2.06-.94 2.06-2.06.94zm-11 1L8.5 8.5l.94-2.06 2.06-.94-2.06-.94L8.5 2.5l-.94 2.06-2.06.94zm10 10l.94 2.06.94-2.06 2.06-.94-2.06-.94-.94-2.06-.94 2.06-2.06.94z\"/><path d=\"M17.41 7.96l-1.37-1.37c-.4-.4-.92-.59-1.43-.59-.52 0-1.04.2-1.43.59L10.3 9.45l-7.72 7.72c-.78.78-.78 2.05 0 2.83L4 21.41c.39.39.9.59 1.41.59.51 0 1.02-.2 1.41-.59l7.78-7.78 2.81-2.81c.8-.78.8-2.07 0-2.86zM5.41 20L4 18.59l7.72-7.72 1.47 1.35L5.41 20z\"/>\n",
              "  </svg>\n",
              "      </button>\n",
              "      \n",
              "  <style>\n",
              "    .colab-df-container {\n",
              "      display:flex;\n",
              "      flex-wrap:wrap;\n",
              "      gap: 12px;\n",
              "    }\n",
              "\n",
              "    .colab-df-convert {\n",
              "      background-color: #E8F0FE;\n",
              "      border: none;\n",
              "      border-radius: 50%;\n",
              "      cursor: pointer;\n",
              "      display: none;\n",
              "      fill: #1967D2;\n",
              "      height: 32px;\n",
              "      padding: 0 0 0 0;\n",
              "      width: 32px;\n",
              "    }\n",
              "\n",
              "    .colab-df-convert:hover {\n",
              "      background-color: #E2EBFA;\n",
              "      box-shadow: 0px 1px 2px rgba(60, 64, 67, 0.3), 0px 1px 3px 1px rgba(60, 64, 67, 0.15);\n",
              "      fill: #174EA6;\n",
              "    }\n",
              "\n",
              "    [theme=dark] .colab-df-convert {\n",
              "      background-color: #3B4455;\n",
              "      fill: #D2E3FC;\n",
              "    }\n",
              "\n",
              "    [theme=dark] .colab-df-convert:hover {\n",
              "      background-color: #434B5C;\n",
              "      box-shadow: 0px 1px 3px 1px rgba(0, 0, 0, 0.15);\n",
              "      filter: drop-shadow(0px 1px 2px rgba(0, 0, 0, 0.3));\n",
              "      fill: #FFFFFF;\n",
              "    }\n",
              "  </style>\n",
              "\n",
              "      <script>\n",
              "        const buttonEl =\n",
              "          document.querySelector('#df-9c48a5da-d694-414c-951d-ed421fe3418e button.colab-df-convert');\n",
              "        buttonEl.style.display =\n",
              "          google.colab.kernel.accessAllowed ? 'block' : 'none';\n",
              "\n",
              "        async function convertToInteractive(key) {\n",
              "          const element = document.querySelector('#df-9c48a5da-d694-414c-951d-ed421fe3418e');\n",
              "          const dataTable =\n",
              "            await google.colab.kernel.invokeFunction('convertToInteractive',\n",
              "                                                     [key], {});\n",
              "          if (!dataTable) return;\n",
              "\n",
              "          const docLinkHtml = 'Like what you see? Visit the ' +\n",
              "            '<a target=\"_blank\" href=https://colab.research.google.com/notebooks/data_table.ipynb>data table notebook</a>'\n",
              "            + ' to learn more about interactive tables.';\n",
              "          element.innerHTML = '';\n",
              "          dataTable['output_type'] = 'display_data';\n",
              "          await google.colab.output.renderOutput(dataTable, element);\n",
              "          const docLink = document.createElement('div');\n",
              "          docLink.innerHTML = docLinkHtml;\n",
              "          element.appendChild(docLink);\n",
              "        }\n",
              "      </script>\n",
              "    </div>\n",
              "  </div>\n",
              "  "
            ]
          },
          "metadata": {},
          "execution_count": 7
        }
      ]
    },
    {
      "cell_type": "code",
      "source": [
        "df_city.shape"
      ],
      "metadata": {
        "colab": {
          "base_uri": "https://localhost:8080/"
        },
        "id": "Xc0n9ZJltOED",
        "outputId": "2e77b001-b718-4d25-9b0d-1858789d71ba"
      },
      "execution_count": 8,
      "outputs": [
        {
          "output_type": "execute_result",
          "data": {
            "text/plain": [
              "(20, 3)"
            ]
          },
          "metadata": {},
          "execution_count": 8
        }
      ]
    },
    {
      "cell_type": "code",
      "source": [
        "df_cust.head()"
      ],
      "metadata": {
        "colab": {
          "base_uri": "https://localhost:8080/",
          "height": 206
        },
        "id": "Zdc-O7DhIepW",
        "outputId": "18a11c92-7e0b-46ec-80e7-2e6e08db7717"
      },
      "execution_count": 9,
      "outputs": [
        {
          "output_type": "execute_result",
          "data": {
            "text/plain": [
              "   Customer ID Gender  Age  Income (USD/Month)\n",
              "0        29290   Male   28               10813\n",
              "1        27703   Male   27                9237\n",
              "2        28712   Male   53               11242\n",
              "3        28020   Male   23               23327\n",
              "4        27182   Male   33                8536"
            ],
            "text/html": [
              "\n",
              "  <div id=\"df-ce5bc6fa-6b98-4cbe-bc19-13094170760b\">\n",
              "    <div class=\"colab-df-container\">\n",
              "      <div>\n",
              "<style scoped>\n",
              "    .dataframe tbody tr th:only-of-type {\n",
              "        vertical-align: middle;\n",
              "    }\n",
              "\n",
              "    .dataframe tbody tr th {\n",
              "        vertical-align: top;\n",
              "    }\n",
              "\n",
              "    .dataframe thead th {\n",
              "        text-align: right;\n",
              "    }\n",
              "</style>\n",
              "<table border=\"1\" class=\"dataframe\">\n",
              "  <thead>\n",
              "    <tr style=\"text-align: right;\">\n",
              "      <th></th>\n",
              "      <th>Customer ID</th>\n",
              "      <th>Gender</th>\n",
              "      <th>Age</th>\n",
              "      <th>Income (USD/Month)</th>\n",
              "    </tr>\n",
              "  </thead>\n",
              "  <tbody>\n",
              "    <tr>\n",
              "      <th>0</th>\n",
              "      <td>29290</td>\n",
              "      <td>Male</td>\n",
              "      <td>28</td>\n",
              "      <td>10813</td>\n",
              "    </tr>\n",
              "    <tr>\n",
              "      <th>1</th>\n",
              "      <td>27703</td>\n",
              "      <td>Male</td>\n",
              "      <td>27</td>\n",
              "      <td>9237</td>\n",
              "    </tr>\n",
              "    <tr>\n",
              "      <th>2</th>\n",
              "      <td>28712</td>\n",
              "      <td>Male</td>\n",
              "      <td>53</td>\n",
              "      <td>11242</td>\n",
              "    </tr>\n",
              "    <tr>\n",
              "      <th>3</th>\n",
              "      <td>28020</td>\n",
              "      <td>Male</td>\n",
              "      <td>23</td>\n",
              "      <td>23327</td>\n",
              "    </tr>\n",
              "    <tr>\n",
              "      <th>4</th>\n",
              "      <td>27182</td>\n",
              "      <td>Male</td>\n",
              "      <td>33</td>\n",
              "      <td>8536</td>\n",
              "    </tr>\n",
              "  </tbody>\n",
              "</table>\n",
              "</div>\n",
              "      <button class=\"colab-df-convert\" onclick=\"convertToInteractive('df-ce5bc6fa-6b98-4cbe-bc19-13094170760b')\"\n",
              "              title=\"Convert this dataframe to an interactive table.\"\n",
              "              style=\"display:none;\">\n",
              "        \n",
              "  <svg xmlns=\"http://www.w3.org/2000/svg\" height=\"24px\"viewBox=\"0 0 24 24\"\n",
              "       width=\"24px\">\n",
              "    <path d=\"M0 0h24v24H0V0z\" fill=\"none\"/>\n",
              "    <path d=\"M18.56 5.44l.94 2.06.94-2.06 2.06-.94-2.06-.94-.94-2.06-.94 2.06-2.06.94zm-11 1L8.5 8.5l.94-2.06 2.06-.94-2.06-.94L8.5 2.5l-.94 2.06-2.06.94zm10 10l.94 2.06.94-2.06 2.06-.94-2.06-.94-.94-2.06-.94 2.06-2.06.94z\"/><path d=\"M17.41 7.96l-1.37-1.37c-.4-.4-.92-.59-1.43-.59-.52 0-1.04.2-1.43.59L10.3 9.45l-7.72 7.72c-.78.78-.78 2.05 0 2.83L4 21.41c.39.39.9.59 1.41.59.51 0 1.02-.2 1.41-.59l7.78-7.78 2.81-2.81c.8-.78.8-2.07 0-2.86zM5.41 20L4 18.59l7.72-7.72 1.47 1.35L5.41 20z\"/>\n",
              "  </svg>\n",
              "      </button>\n",
              "      \n",
              "  <style>\n",
              "    .colab-df-container {\n",
              "      display:flex;\n",
              "      flex-wrap:wrap;\n",
              "      gap: 12px;\n",
              "    }\n",
              "\n",
              "    .colab-df-convert {\n",
              "      background-color: #E8F0FE;\n",
              "      border: none;\n",
              "      border-radius: 50%;\n",
              "      cursor: pointer;\n",
              "      display: none;\n",
              "      fill: #1967D2;\n",
              "      height: 32px;\n",
              "      padding: 0 0 0 0;\n",
              "      width: 32px;\n",
              "    }\n",
              "\n",
              "    .colab-df-convert:hover {\n",
              "      background-color: #E2EBFA;\n",
              "      box-shadow: 0px 1px 2px rgba(60, 64, 67, 0.3), 0px 1px 3px 1px rgba(60, 64, 67, 0.15);\n",
              "      fill: #174EA6;\n",
              "    }\n",
              "\n",
              "    [theme=dark] .colab-df-convert {\n",
              "      background-color: #3B4455;\n",
              "      fill: #D2E3FC;\n",
              "    }\n",
              "\n",
              "    [theme=dark] .colab-df-convert:hover {\n",
              "      background-color: #434B5C;\n",
              "      box-shadow: 0px 1px 3px 1px rgba(0, 0, 0, 0.15);\n",
              "      filter: drop-shadow(0px 1px 2px rgba(0, 0, 0, 0.3));\n",
              "      fill: #FFFFFF;\n",
              "    }\n",
              "  </style>\n",
              "\n",
              "      <script>\n",
              "        const buttonEl =\n",
              "          document.querySelector('#df-ce5bc6fa-6b98-4cbe-bc19-13094170760b button.colab-df-convert');\n",
              "        buttonEl.style.display =\n",
              "          google.colab.kernel.accessAllowed ? 'block' : 'none';\n",
              "\n",
              "        async function convertToInteractive(key) {\n",
              "          const element = document.querySelector('#df-ce5bc6fa-6b98-4cbe-bc19-13094170760b');\n",
              "          const dataTable =\n",
              "            await google.colab.kernel.invokeFunction('convertToInteractive',\n",
              "                                                     [key], {});\n",
              "          if (!dataTable) return;\n",
              "\n",
              "          const docLinkHtml = 'Like what you see? Visit the ' +\n",
              "            '<a target=\"_blank\" href=https://colab.research.google.com/notebooks/data_table.ipynb>data table notebook</a>'\n",
              "            + ' to learn more about interactive tables.';\n",
              "          element.innerHTML = '';\n",
              "          dataTable['output_type'] = 'display_data';\n",
              "          await google.colab.output.renderOutput(dataTable, element);\n",
              "          const docLink = document.createElement('div');\n",
              "          docLink.innerHTML = docLinkHtml;\n",
              "          element.appendChild(docLink);\n",
              "        }\n",
              "      </script>\n",
              "    </div>\n",
              "  </div>\n",
              "  "
            ]
          },
          "metadata": {},
          "execution_count": 9
        }
      ]
    },
    {
      "cell_type": "code",
      "source": [
        "df_cust.shape"
      ],
      "metadata": {
        "colab": {
          "base_uri": "https://localhost:8080/"
        },
        "id": "p1CUTrK7tQN_",
        "outputId": "41bb02b0-0ea4-4505-f25f-fa633476f798"
      },
      "execution_count": 10,
      "outputs": [
        {
          "output_type": "execute_result",
          "data": {
            "text/plain": [
              "(49171, 4)"
            ]
          },
          "metadata": {},
          "execution_count": 10
        }
      ]
    },
    {
      "cell_type": "code",
      "source": [
        "df_tran.head()"
      ],
      "metadata": {
        "colab": {
          "base_uri": "https://localhost:8080/",
          "height": 206
        },
        "id": "paXa4FMpIgPD",
        "outputId": "700b0af1-e58d-4351-d4ec-57a93eee3b5b"
      },
      "execution_count": 11,
      "outputs": [
        {
          "output_type": "execute_result",
          "data": {
            "text/plain": [
              "   Transaction ID  Customer ID Payment_Mode\n",
              "0        10000011        29290         Card\n",
              "1        10000012        27703         Card\n",
              "2        10000013        28712         Cash\n",
              "3        10000014        28020         Cash\n",
              "4        10000015        27182         Card"
            ],
            "text/html": [
              "\n",
              "  <div id=\"df-5cb88894-492f-4028-92d3-5bc4dab32104\">\n",
              "    <div class=\"colab-df-container\">\n",
              "      <div>\n",
              "<style scoped>\n",
              "    .dataframe tbody tr th:only-of-type {\n",
              "        vertical-align: middle;\n",
              "    }\n",
              "\n",
              "    .dataframe tbody tr th {\n",
              "        vertical-align: top;\n",
              "    }\n",
              "\n",
              "    .dataframe thead th {\n",
              "        text-align: right;\n",
              "    }\n",
              "</style>\n",
              "<table border=\"1\" class=\"dataframe\">\n",
              "  <thead>\n",
              "    <tr style=\"text-align: right;\">\n",
              "      <th></th>\n",
              "      <th>Transaction ID</th>\n",
              "      <th>Customer ID</th>\n",
              "      <th>Payment_Mode</th>\n",
              "    </tr>\n",
              "  </thead>\n",
              "  <tbody>\n",
              "    <tr>\n",
              "      <th>0</th>\n",
              "      <td>10000011</td>\n",
              "      <td>29290</td>\n",
              "      <td>Card</td>\n",
              "    </tr>\n",
              "    <tr>\n",
              "      <th>1</th>\n",
              "      <td>10000012</td>\n",
              "      <td>27703</td>\n",
              "      <td>Card</td>\n",
              "    </tr>\n",
              "    <tr>\n",
              "      <th>2</th>\n",
              "      <td>10000013</td>\n",
              "      <td>28712</td>\n",
              "      <td>Cash</td>\n",
              "    </tr>\n",
              "    <tr>\n",
              "      <th>3</th>\n",
              "      <td>10000014</td>\n",
              "      <td>28020</td>\n",
              "      <td>Cash</td>\n",
              "    </tr>\n",
              "    <tr>\n",
              "      <th>4</th>\n",
              "      <td>10000015</td>\n",
              "      <td>27182</td>\n",
              "      <td>Card</td>\n",
              "    </tr>\n",
              "  </tbody>\n",
              "</table>\n",
              "</div>\n",
              "      <button class=\"colab-df-convert\" onclick=\"convertToInteractive('df-5cb88894-492f-4028-92d3-5bc4dab32104')\"\n",
              "              title=\"Convert this dataframe to an interactive table.\"\n",
              "              style=\"display:none;\">\n",
              "        \n",
              "  <svg xmlns=\"http://www.w3.org/2000/svg\" height=\"24px\"viewBox=\"0 0 24 24\"\n",
              "       width=\"24px\">\n",
              "    <path d=\"M0 0h24v24H0V0z\" fill=\"none\"/>\n",
              "    <path d=\"M18.56 5.44l.94 2.06.94-2.06 2.06-.94-2.06-.94-.94-2.06-.94 2.06-2.06.94zm-11 1L8.5 8.5l.94-2.06 2.06-.94-2.06-.94L8.5 2.5l-.94 2.06-2.06.94zm10 10l.94 2.06.94-2.06 2.06-.94-2.06-.94-.94-2.06-.94 2.06-2.06.94z\"/><path d=\"M17.41 7.96l-1.37-1.37c-.4-.4-.92-.59-1.43-.59-.52 0-1.04.2-1.43.59L10.3 9.45l-7.72 7.72c-.78.78-.78 2.05 0 2.83L4 21.41c.39.39.9.59 1.41.59.51 0 1.02-.2 1.41-.59l7.78-7.78 2.81-2.81c.8-.78.8-2.07 0-2.86zM5.41 20L4 18.59l7.72-7.72 1.47 1.35L5.41 20z\"/>\n",
              "  </svg>\n",
              "      </button>\n",
              "      \n",
              "  <style>\n",
              "    .colab-df-container {\n",
              "      display:flex;\n",
              "      flex-wrap:wrap;\n",
              "      gap: 12px;\n",
              "    }\n",
              "\n",
              "    .colab-df-convert {\n",
              "      background-color: #E8F0FE;\n",
              "      border: none;\n",
              "      border-radius: 50%;\n",
              "      cursor: pointer;\n",
              "      display: none;\n",
              "      fill: #1967D2;\n",
              "      height: 32px;\n",
              "      padding: 0 0 0 0;\n",
              "      width: 32px;\n",
              "    }\n",
              "\n",
              "    .colab-df-convert:hover {\n",
              "      background-color: #E2EBFA;\n",
              "      box-shadow: 0px 1px 2px rgba(60, 64, 67, 0.3), 0px 1px 3px 1px rgba(60, 64, 67, 0.15);\n",
              "      fill: #174EA6;\n",
              "    }\n",
              "\n",
              "    [theme=dark] .colab-df-convert {\n",
              "      background-color: #3B4455;\n",
              "      fill: #D2E3FC;\n",
              "    }\n",
              "\n",
              "    [theme=dark] .colab-df-convert:hover {\n",
              "      background-color: #434B5C;\n",
              "      box-shadow: 0px 1px 3px 1px rgba(0, 0, 0, 0.15);\n",
              "      filter: drop-shadow(0px 1px 2px rgba(0, 0, 0, 0.3));\n",
              "      fill: #FFFFFF;\n",
              "    }\n",
              "  </style>\n",
              "\n",
              "      <script>\n",
              "        const buttonEl =\n",
              "          document.querySelector('#df-5cb88894-492f-4028-92d3-5bc4dab32104 button.colab-df-convert');\n",
              "        buttonEl.style.display =\n",
              "          google.colab.kernel.accessAllowed ? 'block' : 'none';\n",
              "\n",
              "        async function convertToInteractive(key) {\n",
              "          const element = document.querySelector('#df-5cb88894-492f-4028-92d3-5bc4dab32104');\n",
              "          const dataTable =\n",
              "            await google.colab.kernel.invokeFunction('convertToInteractive',\n",
              "                                                     [key], {});\n",
              "          if (!dataTable) return;\n",
              "\n",
              "          const docLinkHtml = 'Like what you see? Visit the ' +\n",
              "            '<a target=\"_blank\" href=https://colab.research.google.com/notebooks/data_table.ipynb>data table notebook</a>'\n",
              "            + ' to learn more about interactive tables.';\n",
              "          element.innerHTML = '';\n",
              "          dataTable['output_type'] = 'display_data';\n",
              "          await google.colab.output.renderOutput(dataTable, element);\n",
              "          const docLink = document.createElement('div');\n",
              "          docLink.innerHTML = docLinkHtml;\n",
              "          element.appendChild(docLink);\n",
              "        }\n",
              "      </script>\n",
              "    </div>\n",
              "  </div>\n",
              "  "
            ]
          },
          "metadata": {},
          "execution_count": 11
        }
      ]
    },
    {
      "cell_type": "code",
      "source": [
        "df_tran.shape"
      ],
      "metadata": {
        "colab": {
          "base_uri": "https://localhost:8080/"
        },
        "id": "g4dTh18KIiUl",
        "outputId": "1df7de17-7523-4a49-b2e5-d8dcbdd74132"
      },
      "execution_count": 12,
      "outputs": [
        {
          "output_type": "execute_result",
          "data": {
            "text/plain": [
              "(440098, 3)"
            ]
          },
          "metadata": {},
          "execution_count": 12
        }
      ]
    },
    {
      "cell_type": "markdown",
      "source": [
        "### 2.2 Data Processing"
      ],
      "metadata": {
        "id": "6Tiv1XgTJiF8"
      }
    },
    {
      "cell_type": "markdown",
      "source": [
        "#### 2.2.1 Field/feature transformations"
      ],
      "metadata": {
        "id": "ut1h2hkWyhDV"
      }
    },
    {
      "cell_type": "code",
      "source": [
        "df_cab.dtypes"
      ],
      "metadata": {
        "colab": {
          "base_uri": "https://localhost:8080/"
        },
        "id": "1pnHwKc1JlPC",
        "outputId": "20c4eaee-512d-4c39-e2d6-026d8d6cf249"
      },
      "execution_count": 13,
      "outputs": [
        {
          "output_type": "execute_result",
          "data": {
            "text/plain": [
              "Transaction ID      int64\n",
              "Date of Travel      int64\n",
              "Company            object\n",
              "City               object\n",
              "KM Travelled      float64\n",
              "Price Charged     float64\n",
              "Cost of Trip      float64\n",
              "dtype: object"
            ]
          },
          "metadata": {},
          "execution_count": 13
        }
      ]
    },
    {
      "cell_type": "code",
      "source": [
        "from datetime import date, datetime, timedelta\n",
        "\n",
        "for i in range(len(df_cab['Date of Travel'])):\n",
        "  df_cab['Date of Travel'][i] = datetime.fromordinal(datetime(1900, 1, 1).toordinal() + df_cab['Date of Travel'][i] - 2).date()\n",
        "\n",
        "df_cab[\"Date of Travel\"] = pd.to_datetime(df_cab[\"Date of Travel\"], format = '%Y-%m-%d', errors = 'coerce')\n",
        "df_cab.head()"
      ],
      "metadata": {
        "colab": {
          "base_uri": "https://localhost:8080/",
          "height": 206
        },
        "id": "au4AGI9aeNYq",
        "outputId": "a377f9d6-9db7-4a00-9830-1139c00449da"
      },
      "execution_count": 14,
      "outputs": [
        {
          "output_type": "execute_result",
          "data": {
            "text/plain": [
              "   Transaction ID Date of Travel   Company        City  KM Travelled  \\\n",
              "0        10000011     2016-01-08  Pink Cab  ATLANTA GA         30.45   \n",
              "1        10000012     2016-01-06  Pink Cab  ATLANTA GA         28.62   \n",
              "2        10000013     2016-01-02  Pink Cab  ATLANTA GA          9.04   \n",
              "3        10000014     2016-01-07  Pink Cab  ATLANTA GA         33.17   \n",
              "4        10000015     2016-01-03  Pink Cab  ATLANTA GA          8.73   \n",
              "\n",
              "   Price Charged  Cost of Trip  \n",
              "0         370.95       313.635  \n",
              "1         358.52       334.854  \n",
              "2         125.20        97.632  \n",
              "3         377.40       351.602  \n",
              "4         114.62        97.776  "
            ],
            "text/html": [
              "\n",
              "  <div id=\"df-9162c0e1-9af6-43c2-98bf-de7a75b1a4ec\">\n",
              "    <div class=\"colab-df-container\">\n",
              "      <div>\n",
              "<style scoped>\n",
              "    .dataframe tbody tr th:only-of-type {\n",
              "        vertical-align: middle;\n",
              "    }\n",
              "\n",
              "    .dataframe tbody tr th {\n",
              "        vertical-align: top;\n",
              "    }\n",
              "\n",
              "    .dataframe thead th {\n",
              "        text-align: right;\n",
              "    }\n",
              "</style>\n",
              "<table border=\"1\" class=\"dataframe\">\n",
              "  <thead>\n",
              "    <tr style=\"text-align: right;\">\n",
              "      <th></th>\n",
              "      <th>Transaction ID</th>\n",
              "      <th>Date of Travel</th>\n",
              "      <th>Company</th>\n",
              "      <th>City</th>\n",
              "      <th>KM Travelled</th>\n",
              "      <th>Price Charged</th>\n",
              "      <th>Cost of Trip</th>\n",
              "    </tr>\n",
              "  </thead>\n",
              "  <tbody>\n",
              "    <tr>\n",
              "      <th>0</th>\n",
              "      <td>10000011</td>\n",
              "      <td>2016-01-08</td>\n",
              "      <td>Pink Cab</td>\n",
              "      <td>ATLANTA GA</td>\n",
              "      <td>30.45</td>\n",
              "      <td>370.95</td>\n",
              "      <td>313.635</td>\n",
              "    </tr>\n",
              "    <tr>\n",
              "      <th>1</th>\n",
              "      <td>10000012</td>\n",
              "      <td>2016-01-06</td>\n",
              "      <td>Pink Cab</td>\n",
              "      <td>ATLANTA GA</td>\n",
              "      <td>28.62</td>\n",
              "      <td>358.52</td>\n",
              "      <td>334.854</td>\n",
              "    </tr>\n",
              "    <tr>\n",
              "      <th>2</th>\n",
              "      <td>10000013</td>\n",
              "      <td>2016-01-02</td>\n",
              "      <td>Pink Cab</td>\n",
              "      <td>ATLANTA GA</td>\n",
              "      <td>9.04</td>\n",
              "      <td>125.20</td>\n",
              "      <td>97.632</td>\n",
              "    </tr>\n",
              "    <tr>\n",
              "      <th>3</th>\n",
              "      <td>10000014</td>\n",
              "      <td>2016-01-07</td>\n",
              "      <td>Pink Cab</td>\n",
              "      <td>ATLANTA GA</td>\n",
              "      <td>33.17</td>\n",
              "      <td>377.40</td>\n",
              "      <td>351.602</td>\n",
              "    </tr>\n",
              "    <tr>\n",
              "      <th>4</th>\n",
              "      <td>10000015</td>\n",
              "      <td>2016-01-03</td>\n",
              "      <td>Pink Cab</td>\n",
              "      <td>ATLANTA GA</td>\n",
              "      <td>8.73</td>\n",
              "      <td>114.62</td>\n",
              "      <td>97.776</td>\n",
              "    </tr>\n",
              "  </tbody>\n",
              "</table>\n",
              "</div>\n",
              "      <button class=\"colab-df-convert\" onclick=\"convertToInteractive('df-9162c0e1-9af6-43c2-98bf-de7a75b1a4ec')\"\n",
              "              title=\"Convert this dataframe to an interactive table.\"\n",
              "              style=\"display:none;\">\n",
              "        \n",
              "  <svg xmlns=\"http://www.w3.org/2000/svg\" height=\"24px\"viewBox=\"0 0 24 24\"\n",
              "       width=\"24px\">\n",
              "    <path d=\"M0 0h24v24H0V0z\" fill=\"none\"/>\n",
              "    <path d=\"M18.56 5.44l.94 2.06.94-2.06 2.06-.94-2.06-.94-.94-2.06-.94 2.06-2.06.94zm-11 1L8.5 8.5l.94-2.06 2.06-.94-2.06-.94L8.5 2.5l-.94 2.06-2.06.94zm10 10l.94 2.06.94-2.06 2.06-.94-2.06-.94-.94-2.06-.94 2.06-2.06.94z\"/><path d=\"M17.41 7.96l-1.37-1.37c-.4-.4-.92-.59-1.43-.59-.52 0-1.04.2-1.43.59L10.3 9.45l-7.72 7.72c-.78.78-.78 2.05 0 2.83L4 21.41c.39.39.9.59 1.41.59.51 0 1.02-.2 1.41-.59l7.78-7.78 2.81-2.81c.8-.78.8-2.07 0-2.86zM5.41 20L4 18.59l7.72-7.72 1.47 1.35L5.41 20z\"/>\n",
              "  </svg>\n",
              "      </button>\n",
              "      \n",
              "  <style>\n",
              "    .colab-df-container {\n",
              "      display:flex;\n",
              "      flex-wrap:wrap;\n",
              "      gap: 12px;\n",
              "    }\n",
              "\n",
              "    .colab-df-convert {\n",
              "      background-color: #E8F0FE;\n",
              "      border: none;\n",
              "      border-radius: 50%;\n",
              "      cursor: pointer;\n",
              "      display: none;\n",
              "      fill: #1967D2;\n",
              "      height: 32px;\n",
              "      padding: 0 0 0 0;\n",
              "      width: 32px;\n",
              "    }\n",
              "\n",
              "    .colab-df-convert:hover {\n",
              "      background-color: #E2EBFA;\n",
              "      box-shadow: 0px 1px 2px rgba(60, 64, 67, 0.3), 0px 1px 3px 1px rgba(60, 64, 67, 0.15);\n",
              "      fill: #174EA6;\n",
              "    }\n",
              "\n",
              "    [theme=dark] .colab-df-convert {\n",
              "      background-color: #3B4455;\n",
              "      fill: #D2E3FC;\n",
              "    }\n",
              "\n",
              "    [theme=dark] .colab-df-convert:hover {\n",
              "      background-color: #434B5C;\n",
              "      box-shadow: 0px 1px 3px 1px rgba(0, 0, 0, 0.15);\n",
              "      filter: drop-shadow(0px 1px 2px rgba(0, 0, 0, 0.3));\n",
              "      fill: #FFFFFF;\n",
              "    }\n",
              "  </style>\n",
              "\n",
              "      <script>\n",
              "        const buttonEl =\n",
              "          document.querySelector('#df-9162c0e1-9af6-43c2-98bf-de7a75b1a4ec button.colab-df-convert');\n",
              "        buttonEl.style.display =\n",
              "          google.colab.kernel.accessAllowed ? 'block' : 'none';\n",
              "\n",
              "        async function convertToInteractive(key) {\n",
              "          const element = document.querySelector('#df-9162c0e1-9af6-43c2-98bf-de7a75b1a4ec');\n",
              "          const dataTable =\n",
              "            await google.colab.kernel.invokeFunction('convertToInteractive',\n",
              "                                                     [key], {});\n",
              "          if (!dataTable) return;\n",
              "\n",
              "          const docLinkHtml = 'Like what you see? Visit the ' +\n",
              "            '<a target=\"_blank\" href=https://colab.research.google.com/notebooks/data_table.ipynb>data table notebook</a>'\n",
              "            + ' to learn more about interactive tables.';\n",
              "          element.innerHTML = '';\n",
              "          dataTable['output_type'] = 'display_data';\n",
              "          await google.colab.output.renderOutput(dataTable, element);\n",
              "          const docLink = document.createElement('div');\n",
              "          docLink.innerHTML = docLinkHtml;\n",
              "          element.appendChild(docLink);\n",
              "        }\n",
              "      </script>\n",
              "    </div>\n",
              "  </div>\n",
              "  "
            ]
          },
          "metadata": {},
          "execution_count": 14
        }
      ]
    },
    {
      "cell_type": "code",
      "source": [
        "df_city.dtypes"
      ],
      "metadata": {
        "colab": {
          "base_uri": "https://localhost:8080/"
        },
        "id": "uRulk1idcL4P",
        "outputId": "91169467-d8e1-418e-e9de-d39ced41c196"
      },
      "execution_count": 15,
      "outputs": [
        {
          "output_type": "execute_result",
          "data": {
            "text/plain": [
              "City          object\n",
              "Population    object\n",
              "Users         object\n",
              "dtype: object"
            ]
          },
          "metadata": {},
          "execution_count": 15
        }
      ]
    },
    {
      "cell_type": "code",
      "source": [
        "for i in df_city['Population']:\n",
        "  df_city['Population'] = df_city['Population'].replace(',', '', regex=True)\n",
        "  df_city['Population'] = pd.to_numeric(df_city['Population'])\n",
        "\n",
        "df_city.head()"
      ],
      "metadata": {
        "colab": {
          "base_uri": "https://localhost:8080/",
          "height": 206
        },
        "id": "dGqsBsZ4t1x0",
        "outputId": "33eb78f1-4f04-44bc-8f7e-0a466497f76d"
      },
      "execution_count": 16,
      "outputs": [
        {
          "output_type": "execute_result",
          "data": {
            "text/plain": [
              "             City  Population      Users\n",
              "0     NEW YORK NY     8405837   302,149 \n",
              "1      CHICAGO IL     1955130   164,468 \n",
              "2  LOS ANGELES CA     1595037   144,132 \n",
              "3        MIAMI FL     1339155    17,675 \n",
              "4  SILICON VALLEY     1177609    27,247 "
            ],
            "text/html": [
              "\n",
              "  <div id=\"df-d255ea37-4378-493b-a4f6-20a7997ea161\">\n",
              "    <div class=\"colab-df-container\">\n",
              "      <div>\n",
              "<style scoped>\n",
              "    .dataframe tbody tr th:only-of-type {\n",
              "        vertical-align: middle;\n",
              "    }\n",
              "\n",
              "    .dataframe tbody tr th {\n",
              "        vertical-align: top;\n",
              "    }\n",
              "\n",
              "    .dataframe thead th {\n",
              "        text-align: right;\n",
              "    }\n",
              "</style>\n",
              "<table border=\"1\" class=\"dataframe\">\n",
              "  <thead>\n",
              "    <tr style=\"text-align: right;\">\n",
              "      <th></th>\n",
              "      <th>City</th>\n",
              "      <th>Population</th>\n",
              "      <th>Users</th>\n",
              "    </tr>\n",
              "  </thead>\n",
              "  <tbody>\n",
              "    <tr>\n",
              "      <th>0</th>\n",
              "      <td>NEW YORK NY</td>\n",
              "      <td>8405837</td>\n",
              "      <td>302,149</td>\n",
              "    </tr>\n",
              "    <tr>\n",
              "      <th>1</th>\n",
              "      <td>CHICAGO IL</td>\n",
              "      <td>1955130</td>\n",
              "      <td>164,468</td>\n",
              "    </tr>\n",
              "    <tr>\n",
              "      <th>2</th>\n",
              "      <td>LOS ANGELES CA</td>\n",
              "      <td>1595037</td>\n",
              "      <td>144,132</td>\n",
              "    </tr>\n",
              "    <tr>\n",
              "      <th>3</th>\n",
              "      <td>MIAMI FL</td>\n",
              "      <td>1339155</td>\n",
              "      <td>17,675</td>\n",
              "    </tr>\n",
              "    <tr>\n",
              "      <th>4</th>\n",
              "      <td>SILICON VALLEY</td>\n",
              "      <td>1177609</td>\n",
              "      <td>27,247</td>\n",
              "    </tr>\n",
              "  </tbody>\n",
              "</table>\n",
              "</div>\n",
              "      <button class=\"colab-df-convert\" onclick=\"convertToInteractive('df-d255ea37-4378-493b-a4f6-20a7997ea161')\"\n",
              "              title=\"Convert this dataframe to an interactive table.\"\n",
              "              style=\"display:none;\">\n",
              "        \n",
              "  <svg xmlns=\"http://www.w3.org/2000/svg\" height=\"24px\"viewBox=\"0 0 24 24\"\n",
              "       width=\"24px\">\n",
              "    <path d=\"M0 0h24v24H0V0z\" fill=\"none\"/>\n",
              "    <path d=\"M18.56 5.44l.94 2.06.94-2.06 2.06-.94-2.06-.94-.94-2.06-.94 2.06-2.06.94zm-11 1L8.5 8.5l.94-2.06 2.06-.94-2.06-.94L8.5 2.5l-.94 2.06-2.06.94zm10 10l.94 2.06.94-2.06 2.06-.94-2.06-.94-.94-2.06-.94 2.06-2.06.94z\"/><path d=\"M17.41 7.96l-1.37-1.37c-.4-.4-.92-.59-1.43-.59-.52 0-1.04.2-1.43.59L10.3 9.45l-7.72 7.72c-.78.78-.78 2.05 0 2.83L4 21.41c.39.39.9.59 1.41.59.51 0 1.02-.2 1.41-.59l7.78-7.78 2.81-2.81c.8-.78.8-2.07 0-2.86zM5.41 20L4 18.59l7.72-7.72 1.47 1.35L5.41 20z\"/>\n",
              "  </svg>\n",
              "      </button>\n",
              "      \n",
              "  <style>\n",
              "    .colab-df-container {\n",
              "      display:flex;\n",
              "      flex-wrap:wrap;\n",
              "      gap: 12px;\n",
              "    }\n",
              "\n",
              "    .colab-df-convert {\n",
              "      background-color: #E8F0FE;\n",
              "      border: none;\n",
              "      border-radius: 50%;\n",
              "      cursor: pointer;\n",
              "      display: none;\n",
              "      fill: #1967D2;\n",
              "      height: 32px;\n",
              "      padding: 0 0 0 0;\n",
              "      width: 32px;\n",
              "    }\n",
              "\n",
              "    .colab-df-convert:hover {\n",
              "      background-color: #E2EBFA;\n",
              "      box-shadow: 0px 1px 2px rgba(60, 64, 67, 0.3), 0px 1px 3px 1px rgba(60, 64, 67, 0.15);\n",
              "      fill: #174EA6;\n",
              "    }\n",
              "\n",
              "    [theme=dark] .colab-df-convert {\n",
              "      background-color: #3B4455;\n",
              "      fill: #D2E3FC;\n",
              "    }\n",
              "\n",
              "    [theme=dark] .colab-df-convert:hover {\n",
              "      background-color: #434B5C;\n",
              "      box-shadow: 0px 1px 3px 1px rgba(0, 0, 0, 0.15);\n",
              "      filter: drop-shadow(0px 1px 2px rgba(0, 0, 0, 0.3));\n",
              "      fill: #FFFFFF;\n",
              "    }\n",
              "  </style>\n",
              "\n",
              "      <script>\n",
              "        const buttonEl =\n",
              "          document.querySelector('#df-d255ea37-4378-493b-a4f6-20a7997ea161 button.colab-df-convert');\n",
              "        buttonEl.style.display =\n",
              "          google.colab.kernel.accessAllowed ? 'block' : 'none';\n",
              "\n",
              "        async function convertToInteractive(key) {\n",
              "          const element = document.querySelector('#df-d255ea37-4378-493b-a4f6-20a7997ea161');\n",
              "          const dataTable =\n",
              "            await google.colab.kernel.invokeFunction('convertToInteractive',\n",
              "                                                     [key], {});\n",
              "          if (!dataTable) return;\n",
              "\n",
              "          const docLinkHtml = 'Like what you see? Visit the ' +\n",
              "            '<a target=\"_blank\" href=https://colab.research.google.com/notebooks/data_table.ipynb>data table notebook</a>'\n",
              "            + ' to learn more about interactive tables.';\n",
              "          element.innerHTML = '';\n",
              "          dataTable['output_type'] = 'display_data';\n",
              "          await google.colab.output.renderOutput(dataTable, element);\n",
              "          const docLink = document.createElement('div');\n",
              "          docLink.innerHTML = docLinkHtml;\n",
              "          element.appendChild(docLink);\n",
              "        }\n",
              "      </script>\n",
              "    </div>\n",
              "  </div>\n",
              "  "
            ]
          },
          "metadata": {},
          "execution_count": 16
        }
      ]
    },
    {
      "cell_type": "code",
      "source": [
        "for i in df_city['Users']:\n",
        "  df_city['Users'] = df_city['Users'].replace(',', '', regex=True)\n",
        "  df_city['Users'] = pd.to_numeric(df_city['Users'])\n",
        "\n",
        "df_city.head()"
      ],
      "metadata": {
        "colab": {
          "base_uri": "https://localhost:8080/",
          "height": 206
        },
        "id": "rKmW9xNyxOsr",
        "outputId": "4081daa3-077b-4571-df4e-8e24b1817104"
      },
      "execution_count": 17,
      "outputs": [
        {
          "output_type": "execute_result",
          "data": {
            "text/plain": [
              "             City  Population   Users\n",
              "0     NEW YORK NY     8405837  302149\n",
              "1      CHICAGO IL     1955130  164468\n",
              "2  LOS ANGELES CA     1595037  144132\n",
              "3        MIAMI FL     1339155   17675\n",
              "4  SILICON VALLEY     1177609   27247"
            ],
            "text/html": [
              "\n",
              "  <div id=\"df-bf5c7f5d-0e14-4575-842d-e953749db980\">\n",
              "    <div class=\"colab-df-container\">\n",
              "      <div>\n",
              "<style scoped>\n",
              "    .dataframe tbody tr th:only-of-type {\n",
              "        vertical-align: middle;\n",
              "    }\n",
              "\n",
              "    .dataframe tbody tr th {\n",
              "        vertical-align: top;\n",
              "    }\n",
              "\n",
              "    .dataframe thead th {\n",
              "        text-align: right;\n",
              "    }\n",
              "</style>\n",
              "<table border=\"1\" class=\"dataframe\">\n",
              "  <thead>\n",
              "    <tr style=\"text-align: right;\">\n",
              "      <th></th>\n",
              "      <th>City</th>\n",
              "      <th>Population</th>\n",
              "      <th>Users</th>\n",
              "    </tr>\n",
              "  </thead>\n",
              "  <tbody>\n",
              "    <tr>\n",
              "      <th>0</th>\n",
              "      <td>NEW YORK NY</td>\n",
              "      <td>8405837</td>\n",
              "      <td>302149</td>\n",
              "    </tr>\n",
              "    <tr>\n",
              "      <th>1</th>\n",
              "      <td>CHICAGO IL</td>\n",
              "      <td>1955130</td>\n",
              "      <td>164468</td>\n",
              "    </tr>\n",
              "    <tr>\n",
              "      <th>2</th>\n",
              "      <td>LOS ANGELES CA</td>\n",
              "      <td>1595037</td>\n",
              "      <td>144132</td>\n",
              "    </tr>\n",
              "    <tr>\n",
              "      <th>3</th>\n",
              "      <td>MIAMI FL</td>\n",
              "      <td>1339155</td>\n",
              "      <td>17675</td>\n",
              "    </tr>\n",
              "    <tr>\n",
              "      <th>4</th>\n",
              "      <td>SILICON VALLEY</td>\n",
              "      <td>1177609</td>\n",
              "      <td>27247</td>\n",
              "    </tr>\n",
              "  </tbody>\n",
              "</table>\n",
              "</div>\n",
              "      <button class=\"colab-df-convert\" onclick=\"convertToInteractive('df-bf5c7f5d-0e14-4575-842d-e953749db980')\"\n",
              "              title=\"Convert this dataframe to an interactive table.\"\n",
              "              style=\"display:none;\">\n",
              "        \n",
              "  <svg xmlns=\"http://www.w3.org/2000/svg\" height=\"24px\"viewBox=\"0 0 24 24\"\n",
              "       width=\"24px\">\n",
              "    <path d=\"M0 0h24v24H0V0z\" fill=\"none\"/>\n",
              "    <path d=\"M18.56 5.44l.94 2.06.94-2.06 2.06-.94-2.06-.94-.94-2.06-.94 2.06-2.06.94zm-11 1L8.5 8.5l.94-2.06 2.06-.94-2.06-.94L8.5 2.5l-.94 2.06-2.06.94zm10 10l.94 2.06.94-2.06 2.06-.94-2.06-.94-.94-2.06-.94 2.06-2.06.94z\"/><path d=\"M17.41 7.96l-1.37-1.37c-.4-.4-.92-.59-1.43-.59-.52 0-1.04.2-1.43.59L10.3 9.45l-7.72 7.72c-.78.78-.78 2.05 0 2.83L4 21.41c.39.39.9.59 1.41.59.51 0 1.02-.2 1.41-.59l7.78-7.78 2.81-2.81c.8-.78.8-2.07 0-2.86zM5.41 20L4 18.59l7.72-7.72 1.47 1.35L5.41 20z\"/>\n",
              "  </svg>\n",
              "      </button>\n",
              "      \n",
              "  <style>\n",
              "    .colab-df-container {\n",
              "      display:flex;\n",
              "      flex-wrap:wrap;\n",
              "      gap: 12px;\n",
              "    }\n",
              "\n",
              "    .colab-df-convert {\n",
              "      background-color: #E8F0FE;\n",
              "      border: none;\n",
              "      border-radius: 50%;\n",
              "      cursor: pointer;\n",
              "      display: none;\n",
              "      fill: #1967D2;\n",
              "      height: 32px;\n",
              "      padding: 0 0 0 0;\n",
              "      width: 32px;\n",
              "    }\n",
              "\n",
              "    .colab-df-convert:hover {\n",
              "      background-color: #E2EBFA;\n",
              "      box-shadow: 0px 1px 2px rgba(60, 64, 67, 0.3), 0px 1px 3px 1px rgba(60, 64, 67, 0.15);\n",
              "      fill: #174EA6;\n",
              "    }\n",
              "\n",
              "    [theme=dark] .colab-df-convert {\n",
              "      background-color: #3B4455;\n",
              "      fill: #D2E3FC;\n",
              "    }\n",
              "\n",
              "    [theme=dark] .colab-df-convert:hover {\n",
              "      background-color: #434B5C;\n",
              "      box-shadow: 0px 1px 3px 1px rgba(0, 0, 0, 0.15);\n",
              "      filter: drop-shadow(0px 1px 2px rgba(0, 0, 0, 0.3));\n",
              "      fill: #FFFFFF;\n",
              "    }\n",
              "  </style>\n",
              "\n",
              "      <script>\n",
              "        const buttonEl =\n",
              "          document.querySelector('#df-bf5c7f5d-0e14-4575-842d-e953749db980 button.colab-df-convert');\n",
              "        buttonEl.style.display =\n",
              "          google.colab.kernel.accessAllowed ? 'block' : 'none';\n",
              "\n",
              "        async function convertToInteractive(key) {\n",
              "          const element = document.querySelector('#df-bf5c7f5d-0e14-4575-842d-e953749db980');\n",
              "          const dataTable =\n",
              "            await google.colab.kernel.invokeFunction('convertToInteractive',\n",
              "                                                     [key], {});\n",
              "          if (!dataTable) return;\n",
              "\n",
              "          const docLinkHtml = 'Like what you see? Visit the ' +\n",
              "            '<a target=\"_blank\" href=https://colab.research.google.com/notebooks/data_table.ipynb>data table notebook</a>'\n",
              "            + ' to learn more about interactive tables.';\n",
              "          element.innerHTML = '';\n",
              "          dataTable['output_type'] = 'display_data';\n",
              "          await google.colab.output.renderOutput(dataTable, element);\n",
              "          const docLink = document.createElement('div');\n",
              "          docLink.innerHTML = docLinkHtml;\n",
              "          element.appendChild(docLink);\n",
              "        }\n",
              "      </script>\n",
              "    </div>\n",
              "  </div>\n",
              "  "
            ]
          },
          "metadata": {},
          "execution_count": 17
        }
      ]
    },
    {
      "cell_type": "code",
      "source": [
        "df_cust.dtypes"
      ],
      "metadata": {
        "colab": {
          "base_uri": "https://localhost:8080/"
        },
        "id": "u6wC7lmDcRxt",
        "outputId": "80f6b15f-131e-4f33-d571-00f37b92b250"
      },
      "execution_count": 18,
      "outputs": [
        {
          "output_type": "execute_result",
          "data": {
            "text/plain": [
              "Customer ID            int64\n",
              "Gender                object\n",
              "Age                    int64\n",
              "Income (USD/Month)     int64\n",
              "dtype: object"
            ]
          },
          "metadata": {},
          "execution_count": 18
        }
      ]
    },
    {
      "cell_type": "code",
      "source": [
        "df_tran.dtypes"
      ],
      "metadata": {
        "colab": {
          "base_uri": "https://localhost:8080/"
        },
        "id": "f8wQLBrdcUK5",
        "outputId": "6d3d2a3b-7d4b-49cc-83e4-a344388d722a"
      },
      "execution_count": 19,
      "outputs": [
        {
          "output_type": "execute_result",
          "data": {
            "text/plain": [
              "Transaction ID     int64\n",
              "Customer ID        int64\n",
              "Payment_Mode      object\n",
              "dtype: object"
            ]
          },
          "metadata": {},
          "execution_count": 19
        }
      ]
    },
    {
      "cell_type": "markdown",
      "source": [
        "#### 2.2.2 Create master data"
      ],
      "metadata": {
        "id": "4o5PztxBymSV"
      }
    },
    {
      "cell_type": "code",
      "source": [
        "df = pd.merge(df_cab, df_city, how='left', left_on='City', right_on='City')\n",
        "df = pd.merge(df, df_tran, how='left', left_on='Transaction ID', right_on='Transaction ID')\n",
        "df = pd.merge(df, df_cust, how='left', left_on='Customer ID', right_on='Customer ID')\n",
        "df.head()"
      ],
      "metadata": {
        "colab": {
          "base_uri": "https://localhost:8080/",
          "height": 354
        },
        "id": "bHPWXlkjJ6Tj",
        "outputId": "b9a5e54a-f166-4f2a-ee68-1a1409b2dfb3"
      },
      "execution_count": 20,
      "outputs": [
        {
          "output_type": "execute_result",
          "data": {
            "text/plain": [
              "   Transaction ID Date of Travel   Company        City  KM Travelled  \\\n",
              "0        10000011     2016-01-08  Pink Cab  ATLANTA GA         30.45   \n",
              "1        10000012     2016-01-06  Pink Cab  ATLANTA GA         28.62   \n",
              "2        10000013     2016-01-02  Pink Cab  ATLANTA GA          9.04   \n",
              "3        10000014     2016-01-07  Pink Cab  ATLANTA GA         33.17   \n",
              "4        10000015     2016-01-03  Pink Cab  ATLANTA GA          8.73   \n",
              "\n",
              "   Price Charged  Cost of Trip  Population  Users  Customer ID Payment_Mode  \\\n",
              "0         370.95       313.635      814885  24701        29290         Card   \n",
              "1         358.52       334.854      814885  24701        27703         Card   \n",
              "2         125.20        97.632      814885  24701        28712         Cash   \n",
              "3         377.40       351.602      814885  24701        28020         Cash   \n",
              "4         114.62        97.776      814885  24701        27182         Card   \n",
              "\n",
              "  Gender  Age  Income (USD/Month)  \n",
              "0   Male   28               10813  \n",
              "1   Male   27                9237  \n",
              "2   Male   53               11242  \n",
              "3   Male   23               23327  \n",
              "4   Male   33                8536  "
            ],
            "text/html": [
              "\n",
              "  <div id=\"df-19a39264-9b7b-4a67-b8ad-84bdd626da4a\">\n",
              "    <div class=\"colab-df-container\">\n",
              "      <div>\n",
              "<style scoped>\n",
              "    .dataframe tbody tr th:only-of-type {\n",
              "        vertical-align: middle;\n",
              "    }\n",
              "\n",
              "    .dataframe tbody tr th {\n",
              "        vertical-align: top;\n",
              "    }\n",
              "\n",
              "    .dataframe thead th {\n",
              "        text-align: right;\n",
              "    }\n",
              "</style>\n",
              "<table border=\"1\" class=\"dataframe\">\n",
              "  <thead>\n",
              "    <tr style=\"text-align: right;\">\n",
              "      <th></th>\n",
              "      <th>Transaction ID</th>\n",
              "      <th>Date of Travel</th>\n",
              "      <th>Company</th>\n",
              "      <th>City</th>\n",
              "      <th>KM Travelled</th>\n",
              "      <th>Price Charged</th>\n",
              "      <th>Cost of Trip</th>\n",
              "      <th>Population</th>\n",
              "      <th>Users</th>\n",
              "      <th>Customer ID</th>\n",
              "      <th>Payment_Mode</th>\n",
              "      <th>Gender</th>\n",
              "      <th>Age</th>\n",
              "      <th>Income (USD/Month)</th>\n",
              "    </tr>\n",
              "  </thead>\n",
              "  <tbody>\n",
              "    <tr>\n",
              "      <th>0</th>\n",
              "      <td>10000011</td>\n",
              "      <td>2016-01-08</td>\n",
              "      <td>Pink Cab</td>\n",
              "      <td>ATLANTA GA</td>\n",
              "      <td>30.45</td>\n",
              "      <td>370.95</td>\n",
              "      <td>313.635</td>\n",
              "      <td>814885</td>\n",
              "      <td>24701</td>\n",
              "      <td>29290</td>\n",
              "      <td>Card</td>\n",
              "      <td>Male</td>\n",
              "      <td>28</td>\n",
              "      <td>10813</td>\n",
              "    </tr>\n",
              "    <tr>\n",
              "      <th>1</th>\n",
              "      <td>10000012</td>\n",
              "      <td>2016-01-06</td>\n",
              "      <td>Pink Cab</td>\n",
              "      <td>ATLANTA GA</td>\n",
              "      <td>28.62</td>\n",
              "      <td>358.52</td>\n",
              "      <td>334.854</td>\n",
              "      <td>814885</td>\n",
              "      <td>24701</td>\n",
              "      <td>27703</td>\n",
              "      <td>Card</td>\n",
              "      <td>Male</td>\n",
              "      <td>27</td>\n",
              "      <td>9237</td>\n",
              "    </tr>\n",
              "    <tr>\n",
              "      <th>2</th>\n",
              "      <td>10000013</td>\n",
              "      <td>2016-01-02</td>\n",
              "      <td>Pink Cab</td>\n",
              "      <td>ATLANTA GA</td>\n",
              "      <td>9.04</td>\n",
              "      <td>125.20</td>\n",
              "      <td>97.632</td>\n",
              "      <td>814885</td>\n",
              "      <td>24701</td>\n",
              "      <td>28712</td>\n",
              "      <td>Cash</td>\n",
              "      <td>Male</td>\n",
              "      <td>53</td>\n",
              "      <td>11242</td>\n",
              "    </tr>\n",
              "    <tr>\n",
              "      <th>3</th>\n",
              "      <td>10000014</td>\n",
              "      <td>2016-01-07</td>\n",
              "      <td>Pink Cab</td>\n",
              "      <td>ATLANTA GA</td>\n",
              "      <td>33.17</td>\n",
              "      <td>377.40</td>\n",
              "      <td>351.602</td>\n",
              "      <td>814885</td>\n",
              "      <td>24701</td>\n",
              "      <td>28020</td>\n",
              "      <td>Cash</td>\n",
              "      <td>Male</td>\n",
              "      <td>23</td>\n",
              "      <td>23327</td>\n",
              "    </tr>\n",
              "    <tr>\n",
              "      <th>4</th>\n",
              "      <td>10000015</td>\n",
              "      <td>2016-01-03</td>\n",
              "      <td>Pink Cab</td>\n",
              "      <td>ATLANTA GA</td>\n",
              "      <td>8.73</td>\n",
              "      <td>114.62</td>\n",
              "      <td>97.776</td>\n",
              "      <td>814885</td>\n",
              "      <td>24701</td>\n",
              "      <td>27182</td>\n",
              "      <td>Card</td>\n",
              "      <td>Male</td>\n",
              "      <td>33</td>\n",
              "      <td>8536</td>\n",
              "    </tr>\n",
              "  </tbody>\n",
              "</table>\n",
              "</div>\n",
              "      <button class=\"colab-df-convert\" onclick=\"convertToInteractive('df-19a39264-9b7b-4a67-b8ad-84bdd626da4a')\"\n",
              "              title=\"Convert this dataframe to an interactive table.\"\n",
              "              style=\"display:none;\">\n",
              "        \n",
              "  <svg xmlns=\"http://www.w3.org/2000/svg\" height=\"24px\"viewBox=\"0 0 24 24\"\n",
              "       width=\"24px\">\n",
              "    <path d=\"M0 0h24v24H0V0z\" fill=\"none\"/>\n",
              "    <path d=\"M18.56 5.44l.94 2.06.94-2.06 2.06-.94-2.06-.94-.94-2.06-.94 2.06-2.06.94zm-11 1L8.5 8.5l.94-2.06 2.06-.94-2.06-.94L8.5 2.5l-.94 2.06-2.06.94zm10 10l.94 2.06.94-2.06 2.06-.94-2.06-.94-.94-2.06-.94 2.06-2.06.94z\"/><path d=\"M17.41 7.96l-1.37-1.37c-.4-.4-.92-.59-1.43-.59-.52 0-1.04.2-1.43.59L10.3 9.45l-7.72 7.72c-.78.78-.78 2.05 0 2.83L4 21.41c.39.39.9.59 1.41.59.51 0 1.02-.2 1.41-.59l7.78-7.78 2.81-2.81c.8-.78.8-2.07 0-2.86zM5.41 20L4 18.59l7.72-7.72 1.47 1.35L5.41 20z\"/>\n",
              "  </svg>\n",
              "      </button>\n",
              "      \n",
              "  <style>\n",
              "    .colab-df-container {\n",
              "      display:flex;\n",
              "      flex-wrap:wrap;\n",
              "      gap: 12px;\n",
              "    }\n",
              "\n",
              "    .colab-df-convert {\n",
              "      background-color: #E8F0FE;\n",
              "      border: none;\n",
              "      border-radius: 50%;\n",
              "      cursor: pointer;\n",
              "      display: none;\n",
              "      fill: #1967D2;\n",
              "      height: 32px;\n",
              "      padding: 0 0 0 0;\n",
              "      width: 32px;\n",
              "    }\n",
              "\n",
              "    .colab-df-convert:hover {\n",
              "      background-color: #E2EBFA;\n",
              "      box-shadow: 0px 1px 2px rgba(60, 64, 67, 0.3), 0px 1px 3px 1px rgba(60, 64, 67, 0.15);\n",
              "      fill: #174EA6;\n",
              "    }\n",
              "\n",
              "    [theme=dark] .colab-df-convert {\n",
              "      background-color: #3B4455;\n",
              "      fill: #D2E3FC;\n",
              "    }\n",
              "\n",
              "    [theme=dark] .colab-df-convert:hover {\n",
              "      background-color: #434B5C;\n",
              "      box-shadow: 0px 1px 3px 1px rgba(0, 0, 0, 0.15);\n",
              "      filter: drop-shadow(0px 1px 2px rgba(0, 0, 0, 0.3));\n",
              "      fill: #FFFFFF;\n",
              "    }\n",
              "  </style>\n",
              "\n",
              "      <script>\n",
              "        const buttonEl =\n",
              "          document.querySelector('#df-19a39264-9b7b-4a67-b8ad-84bdd626da4a button.colab-df-convert');\n",
              "        buttonEl.style.display =\n",
              "          google.colab.kernel.accessAllowed ? 'block' : 'none';\n",
              "\n",
              "        async function convertToInteractive(key) {\n",
              "          const element = document.querySelector('#df-19a39264-9b7b-4a67-b8ad-84bdd626da4a');\n",
              "          const dataTable =\n",
              "            await google.colab.kernel.invokeFunction('convertToInteractive',\n",
              "                                                     [key], {});\n",
              "          if (!dataTable) return;\n",
              "\n",
              "          const docLinkHtml = 'Like what you see? Visit the ' +\n",
              "            '<a target=\"_blank\" href=https://colab.research.google.com/notebooks/data_table.ipynb>data table notebook</a>'\n",
              "            + ' to learn more about interactive tables.';\n",
              "          element.innerHTML = '';\n",
              "          dataTable['output_type'] = 'display_data';\n",
              "          await google.colab.output.renderOutput(dataTable, element);\n",
              "          const docLink = document.createElement('div');\n",
              "          docLink.innerHTML = docLinkHtml;\n",
              "          element.appendChild(docLink);\n",
              "        }\n",
              "      </script>\n",
              "    </div>\n",
              "  </div>\n",
              "  "
            ]
          },
          "metadata": {},
          "execution_count": 20
        }
      ]
    },
    {
      "cell_type": "code",
      "source": [
        "df['Net Margin %'] = (df['Price Charged'] - df['Cost of Trip'])/df['Price Charged']*100\n",
        "df.head()"
      ],
      "metadata": {
        "colab": {
          "base_uri": "https://localhost:8080/",
          "height": 354
        },
        "id": "ambVzClvSWP-",
        "outputId": "0e044abe-8f4a-42e2-a63b-9ed0f1aaef69"
      },
      "execution_count": 21,
      "outputs": [
        {
          "output_type": "execute_result",
          "data": {
            "text/plain": [
              "   Transaction ID Date of Travel   Company        City  KM Travelled  \\\n",
              "0        10000011     2016-01-08  Pink Cab  ATLANTA GA         30.45   \n",
              "1        10000012     2016-01-06  Pink Cab  ATLANTA GA         28.62   \n",
              "2        10000013     2016-01-02  Pink Cab  ATLANTA GA          9.04   \n",
              "3        10000014     2016-01-07  Pink Cab  ATLANTA GA         33.17   \n",
              "4        10000015     2016-01-03  Pink Cab  ATLANTA GA          8.73   \n",
              "\n",
              "   Price Charged  Cost of Trip  Population  Users  Customer ID Payment_Mode  \\\n",
              "0         370.95       313.635      814885  24701        29290         Card   \n",
              "1         358.52       334.854      814885  24701        27703         Card   \n",
              "2         125.20        97.632      814885  24701        28712         Cash   \n",
              "3         377.40       351.602      814885  24701        28020         Cash   \n",
              "4         114.62        97.776      814885  24701        27182         Card   \n",
              "\n",
              "  Gender  Age  Income (USD/Month)  Net Margin %  \n",
              "0   Male   28               10813     15.450869  \n",
              "1   Male   27                9237      6.601026  \n",
              "2   Male   53               11242     22.019169  \n",
              "3   Male   23               23327      6.835718  \n",
              "4   Male   33                8536     14.695516  "
            ],
            "text/html": [
              "\n",
              "  <div id=\"df-7e31c76c-72b6-43d8-b34e-fd0f94190d62\">\n",
              "    <div class=\"colab-df-container\">\n",
              "      <div>\n",
              "<style scoped>\n",
              "    .dataframe tbody tr th:only-of-type {\n",
              "        vertical-align: middle;\n",
              "    }\n",
              "\n",
              "    .dataframe tbody tr th {\n",
              "        vertical-align: top;\n",
              "    }\n",
              "\n",
              "    .dataframe thead th {\n",
              "        text-align: right;\n",
              "    }\n",
              "</style>\n",
              "<table border=\"1\" class=\"dataframe\">\n",
              "  <thead>\n",
              "    <tr style=\"text-align: right;\">\n",
              "      <th></th>\n",
              "      <th>Transaction ID</th>\n",
              "      <th>Date of Travel</th>\n",
              "      <th>Company</th>\n",
              "      <th>City</th>\n",
              "      <th>KM Travelled</th>\n",
              "      <th>Price Charged</th>\n",
              "      <th>Cost of Trip</th>\n",
              "      <th>Population</th>\n",
              "      <th>Users</th>\n",
              "      <th>Customer ID</th>\n",
              "      <th>Payment_Mode</th>\n",
              "      <th>Gender</th>\n",
              "      <th>Age</th>\n",
              "      <th>Income (USD/Month)</th>\n",
              "      <th>Net Margin %</th>\n",
              "    </tr>\n",
              "  </thead>\n",
              "  <tbody>\n",
              "    <tr>\n",
              "      <th>0</th>\n",
              "      <td>10000011</td>\n",
              "      <td>2016-01-08</td>\n",
              "      <td>Pink Cab</td>\n",
              "      <td>ATLANTA GA</td>\n",
              "      <td>30.45</td>\n",
              "      <td>370.95</td>\n",
              "      <td>313.635</td>\n",
              "      <td>814885</td>\n",
              "      <td>24701</td>\n",
              "      <td>29290</td>\n",
              "      <td>Card</td>\n",
              "      <td>Male</td>\n",
              "      <td>28</td>\n",
              "      <td>10813</td>\n",
              "      <td>15.450869</td>\n",
              "    </tr>\n",
              "    <tr>\n",
              "      <th>1</th>\n",
              "      <td>10000012</td>\n",
              "      <td>2016-01-06</td>\n",
              "      <td>Pink Cab</td>\n",
              "      <td>ATLANTA GA</td>\n",
              "      <td>28.62</td>\n",
              "      <td>358.52</td>\n",
              "      <td>334.854</td>\n",
              "      <td>814885</td>\n",
              "      <td>24701</td>\n",
              "      <td>27703</td>\n",
              "      <td>Card</td>\n",
              "      <td>Male</td>\n",
              "      <td>27</td>\n",
              "      <td>9237</td>\n",
              "      <td>6.601026</td>\n",
              "    </tr>\n",
              "    <tr>\n",
              "      <th>2</th>\n",
              "      <td>10000013</td>\n",
              "      <td>2016-01-02</td>\n",
              "      <td>Pink Cab</td>\n",
              "      <td>ATLANTA GA</td>\n",
              "      <td>9.04</td>\n",
              "      <td>125.20</td>\n",
              "      <td>97.632</td>\n",
              "      <td>814885</td>\n",
              "      <td>24701</td>\n",
              "      <td>28712</td>\n",
              "      <td>Cash</td>\n",
              "      <td>Male</td>\n",
              "      <td>53</td>\n",
              "      <td>11242</td>\n",
              "      <td>22.019169</td>\n",
              "    </tr>\n",
              "    <tr>\n",
              "      <th>3</th>\n",
              "      <td>10000014</td>\n",
              "      <td>2016-01-07</td>\n",
              "      <td>Pink Cab</td>\n",
              "      <td>ATLANTA GA</td>\n",
              "      <td>33.17</td>\n",
              "      <td>377.40</td>\n",
              "      <td>351.602</td>\n",
              "      <td>814885</td>\n",
              "      <td>24701</td>\n",
              "      <td>28020</td>\n",
              "      <td>Cash</td>\n",
              "      <td>Male</td>\n",
              "      <td>23</td>\n",
              "      <td>23327</td>\n",
              "      <td>6.835718</td>\n",
              "    </tr>\n",
              "    <tr>\n",
              "      <th>4</th>\n",
              "      <td>10000015</td>\n",
              "      <td>2016-01-03</td>\n",
              "      <td>Pink Cab</td>\n",
              "      <td>ATLANTA GA</td>\n",
              "      <td>8.73</td>\n",
              "      <td>114.62</td>\n",
              "      <td>97.776</td>\n",
              "      <td>814885</td>\n",
              "      <td>24701</td>\n",
              "      <td>27182</td>\n",
              "      <td>Card</td>\n",
              "      <td>Male</td>\n",
              "      <td>33</td>\n",
              "      <td>8536</td>\n",
              "      <td>14.695516</td>\n",
              "    </tr>\n",
              "  </tbody>\n",
              "</table>\n",
              "</div>\n",
              "      <button class=\"colab-df-convert\" onclick=\"convertToInteractive('df-7e31c76c-72b6-43d8-b34e-fd0f94190d62')\"\n",
              "              title=\"Convert this dataframe to an interactive table.\"\n",
              "              style=\"display:none;\">\n",
              "        \n",
              "  <svg xmlns=\"http://www.w3.org/2000/svg\" height=\"24px\"viewBox=\"0 0 24 24\"\n",
              "       width=\"24px\">\n",
              "    <path d=\"M0 0h24v24H0V0z\" fill=\"none\"/>\n",
              "    <path d=\"M18.56 5.44l.94 2.06.94-2.06 2.06-.94-2.06-.94-.94-2.06-.94 2.06-2.06.94zm-11 1L8.5 8.5l.94-2.06 2.06-.94-2.06-.94L8.5 2.5l-.94 2.06-2.06.94zm10 10l.94 2.06.94-2.06 2.06-.94-2.06-.94-.94-2.06-.94 2.06-2.06.94z\"/><path d=\"M17.41 7.96l-1.37-1.37c-.4-.4-.92-.59-1.43-.59-.52 0-1.04.2-1.43.59L10.3 9.45l-7.72 7.72c-.78.78-.78 2.05 0 2.83L4 21.41c.39.39.9.59 1.41.59.51 0 1.02-.2 1.41-.59l7.78-7.78 2.81-2.81c.8-.78.8-2.07 0-2.86zM5.41 20L4 18.59l7.72-7.72 1.47 1.35L5.41 20z\"/>\n",
              "  </svg>\n",
              "      </button>\n",
              "      \n",
              "  <style>\n",
              "    .colab-df-container {\n",
              "      display:flex;\n",
              "      flex-wrap:wrap;\n",
              "      gap: 12px;\n",
              "    }\n",
              "\n",
              "    .colab-df-convert {\n",
              "      background-color: #E8F0FE;\n",
              "      border: none;\n",
              "      border-radius: 50%;\n",
              "      cursor: pointer;\n",
              "      display: none;\n",
              "      fill: #1967D2;\n",
              "      height: 32px;\n",
              "      padding: 0 0 0 0;\n",
              "      width: 32px;\n",
              "    }\n",
              "\n",
              "    .colab-df-convert:hover {\n",
              "      background-color: #E2EBFA;\n",
              "      box-shadow: 0px 1px 2px rgba(60, 64, 67, 0.3), 0px 1px 3px 1px rgba(60, 64, 67, 0.15);\n",
              "      fill: #174EA6;\n",
              "    }\n",
              "\n",
              "    [theme=dark] .colab-df-convert {\n",
              "      background-color: #3B4455;\n",
              "      fill: #D2E3FC;\n",
              "    }\n",
              "\n",
              "    [theme=dark] .colab-df-convert:hover {\n",
              "      background-color: #434B5C;\n",
              "      box-shadow: 0px 1px 3px 1px rgba(0, 0, 0, 0.15);\n",
              "      filter: drop-shadow(0px 1px 2px rgba(0, 0, 0, 0.3));\n",
              "      fill: #FFFFFF;\n",
              "    }\n",
              "  </style>\n",
              "\n",
              "      <script>\n",
              "        const buttonEl =\n",
              "          document.querySelector('#df-7e31c76c-72b6-43d8-b34e-fd0f94190d62 button.colab-df-convert');\n",
              "        buttonEl.style.display =\n",
              "          google.colab.kernel.accessAllowed ? 'block' : 'none';\n",
              "\n",
              "        async function convertToInteractive(key) {\n",
              "          const element = document.querySelector('#df-7e31c76c-72b6-43d8-b34e-fd0f94190d62');\n",
              "          const dataTable =\n",
              "            await google.colab.kernel.invokeFunction('convertToInteractive',\n",
              "                                                     [key], {});\n",
              "          if (!dataTable) return;\n",
              "\n",
              "          const docLinkHtml = 'Like what you see? Visit the ' +\n",
              "            '<a target=\"_blank\" href=https://colab.research.google.com/notebooks/data_table.ipynb>data table notebook</a>'\n",
              "            + ' to learn more about interactive tables.';\n",
              "          element.innerHTML = '';\n",
              "          dataTable['output_type'] = 'display_data';\n",
              "          await google.colab.output.renderOutput(dataTable, element);\n",
              "          const docLink = document.createElement('div');\n",
              "          docLink.innerHTML = docLinkHtml;\n",
              "          element.appendChild(docLink);\n",
              "        }\n",
              "      </script>\n",
              "    </div>\n",
              "  </div>\n",
              "  "
            ]
          },
          "metadata": {},
          "execution_count": 21
        }
      ]
    },
    {
      "cell_type": "code",
      "source": [
        "df.shape"
      ],
      "metadata": {
        "colab": {
          "base_uri": "https://localhost:8080/"
        },
        "id": "TnVHBmtO0lj-",
        "outputId": "b24fe451-99f0-44b9-af8e-982fd84d250b"
      },
      "execution_count": 22,
      "outputs": [
        {
          "output_type": "execute_result",
          "data": {
            "text/plain": [
              "(359392, 15)"
            ]
          },
          "metadata": {},
          "execution_count": 22
        }
      ]
    },
    {
      "cell_type": "markdown",
      "source": [
        "#### 2.2.3 Identify and remove duplicates"
      ],
      "metadata": {
        "id": "fhzkORaOzvnF"
      }
    },
    {
      "cell_type": "code",
      "source": [
        "df_dedupe = df.copy()\n",
        "df_dedupe = df_dedupe.sort_values(by='Date of Travel', ascending=True)\n",
        "df_dedupe = df_dedupe.drop_duplicates(subset='Customer ID', keep='last')\n",
        "df_dedupe.shape"
      ],
      "metadata": {
        "colab": {
          "base_uri": "https://localhost:8080/"
        },
        "id": "Zk4dbTGvJ9Ju",
        "outputId": "66f862b2-02ed-4b0e-9533-3f0f204e6909"
      },
      "execution_count": 23,
      "outputs": [
        {
          "output_type": "execute_result",
          "data": {
            "text/plain": [
              "(46148, 15)"
            ]
          },
          "metadata": {},
          "execution_count": 23
        }
      ]
    },
    {
      "cell_type": "code",
      "source": [
        "df_dedupe.head()"
      ],
      "metadata": {
        "colab": {
          "base_uri": "https://localhost:8080/",
          "height": 302
        },
        "id": "ddu5yJGCW7Xj",
        "outputId": "3ce0c3be-f572-46be-b20c-f596e3032214"
      },
      "execution_count": 24,
      "outputs": [
        {
          "output_type": "execute_result",
          "data": {
            "text/plain": [
              "     Transaction ID Date of Travel     Company           City  KM Travelled  \\\n",
              "858        10001009     2016-01-02  Yellow Cab     PHOENIX AZ         30.00   \n",
              "863        10001014     2016-01-02  Yellow Cab  SACRAMENTO CA         38.00   \n",
              "194        10000345     2016-01-02    Pink Cab     SEATTLE WA         20.40   \n",
              "153        10000164     2016-01-02    Pink Cab     PHOENIX AZ          8.55   \n",
              "152        10000163     2016-01-02    Pink Cab     PHOENIX AZ          4.44   \n",
              "\n",
              "     Price Charged  Cost of Trip  Population  Users  Customer ID Payment_Mode  \\\n",
              "858        1000.52       403.200      943999   6133        21481         Card   \n",
              "863        1065.42       547.200      545776   7044        47687         Card   \n",
              "194         259.48       234.600      671238  25063        37896         Card   \n",
              "153         114.15        89.775      943999   6133        22469         Card   \n",
              "152          71.57        48.840      943999   6133        22557         Cash   \n",
              "\n",
              "    Gender  Age  Income (USD/Month)  Net Margin %  \n",
              "858   Male   28               18030     59.700956  \n",
              "863   Male   25               16088     48.639973  \n",
              "194   Male   39                7143      9.588408  \n",
              "153   Male   37                4378     21.353482  \n",
              "152   Male   38                8808     31.759117  "
            ],
            "text/html": [
              "\n",
              "  <div id=\"df-362a415a-f6d9-42bb-8e22-651dfd3810a0\">\n",
              "    <div class=\"colab-df-container\">\n",
              "      <div>\n",
              "<style scoped>\n",
              "    .dataframe tbody tr th:only-of-type {\n",
              "        vertical-align: middle;\n",
              "    }\n",
              "\n",
              "    .dataframe tbody tr th {\n",
              "        vertical-align: top;\n",
              "    }\n",
              "\n",
              "    .dataframe thead th {\n",
              "        text-align: right;\n",
              "    }\n",
              "</style>\n",
              "<table border=\"1\" class=\"dataframe\">\n",
              "  <thead>\n",
              "    <tr style=\"text-align: right;\">\n",
              "      <th></th>\n",
              "      <th>Transaction ID</th>\n",
              "      <th>Date of Travel</th>\n",
              "      <th>Company</th>\n",
              "      <th>City</th>\n",
              "      <th>KM Travelled</th>\n",
              "      <th>Price Charged</th>\n",
              "      <th>Cost of Trip</th>\n",
              "      <th>Population</th>\n",
              "      <th>Users</th>\n",
              "      <th>Customer ID</th>\n",
              "      <th>Payment_Mode</th>\n",
              "      <th>Gender</th>\n",
              "      <th>Age</th>\n",
              "      <th>Income (USD/Month)</th>\n",
              "      <th>Net Margin %</th>\n",
              "    </tr>\n",
              "  </thead>\n",
              "  <tbody>\n",
              "    <tr>\n",
              "      <th>858</th>\n",
              "      <td>10001009</td>\n",
              "      <td>2016-01-02</td>\n",
              "      <td>Yellow Cab</td>\n",
              "      <td>PHOENIX AZ</td>\n",
              "      <td>30.00</td>\n",
              "      <td>1000.52</td>\n",
              "      <td>403.200</td>\n",
              "      <td>943999</td>\n",
              "      <td>6133</td>\n",
              "      <td>21481</td>\n",
              "      <td>Card</td>\n",
              "      <td>Male</td>\n",
              "      <td>28</td>\n",
              "      <td>18030</td>\n",
              "      <td>59.700956</td>\n",
              "    </tr>\n",
              "    <tr>\n",
              "      <th>863</th>\n",
              "      <td>10001014</td>\n",
              "      <td>2016-01-02</td>\n",
              "      <td>Yellow Cab</td>\n",
              "      <td>SACRAMENTO CA</td>\n",
              "      <td>38.00</td>\n",
              "      <td>1065.42</td>\n",
              "      <td>547.200</td>\n",
              "      <td>545776</td>\n",
              "      <td>7044</td>\n",
              "      <td>47687</td>\n",
              "      <td>Card</td>\n",
              "      <td>Male</td>\n",
              "      <td>25</td>\n",
              "      <td>16088</td>\n",
              "      <td>48.639973</td>\n",
              "    </tr>\n",
              "    <tr>\n",
              "      <th>194</th>\n",
              "      <td>10000345</td>\n",
              "      <td>2016-01-02</td>\n",
              "      <td>Pink Cab</td>\n",
              "      <td>SEATTLE WA</td>\n",
              "      <td>20.40</td>\n",
              "      <td>259.48</td>\n",
              "      <td>234.600</td>\n",
              "      <td>671238</td>\n",
              "      <td>25063</td>\n",
              "      <td>37896</td>\n",
              "      <td>Card</td>\n",
              "      <td>Male</td>\n",
              "      <td>39</td>\n",
              "      <td>7143</td>\n",
              "      <td>9.588408</td>\n",
              "    </tr>\n",
              "    <tr>\n",
              "      <th>153</th>\n",
              "      <td>10000164</td>\n",
              "      <td>2016-01-02</td>\n",
              "      <td>Pink Cab</td>\n",
              "      <td>PHOENIX AZ</td>\n",
              "      <td>8.55</td>\n",
              "      <td>114.15</td>\n",
              "      <td>89.775</td>\n",
              "      <td>943999</td>\n",
              "      <td>6133</td>\n",
              "      <td>22469</td>\n",
              "      <td>Card</td>\n",
              "      <td>Male</td>\n",
              "      <td>37</td>\n",
              "      <td>4378</td>\n",
              "      <td>21.353482</td>\n",
              "    </tr>\n",
              "    <tr>\n",
              "      <th>152</th>\n",
              "      <td>10000163</td>\n",
              "      <td>2016-01-02</td>\n",
              "      <td>Pink Cab</td>\n",
              "      <td>PHOENIX AZ</td>\n",
              "      <td>4.44</td>\n",
              "      <td>71.57</td>\n",
              "      <td>48.840</td>\n",
              "      <td>943999</td>\n",
              "      <td>6133</td>\n",
              "      <td>22557</td>\n",
              "      <td>Cash</td>\n",
              "      <td>Male</td>\n",
              "      <td>38</td>\n",
              "      <td>8808</td>\n",
              "      <td>31.759117</td>\n",
              "    </tr>\n",
              "  </tbody>\n",
              "</table>\n",
              "</div>\n",
              "      <button class=\"colab-df-convert\" onclick=\"convertToInteractive('df-362a415a-f6d9-42bb-8e22-651dfd3810a0')\"\n",
              "              title=\"Convert this dataframe to an interactive table.\"\n",
              "              style=\"display:none;\">\n",
              "        \n",
              "  <svg xmlns=\"http://www.w3.org/2000/svg\" height=\"24px\"viewBox=\"0 0 24 24\"\n",
              "       width=\"24px\">\n",
              "    <path d=\"M0 0h24v24H0V0z\" fill=\"none\"/>\n",
              "    <path d=\"M18.56 5.44l.94 2.06.94-2.06 2.06-.94-2.06-.94-.94-2.06-.94 2.06-2.06.94zm-11 1L8.5 8.5l.94-2.06 2.06-.94-2.06-.94L8.5 2.5l-.94 2.06-2.06.94zm10 10l.94 2.06.94-2.06 2.06-.94-2.06-.94-.94-2.06-.94 2.06-2.06.94z\"/><path d=\"M17.41 7.96l-1.37-1.37c-.4-.4-.92-.59-1.43-.59-.52 0-1.04.2-1.43.59L10.3 9.45l-7.72 7.72c-.78.78-.78 2.05 0 2.83L4 21.41c.39.39.9.59 1.41.59.51 0 1.02-.2 1.41-.59l7.78-7.78 2.81-2.81c.8-.78.8-2.07 0-2.86zM5.41 20L4 18.59l7.72-7.72 1.47 1.35L5.41 20z\"/>\n",
              "  </svg>\n",
              "      </button>\n",
              "      \n",
              "  <style>\n",
              "    .colab-df-container {\n",
              "      display:flex;\n",
              "      flex-wrap:wrap;\n",
              "      gap: 12px;\n",
              "    }\n",
              "\n",
              "    .colab-df-convert {\n",
              "      background-color: #E8F0FE;\n",
              "      border: none;\n",
              "      border-radius: 50%;\n",
              "      cursor: pointer;\n",
              "      display: none;\n",
              "      fill: #1967D2;\n",
              "      height: 32px;\n",
              "      padding: 0 0 0 0;\n",
              "      width: 32px;\n",
              "    }\n",
              "\n",
              "    .colab-df-convert:hover {\n",
              "      background-color: #E2EBFA;\n",
              "      box-shadow: 0px 1px 2px rgba(60, 64, 67, 0.3), 0px 1px 3px 1px rgba(60, 64, 67, 0.15);\n",
              "      fill: #174EA6;\n",
              "    }\n",
              "\n",
              "    [theme=dark] .colab-df-convert {\n",
              "      background-color: #3B4455;\n",
              "      fill: #D2E3FC;\n",
              "    }\n",
              "\n",
              "    [theme=dark] .colab-df-convert:hover {\n",
              "      background-color: #434B5C;\n",
              "      box-shadow: 0px 1px 3px 1px rgba(0, 0, 0, 0.15);\n",
              "      filter: drop-shadow(0px 1px 2px rgba(0, 0, 0, 0.3));\n",
              "      fill: #FFFFFF;\n",
              "    }\n",
              "  </style>\n",
              "\n",
              "      <script>\n",
              "        const buttonEl =\n",
              "          document.querySelector('#df-362a415a-f6d9-42bb-8e22-651dfd3810a0 button.colab-df-convert');\n",
              "        buttonEl.style.display =\n",
              "          google.colab.kernel.accessAllowed ? 'block' : 'none';\n",
              "\n",
              "        async function convertToInteractive(key) {\n",
              "          const element = document.querySelector('#df-362a415a-f6d9-42bb-8e22-651dfd3810a0');\n",
              "          const dataTable =\n",
              "            await google.colab.kernel.invokeFunction('convertToInteractive',\n",
              "                                                     [key], {});\n",
              "          if (!dataTable) return;\n",
              "\n",
              "          const docLinkHtml = 'Like what you see? Visit the ' +\n",
              "            '<a target=\"_blank\" href=https://colab.research.google.com/notebooks/data_table.ipynb>data table notebook</a>'\n",
              "            + ' to learn more about interactive tables.';\n",
              "          element.innerHTML = '';\n",
              "          dataTable['output_type'] = 'display_data';\n",
              "          await google.colab.output.renderOutput(dataTable, element);\n",
              "          const docLink = document.createElement('div');\n",
              "          docLink.innerHTML = docLinkHtml;\n",
              "          element.appendChild(docLink);\n",
              "        }\n",
              "      </script>\n",
              "    </div>\n",
              "  </div>\n",
              "  "
            ]
          },
          "metadata": {},
          "execution_count": 24
        }
      ]
    },
    {
      "cell_type": "markdown",
      "source": [
        "## 3. EDA"
      ],
      "metadata": {
        "id": "UT3ycex1JQYb"
      }
    },
    {
      "cell_type": "markdown",
      "source": [
        "### 3.1 Desciptive Analysis"
      ],
      "metadata": {
        "id": "CNNZb1bv4d3R"
      }
    },
    {
      "cell_type": "markdown",
      "source": [
        "#### 3.1.1 Common"
      ],
      "metadata": {
        "id": "77DRXrfH1wMw"
      }
    },
    {
      "cell_type": "code",
      "source": [
        "# Data Type\n",
        "df.dtypes"
      ],
      "metadata": {
        "colab": {
          "base_uri": "https://localhost:8080/"
        },
        "id": "6Jqb8c1BtTMt",
        "outputId": "1f438ca6-0c6a-4bfb-ef96-236d6cc25d34"
      },
      "execution_count": 25,
      "outputs": [
        {
          "output_type": "execute_result",
          "data": {
            "text/plain": [
              "Transaction ID                 int64\n",
              "Date of Travel        datetime64[ns]\n",
              "Company                       object\n",
              "City                          object\n",
              "KM Travelled                 float64\n",
              "Price Charged                float64\n",
              "Cost of Trip                 float64\n",
              "Population                     int64\n",
              "Users                          int64\n",
              "Customer ID                    int64\n",
              "Payment_Mode                  object\n",
              "Gender                        object\n",
              "Age                            int64\n",
              "Income (USD/Month)             int64\n",
              "Net Margin %                 float64\n",
              "dtype: object"
            ]
          },
          "metadata": {},
          "execution_count": 25
        }
      ]
    },
    {
      "cell_type": "code",
      "source": [
        "# Missing Value\n",
        "#pd.set_option('display.max_rows', None)\n",
        "df.isnull().sum()"
      ],
      "metadata": {
        "colab": {
          "base_uri": "https://localhost:8080/"
        },
        "id": "6oQO3cZ1KNLb",
        "outputId": "64503758-57ae-456b-e209-8e84fbf8ff5d"
      },
      "execution_count": 26,
      "outputs": [
        {
          "output_type": "execute_result",
          "data": {
            "text/plain": [
              "Transaction ID        0\n",
              "Date of Travel        0\n",
              "Company               0\n",
              "City                  0\n",
              "KM Travelled          0\n",
              "Price Charged         0\n",
              "Cost of Trip          0\n",
              "Population            0\n",
              "Users                 0\n",
              "Customer ID           0\n",
              "Payment_Mode          0\n",
              "Gender                0\n",
              "Age                   0\n",
              "Income (USD/Month)    0\n",
              "Net Margin %          0\n",
              "dtype: int64"
            ]
          },
          "metadata": {},
          "execution_count": 26
        }
      ]
    },
    {
      "cell_type": "markdown",
      "source": [
        "#### 3.1.2 Categorical"
      ],
      "metadata": {
        "id": "sUeHaI5S2EQI"
      }
    },
    {
      "cell_type": "code",
      "source": [
        "# cardinality\n",
        "df[['Company', 'City', 'Payment_Mode']].nunique()"
      ],
      "metadata": {
        "colab": {
          "base_uri": "https://localhost:8080/"
        },
        "id": "_IOWqf0C2Hld",
        "outputId": "624fa3c6-2801-4861-b12b-213095fad515"
      },
      "execution_count": 27,
      "outputs": [
        {
          "output_type": "execute_result",
          "data": {
            "text/plain": [
              "Company          2\n",
              "City            19\n",
              "Payment_Mode     2\n",
              "dtype: int64"
            ]
          },
          "metadata": {},
          "execution_count": 27
        }
      ]
    },
    {
      "cell_type": "code",
      "source": [
        "# cardinality\n",
        "df_dedupe[['Gender']].nunique()"
      ],
      "metadata": {
        "colab": {
          "base_uri": "https://localhost:8080/"
        },
        "id": "VQ1OwMwhXKOR",
        "outputId": "3736c9c0-d3ea-41f7-e8c2-cb7792597b49"
      },
      "execution_count": 28,
      "outputs": [
        {
          "output_type": "execute_result",
          "data": {
            "text/plain": [
              "Gender    2\n",
              "dtype: int64"
            ]
          },
          "metadata": {},
          "execution_count": 28
        }
      ]
    },
    {
      "cell_type": "code",
      "source": [
        "# unique counts\n",
        "# Company\n",
        "plt.figure(figsize=(6,6))\n",
        "plt.hist(df['Company'], bins=np.arange(3)-0.5, rwidth=.5)\n",
        "plt.ylabel(\"Number of Customers\")\n",
        "plt.xlabel(\" \")\n",
        "\n",
        "plt.show()"
      ],
      "metadata": {
        "colab": {
          "base_uri": "https://localhost:8080/",
          "height": 388
        },
        "id": "n2mVg9LxWA_7",
        "outputId": "2f79cdcd-9e06-4f07-e390-07f2736040f6"
      },
      "execution_count": 29,
      "outputs": [
        {
          "output_type": "display_data",
          "data": {
            "text/plain": [
              "<Figure size 432x432 with 1 Axes>"
            ],
            "image/png": "[encoded data removed]"
          },
          "metadata": {
            "needs_background": "light"
          }
        }
      ]
    },
    {
      "cell_type": "code",
      "source": [
        "# unique counts\n",
        "# City\n",
        "plt.figure(figsize=(24,6))\n",
        "plt.hist(df['City'], bins=np.arange(20)-0.5, rwidth=.5)\n",
        "plt.ylabel(\"Number of Customers\")\n",
        "plt.xlabel(\" \")\n",
        "plt.xticks(fontsize=8)\n",
        "\n",
        "plt.show()"
      ],
      "metadata": {
        "colab": {
          "base_uri": "https://localhost:8080/",
          "height": 381
        },
        "id": "8HBggW2xYshq",
        "outputId": "81cdaf64-e4d4-4137-8b6b-1123baa01a58"
      },
      "execution_count": 30,
      "outputs": [
        {
          "output_type": "display_data",
          "data": {
            "text/plain": [
              "<Figure size 1728x432 with 1 Axes>"
            ],
            "image/png": "[encoded data removed]"
          },
          "metadata": {
            "needs_background": "light"
          }
        }
      ]
    },
    {
      "cell_type": "code",
      "source": [
        "# unique counts\n",
        "# Payment Mode\n",
        "plt.figure(figsize=(6,6))\n",
        "plt.hist(df['Payment_Mode'], bins=np.arange(3)-0.5, rwidth=.5)\n",
        "plt.ylabel(\"Number of Customers\")\n",
        "plt.xlabel(\" \")\n",
        "\n",
        "plt.show()"
      ],
      "metadata": {
        "colab": {
          "base_uri": "https://localhost:8080/",
          "height": 388
        },
        "id": "nDlQ_GaRZR6V",
        "outputId": "9742dfbf-1c80-4682-bc17-f653f0a1b4c4"
      },
      "execution_count": 31,
      "outputs": [
        {
          "output_type": "display_data",
          "data": {
            "text/plain": [
              "<Figure size 432x432 with 1 Axes>"
            ],
            "image/png": "[encoded data removed]"
          },
          "metadata": {
            "needs_background": "light"
          }
        }
      ]
    },
    {
      "cell_type": "code",
      "source": [
        "# unique counts\n",
        "# Gender\n",
        "plt.figure(figsize=(6,6))\n",
        "plt.hist(df_dedupe['Gender'], bins=np.arange(3)-0.5, rwidth=.5)\n",
        "plt.ylabel(\"Number of Customers\")\n",
        "plt.xlabel(\" \")\n",
        "\n",
        "plt.show()"
      ],
      "metadata": {
        "colab": {
          "base_uri": "https://localhost:8080/",
          "height": 388
        },
        "id": "8-c6OEQ9ZIuZ",
        "outputId": "0bce3b1d-821b-49e9-b352-204e12e6f7e0"
      },
      "execution_count": 32,
      "outputs": [
        {
          "output_type": "display_data",
          "data": {
            "text/plain": [
              "<Figure size 432x432 with 1 Axes>"
            ],
            "image/png": "[encoded data removed]"
          },
          "metadata": {
            "needs_background": "light"
          }
        }
      ]
    },
    {
      "cell_type": "markdown",
      "source": [
        "#### 3.1.3 Numerical"
      ],
      "metadata": {
        "id": "nJ32fO4n2BY2"
      }
    },
    {
      "cell_type": "code",
      "source": [
        "# descriptive statistics\n",
        "df[['KM Travelled', 'Price Charged', 'Cost of Trip', 'Net Margin %']].describe()"
      ],
      "metadata": {
        "colab": {
          "base_uri": "https://localhost:8080/",
          "height": 0
        },
        "id": "uy7jCZLq2IUC",
        "outputId": "3561e4a8-57de-4e05-de47-28bf3d6fe585"
      },
      "execution_count": 33,
      "outputs": [
        {
          "output_type": "execute_result",
          "data": {
            "text/plain": [
              "        KM Travelled  Price Charged   Cost of Trip   Net Margin %\n",
              "count  359392.000000  359392.000000  359392.000000  359392.000000\n",
              "mean       22.567254     423.443311     286.190113      27.128413\n",
              "std        12.233526     274.378911     157.993661      18.550100\n",
              "min         1.900000      15.600000      19.000000     -69.301505\n",
              "25%        12.000000     206.437500     151.200000      13.855876\n",
              "50%        22.440000     386.360000     282.480000      26.430302\n",
              "75%        32.960000     583.660000     413.683200      41.611989\n",
              "max        48.000000    2048.030000     691.200000      76.202636"
            ],
            "text/html": [
              "\n",
              "  <div id=\"df-f3cabf5a-b0e7-4b69-9b46-f7fa1466697e\">\n",
              "    <div class=\"colab-df-container\">\n",
              "      <div>\n",
              "<style scoped>\n",
              "    .dataframe tbody tr th:only-of-type {\n",
              "        vertical-align: middle;\n",
              "    }\n",
              "\n",
              "    .dataframe tbody tr th {\n",
              "        vertical-align: top;\n",
              "    }\n",
              "\n",
              "    .dataframe thead th {\n",
              "        text-align: right;\n",
              "    }\n",
              "</style>\n",
              "<table border=\"1\" class=\"dataframe\">\n",
              "  <thead>\n",
              "    <tr style=\"text-align: right;\">\n",
              "      <th></th>\n",
              "      <th>KM Travelled</th>\n",
              "      <th>Price Charged</th>\n",
              "      <th>Cost of Trip</th>\n",
              "      <th>Net Margin %</th>\n",
              "    </tr>\n",
              "  </thead>\n",
              "  <tbody>\n",
              "    <tr>\n",
              "      <th>count</th>\n",
              "      <td>359392.000000</td>\n",
              "      <td>359392.000000</td>\n",
              "      <td>359392.000000</td>\n",
              "      <td>359392.000000</td>\n",
              "    </tr>\n",
              "    <tr>\n",
              "      <th>mean</th>\n",
              "      <td>22.567254</td>\n",
              "      <td>423.443311</td>\n",
              "      <td>286.190113</td>\n",
              "      <td>27.128413</td>\n",
              "    </tr>\n",
              "    <tr>\n",
              "      <th>std</th>\n",
              "      <td>12.233526</td>\n",
              "      <td>274.378911</td>\n",
              "      <td>157.993661</td>\n",
              "      <td>18.550100</td>\n",
              "    </tr>\n",
              "    <tr>\n",
              "      <th>min</th>\n",
              "      <td>1.900000</td>\n",
              "      <td>15.600000</td>\n",
              "      <td>19.000000</td>\n",
              "      <td>-69.301505</td>\n",
              "    </tr>\n",
              "    <tr>\n",
              "      <th>25%</th>\n",
              "      <td>12.000000</td>\n",
              "      <td>206.437500</td>\n",
              "      <td>151.200000</td>\n",
              "      <td>13.855876</td>\n",
              "    </tr>\n",
              "    <tr>\n",
              "      <th>50%</th>\n",
              "      <td>22.440000</td>\n",
              "      <td>386.360000</td>\n",
              "      <td>282.480000</td>\n",
              "      <td>26.430302</td>\n",
              "    </tr>\n",
              "    <tr>\n",
              "      <th>75%</th>\n",
              "      <td>32.960000</td>\n",
              "      <td>583.660000</td>\n",
              "      <td>413.683200</td>\n",
              "      <td>41.611989</td>\n",
              "    </tr>\n",
              "    <tr>\n",
              "      <th>max</th>\n",
              "      <td>48.000000</td>\n",
              "      <td>2048.030000</td>\n",
              "      <td>691.200000</td>\n",
              "      <td>76.202636</td>\n",
              "    </tr>\n",
              "  </tbody>\n",
              "</table>\n",
              "</div>\n",
              "      <button class=\"colab-df-convert\" onclick=\"convertToInteractive('df-f3cabf5a-b0e7-4b69-9b46-f7fa1466697e')\"\n",
              "              title=\"Convert this dataframe to an interactive table.\"\n",
              "              style=\"display:none;\">\n",
              "        \n",
              "  <svg xmlns=\"http://www.w3.org/2000/svg\" height=\"24px\"viewBox=\"0 0 24 24\"\n",
              "       width=\"24px\">\n",
              "    <path d=\"M0 0h24v24H0V0z\" fill=\"none\"/>\n",
              "    <path d=\"M18.56 5.44l.94 2.06.94-2.06 2.06-.94-2.06-.94-.94-2.06-.94 2.06-2.06.94zm-11 1L8.5 8.5l.94-2.06 2.06-.94-2.06-.94L8.5 2.5l-.94 2.06-2.06.94zm10 10l.94 2.06.94-2.06 2.06-.94-2.06-.94-.94-2.06-.94 2.06-2.06.94z\"/><path d=\"M17.41 7.96l-1.37-1.37c-.4-.4-.92-.59-1.43-.59-.52 0-1.04.2-1.43.59L10.3 9.45l-7.72 7.72c-.78.78-.78 2.05 0 2.83L4 21.41c.39.39.9.59 1.41.59.51 0 1.02-.2 1.41-.59l7.78-7.78 2.81-2.81c.8-.78.8-2.07 0-2.86zM5.41 20L4 18.59l7.72-7.72 1.47 1.35L5.41 20z\"/>\n",
              "  </svg>\n",
              "      </button>\n",
              "      \n",
              "  <style>\n",
              "    .colab-df-container {\n",
              "      display:flex;\n",
              "      flex-wrap:wrap;\n",
              "      gap: 12px;\n",
              "    }\n",
              "\n",
              "    .colab-df-convert {\n",
              "      background-color: #E8F0FE;\n",
              "      border: none;\n",
              "      border-radius: 50%;\n",
              "      cursor: pointer;\n",
              "      display: none;\n",
              "      fill: #1967D2;\n",
              "      height: 32px;\n",
              "      padding: 0 0 0 0;\n",
              "      width: 32px;\n",
              "    }\n",
              "\n",
              "    .colab-df-convert:hover {\n",
              "      background-color: #E2EBFA;\n",
              "      box-shadow: 0px 1px 2px rgba(60, 64, 67, 0.3), 0px 1px 3px 1px rgba(60, 64, 67, 0.15);\n",
              "      fill: #174EA6;\n",
              "    }\n",
              "\n",
              "    [theme=dark] .colab-df-convert {\n",
              "      background-color: #3B4455;\n",
              "      fill: #D2E3FC;\n",
              "    }\n",
              "\n",
              "    [theme=dark] .colab-df-convert:hover {\n",
              "      background-color: #434B5C;\n",
              "      box-shadow: 0px 1px 3px 1px rgba(0, 0, 0, 0.15);\n",
              "      filter: drop-shadow(0px 1px 2px rgba(0, 0, 0, 0.3));\n",
              "      fill: #FFFFFF;\n",
              "    }\n",
              "  </style>\n",
              "\n",
              "      <script>\n",
              "        const buttonEl =\n",
              "          document.querySelector('#df-f3cabf5a-b0e7-4b69-9b46-f7fa1466697e button.colab-df-convert');\n",
              "        buttonEl.style.display =\n",
              "          google.colab.kernel.accessAllowed ? 'block' : 'none';\n",
              "\n",
              "        async function convertToInteractive(key) {\n",
              "          const element = document.querySelector('#df-f3cabf5a-b0e7-4b69-9b46-f7fa1466697e');\n",
              "          const dataTable =\n",
              "            await google.colab.kernel.invokeFunction('convertToInteractive',\n",
              "                                                     [key], {});\n",
              "          if (!dataTable) return;\n",
              "\n",
              "          const docLinkHtml = 'Like what you see? Visit the ' +\n",
              "            '<a target=\"_blank\" href=https://colab.research.google.com/notebooks/data_table.ipynb>data table notebook</a>'\n",
              "            + ' to learn more about interactive tables.';\n",
              "          element.innerHTML = '';\n",
              "          dataTable['output_type'] = 'display_data';\n",
              "          await google.colab.output.renderOutput(dataTable, element);\n",
              "          const docLink = document.createElement('div');\n",
              "          docLink.innerHTML = docLinkHtml;\n",
              "          element.appendChild(docLink);\n",
              "        }\n",
              "      </script>\n",
              "    </div>\n",
              "  </div>\n",
              "  "
            ]
          },
          "metadata": {},
          "execution_count": 33
        }
      ]
    },
    {
      "cell_type": "code",
      "source": [
        "# descriptive statistics\n",
        "df_dedupe[['Age', 'Income (USD/Month)']].describe()"
      ],
      "metadata": {
        "colab": {
          "base_uri": "https://localhost:8080/",
          "height": 0
        },
        "id": "ghRp5cALXtJU",
        "outputId": "06e381cd-1ccd-4b21-928c-753e7c718864"
      },
      "execution_count": 34,
      "outputs": [
        {
          "output_type": "execute_result",
          "data": {
            "text/plain": [
              "                Age  Income (USD/Month)\n",
              "count  46148.000000        46148.000000\n",
              "mean      35.358499        14997.863764\n",
              "std       12.605460         7999.204793\n",
              "min       18.000000         2000.000000\n",
              "25%       25.000000         8289.750000\n",
              "50%       33.000000        14625.500000\n",
              "75%       42.000000        21022.000000\n",
              "max       65.000000        35000.000000"
            ],
            "text/html": [
              "\n",
              "  <div id=\"df-3d596a74-bfaf-415e-95a9-073fe74486e3\">\n",
              "    <div class=\"colab-df-container\">\n",
              "      <div>\n",
              "<style scoped>\n",
              "    .dataframe tbody tr th:only-of-type {\n",
              "        vertical-align: middle;\n",
              "    }\n",
              "\n",
              "    .dataframe tbody tr th {\n",
              "        vertical-align: top;\n",
              "    }\n",
              "\n",
              "    .dataframe thead th {\n",
              "        text-align: right;\n",
              "    }\n",
              "</style>\n",
              "<table border=\"1\" class=\"dataframe\">\n",
              "  <thead>\n",
              "    <tr style=\"text-align: right;\">\n",
              "      <th></th>\n",
              "      <th>Age</th>\n",
              "      <th>Income (USD/Month)</th>\n",
              "    </tr>\n",
              "  </thead>\n",
              "  <tbody>\n",
              "    <tr>\n",
              "      <th>count</th>\n",
              "      <td>46148.000000</td>\n",
              "      <td>46148.000000</td>\n",
              "    </tr>\n",
              "    <tr>\n",
              "      <th>mean</th>\n",
              "      <td>35.358499</td>\n",
              "      <td>14997.863764</td>\n",
              "    </tr>\n",
              "    <tr>\n",
              "      <th>std</th>\n",
              "      <td>12.605460</td>\n",
              "      <td>7999.204793</td>\n",
              "    </tr>\n",
              "    <tr>\n",
              "      <th>min</th>\n",
              "      <td>18.000000</td>\n",
              "      <td>2000.000000</td>\n",
              "    </tr>\n",
              "    <tr>\n",
              "      <th>25%</th>\n",
              "      <td>25.000000</td>\n",
              "      <td>8289.750000</td>\n",
              "    </tr>\n",
              "    <tr>\n",
              "      <th>50%</th>\n",
              "      <td>33.000000</td>\n",
              "      <td>14625.500000</td>\n",
              "    </tr>\n",
              "    <tr>\n",
              "      <th>75%</th>\n",
              "      <td>42.000000</td>\n",
              "      <td>21022.000000</td>\n",
              "    </tr>\n",
              "    <tr>\n",
              "      <th>max</th>\n",
              "      <td>65.000000</td>\n",
              "      <td>35000.000000</td>\n",
              "    </tr>\n",
              "  </tbody>\n",
              "</table>\n",
              "</div>\n",
              "      <button class=\"colab-df-convert\" onclick=\"convertToInteractive('df-3d596a74-bfaf-415e-95a9-073fe74486e3')\"\n",
              "              title=\"Convert this dataframe to an interactive table.\"\n",
              "              style=\"display:none;\">\n",
              "        \n",
              "  <svg xmlns=\"http://www.w3.org/2000/svg\" height=\"24px\"viewBox=\"0 0 24 24\"\n",
              "       width=\"24px\">\n",
              "    <path d=\"M0 0h24v24H0V0z\" fill=\"none\"/>\n",
              "    <path d=\"M18.56 5.44l.94 2.06.94-2.06 2.06-.94-2.06-.94-.94-2.06-.94 2.06-2.06.94zm-11 1L8.5 8.5l.94-2.06 2.06-.94-2.06-.94L8.5 2.5l-.94 2.06-2.06.94zm10 10l.94 2.06.94-2.06 2.06-.94-2.06-.94-.94-2.06-.94 2.06-2.06.94z\"/><path d=\"M17.41 7.96l-1.37-1.37c-.4-.4-.92-.59-1.43-.59-.52 0-1.04.2-1.43.59L10.3 9.45l-7.72 7.72c-.78.78-.78 2.05 0 2.83L4 21.41c.39.39.9.59 1.41.59.51 0 1.02-.2 1.41-.59l7.78-7.78 2.81-2.81c.8-.78.8-2.07 0-2.86zM5.41 20L4 18.59l7.72-7.72 1.47 1.35L5.41 20z\"/>\n",
              "  </svg>\n",
              "      </button>\n",
              "      \n",
              "  <style>\n",
              "    .colab-df-container {\n",
              "      display:flex;\n",
              "      flex-wrap:wrap;\n",
              "      gap: 12px;\n",
              "    }\n",
              "\n",
              "    .colab-df-convert {\n",
              "      background-color: #E8F0FE;\n",
              "      border: none;\n",
              "      border-radius: 50%;\n",
              "      cursor: pointer;\n",
              "      display: none;\n",
              "      fill: #1967D2;\n",
              "      height: 32px;\n",
              "      padding: 0 0 0 0;\n",
              "      width: 32px;\n",
              "    }\n",
              "\n",
              "    .colab-df-convert:hover {\n",
              "      background-color: #E2EBFA;\n",
              "      box-shadow: 0px 1px 2px rgba(60, 64, 67, 0.3), 0px 1px 3px 1px rgba(60, 64, 67, 0.15);\n",
              "      fill: #174EA6;\n",
              "    }\n",
              "\n",
              "    [theme=dark] .colab-df-convert {\n",
              "      background-color: #3B4455;\n",
              "      fill: #D2E3FC;\n",
              "    }\n",
              "\n",
              "    [theme=dark] .colab-df-convert:hover {\n",
              "      background-color: #434B5C;\n",
              "      box-shadow: 0px 1px 3px 1px rgba(0, 0, 0, 0.15);\n",
              "      filter: drop-shadow(0px 1px 2px rgba(0, 0, 0, 0.3));\n",
              "      fill: #FFFFFF;\n",
              "    }\n",
              "  </style>\n",
              "\n",
              "      <script>\n",
              "        const buttonEl =\n",
              "          document.querySelector('#df-3d596a74-bfaf-415e-95a9-073fe74486e3 button.colab-df-convert');\n",
              "        buttonEl.style.display =\n",
              "          google.colab.kernel.accessAllowed ? 'block' : 'none';\n",
              "\n",
              "        async function convertToInteractive(key) {\n",
              "          const element = document.querySelector('#df-3d596a74-bfaf-415e-95a9-073fe74486e3');\n",
              "          const dataTable =\n",
              "            await google.colab.kernel.invokeFunction('convertToInteractive',\n",
              "                                                     [key], {});\n",
              "          if (!dataTable) return;\n",
              "\n",
              "          const docLinkHtml = 'Like what you see? Visit the ' +\n",
              "            '<a target=\"_blank\" href=https://colab.research.google.com/notebooks/data_table.ipynb>data table notebook</a>'\n",
              "            + ' to learn more about interactive tables.';\n",
              "          element.innerHTML = '';\n",
              "          dataTable['output_type'] = 'display_data';\n",
              "          await google.colab.output.renderOutput(dataTable, element);\n",
              "          const docLink = document.createElement('div');\n",
              "          docLink.innerHTML = docLinkHtml;\n",
              "          element.appendChild(docLink);\n",
              "        }\n",
              "      </script>\n",
              "    </div>\n",
              "  </div>\n",
              "  "
            ]
          },
          "metadata": {},
          "execution_count": 34
        }
      ]
    },
    {
      "cell_type": "code",
      "source": [
        "# distribution histograms\n",
        "# KM Travelled\n",
        "plt.figure(figsize=(6,6))\n",
        "#plt.hist(df['Payment_Mode'], bins=np.arange(3)-0.5, rwidth=.5)\n",
        "plt.hist(df['KM Travelled'], bins=20)\n",
        "plt.ylabel(\"Number of Customers\")\n",
        "plt.xlabel(\" \")\n",
        "\n",
        "plt.show()"
      ],
      "metadata": {
        "colab": {
          "base_uri": "https://localhost:8080/",
          "height": 0
        },
        "id": "rIQicOUQWPZh",
        "outputId": "799465cf-69ea-488f-bb8b-92b0ea6cce33"
      },
      "execution_count": 35,
      "outputs": [
        {
          "output_type": "display_data",
          "data": {
            "text/plain": [
              "<Figure size 432x432 with 1 Axes>"
            ],
            "image/png": "[encoded data removed]"
          },
          "metadata": {
            "needs_background": "light"
          }
        }
      ]
    },
    {
      "cell_type": "code",
      "source": [
        "# distribution histograms\n",
        "# Price Charged\n",
        "plt.figure(figsize=(6,6))\n",
        "#plt.hist(df['Payment_Mode'], bins=np.arange(3)-0.5, rwidth=.5)\n",
        "plt.hist(df['Price Charged'], bins=20)\n",
        "plt.ylabel(\"Number of Customers\")\n",
        "plt.xlabel(\" \")\n",
        "\n",
        "plt.show()"
      ],
      "metadata": {
        "colab": {
          "base_uri": "https://localhost:8080/",
          "height": 0
        },
        "id": "1DswWW8FPGr_",
        "outputId": "d25006e1-f9a4-417e-c506-5a3bddb9af43"
      },
      "execution_count": 36,
      "outputs": [
        {
          "output_type": "display_data",
          "data": {
            "text/plain": [
              "<Figure size 432x432 with 1 Axes>"
            ],
            "image/png": "[encoded data removed]"
          },
          "metadata": {
            "needs_background": "light"
          }
        }
      ]
    },
    {
      "cell_type": "code",
      "source": [
        "# distribution histograms\n",
        "# Cost of Trip\n",
        "plt.figure(figsize=(6,6))\n",
        "#plt.hist(df['Payment_Mode'], bins=np.arange(3)-0.5, rwidth=.5)\n",
        "plt.hist(df['Cost of Trip'], bins=20)\n",
        "plt.ylabel(\"Number of Customers\")\n",
        "plt.xlabel(\" \")\n",
        "\n",
        "plt.show()"
      ],
      "metadata": {
        "colab": {
          "base_uri": "https://localhost:8080/",
          "height": 0
        },
        "id": "DMf8jaaMPLF2",
        "outputId": "53bf796c-797f-45fa-b540-7a67617564eb"
      },
      "execution_count": 37,
      "outputs": [
        {
          "output_type": "display_data",
          "data": {
            "text/plain": [
              "<Figure size 432x432 with 1 Axes>"
            ],
            "image/png": "[encoded data removed]"
          },
          "metadata": {
            "needs_background": "light"
          }
        }
      ]
    },
    {
      "cell_type": "code",
      "source": [
        "# distribution histograms\n",
        "# Net Margin %\n",
        "plt.figure(figsize=(6,6))\n",
        "#plt.hist(df['Payment_Mode'], bins=np.arange(3)-0.5, rwidth=.5)\n",
        "plt.hist(df['Net Margin %'], bins=20)\n",
        "plt.ylabel(\"Number of Customers\")\n",
        "plt.xlabel(\" \")\n",
        "\n",
        "plt.show()"
      ],
      "metadata": {
        "colab": {
          "base_uri": "https://localhost:8080/",
          "height": 0
        },
        "id": "Jj5nk9TBVUna",
        "outputId": "c4646ed4-7941-42e1-cb60-ef3836229236"
      },
      "execution_count": 38,
      "outputs": [
        {
          "output_type": "display_data",
          "data": {
            "text/plain": [
              "<Figure size 432x432 with 1 Axes>"
            ],
            "image/png": "[encoded data removed]"
          },
          "metadata": {
            "needs_background": "light"
          }
        }
      ]
    },
    {
      "cell_type": "code",
      "source": [
        "# distribution histograms\n",
        "# Age\n",
        "plt.figure(figsize=(6,6))\n",
        "#plt.hist(df['Payment_Mode'], bins=np.arange(3)-0.5, rwidth=.5)\n",
        "plt.hist(df_dedupe['Age'], bins=20)\n",
        "plt.ylabel(\"Number of Customers\")\n",
        "plt.xlabel(\" \")\n",
        "\n",
        "plt.show()"
      ],
      "metadata": {
        "colab": {
          "base_uri": "https://localhost:8080/",
          "height": 0
        },
        "id": "jAdZPG5kPUmv",
        "outputId": "299bb6f7-0c3f-413d-fe5d-0d095779b23c"
      },
      "execution_count": 39,
      "outputs": [
        {
          "output_type": "display_data",
          "data": {
            "text/plain": [
              "<Figure size 432x432 with 1 Axes>"
            ],
            "image/png": "[encoded data removed]"
          },
          "metadata": {
            "needs_background": "light"
          }
        }
      ]
    },
    {
      "cell_type": "code",
      "source": [
        "# distribution histograms\n",
        "# Income (USD/Month)\n",
        "plt.figure(figsize=(6,6))\n",
        "#plt.hist(df['Payment_Mode'], bins=np.arange(3)-0.5, rwidth=.5)\n",
        "plt.hist(df_dedupe['Income (USD/Month)'], bins=20)\n",
        "plt.ylabel(\"Number of Customers\")\n",
        "plt.xlabel(\" \")\n",
        "\n",
        "plt.show()"
      ],
      "metadata": {
        "colab": {
          "base_uri": "https://localhost:8080/",
          "height": 0
        },
        "id": "QRKJtmnKPYbD",
        "outputId": "268c83e7-0d8c-4806-e5c3-fbb781d60e53"
      },
      "execution_count": 40,
      "outputs": [
        {
          "output_type": "display_data",
          "data": {
            "text/plain": [
              "<Figure size 432x432 with 1 Axes>"
            ],
            "image/png": "[encoded data removed]"
          },
          "metadata": {
            "needs_background": "light"
          }
        }
      ]
    },
    {
      "cell_type": "markdown",
      "source": [
        "### 3.2 Correlation Analysis"
      ],
      "metadata": {
        "id": "Zc0SoE4V4thU"
      }
    },
    {
      "cell_type": "code",
      "source": [
        "# categorical\n",
        "from scipy.stats import chi2_contingency\n",
        "\n",
        "#pd.crosstab(df_dedupe.Gender, df_dedupe.Company, margins=True)\n",
        "c, p, dof, expected = chi2_contingency(pd.crosstab(df_dedupe.Gender, df_dedupe.Company, margins=True))\n",
        " \n",
        "print(\"p_value: \",round(p,3))"
      ],
      "metadata": {
        "colab": {
          "base_uri": "https://localhost:8080/"
        },
        "id": "kXBr0h6k41yg",
        "outputId": "0f220239-05c1-44b5-9f56-7bd2e763f30e"
      },
      "execution_count": 41,
      "outputs": [
        {
          "output_type": "stream",
          "name": "stdout",
          "text": [
            "p_value:  0.017\n"
          ]
        }
      ]
    },
    {
      "cell_type": "code",
      "source": [
        "c, p, dof, expected = chi2_contingency(pd.crosstab(df_dedupe.Gender, df_dedupe.City, margins=True))\n",
        " \n",
        "print(\"p_value: \",round(p,3))"
      ],
      "metadata": {
        "colab": {
          "base_uri": "https://localhost:8080/"
        },
        "id": "E20nri45iE4A",
        "outputId": "c7fc1014-08f9-449b-a343-0f2ac3219df5"
      },
      "execution_count": 42,
      "outputs": [
        {
          "output_type": "stream",
          "name": "stdout",
          "text": [
            "p_value:  0.0\n"
          ]
        }
      ]
    },
    {
      "cell_type": "code",
      "source": [
        "c, p, dof, expected = chi2_contingency(pd.crosstab(df_dedupe.Gender, df_dedupe.Payment_Mode, margins=True))\n",
        " \n",
        "print(\"p_value: \",round(p,3))"
      ],
      "metadata": {
        "colab": {
          "base_uri": "https://localhost:8080/"
        },
        "id": "RCgmvcNGiExk",
        "outputId": "64369c8c-837b-4056-89cb-a76a6a3ee6e9"
      },
      "execution_count": 43,
      "outputs": [
        {
          "output_type": "stream",
          "name": "stdout",
          "text": [
            "p_value:  0.133\n"
          ]
        }
      ]
    },
    {
      "cell_type": "code",
      "source": [
        "c, p, dof, expected = chi2_contingency(pd.crosstab(df_dedupe.Payment_Mode, df_dedupe.Company, margins=True))\n",
        " \n",
        "print(\"p_value: \",round(p,3))"
      ],
      "metadata": {
        "colab": {
          "base_uri": "https://localhost:8080/"
        },
        "id": "j6fiRCl3khFu",
        "outputId": "37a4314d-f674-4d47-db6b-987a27f9c125"
      },
      "execution_count": 44,
      "outputs": [
        {
          "output_type": "stream",
          "name": "stdout",
          "text": [
            "p_value:  0.468\n"
          ]
        }
      ]
    },
    {
      "cell_type": "code",
      "source": [
        "c, p, dof, expected = chi2_contingency(pd.crosstab(df_dedupe.Payment_Mode, df_dedupe.City, margins=True))\n",
        " \n",
        "print(\"p_value: \",round(p,3))"
      ],
      "metadata": {
        "colab": {
          "base_uri": "https://localhost:8080/"
        },
        "id": "3AAPXQFxmNLh",
        "outputId": "001b19d4-3b4b-4d6c-887f-c116f0a10ddc"
      },
      "execution_count": 45,
      "outputs": [
        {
          "output_type": "stream",
          "name": "stdout",
          "text": [
            "p_value:  0.955\n"
          ]
        }
      ]
    },
    {
      "cell_type": "code",
      "source": [
        "c, p, dof, expected = chi2_contingency(pd.crosstab(df_dedupe.Company, df_dedupe.City, margins=True))\n",
        " \n",
        "print(\"p_value: \",round(p,3))"
      ],
      "metadata": {
        "colab": {
          "base_uri": "https://localhost:8080/"
        },
        "id": "jYI6lDFomagI",
        "outputId": "1a38075c-4d64-416a-8c78-dc7ce5ab3708"
      },
      "execution_count": 46,
      "outputs": [
        {
          "output_type": "stream",
          "name": "stdout",
          "text": [
            "p_value:  0.0\n"
          ]
        }
      ]
    },
    {
      "cell_type": "code",
      "source": [
        "# numerical\n",
        "corr = df_dedupe[['KM Travelled', 'Price Charged', 'Cost of Trip', 'Net Margin %', 'Age', 'Income (USD/Month)']].corr()\n",
        "\n",
        "mask = np.zeros_like(corr)\n",
        "mask[np.triu_indices_from(mask)] = True\n",
        "\n",
        "plt.rcParams['font.size'] = 12\n",
        "plt.figure(figsize = (10,6))\n",
        "ax = sns.heatmap(corr, annot=True, fmt=\".2f\", linewidth=0.5, mask=mask, cmap='Blues', cbar=False)\n",
        "plt.title('Correlation', fontsize=20, x=0.5, y=1)\n",
        "plt.xticks(rotation=0)\n",
        "plt.show()"
      ],
      "metadata": {
        "colab": {
          "base_uri": "https://localhost:8080/",
          "height": 398
        },
        "id": "2Itv3IpLY4bs",
        "outputId": "8067284d-c9b1-4398-e4ba-1e82e21cad96"
      },
      "execution_count": 47,
      "outputs": [
        {
          "output_type": "display_data",
          "data": {
            "text/plain": [
              "<Figure size 720x432 with 1 Axes>"
            ],
            "image/png": "[encoded data removed]"
          },
          "metadata": {
            "needs_background": "light"
          }
        }
      ]
    },
    {
      "cell_type": "code",
      "source": [
        "# categorical vs. numerical\n",
        "#grp1 = df_dedupe.groupby(df_dedupe['Company'])[['Net Margin %', 'Age', 'Income (USD/Month)']].mean()\n",
        "#grp1.head()\n",
        "import scipy.stats as stats\n",
        " \n",
        "# stats f_oneway functions takes the groups as input and returns ANOVA F and p value\n",
        "fvalue, pvalue = stats.f_oneway(df_dedupe.query('Company==\"Pink Cab\"')['Net Margin %'],\n",
        "                                df_dedupe.query('Company==\"Yellow Cab\"')['Net Margin %'])\n",
        " \n",
        "print(\"p_value: \",round(pvalue,3))"
      ],
      "metadata": {
        "colab": {
          "base_uri": "https://localhost:8080/"
        },
        "id": "I3rjT-_qnWfS",
        "outputId": "480dc4c0-6cac-47e5-bf8c-5d5e310895b6"
      },
      "execution_count": 48,
      "outputs": [
        {
          "output_type": "stream",
          "name": "stdout",
          "text": [
            "p_value:  0.0\n"
          ]
        }
      ]
    },
    {
      "cell_type": "code",
      "source": [
        "fvalue, pvalue = stats.f_oneway(df_dedupe.query('Company==\"Pink Cab\"')['Age'],\n",
        "                                df_dedupe.query('Company==\"Yellow Cab\"')['Age'])\n",
        " \n",
        "print(\"p_value: \",round(pvalue,3))"
      ],
      "metadata": {
        "colab": {
          "base_uri": "https://localhost:8080/"
        },
        "id": "pKJCI6XZpxEY",
        "outputId": "a90b8816-ebdb-4092-c286-508b94f37e9b"
      },
      "execution_count": 49,
      "outputs": [
        {
          "output_type": "stream",
          "name": "stdout",
          "text": [
            "p_value:  0.758\n"
          ]
        }
      ]
    },
    {
      "cell_type": "code",
      "source": [
        "fvalue, pvalue = stats.f_oneway(df_dedupe.query('Company==\"Pink Cab\"')['Income (USD/Month)'],\n",
        "                                df_dedupe.query('Company==\"Yellow Cab\"')['Income (USD/Month)'])\n",
        " \n",
        "print(\"p_value: \",round(pvalue,3))"
      ],
      "metadata": {
        "colab": {
          "base_uri": "https://localhost:8080/"
        },
        "id": "xRHW04rmuKQS",
        "outputId": "e9205376-7b98-4dc5-c4fa-764b2c25f6ad"
      },
      "execution_count": 50,
      "outputs": [
        {
          "output_type": "stream",
          "name": "stdout",
          "text": [
            "p_value:  0.697\n"
          ]
        }
      ]
    },
    {
      "cell_type": "code",
      "source": [
        "fvalue, pvalue = stats.f_oneway(df_dedupe.query('Gender==\"Female\"')['Net Margin %'],\n",
        "                                df_dedupe.query('Gender==\"Male\"')['Net Margin %'])\n",
        " \n",
        "print(\"p_value: \",round(pvalue,3))"
      ],
      "metadata": {
        "colab": {
          "base_uri": "https://localhost:8080/"
        },
        "id": "4NZ_WY67uUgK",
        "outputId": "2fa5dcc8-9d9b-47ac-ac36-4db7e1897360"
      },
      "execution_count": 51,
      "outputs": [
        {
          "output_type": "stream",
          "name": "stdout",
          "text": [
            "p_value:  0.599\n"
          ]
        }
      ]
    },
    {
      "cell_type": "code",
      "source": [
        "fvalue, pvalue = stats.f_oneway(df_dedupe.query('Gender==\"Female\"')['Age'],\n",
        "                                df_dedupe.query('Gender==\"Male\"')['Age'])\n",
        " \n",
        "print(\"p_value: \",round(pvalue,3))"
      ],
      "metadata": {
        "colab": {
          "base_uri": "https://localhost:8080/"
        },
        "id": "aWKKnpDyufwd",
        "outputId": "d38f171e-7239-4ef6-9468-596b2ff82552"
      },
      "execution_count": 52,
      "outputs": [
        {
          "output_type": "stream",
          "name": "stdout",
          "text": [
            "p_value:  0.28\n"
          ]
        }
      ]
    },
    {
      "cell_type": "code",
      "source": [
        "fvalue, pvalue = stats.f_oneway(df_dedupe.query('Gender==\"Female\"')['Income (USD/Month)'],\n",
        "                                df_dedupe.query('Gender==\"Male\"')['Income (USD/Month)'])\n",
        " \n",
        "print(\"p_value: \",round(pvalue,3))"
      ],
      "metadata": {
        "colab": {
          "base_uri": "https://localhost:8080/"
        },
        "id": "ZcP6I1nGuflZ",
        "outputId": "0a4c36f4-3a2d-4d15-dd9b-5d0686796ecb"
      },
      "execution_count": 53,
      "outputs": [
        {
          "output_type": "stream",
          "name": "stdout",
          "text": [
            "p_value:  0.297\n"
          ]
        }
      ]
    },
    {
      "cell_type": "code",
      "source": [
        "fvalue, pvalue = stats.f_oneway(df_dedupe.query('Payment_Mode==\"Card\"')['Net Margin %'],\n",
        "                                df_dedupe.query('Payment_Mode==\"Cash\"')['Net Margin %'])\n",
        " \n",
        "print(\"p_value: \",round(pvalue,3))"
      ],
      "metadata": {
        "colab": {
          "base_uri": "https://localhost:8080/"
        },
        "id": "O1u9MZ80u-xZ",
        "outputId": "7a959a10-ca3a-43e8-a6e6-34c1bcd15000"
      },
      "execution_count": 54,
      "outputs": [
        {
          "output_type": "stream",
          "name": "stdout",
          "text": [
            "p_value:  0.906\n"
          ]
        }
      ]
    },
    {
      "cell_type": "code",
      "source": [
        "fvalue, pvalue = stats.f_oneway(df_dedupe.query('Payment_Mode==\"Card\"')['Age'],\n",
        "                                df_dedupe.query('Payment_Mode==\"Cash\"')['Age'])\n",
        " \n",
        "print(\"p_value: \",round(pvalue,3))"
      ],
      "metadata": {
        "colab": {
          "base_uri": "https://localhost:8080/"
        },
        "id": "83jYwWKOu-qI",
        "outputId": "a488e26a-ac8c-4428-d286-7568791fc746"
      },
      "execution_count": 55,
      "outputs": [
        {
          "output_type": "stream",
          "name": "stdout",
          "text": [
            "p_value:  0.609\n"
          ]
        }
      ]
    },
    {
      "cell_type": "code",
      "source": [
        "fvalue, pvalue = stats.f_oneway(df_dedupe.query('Payment_Mode==\"Card\"')['Income (USD/Month)'],\n",
        "                                df_dedupe.query('Payment_Mode==\"Cash\"')['Income (USD/Month)'])\n",
        " \n",
        "print(\"p_value: \",round(pvalue,3))"
      ],
      "metadata": {
        "colab": {
          "base_uri": "https://localhost:8080/"
        },
        "id": "gtKNR4-JuoUu",
        "outputId": "ff2e88c9-512b-47ed-a652-1146e0a94c4b"
      },
      "execution_count": 56,
      "outputs": [
        {
          "output_type": "stream",
          "name": "stdout",
          "text": [
            "p_value:  0.672\n"
          ]
        }
      ]
    },
    {
      "cell_type": "code",
      "source": [
        "fvalue, pvalue = stats.f_oneway(df_dedupe.query('City==\"NEW YORK NY\"')['Net Margin %'],\n",
        "                                df_dedupe.query('City==\"CHICAGO IL\"')['Net Margin %'],\n",
        "                                df_dedupe.query('City==\"LOS ANGELES CA\"')['Net Margin %'],\n",
        "                                df_dedupe.query('City==\"MIAMI FL\"')['Net Margin %'],\n",
        "                                df_dedupe.query('City==\"SILICON VALLEY\"')['Net Margin %'],\n",
        "                                df_dedupe.query('City==\"ORANGE COUNTY\"')['Net Margin %'],\n",
        "                                df_dedupe.query('City==\"SAN DIEGO CA\"')['Net Margin %'],\n",
        "                                df_dedupe.query('City==\"PHOENIX AZ\"')['Net Margin %'],\n",
        "                                df_dedupe.query('City==\"DALLAS TX\"')['Net Margin %'],\n",
        "                                df_dedupe.query('City==\"ATLANTA GA\"')['Net Margin %'],\n",
        "                                df_dedupe.query('City==\"DENVER CO\"')['Net Margin %'],\n",
        "                                df_dedupe.query('City==\"AUSTIN TX\"')['Net Margin %'],\n",
        "                                df_dedupe.query('City==\"SEATTLE WA\"')['Net Margin %'],\n",
        "                                df_dedupe.query('City==\"TUCSON AZ\"')['Net Margin %'],\n",
        "#                                df_dedupe.query('City==\"SAN FRANCISCO CA\"')['Net Margin %'],\n",
        "                                df_dedupe.query('City==\"SACRAMENTO CA\"')['Net Margin %'],\n",
        "                                df_dedupe.query('City==\"PITTSBURGH PA\"')['Net Margin %'],\n",
        "                                df_dedupe.query('City==\"WASHINGTON DC\"')['Net Margin %'],\n",
        "                                df_dedupe.query('City==\"NASHVILLE TN\"')['Net Margin %'],\n",
        "                                df_dedupe.query('City==\"BOSTON MA\"')['Net Margin %'])\n",
        " \n",
        "print(\"p_value: \",round(pvalue,3))"
      ],
      "metadata": {
        "colab": {
          "base_uri": "https://localhost:8080/"
        },
        "id": "yQ4w4-2HvHgH",
        "outputId": "bc718ddd-300a-4b3f-e216-160c75d839a8"
      },
      "execution_count": 57,
      "outputs": [
        {
          "output_type": "stream",
          "name": "stdout",
          "text": [
            "p_value:  0.0\n"
          ]
        }
      ]
    },
    {
      "cell_type": "code",
      "source": [
        "fvalue, pvalue = stats.f_oneway(df_dedupe.query('City==\"NEW YORK NY\"')['Age'],\n",
        "                                df_dedupe.query('City==\"CHICAGO IL\"')['Age'],\n",
        "                                df_dedupe.query('City==\"LOS ANGELES CA\"')['Age'],\n",
        "                                df_dedupe.query('City==\"MIAMI FL\"')['Age'],\n",
        "                                df_dedupe.query('City==\"SILICON VALLEY\"')['Age'],\n",
        "                                df_dedupe.query('City==\"ORANGE COUNTY\"')['Age'],\n",
        "                                df_dedupe.query('City==\"SAN DIEGO CA\"')['Age'],\n",
        "                                df_dedupe.query('City==\"PHOENIX AZ\"')['Age'],\n",
        "                                df_dedupe.query('City==\"DALLAS TX\"')['Age'],\n",
        "                                df_dedupe.query('City==\"ATLANTA GA\"')['Age'],\n",
        "                                df_dedupe.query('City==\"DENVER CO\"')['Age'],\n",
        "                                df_dedupe.query('City==\"AUSTIN TX\"')['Age'],\n",
        "                                df_dedupe.query('City==\"SEATTLE WA\"')['Age'],\n",
        "                                df_dedupe.query('City==\"TUCSON AZ\"')['Age'],\n",
        "#                                df_dedupe.query('City==\"SAN FRANCISCO CA\"')['Age'],\n",
        "                                df_dedupe.query('City==\"SACRAMENTO CA\"')['Age'],\n",
        "                                df_dedupe.query('City==\"PITTSBURGH PA\"')['Age'],\n",
        "                                df_dedupe.query('City==\"WASHINGTON DC\"')['Age'],\n",
        "                                df_dedupe.query('City==\"NASHVILLE TN\"')['Age'],\n",
        "                                df_dedupe.query('City==\"BOSTON MA\"')['Age'])\n",
        " \n",
        "print(\"p_value: \",round(pvalue,3))"
      ],
      "metadata": {
        "colab": {
          "base_uri": "https://localhost:8080/"
        },
        "id": "kF4EjB-EvIJk",
        "outputId": "422464a9-ffd0-44f4-fe89-8eacd9c181fe"
      },
      "execution_count": 58,
      "outputs": [
        {
          "output_type": "stream",
          "name": "stdout",
          "text": [
            "p_value:  0.136\n"
          ]
        }
      ]
    },
    {
      "cell_type": "code",
      "source": [
        "fvalue, pvalue = stats.f_oneway(df_dedupe.query('City==\"NEW YORK NY\"')['Income (USD/Month)'],\n",
        "                                df_dedupe.query('City==\"CHICAGO IL\"')['Income (USD/Month)'],\n",
        "                                df_dedupe.query('City==\"LOS ANGELES CA\"')['Income (USD/Month)'],\n",
        "                                df_dedupe.query('City==\"MIAMI FL\"')['Income (USD/Month)'],\n",
        "                                df_dedupe.query('City==\"SILICON VALLEY\"')['Income (USD/Month)'],\n",
        "                                df_dedupe.query('City==\"ORANGE COUNTY\"')['Income (USD/Month)'],\n",
        "                                df_dedupe.query('City==\"SAN DIEGO CA\"')['Income (USD/Month)'],\n",
        "                                df_dedupe.query('City==\"PHOENIX AZ\"')['Income (USD/Month)'],\n",
        "                                df_dedupe.query('City==\"DALLAS TX\"')['Income (USD/Month)'],\n",
        "                                df_dedupe.query('City==\"ATLANTA GA\"')['Income (USD/Month)'],\n",
        "                                df_dedupe.query('City==\"DENVER CO\"')['Income (USD/Month)'],\n",
        "                                df_dedupe.query('City==\"AUSTIN TX\"')['Income (USD/Month)'],\n",
        "                                df_dedupe.query('City==\"SEATTLE WA\"')['Income (USD/Month)'],\n",
        "                                df_dedupe.query('City==\"TUCSON AZ\"')['Income (USD/Month)'],\n",
        "#                                df_dedupe.query('City==\"SAN FRANCISCO CA\"')['Income (USD/Month)'],\n",
        "                                df_dedupe.query('City==\"SACRAMENTO CA\"')['Income (USD/Month)'],\n",
        "                                df_dedupe.query('City==\"PITTSBURGH PA\"')['Income (USD/Month)'],\n",
        "                                df_dedupe.query('City==\"WASHINGTON DC\"')['Income (USD/Month)'],\n",
        "                                df_dedupe.query('City==\"NASHVILLE TN\"')['Income (USD/Month)'],\n",
        "                                df_dedupe.query('City==\"BOSTON MA\"')['Income (USD/Month)'])\n",
        " \n",
        "print(\"p_value: \",round(pvalue,3))"
      ],
      "metadata": {
        "colab": {
          "base_uri": "https://localhost:8080/"
        },
        "id": "GPXq57navIG7",
        "outputId": "140d6c2a-a7f0-41ee-c308-4b3f792c9f08"
      },
      "execution_count": 59,
      "outputs": [
        {
          "output_type": "stream",
          "name": "stdout",
          "text": [
            "p_value:  0.545\n"
          ]
        }
      ]
    },
    {
      "cell_type": "markdown",
      "source": [
        "### 3.3 Contextual Analysis"
      ],
      "metadata": {
        "id": "vbPFSuVi42aB"
      }
    },
    {
      "cell_type": "markdown",
      "source": [
        "#### 3.3.1 Seasonality"
      ],
      "metadata": {
        "id": "cJ_5RvCwEAGF"
      }
    },
    {
      "cell_type": "code",
      "source": [
        "time_grp1 = df.groupby(df['Date of Travel'].dt.year)['Net Margin %'].mean()\n",
        "time_grp1"
      ],
      "metadata": {
        "colab": {
          "base_uri": "https://localhost:8080/"
        },
        "id": "BQeL4Cla46_h",
        "outputId": "88a3728a-df4d-4a7f-a6ac-66ac5303a375"
      },
      "execution_count": 62,
      "outputs": [
        {
          "output_type": "execute_result",
          "data": {
            "text/plain": [
              "Date of Travel\n",
              "2016    28.252887\n",
              "2017    28.137357\n",
              "2018    25.102427\n",
              "Name: Net Margin %, dtype: float64"
            ]
          },
          "metadata": {},
          "execution_count": 62
        }
      ]
    },
    {
      "cell_type": "code",
      "source": [
        "time_grp2 = df[df[\"Date of Travel\"].dt.year==2018].groupby(df['Date of Travel'].dt.month)['Net Margin %'].mean()\n",
        "time_grp2"
      ],
      "metadata": {
        "colab": {
          "base_uri": "https://localhost:8080/"
        },
        "id": "AGyma9qWAjCA",
        "outputId": "42217f7b-cd5c-4946-9b44-b1e126443510"
      },
      "execution_count": 63,
      "outputs": [
        {
          "output_type": "execute_result",
          "data": {
            "text/plain": [
              "Date of Travel\n",
              "1     28.079773\n",
              "2     29.979133\n",
              "3     28.977860\n",
              "4     27.636315\n",
              "5     29.024080\n",
              "6     26.550249\n",
              "7     19.899711\n",
              "8     19.856273\n",
              "9     23.622064\n",
              "10    24.118284\n",
              "11    23.788597\n",
              "12    25.386868\n",
              "Name: Net Margin %, dtype: float64"
            ]
          },
          "metadata": {},
          "execution_count": 63
        }
      ]
    },
    {
      "cell_type": "code",
      "source": [
        "time_grp3 = df[df[\"Date of Travel\"].dt.year==2017].groupby(df['Date of Travel'].dt.month)['Net Margin %'].mean()\n",
        "time_grp4 = df[df[\"Date of Travel\"].dt.year==2016].groupby(df['Date of Travel'].dt.month)['Net Margin %'].mean()"
      ],
      "metadata": {
        "id": "NNiktondCIi-"
      },
      "execution_count": 73,
      "outputs": []
    },
    {
      "cell_type": "code",
      "source": [
        "plt.figure(figsize=(10,6))\n",
        "plt.plot(time_grp2, marker = 'o', color = 'steelblue');\n",
        "plt.plot(time_grp3, marker = 'o', color = 'green');\n",
        "plt.plot(time_grp4, marker = 'o', color = 'orange');\n",
        "plt.xticks(np.arange(1, 13, 1.0));\n",
        "plt.legend(['2018', '2017', '2016']);"
      ],
      "metadata": {
        "colab": {
          "base_uri": "https://localhost:8080/",
          "height": 377
        },
        "id": "MK0KIJnkC7qy",
        "outputId": "4d60801d-6153-4770-9074-c342e2fc6b85"
      },
      "execution_count": 76,
      "outputs": [
        {
          "output_type": "display_data",
          "data": {
            "text/plain": [
              "<Figure size 720x432 with 1 Axes>"
            ],
            "image/png": "[encoded data removed]"
          },
          "metadata": {
            "needs_background": "light"
          }
        }
      ]
    },
    {
      "cell_type": "markdown",
      "source": [
        "#### 3.3.2 Agent-based"
      ],
      "metadata": {
        "id": "eGQVoeM6EEMS"
      }
    },
    {
      "cell_type": "code",
      "source": [
        "trans_grp1 = df[(df[\"Date of Travel\"].dt.year==2018) & (df['Company']=='Pink Cab')].groupby(df['Date of Travel'].dt.month)['Transaction ID'].count()\n",
        "trans_grp2 = df[(df[\"Date of Travel\"].dt.year==2018) & (df['Company']=='Yellow Cab')].groupby(df['Date of Travel'].dt.month)['Transaction ID'].count()"
      ],
      "metadata": {
        "id": "C4VWBKwOI5bp"
      },
      "execution_count": 93,
      "outputs": []
    },
    {
      "cell_type": "code",
      "source": [
        "trans_grp3 = df[(df[\"Date of Travel\"].dt.year==2017) & (df['Company']=='Pink Cab')].groupby(df['Date of Travel'].dt.month)['Transaction ID'].count()\n",
        "trans_grp4 = df[(df[\"Date of Travel\"].dt.year==2017) & (df['Company']=='Yellow Cab')].groupby(df['Date of Travel'].dt.month)['Transaction ID'].count()"
      ],
      "metadata": {
        "id": "-R-u35NQJLHI"
      },
      "execution_count": 94,
      "outputs": []
    },
    {
      "cell_type": "code",
      "source": [
        "trans_grp5 = df[(df[\"Date of Travel\"].dt.year==2016) & (df['Company']=='Pink Cab')].groupby(df['Date of Travel'].dt.month)['Transaction ID'].count()\n",
        "trans_grp6 = df[(df[\"Date of Travel\"].dt.year==2016) & (df['Company']=='Yellow Cab')].groupby(df['Date of Travel'].dt.month)['Transaction ID'].count()"
      ],
      "metadata": {
        "id": "gaun6BxCJK_C"
      },
      "execution_count": 95,
      "outputs": []
    },
    {
      "cell_type": "code",
      "source": [
        "plt.figure(figsize=(10,6))\n",
        "plt.plot(trans_grp1, marker = 'o', color = 'pink');\n",
        "plt.plot(trans_grp2, marker = 'o', color = 'gold');\n",
        "plt.plot(trans_grp3, marker = 'o', color = 'pink');\n",
        "plt.plot(trans_grp4, marker = 'o', color = 'gold');\n",
        "plt.plot(trans_grp5, marker = 'o', color = 'pink');\n",
        "plt.plot(trans_grp6, marker = 'o', color = 'gold');\n",
        "plt.xticks(np.arange(1, 13, 1.0));\n",
        "plt.legend(['Pink Cab', 'Yellow Cab']);"
      ],
      "metadata": {
        "colab": {
          "base_uri": "https://localhost:8080/",
          "height": 377
        },
        "id": "2pIyHb-aJNQg",
        "outputId": "16b0de71-0e8d-482c-faf9-7a127d2f0cec"
      },
      "execution_count": 96,
      "outputs": [
        {
          "output_type": "display_data",
          "data": {
            "text/plain": [
              "<Figure size 720x432 with 1 Axes>"
            ],
            "image/png": "[encoded data removed]"
          },
          "metadata": {
            "needs_background": "light"
          }
        }
      ]
    },
    {
      "cell_type": "code",
      "source": [
        ""
      ],
      "metadata": {
        "id": "xUZQQzWvJNGB"
      },
      "execution_count": null,
      "outputs": []
    },
    {
      "cell_type": "code",
      "source": [
        "agent_grp1 = df[(df[\"Date of Travel\"].dt.year==2018) & (df['Company']=='Pink Cab')].groupby(df['Date of Travel'].dt.month)['Net Margin %'].mean()\n",
        "agent_grp2 = df[(df[\"Date of Travel\"].dt.year==2018) & (df['Company']=='Yellow Cab')].groupby(df['Date of Travel'].dt.month)['Net Margin %'].mean()"
      ],
      "metadata": {
        "id": "O0bJFlInEOxc"
      },
      "execution_count": 83,
      "outputs": []
    },
    {
      "cell_type": "code",
      "source": [
        "agent_grp3 = df[(df[\"Date of Travel\"].dt.year==2017) & (df['Company']=='Pink Cab')].groupby(df['Date of Travel'].dt.month)['Net Margin %'].mean()\n",
        "agent_grp4 = df[(df[\"Date of Travel\"].dt.year==2017) & (df['Company']=='Yellow Cab')].groupby(df['Date of Travel'].dt.month)['Net Margin %'].mean()"
      ],
      "metadata": {
        "id": "tVyk1RDpGaJx"
      },
      "execution_count": 88,
      "outputs": []
    },
    {
      "cell_type": "code",
      "source": [
        "agent_grp5 = df[(df[\"Date of Travel\"].dt.year==2016) & (df['Company']=='Pink Cab')].groupby(df['Date of Travel'].dt.month)['Net Margin %'].mean()\n",
        "agent_grp6 = df[(df[\"Date of Travel\"].dt.year==2016) & (df['Company']=='Yellow Cab')].groupby(df['Date of Travel'].dt.month)['Net Margin %'].mean()"
      ],
      "metadata": {
        "id": "L1WYfDCnGhVp"
      },
      "execution_count": 90,
      "outputs": []
    },
    {
      "cell_type": "code",
      "source": [
        "plt.figure(figsize=(10,6))\n",
        "plt.plot(agent_grp1, marker = 'o', color = 'pink');\n",
        "plt.plot(agent_grp2, marker = 'o', color = 'gold');\n",
        "plt.plot(agent_grp3, marker = 'o', color = 'pink');\n",
        "plt.plot(agent_grp4, marker = 'o', color = 'gold');\n",
        "plt.plot(agent_grp5, marker = 'o', color = 'pink');\n",
        "plt.plot(agent_grp6, marker = 'o', color = 'gold');\n",
        "plt.xticks(np.arange(1, 13, 1.0));\n",
        "plt.legend(['Pink Cab', 'Yellow Cab']);"
      ],
      "metadata": {
        "colab": {
          "base_uri": "https://localhost:8080/",
          "height": 378
        },
        "id": "Tiow8tUVGvYB",
        "outputId": "811c70e8-6a91-4381-baa2-77f2a21338f4"
      },
      "execution_count": 92,
      "outputs": [
        {
          "output_type": "display_data",
          "data": {
            "text/plain": [
              "<Figure size 720x432 with 1 Axes>"
            ],
            "image/png": "[encoded data removed]"
          },
          "metadata": {
            "needs_background": "light"
          }
        }
      ]
    },
    {
      "cell_type": "markdown",
      "source": [
        "## 4. Recommendations & Hypothesis"
      ],
      "metadata": {
        "id": "HpAs7EqX5o8_"
      }
    },
    {
      "cell_type": "markdown",
      "source": [
        "From the contextual analysis, we can see that there is an obvious seasonality in number of customers using the cab service across years from 2016 to 2018, which decreases from the beginnings of years till Marchs or Aprils, increases in Mays, drops dramatically from Junes, reaches the lowest in Julys and Augusts, and finally increases gradually to the ends of the years.\n",
        "Also, the company 'Yellow Cab' has higher transactions during the whole year across years from 2016 to 2018 rather than the company 'Pink Cab', especially the latter parts of years; the company 'Yellow Cab' has higher net margin percentage during the whole year across years from 2016 to 2018 rather than the company 'Pink Cab' obviously.\n",
        "\n",
        "Therefore, it is evident that there is a seasonality for cab market during every year. I recommend XYZ firm further investigate the more detailed reasons for seasonality and decide marketing strategies accordingly."
      ],
      "metadata": {
        "id": "E2mwh_QoHxX5"
      }
    },
    {
      "cell_type": "code",
      "source": [
        ""
      ],
      "metadata": {
        "id": "5giH98DIKLj6"
      },
      "execution_count": null,
      "outputs": []
    }
  ]
}