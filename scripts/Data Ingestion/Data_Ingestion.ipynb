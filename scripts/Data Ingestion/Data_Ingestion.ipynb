{
  "cells": [
    {
      "attachments": {},
      "cell_type": "markdown",
      "metadata": {
        "id": "lqG4m21pUSUG"
      },
      "source": [
        "Data Ingestion"
      ]
    },
    {
      "cell_type": "code",
      "execution_count": null,
      "metadata": {
        "colab": {
          "base_uri": "https://localhost:8080/"
        },
        "id": "CI1Cx-mpUhI5",
        "outputId": "df6cd1fa-f907-4ee9-a6a6-285f51421cbf"
      },
      "outputs": [],
      "source": [
        "%%writefile testutility.py\n",
        "import logging\n",
        "import os\n",
        "import subprocess\n",
        "import yaml\n",
        "import pandas as pd\n",
        "import dask.dataframe as dd\n",
        "import datetime\n",
        "import gc\n",
        "import re\n",
        "\n",
        "\n",
        "################\n",
        "# File Reading #\n",
        "################\n",
        "\n",
        "def read_config_file(filepath):\n",
        "    with open(filepath, 'r') as stream:\n",
        "        try:\n",
        "            return yaml.safe_load(stream)\n",
        "        except yaml.YAMLError as exc:\n",
        "            logging.error(exc)\n",
        "\n",
        "\n",
        "def replacer(string, char):\n",
        "    pattern = char + '{2,}'\n",
        "    string = re.sub(pattern, char, string)\n",
        "    return string\n",
        "\n",
        "\n",
        "def col_header_val(df, table_config):\n",
        "    '''\n",
        "    Replace whitespaces in the column\n",
        "    and standardize column names\n",
        "    '''\n",
        "    df.columns = df.columns.str.lower()\n",
        "    df.columns = df.columns.str.replace('[^\\w]', '_', regex=True)\n",
        "    df.columns = list(map(lambda x: x.strip('_'), list(df.columns)))\n",
        "    df.columns = list(map(lambda x: replacer(x, '_'), list(df.columns)))\n",
        "    expected_col = list(map(lambda x: x.lower(), table_config['columns']))\n",
        "    expected_col.sort()\n",
        "    df.columns = list(map(lambda x: x.lower(), list(df.columns)))\n",
        "    if len(df.columns) == len(expected_col) and list(expected_col) == list(df.columns):\n",
        "        print(\"Column name and column length validation passed\")\n",
        "        return 1\n",
        "    else:\n",
        "        print(\"Column name and column length validation failed\")\n",
        "        mismatched_columns_file = list(set(df.columns).difference(expected_col))\n",
        "        print(\"Following File columns are not in the YAML file\", mismatched_columns_file)\n",
        "        missing_YAML_file = list(set(expected_col).difference(df.columns))\n",
        "        print(\"Following YAML columns are not in the file uploaded\", missing_YAML_file)\n",
        "        logging.info(f'df columns: {df.columns}')\n",
        "        logging.info(f'expected columns: {expected_col}')\n",
        "        return 0\n",
        "\n",
        "def details_of_file(df):\n",
        "   num_col = df.shape[1]\n",
        "   print(\"Total number of columns:\", num_col)\n",
        "   num_records = df.shape[0].compute()\n",
        "   print(\"Total number of rows:\", num_records)"
      ]
    },
    {
      "cell_type": "code",
      "execution_count": null,
      "metadata": {
        "colab": {
          "base_uri": "https://localhost:8080/"
        },
        "id": "L3r_lkFLUp8r",
        "outputId": "05fd34a7-3f31-457d-95c5-bd35ca1bf435"
      },
      "outputs": [],
      "source": [
        "%%writefile file.yaml\n",
        "file_type : csv\n",
        "dataset_name: MyDrive\n",
        "file_name: dataset\n",
        "inbound_delimiter : \",\"\n",
        "outbound_delimiter : \"|\"\n",
        "skip_leading_rows : 1\n",
        "gz_file : 'data.csv.gz'\n",
        "gz_delimiter : '|'\n",
        "columns :\n",
        "    - en\n",
        "    - fr\n",
        "batch_size : 4000000"
      ]
    },
    {
      "cell_type": "code",
      "execution_count": null,
      "metadata": {
        "colab": {
          "base_uri": "https://localhost:8080/"
        },
        "id": "JRjFrsIebEl8",
        "outputId": "a0c8bb23-f15a-4ec3-f2ae-d10aad91a42f"
      },
      "outputs": [],
      "source": [
        "from google.colab import drive\n",
        "drive.mount('/content/drive')"
      ]
    },
    {
      "cell_type": "code",
      "execution_count": 4,
      "metadata": {
        "id": "Q-ECxsCGXrEy"
      },
      "outputs": [],
      "source": [
        "import pandas as pd\n",
        "import testutility as util\n",
        "import dask.dataframe as dd\n",
        "import modin.pandas as mpd\n",
        "import time\n",
        "import ray\n",
        "import warnings\n",
        "warnings.filterwarnings(\"ignore\")"
      ]
    },
    {
      "cell_type": "code",
      "execution_count": 5,
      "metadata": {
        "id": "smcTQyyfVxO6"
      },
      "outputs": [],
      "source": [
        "# Read config file\n",
        "\n",
        "config_data = util.read_config_file(\"file.yaml\")"
      ]
    },
    {
      "cell_type": "code",
      "execution_count": null,
      "metadata": {
        "colab": {
          "base_uri": "https://localhost:8080/",
          "height": 35
        },
        "id": "BkFuc2oIWyoQ",
        "outputId": "45a91c74-9392-4bf4-8df1-8fe2823e36f4"
      },
      "outputs": [],
      "source": [
        "config_data['inbound_delimiter']"
      ]
    },
    {
      "cell_type": "code",
      "execution_count": null,
      "metadata": {
        "colab": {
          "base_uri": "https://localhost:8080/"
        },
        "id": "4foafugjZIdo",
        "outputId": "71949976-16df-4039-8788-5f27db5060ba"
      },
      "outputs": [],
      "source": [
        "#inspecting data of config file\n",
        "config_data"
      ]
    },
    {
      "cell_type": "code",
      "execution_count": 8,
      "metadata": {
        "id": "mEwfYNxQkg4-"
      },
      "outputs": [],
      "source": [
        "ft = config_data['file_type']\n",
        "source_file = \"/content/drive/MyDrive/\" + config_data['file_name'] + f'.{ft}'"
      ]
    },
    {
      "cell_type": "code",
      "execution_count": 9,
      "metadata": {
        "id": "umvOAENU-2H4"
      },
      "outputs": [],
      "source": [
        "\n",
        "df = dd.read_csv(source_file, blocksize='100MB')"
      ]
    },
    {
      "cell_type": "code",
      "execution_count": null,
      "metadata": {
        "colab": {
          "base_uri": "https://localhost:8080/"
        },
        "id": "hYjO8tuexvFh",
        "outputId": "0e91f758-04d4-4a1f-b83f-f1b8a0a50c78"
      },
      "outputs": [],
      "source": [
        "validation_passed = True\n",
        "if util.col_header_val(df, config_data) == 0:\n",
        "    print(\"Column validation failed for a chunk. File rejected.\")\n",
        "    validation_passed = False\n",
        "if validation_passed:\n",
        "    print(\"Column validation passed for all chunks.\")"
      ]
    },
    {
      "attachments": {},
      "cell_type": "markdown",
      "metadata": {
        "id": "fHb1iAYXXhzj"
      },
      "source": [
        "Details of Data"
      ]
    },
    {
      "cell_type": "code",
      "execution_count": 11,
      "metadata": {
        "colab": {
          "base_uri": "https://localhost:8080/"
        },
        "id": "JNPaPs9kXgzW",
        "outputId": "228227f7-1cba-4759-81e9-4ab35b2af1c5"
      },
      "outputs": [
        {
          "name": "stdout",
          "output_type": "stream",
          "text": [
            "Total number of columns: 2\n",
            "Total number of rows: 22520376\n"
          ]
        }
      ],
      "source": [
        "util.details_of_file(df)"
      ]
    },
    {
      "attachments": {},
      "cell_type": "markdown",
      "metadata": {
        "id": "C6xN-TOrlYzo"
      },
      "source": [
        "Read File"
      ]
    },
    {
      "attachments": {},
      "cell_type": "markdown",
      "metadata": {
        "id": "bbYNRPhBlb99"
      },
      "source": [
        "1.  Pandas"
      ]
    },
    {
      "cell_type": "code",
      "execution_count": null,
      "metadata": {
        "colab": {
          "base_uri": "https://localhost:8080/"
        },
        "id": "kb1RRrJO3Tro",
        "outputId": "f44e99a9-b85f-42ab-ac57-c3b702a0d01d"
      },
      "outputs": [],
      "source": [
        "start = time.time()\n",
        "pandas_df = pd.read_csv(source_file, sep=config_data['inbound_delimiter'], chunksize=config_data['batch_size'])\n",
        "for chunk in pandas_df:\n",
        "    pass\n",
        "print(\"Time to read with pandas: {} seconds\".format(round(time.time() - start, 3)))"
      ]
    },
    {
      "cell_type": "code",
      "execution_count": 13,
      "metadata": {
        "id": "Qx490EIGEAuq"
      },
      "outputs": [],
      "source": [
        "c = 1\n",
        "for chunk in pandas_df:\n",
        "    print('Batch',c)\n",
        "    print(chunk.shape)\n",
        "    c+=1"
      ]
    },
    {
      "attachments": {},
      "cell_type": "markdown",
      "metadata": {
        "id": "WY9GSGrhoAk0"
      },
      "source": [
        "Dask"
      ]
    },
    {
      "cell_type": "code",
      "execution_count": null,
      "metadata": {
        "colab": {
          "base_uri": "https://localhost:8080/"
        },
        "id": "-nrVkpJFFMdM",
        "outputId": "d9c47468-7f73-44c8-814b-879b8d95bf7c"
      },
      "outputs": [],
      "source": [
        "start = time.time()\n",
        "dask_df = dd.read_csv(source_file, sep=config_data['inbound_delimiter'])\n",
        "print(\"Time to read with pandas: {} seconds\".format(round(time.time() - start, 3)))"
      ]
    },
    {
      "cell_type": "code",
      "execution_count": null,
      "metadata": {
        "colab": {
          "base_uri": "https://localhost:8080/"
        },
        "id": "8SbGMJCwEMTc",
        "outputId": "ed68365a-a89e-4e1e-dcf3-a872bc6390e5"
      },
      "outputs": [],
      "source": [
        "dask_df.shape"
      ]
    },
    {
      "attachments": {},
      "cell_type": "markdown",
      "metadata": {
        "id": "LpLcHcrIoO5g"
      },
      "source": [
        "Modin Ray"
      ]
    },
    {
      "cell_type": "code",
      "execution_count": null,
      "metadata": {
        "colab": {
          "base_uri": "https://localhost:8080/"
        },
        "id": "SqbOjmutjgii",
        "outputId": "cb3e60cb-1494-4f54-a52b-6322c488b8d4"
      },
      "outputs": [],
      "source": [
        "ray.init()\n",
        "start = time.time()\n",
        "modin_df = mpd.read_csv(source_file, sep=config_data['inbound_delimiter'], chunksize=config_data['batch_size'])\n",
        "for c in modin_df:\n",
        "  pass\n",
        "print(\"Time to read with Modin: {} seconds\".format(round(time.time() - start, 3)))"
      ]
    },
    {
      "attachments": {},
      "cell_type": "markdown",
      "metadata": {
        "id": "brbz2TxbgTzu"
      },
      "source": [
        "As a result, Dask outperforms Modin, Ray, and Pandas by reading 2 GB+ data in seconds without the need for batch processing."
      ]
    }
  ],
  "metadata": {
    "accelerator": "GPU",
    "colab": {
      "gpuType": "T4",
      "provenance": []
    },
    "kernelspec": {
      "display_name": "Python 3",
      "name": "python3"
    },
    "language_info": {
      "name": "python"
    }
  },
  "nbformat": 4,
  "nbformat_minor": 0
}
