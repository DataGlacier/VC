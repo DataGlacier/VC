{
 "cells": [
  {
   "cell_type": "markdown",
   "id": "427309b6-5c1f-4f10-af90-9a429519ec9f",
   "metadata": {},
   "source": [
    "# EDA for Cab Investment Firm"
   ]
  },
  {
   "cell_type": "markdown",
   "id": "7dc25af6-c4bc-4b0c-a9f2-58e42ab089e6",
   "metadata": {},
   "source": [
    "## by Connor Bryson\n",
    "## 9/11/2023"
   ]
  },
  {
   "cell_type": "code",
   "execution_count": 2,
   "id": "a500e939-d391-44c6-aa73-ee0bf5ac66c2",
   "metadata": {
    "tags": []
   },
   "outputs": [],
   "source": [
    "# Importing Packages\n",
    "import pandas as pd\n",
    "import numpy as np\n",
    "from datetime import date, timedelta\n",
    "import seaborn as sns"
   ]
  },
  {
   "cell_type": "code",
   "execution_count": 3,
   "id": "eeda8f0e-2a48-4450-82aa-1806761ec78f",
   "metadata": {
    "tags": []
   },
   "outputs": [],
   "source": [
    "# Loading in Data\n",
    "cab_data = pd.read_csv(\"./Data/Cab_Data.csv\")\n",
    "city = pd.read_csv(\"./Data/City.csv\")\n",
    "Customer_ID = pd.read_csv(\"./Data/Customer_ID.csv\")\n",
    "Transaction_ID = pd.read_csv(\"./Data/Transaction_ID.csv\")"
   ]
  },
  {
   "cell_type": "markdown",
   "id": "0ca53c16-ecab-4cca-9fab-0d0159f9fcc9",
   "metadata": {},
   "source": [
    "#### Information about Data\n",
    "1. The data spans from 31/01/2016 to 31/12/2018.\n",
    "2. The data contains two cab company data combined."
   ]
  },
  {
   "cell_type": "markdown",
   "id": "e2372eba-204e-4569-9799-52cde5da16c7",
   "metadata": {},
   "source": [
    "### Cab Data "
   ]
  },
  {
   "cell_type": "code",
   "execution_count": 4,
   "id": "60ae3402-2bb2-4a86-99e6-deca09d8f887",
   "metadata": {
    "tags": []
   },
   "outputs": [
    {
     "data": {
      "text/html": [
       "<div>\n",
       "<style scoped>\n",
       "    .dataframe tbody tr th:only-of-type {\n",
       "        vertical-align: middle;\n",
       "    }\n",
       "\n",
       "    .dataframe tbody tr th {\n",
       "        vertical-align: top;\n",
       "    }\n",
       "\n",
       "    .dataframe thead th {\n",
       "        text-align: right;\n",
       "    }\n",
       "</style>\n",
       "<table border=\"1\" class=\"dataframe\">\n",
       "  <thead>\n",
       "    <tr style=\"text-align: right;\">\n",
       "      <th></th>\n",
       "      <th>Transaction ID</th>\n",
       "      <th>Date of Travel</th>\n",
       "      <th>Company</th>\n",
       "      <th>City</th>\n",
       "      <th>KM Travelled</th>\n",
       "      <th>Price Charged</th>\n",
       "      <th>Cost of Trip</th>\n",
       "    </tr>\n",
       "  </thead>\n",
       "  <tbody>\n",
       "    <tr>\n",
       "      <th>0</th>\n",
       "      <td>10000011</td>\n",
       "      <td>42377</td>\n",
       "      <td>Pink Cab</td>\n",
       "      <td>ATLANTA GA</td>\n",
       "      <td>30.45</td>\n",
       "      <td>370.95</td>\n",
       "      <td>313.635</td>\n",
       "    </tr>\n",
       "    <tr>\n",
       "      <th>1</th>\n",
       "      <td>10000012</td>\n",
       "      <td>42375</td>\n",
       "      <td>Pink Cab</td>\n",
       "      <td>ATLANTA GA</td>\n",
       "      <td>28.62</td>\n",
       "      <td>358.52</td>\n",
       "      <td>334.854</td>\n",
       "    </tr>\n",
       "    <tr>\n",
       "      <th>2</th>\n",
       "      <td>10000013</td>\n",
       "      <td>42371</td>\n",
       "      <td>Pink Cab</td>\n",
       "      <td>ATLANTA GA</td>\n",
       "      <td>9.04</td>\n",
       "      <td>125.20</td>\n",
       "      <td>97.632</td>\n",
       "    </tr>\n",
       "    <tr>\n",
       "      <th>3</th>\n",
       "      <td>10000014</td>\n",
       "      <td>42376</td>\n",
       "      <td>Pink Cab</td>\n",
       "      <td>ATLANTA GA</td>\n",
       "      <td>33.17</td>\n",
       "      <td>377.40</td>\n",
       "      <td>351.602</td>\n",
       "    </tr>\n",
       "    <tr>\n",
       "      <th>4</th>\n",
       "      <td>10000015</td>\n",
       "      <td>42372</td>\n",
       "      <td>Pink Cab</td>\n",
       "      <td>ATLANTA GA</td>\n",
       "      <td>8.73</td>\n",
       "      <td>114.62</td>\n",
       "      <td>97.776</td>\n",
       "    </tr>\n",
       "  </tbody>\n",
       "</table>\n",
       "</div>"
      ],
      "text/plain": [
       "   Transaction ID  Date of Travel   Company        City  KM Travelled  \\\n",
       "0        10000011           42377  Pink Cab  ATLANTA GA         30.45   \n",
       "1        10000012           42375  Pink Cab  ATLANTA GA         28.62   \n",
       "2        10000013           42371  Pink Cab  ATLANTA GA          9.04   \n",
       "3        10000014           42376  Pink Cab  ATLANTA GA         33.17   \n",
       "4        10000015           42372  Pink Cab  ATLANTA GA          8.73   \n",
       "\n",
       "   Price Charged  Cost of Trip  \n",
       "0         370.95       313.635  \n",
       "1         358.52       334.854  \n",
       "2         125.20        97.632  \n",
       "3         377.40       351.602  \n",
       "4         114.62        97.776  "
      ]
     },
     "execution_count": 4,
     "metadata": {},
     "output_type": "execute_result"
    }
   ],
   "source": [
    "cab_data.head()"
   ]
  },
  {
   "cell_type": "code",
   "execution_count": 5,
   "id": "55e8503d-3cca-4e68-844b-64e7b5f7c9fd",
   "metadata": {
    "tags": []
   },
   "outputs": [
    {
     "name": "stdout",
     "output_type": "stream",
     "text": [
      "<class 'pandas.core.frame.DataFrame'>\n",
      "RangeIndex: 359392 entries, 0 to 359391\n",
      "Data columns (total 7 columns):\n",
      " #   Column          Non-Null Count   Dtype  \n",
      "---  ------          --------------   -----  \n",
      " 0   Transaction ID  359392 non-null  int64  \n",
      " 1   Date of Travel  359392 non-null  int64  \n",
      " 2   Company         359392 non-null  object \n",
      " 3   City            359392 non-null  object \n",
      " 4   KM Travelled    359392 non-null  float64\n",
      " 5   Price Charged   359392 non-null  float64\n",
      " 6   Cost of Trip    359392 non-null  float64\n",
      "dtypes: float64(3), int64(2), object(2)\n",
      "memory usage: 19.2+ MB\n"
     ]
    }
   ],
   "source": [
    "cab_data.info()"
   ]
  },
  {
   "cell_type": "code",
   "execution_count": 52,
   "id": "16fcb4db-f5f1-448e-9f8b-ebabadea86e9",
   "metadata": {
    "tags": []
   },
   "outputs": [],
   "source": [
    "cab_data = cab_data.drop_duplicates()"
   ]
  },
  {
   "cell_type": "code",
   "execution_count": 53,
   "id": "e0d4efa0-8623-4f78-bff6-a1f4c1949131",
   "metadata": {
    "tags": []
   },
   "outputs": [
    {
     "data": {
      "text/plain": [
       "(359392, 7)"
      ]
     },
     "execution_count": 53,
     "metadata": {},
     "output_type": "execute_result"
    }
   ],
   "source": [
    "cab_data.shape"
   ]
  },
  {
   "cell_type": "markdown",
   "id": "d107ad0d-efc2-4896-b238-e0b6a9a2d1ff",
   "metadata": {},
   "source": [
    "#### Converting Date to Date object"
   ]
  },
  {
   "cell_type": "code",
   "execution_count": 340,
   "id": "a08fe65e-88bc-4bff-991d-8262b51a81b1",
   "metadata": {
    "tags": []
   },
   "outputs": [],
   "source": [
    "def convert_time(x):\n",
    "    return (datetime(1899,12,31) + timedelta(days = int(x))).strftime(\"%Y-%m-%d\")\n",
    "\n",
    "cab_data['Date of Travel'] = cab_data['Date of Travel'] \\\n",
    ".apply(lambda x : convert_time(x) if (np.all(pd.notnull(x))) else x)"
   ]
  },
  {
   "cell_type": "code",
   "execution_count": 421,
   "id": "b536a8d8-00fb-43ba-b67c-071898059bcc",
   "metadata": {
    "tags": []
   },
   "outputs": [
    {
     "data": {
      "text/html": [
       "<div>\n",
       "<style scoped>\n",
       "    .dataframe tbody tr th:only-of-type {\n",
       "        vertical-align: middle;\n",
       "    }\n",
       "\n",
       "    .dataframe tbody tr th {\n",
       "        vertical-align: top;\n",
       "    }\n",
       "\n",
       "    .dataframe thead th {\n",
       "        text-align: right;\n",
       "    }\n",
       "</style>\n",
       "<table border=\"1\" class=\"dataframe\">\n",
       "  <thead>\n",
       "    <tr style=\"text-align: right;\">\n",
       "      <th></th>\n",
       "      <th>Transaction ID</th>\n",
       "      <th>Date of Travel</th>\n",
       "      <th>Company</th>\n",
       "      <th>City</th>\n",
       "      <th>KM Travelled</th>\n",
       "      <th>Price Charged</th>\n",
       "      <th>Cost of Trip</th>\n",
       "    </tr>\n",
       "  </thead>\n",
       "  <tbody>\n",
       "    <tr>\n",
       "      <th>4892</th>\n",
       "      <td>10006291</td>\n",
       "      <td>2016-01-31</td>\n",
       "      <td>Yellow Cab</td>\n",
       "      <td>DALLAS TX</td>\n",
       "      <td>5.82</td>\n",
       "      <td>148.10</td>\n",
       "      <td>78.2208</td>\n",
       "    </tr>\n",
       "    <tr>\n",
       "      <th>5438</th>\n",
       "      <td>10007076</td>\n",
       "      <td>2016-01-31</td>\n",
       "      <td>Yellow Cab</td>\n",
       "      <td>WASHINGTON DC</td>\n",
       "      <td>37.83</td>\n",
       "      <td>855.85</td>\n",
       "      <td>531.1332</td>\n",
       "    </tr>\n",
       "    <tr>\n",
       "      <th>4418</th>\n",
       "      <td>10005673</td>\n",
       "      <td>2016-01-31</td>\n",
       "      <td>Pink Cab</td>\n",
       "      <td>NEW YORK NY</td>\n",
       "      <td>31.68</td>\n",
       "      <td>622.35</td>\n",
       "      <td>319.9680</td>\n",
       "    </tr>\n",
       "    <tr>\n",
       "      <th>4412</th>\n",
       "      <td>10005667</td>\n",
       "      <td>2016-01-31</td>\n",
       "      <td>Pink Cab</td>\n",
       "      <td>NEW YORK NY</td>\n",
       "      <td>9.52</td>\n",
       "      <td>203.79</td>\n",
       "      <td>99.0080</td>\n",
       "    </tr>\n",
       "    <tr>\n",
       "      <th>4411</th>\n",
       "      <td>10005666</td>\n",
       "      <td>2016-01-31</td>\n",
       "      <td>Pink Cab</td>\n",
       "      <td>NEW YORK NY</td>\n",
       "      <td>38.94</td>\n",
       "      <td>737.68</td>\n",
       "      <td>401.0820</td>\n",
       "    </tr>\n",
       "  </tbody>\n",
       "</table>\n",
       "</div>"
      ],
      "text/plain": [
       "      Transaction ID Date of Travel     Company           City  KM Travelled  \\\n",
       "4892        10006291     2016-01-31  Yellow Cab      DALLAS TX          5.82   \n",
       "5438        10007076     2016-01-31  Yellow Cab  WASHINGTON DC         37.83   \n",
       "4418        10005673     2016-01-31    Pink Cab    NEW YORK NY         31.68   \n",
       "4412        10005667     2016-01-31    Pink Cab    NEW YORK NY          9.52   \n",
       "4411        10005666     2016-01-31    Pink Cab    NEW YORK NY         38.94   \n",
       "\n",
       "      Price Charged  Cost of Trip  \n",
       "4892         148.10       78.2208  \n",
       "5438         855.85      531.1332  \n",
       "4418         622.35      319.9680  \n",
       "4412         203.79       99.0080  \n",
       "4411         737.68      401.0820  "
      ]
     },
     "execution_count": 421,
     "metadata": {},
     "output_type": "execute_result"
    }
   ],
   "source": [
    "cab_data.sort_values(by = 'Date of Travel').head()"
   ]
  },
  {
   "cell_type": "markdown",
   "id": "8ab04447-448b-4976-806d-e4685918bef0",
   "metadata": {},
   "source": [
    "#### Filtering date for timeperiod as some data falls outside of time period"
   ]
  },
  {
   "cell_type": "code",
   "execution_count": 352,
   "id": "8e49632e-2d95-4672-916c-27c852109325",
   "metadata": {
    "tags": []
   },
   "outputs": [],
   "source": [
    "cab_data = cab_data[(cab_data['Date of Travel']>=\"2016-01-31\") & (cab_data['Date of Travel']<=\"2018-12-31\")]"
   ]
  },
  {
   "cell_type": "code",
   "execution_count": 417,
   "id": "4a116760-c430-416d-8ee5-358fa5e45f48",
   "metadata": {
    "tags": []
   },
   "outputs": [
    {
     "data": {
      "text/html": [
       "<div>\n",
       "<style scoped>\n",
       "    .dataframe tbody tr th:only-of-type {\n",
       "        vertical-align: middle;\n",
       "    }\n",
       "\n",
       "    .dataframe tbody tr th {\n",
       "        vertical-align: top;\n",
       "    }\n",
       "\n",
       "    .dataframe thead th {\n",
       "        text-align: right;\n",
       "    }\n",
       "</style>\n",
       "<table border=\"1\" class=\"dataframe\">\n",
       "  <thead>\n",
       "    <tr style=\"text-align: right;\">\n",
       "      <th></th>\n",
       "      <th>Transaction ID</th>\n",
       "      <th>Date of Travel</th>\n",
       "      <th>Company</th>\n",
       "      <th>City</th>\n",
       "      <th>KM Travelled</th>\n",
       "      <th>Price Charged</th>\n",
       "      <th>Cost of Trip</th>\n",
       "    </tr>\n",
       "  </thead>\n",
       "  <tbody>\n",
       "    <tr>\n",
       "      <th>4892</th>\n",
       "      <td>10006291</td>\n",
       "      <td>2016-01-31</td>\n",
       "      <td>Yellow Cab</td>\n",
       "      <td>DALLAS TX</td>\n",
       "      <td>5.82</td>\n",
       "      <td>148.10</td>\n",
       "      <td>78.2208</td>\n",
       "    </tr>\n",
       "    <tr>\n",
       "      <th>5438</th>\n",
       "      <td>10007076</td>\n",
       "      <td>2016-01-31</td>\n",
       "      <td>Yellow Cab</td>\n",
       "      <td>WASHINGTON DC</td>\n",
       "      <td>37.83</td>\n",
       "      <td>855.85</td>\n",
       "      <td>531.1332</td>\n",
       "    </tr>\n",
       "    <tr>\n",
       "      <th>4418</th>\n",
       "      <td>10005673</td>\n",
       "      <td>2016-01-31</td>\n",
       "      <td>Pink Cab</td>\n",
       "      <td>NEW YORK NY</td>\n",
       "      <td>31.68</td>\n",
       "      <td>622.35</td>\n",
       "      <td>319.9680</td>\n",
       "    </tr>\n",
       "    <tr>\n",
       "      <th>4412</th>\n",
       "      <td>10005667</td>\n",
       "      <td>2016-01-31</td>\n",
       "      <td>Pink Cab</td>\n",
       "      <td>NEW YORK NY</td>\n",
       "      <td>9.52</td>\n",
       "      <td>203.79</td>\n",
       "      <td>99.0080</td>\n",
       "    </tr>\n",
       "    <tr>\n",
       "      <th>4411</th>\n",
       "      <td>10005666</td>\n",
       "      <td>2016-01-31</td>\n",
       "      <td>Pink Cab</td>\n",
       "      <td>NEW YORK NY</td>\n",
       "      <td>38.94</td>\n",
       "      <td>737.68</td>\n",
       "      <td>401.0820</td>\n",
       "    </tr>\n",
       "  </tbody>\n",
       "</table>\n",
       "</div>"
      ],
      "text/plain": [
       "      Transaction ID Date of Travel     Company           City  KM Travelled  \\\n",
       "4892        10006291     2016-01-31  Yellow Cab      DALLAS TX          5.82   \n",
       "5438        10007076     2016-01-31  Yellow Cab  WASHINGTON DC         37.83   \n",
       "4418        10005673     2016-01-31    Pink Cab    NEW YORK NY         31.68   \n",
       "4412        10005667     2016-01-31    Pink Cab    NEW YORK NY          9.52   \n",
       "4411        10005666     2016-01-31    Pink Cab    NEW YORK NY         38.94   \n",
       "\n",
       "      Price Charged  Cost of Trip  \n",
       "4892         148.10       78.2208  \n",
       "5438         855.85      531.1332  \n",
       "4418         622.35      319.9680  \n",
       "4412         203.79       99.0080  \n",
       "4411         737.68      401.0820  "
      ]
     },
     "execution_count": 417,
     "metadata": {},
     "output_type": "execute_result"
    }
   ],
   "source": [
    "cab_data.sort_values(by = 'Date of Travel').head()"
   ]
  },
  {
   "cell_type": "markdown",
   "id": "8b7c8197-d09a-4874-b484-75aa27c58d1b",
   "metadata": {},
   "source": [
    "### Transaction_ID "
   ]
  },
  {
   "cell_type": "code",
   "execution_count": 32,
   "id": "c34961ff-3669-467d-8574-325827e40797",
   "metadata": {
    "tags": []
   },
   "outputs": [
    {
     "name": "stdout",
     "output_type": "stream",
     "text": [
      "<class 'pandas.core.frame.DataFrame'>\n",
      "RangeIndex: 440098 entries, 0 to 440097\n",
      "Data columns (total 3 columns):\n",
      " #   Column          Non-Null Count   Dtype \n",
      "---  ------          --------------   ----- \n",
      " 0   Transaction ID  440098 non-null  int64 \n",
      " 1   Customer ID     440098 non-null  int64 \n",
      " 2   Payment_Mode    440098 non-null  object\n",
      "dtypes: int64(2), object(1)\n",
      "memory usage: 10.1+ MB\n"
     ]
    }
   ],
   "source": [
    "Transaction_ID.info()"
   ]
  },
  {
   "cell_type": "code",
   "execution_count": 33,
   "id": "a31fad1d-0a37-49e9-bf8d-a3947feac528",
   "metadata": {
    "tags": []
   },
   "outputs": [
    {
     "data": {
      "text/html": [
       "<div>\n",
       "<style scoped>\n",
       "    .dataframe tbody tr th:only-of-type {\n",
       "        vertical-align: middle;\n",
       "    }\n",
       "\n",
       "    .dataframe tbody tr th {\n",
       "        vertical-align: top;\n",
       "    }\n",
       "\n",
       "    .dataframe thead th {\n",
       "        text-align: right;\n",
       "    }\n",
       "</style>\n",
       "<table border=\"1\" class=\"dataframe\">\n",
       "  <thead>\n",
       "    <tr style=\"text-align: right;\">\n",
       "      <th></th>\n",
       "      <th>Transaction ID</th>\n",
       "      <th>Customer ID</th>\n",
       "      <th>Payment_Mode</th>\n",
       "    </tr>\n",
       "  </thead>\n",
       "  <tbody>\n",
       "    <tr>\n",
       "      <th>0</th>\n",
       "      <td>10000011</td>\n",
       "      <td>29290</td>\n",
       "      <td>Card</td>\n",
       "    </tr>\n",
       "    <tr>\n",
       "      <th>1</th>\n",
       "      <td>10000012</td>\n",
       "      <td>27703</td>\n",
       "      <td>Card</td>\n",
       "    </tr>\n",
       "    <tr>\n",
       "      <th>2</th>\n",
       "      <td>10000013</td>\n",
       "      <td>28712</td>\n",
       "      <td>Cash</td>\n",
       "    </tr>\n",
       "    <tr>\n",
       "      <th>3</th>\n",
       "      <td>10000014</td>\n",
       "      <td>28020</td>\n",
       "      <td>Cash</td>\n",
       "    </tr>\n",
       "    <tr>\n",
       "      <th>4</th>\n",
       "      <td>10000015</td>\n",
       "      <td>27182</td>\n",
       "      <td>Card</td>\n",
       "    </tr>\n",
       "    <tr>\n",
       "      <th>...</th>\n",
       "      <td>...</td>\n",
       "      <td>...</td>\n",
       "      <td>...</td>\n",
       "    </tr>\n",
       "    <tr>\n",
       "      <th>440093</th>\n",
       "      <td>10440104</td>\n",
       "      <td>53286</td>\n",
       "      <td>Cash</td>\n",
       "    </tr>\n",
       "    <tr>\n",
       "      <th>440094</th>\n",
       "      <td>10440105</td>\n",
       "      <td>52265</td>\n",
       "      <td>Cash</td>\n",
       "    </tr>\n",
       "    <tr>\n",
       "      <th>440095</th>\n",
       "      <td>10440106</td>\n",
       "      <td>52175</td>\n",
       "      <td>Card</td>\n",
       "    </tr>\n",
       "    <tr>\n",
       "      <th>440096</th>\n",
       "      <td>10440107</td>\n",
       "      <td>52917</td>\n",
       "      <td>Card</td>\n",
       "    </tr>\n",
       "    <tr>\n",
       "      <th>440097</th>\n",
       "      <td>10440108</td>\n",
       "      <td>51587</td>\n",
       "      <td>Card</td>\n",
       "    </tr>\n",
       "  </tbody>\n",
       "</table>\n",
       "<p>440098 rows × 3 columns</p>\n",
       "</div>"
      ],
      "text/plain": [
       "        Transaction ID  Customer ID Payment_Mode\n",
       "0             10000011        29290         Card\n",
       "1             10000012        27703         Card\n",
       "2             10000013        28712         Cash\n",
       "3             10000014        28020         Cash\n",
       "4             10000015        27182         Card\n",
       "...                ...          ...          ...\n",
       "440093        10440104        53286         Cash\n",
       "440094        10440105        52265         Cash\n",
       "440095        10440106        52175         Card\n",
       "440096        10440107        52917         Card\n",
       "440097        10440108        51587         Card\n",
       "\n",
       "[440098 rows x 3 columns]"
      ]
     },
     "execution_count": 33,
     "metadata": {},
     "output_type": "execute_result"
    }
   ],
   "source": [
    "Transaction_ID"
   ]
  },
  {
   "cell_type": "code",
   "execution_count": 50,
   "id": "9b6264e9-16e6-4c76-92ce-9e6209d36619",
   "metadata": {
    "tags": []
   },
   "outputs": [],
   "source": [
    "Transaction_ID = Transaction_ID.drop_duplicates()"
   ]
  },
  {
   "cell_type": "code",
   "execution_count": 51,
   "id": "0cd91a99-5bf2-4877-8aa5-b6558bc2bdbc",
   "metadata": {
    "tags": []
   },
   "outputs": [
    {
     "data": {
      "text/plain": [
       "(440098, 3)"
      ]
     },
     "execution_count": 51,
     "metadata": {},
     "output_type": "execute_result"
    }
   ],
   "source": [
    "Transaction_ID.shape"
   ]
  },
  {
   "cell_type": "markdown",
   "id": "092392b7-dbdd-4de6-9f69-712105a5beb3",
   "metadata": {},
   "source": [
    "### Customer_ID"
   ]
  },
  {
   "cell_type": "code",
   "execution_count": 34,
   "id": "40c82c38-4e76-40e2-becb-8b6733440576",
   "metadata": {
    "tags": []
   },
   "outputs": [
    {
     "name": "stdout",
     "output_type": "stream",
     "text": [
      "<class 'pandas.core.frame.DataFrame'>\n",
      "RangeIndex: 49171 entries, 0 to 49170\n",
      "Data columns (total 4 columns):\n",
      " #   Column              Non-Null Count  Dtype \n",
      "---  ------              --------------  ----- \n",
      " 0   Customer ID         49171 non-null  int64 \n",
      " 1   Gender              49171 non-null  object\n",
      " 2   Age                 49171 non-null  int64 \n",
      " 3   Income (USD/Month)  49171 non-null  int64 \n",
      "dtypes: int64(3), object(1)\n",
      "memory usage: 1.5+ MB\n"
     ]
    }
   ],
   "source": [
    "Customer_ID.info()"
   ]
  },
  {
   "cell_type": "code",
   "execution_count": 35,
   "id": "e6d46817-5242-4364-95e8-46915f46efd7",
   "metadata": {
    "tags": []
   },
   "outputs": [
    {
     "data": {
      "text/html": [
       "<div>\n",
       "<style scoped>\n",
       "    .dataframe tbody tr th:only-of-type {\n",
       "        vertical-align: middle;\n",
       "    }\n",
       "\n",
       "    .dataframe tbody tr th {\n",
       "        vertical-align: top;\n",
       "    }\n",
       "\n",
       "    .dataframe thead th {\n",
       "        text-align: right;\n",
       "    }\n",
       "</style>\n",
       "<table border=\"1\" class=\"dataframe\">\n",
       "  <thead>\n",
       "    <tr style=\"text-align: right;\">\n",
       "      <th></th>\n",
       "      <th>Customer ID</th>\n",
       "      <th>Gender</th>\n",
       "      <th>Age</th>\n",
       "      <th>Income (USD/Month)</th>\n",
       "    </tr>\n",
       "  </thead>\n",
       "  <tbody>\n",
       "    <tr>\n",
       "      <th>0</th>\n",
       "      <td>29290</td>\n",
       "      <td>Male</td>\n",
       "      <td>28</td>\n",
       "      <td>10813</td>\n",
       "    </tr>\n",
       "    <tr>\n",
       "      <th>1</th>\n",
       "      <td>27703</td>\n",
       "      <td>Male</td>\n",
       "      <td>27</td>\n",
       "      <td>9237</td>\n",
       "    </tr>\n",
       "    <tr>\n",
       "      <th>2</th>\n",
       "      <td>28712</td>\n",
       "      <td>Male</td>\n",
       "      <td>53</td>\n",
       "      <td>11242</td>\n",
       "    </tr>\n",
       "    <tr>\n",
       "      <th>3</th>\n",
       "      <td>28020</td>\n",
       "      <td>Male</td>\n",
       "      <td>23</td>\n",
       "      <td>23327</td>\n",
       "    </tr>\n",
       "    <tr>\n",
       "      <th>4</th>\n",
       "      <td>27182</td>\n",
       "      <td>Male</td>\n",
       "      <td>33</td>\n",
       "      <td>8536</td>\n",
       "    </tr>\n",
       "    <tr>\n",
       "      <th>...</th>\n",
       "      <td>...</td>\n",
       "      <td>...</td>\n",
       "      <td>...</td>\n",
       "      <td>...</td>\n",
       "    </tr>\n",
       "    <tr>\n",
       "      <th>49166</th>\n",
       "      <td>12490</td>\n",
       "      <td>Male</td>\n",
       "      <td>33</td>\n",
       "      <td>18713</td>\n",
       "    </tr>\n",
       "    <tr>\n",
       "      <th>49167</th>\n",
       "      <td>14971</td>\n",
       "      <td>Male</td>\n",
       "      <td>30</td>\n",
       "      <td>15346</td>\n",
       "    </tr>\n",
       "    <tr>\n",
       "      <th>49168</th>\n",
       "      <td>41414</td>\n",
       "      <td>Male</td>\n",
       "      <td>38</td>\n",
       "      <td>3960</td>\n",
       "    </tr>\n",
       "    <tr>\n",
       "      <th>49169</th>\n",
       "      <td>41677</td>\n",
       "      <td>Male</td>\n",
       "      <td>23</td>\n",
       "      <td>19454</td>\n",
       "    </tr>\n",
       "    <tr>\n",
       "      <th>49170</th>\n",
       "      <td>39761</td>\n",
       "      <td>Female</td>\n",
       "      <td>32</td>\n",
       "      <td>10128</td>\n",
       "    </tr>\n",
       "  </tbody>\n",
       "</table>\n",
       "<p>49171 rows × 4 columns</p>\n",
       "</div>"
      ],
      "text/plain": [
       "       Customer ID  Gender  Age  Income (USD/Month)\n",
       "0            29290    Male   28               10813\n",
       "1            27703    Male   27                9237\n",
       "2            28712    Male   53               11242\n",
       "3            28020    Male   23               23327\n",
       "4            27182    Male   33                8536\n",
       "...            ...     ...  ...                 ...\n",
       "49166        12490    Male   33               18713\n",
       "49167        14971    Male   30               15346\n",
       "49168        41414    Male   38                3960\n",
       "49169        41677    Male   23               19454\n",
       "49170        39761  Female   32               10128\n",
       "\n",
       "[49171 rows x 4 columns]"
      ]
     },
     "execution_count": 35,
     "metadata": {},
     "output_type": "execute_result"
    }
   ],
   "source": [
    "Customer_ID"
   ]
  },
  {
   "cell_type": "code",
   "execution_count": 86,
   "id": "c2cea6f8-d41c-43af-825c-adeaadf76982",
   "metadata": {
    "tags": []
   },
   "outputs": [],
   "source": [
    "Customer_ID = Customer_ID.drop_duplicates()"
   ]
  },
  {
   "cell_type": "code",
   "execution_count": 94,
   "id": "f997cb4c-8452-4649-8569-663d37e5c539",
   "metadata": {
    "tags": []
   },
   "outputs": [
    {
     "data": {
      "text/plain": [
       "Customer ID\n",
       "60000          1\n",
       "17515          1\n",
       "17513          1\n",
       "17512          1\n",
       "17511          1\n",
       "              ..\n",
       "37514          1\n",
       "37513          1\n",
       "37512          1\n",
       "36960          1\n",
       "1              1\n",
       "Length: 49171, dtype: int64"
      ]
     },
     "execution_count": 94,
     "metadata": {},
     "output_type": "execute_result"
    }
   ],
   "source": [
    "Customer_ID[[\"Customer ID\"]].value_counts(sort=True)[-1::-1]"
   ]
  },
  {
   "cell_type": "markdown",
   "id": "8e9d6d79-4b97-4eda-abdc-9a0dda329887",
   "metadata": {},
   "source": [
    "### City"
   ]
  },
  {
   "cell_type": "code",
   "execution_count": 44,
   "id": "c9df8a2c-ca5a-4fb4-8f1b-477150fd7613",
   "metadata": {
    "tags": []
   },
   "outputs": [],
   "source": [
    "city = city.drop_duplicates()"
   ]
  },
  {
   "cell_type": "code",
   "execution_count": 36,
   "id": "ef1ee7e4-2876-48af-b691-bbcc362e104d",
   "metadata": {
    "tags": []
   },
   "outputs": [
    {
     "name": "stdout",
     "output_type": "stream",
     "text": [
      "<class 'pandas.core.frame.DataFrame'>\n",
      "RangeIndex: 20 entries, 0 to 19\n",
      "Data columns (total 3 columns):\n",
      " #   Column      Non-Null Count  Dtype \n",
      "---  ------      --------------  ----- \n",
      " 0   City        20 non-null     object\n",
      " 1   Population  20 non-null     object\n",
      " 2   Users       20 non-null     object\n",
      "dtypes: object(3)\n",
      "memory usage: 608.0+ bytes\n"
     ]
    }
   ],
   "source": [
    "city.info()"
   ]
  },
  {
   "cell_type": "code",
   "execution_count": 54,
   "id": "492fcbd9-ebee-4c95-835e-393454329aa1",
   "metadata": {
    "tags": []
   },
   "outputs": [
    {
     "data": {
      "text/html": [
       "<div>\n",
       "<style scoped>\n",
       "    .dataframe tbody tr th:only-of-type {\n",
       "        vertical-align: middle;\n",
       "    }\n",
       "\n",
       "    .dataframe tbody tr th {\n",
       "        vertical-align: top;\n",
       "    }\n",
       "\n",
       "    .dataframe thead th {\n",
       "        text-align: right;\n",
       "    }\n",
       "</style>\n",
       "<table border=\"1\" class=\"dataframe\">\n",
       "  <thead>\n",
       "    <tr style=\"text-align: right;\">\n",
       "      <th></th>\n",
       "      <th>City</th>\n",
       "      <th>Population</th>\n",
       "      <th>Users</th>\n",
       "    </tr>\n",
       "  </thead>\n",
       "  <tbody>\n",
       "    <tr>\n",
       "      <th>0</th>\n",
       "      <td>NEW YORK NY</td>\n",
       "      <td>8,405,837</td>\n",
       "      <td>302,149</td>\n",
       "    </tr>\n",
       "    <tr>\n",
       "      <th>1</th>\n",
       "      <td>CHICAGO IL</td>\n",
       "      <td>1,955,130</td>\n",
       "      <td>164,468</td>\n",
       "    </tr>\n",
       "    <tr>\n",
       "      <th>2</th>\n",
       "      <td>LOS ANGELES CA</td>\n",
       "      <td>1,595,037</td>\n",
       "      <td>144,132</td>\n",
       "    </tr>\n",
       "    <tr>\n",
       "      <th>3</th>\n",
       "      <td>MIAMI FL</td>\n",
       "      <td>1,339,155</td>\n",
       "      <td>17,675</td>\n",
       "    </tr>\n",
       "    <tr>\n",
       "      <th>4</th>\n",
       "      <td>SILICON VALLEY</td>\n",
       "      <td>1,177,609</td>\n",
       "      <td>27,247</td>\n",
       "    </tr>\n",
       "    <tr>\n",
       "      <th>5</th>\n",
       "      <td>ORANGE COUNTY</td>\n",
       "      <td>1,030,185</td>\n",
       "      <td>12,994</td>\n",
       "    </tr>\n",
       "    <tr>\n",
       "      <th>6</th>\n",
       "      <td>SAN DIEGO CA</td>\n",
       "      <td>959,307</td>\n",
       "      <td>69,995</td>\n",
       "    </tr>\n",
       "    <tr>\n",
       "      <th>7</th>\n",
       "      <td>PHOENIX AZ</td>\n",
       "      <td>943,999</td>\n",
       "      <td>6,133</td>\n",
       "    </tr>\n",
       "    <tr>\n",
       "      <th>8</th>\n",
       "      <td>DALLAS TX</td>\n",
       "      <td>942,908</td>\n",
       "      <td>22,157</td>\n",
       "    </tr>\n",
       "    <tr>\n",
       "      <th>9</th>\n",
       "      <td>ATLANTA GA</td>\n",
       "      <td>814,885</td>\n",
       "      <td>24,701</td>\n",
       "    </tr>\n",
       "    <tr>\n",
       "      <th>10</th>\n",
       "      <td>DENVER CO</td>\n",
       "      <td>754,233</td>\n",
       "      <td>12,421</td>\n",
       "    </tr>\n",
       "    <tr>\n",
       "      <th>11</th>\n",
       "      <td>AUSTIN TX</td>\n",
       "      <td>698,371</td>\n",
       "      <td>14,978</td>\n",
       "    </tr>\n",
       "    <tr>\n",
       "      <th>12</th>\n",
       "      <td>SEATTLE WA</td>\n",
       "      <td>671,238</td>\n",
       "      <td>25,063</td>\n",
       "    </tr>\n",
       "    <tr>\n",
       "      <th>13</th>\n",
       "      <td>TUCSON AZ</td>\n",
       "      <td>631,442</td>\n",
       "      <td>5,712</td>\n",
       "    </tr>\n",
       "    <tr>\n",
       "      <th>14</th>\n",
       "      <td>SAN FRANCISCO CA</td>\n",
       "      <td>629,591</td>\n",
       "      <td>213,609</td>\n",
       "    </tr>\n",
       "    <tr>\n",
       "      <th>15</th>\n",
       "      <td>SACRAMENTO CA</td>\n",
       "      <td>545,776</td>\n",
       "      <td>7,044</td>\n",
       "    </tr>\n",
       "    <tr>\n",
       "      <th>16</th>\n",
       "      <td>PITTSBURGH PA</td>\n",
       "      <td>542,085</td>\n",
       "      <td>3,643</td>\n",
       "    </tr>\n",
       "    <tr>\n",
       "      <th>17</th>\n",
       "      <td>WASHINGTON DC</td>\n",
       "      <td>418,859</td>\n",
       "      <td>127,001</td>\n",
       "    </tr>\n",
       "    <tr>\n",
       "      <th>18</th>\n",
       "      <td>NASHVILLE TN</td>\n",
       "      <td>327,225</td>\n",
       "      <td>9,270</td>\n",
       "    </tr>\n",
       "    <tr>\n",
       "      <th>19</th>\n",
       "      <td>BOSTON MA</td>\n",
       "      <td>248,968</td>\n",
       "      <td>80,021</td>\n",
       "    </tr>\n",
       "  </tbody>\n",
       "</table>\n",
       "</div>"
      ],
      "text/plain": [
       "                City   Population      Users\n",
       "0        NEW YORK NY   8,405,837    302,149 \n",
       "1         CHICAGO IL   1,955,130    164,468 \n",
       "2     LOS ANGELES CA   1,595,037    144,132 \n",
       "3           MIAMI FL   1,339,155     17,675 \n",
       "4     SILICON VALLEY   1,177,609     27,247 \n",
       "5      ORANGE COUNTY   1,030,185     12,994 \n",
       "6       SAN DIEGO CA     959,307     69,995 \n",
       "7         PHOENIX AZ     943,999      6,133 \n",
       "8          DALLAS TX     942,908     22,157 \n",
       "9         ATLANTA GA     814,885     24,701 \n",
       "10         DENVER CO     754,233     12,421 \n",
       "11         AUSTIN TX     698,371     14,978 \n",
       "12        SEATTLE WA     671,238     25,063 \n",
       "13         TUCSON AZ     631,442      5,712 \n",
       "14  SAN FRANCISCO CA     629,591    213,609 \n",
       "15     SACRAMENTO CA     545,776      7,044 \n",
       "16     PITTSBURGH PA     542,085      3,643 \n",
       "17     WASHINGTON DC     418,859    127,001 \n",
       "18      NASHVILLE TN     327,225      9,270 \n",
       "19         BOSTON MA     248,968     80,021 "
      ]
     },
     "execution_count": 54,
     "metadata": {},
     "output_type": "execute_result"
    }
   ],
   "source": [
    "city"
   ]
  },
  {
   "cell_type": "code",
   "execution_count": 40,
   "id": "5087a842-1176-4dab-8463-9f3ee4f2bf16",
   "metadata": {
    "tags": []
   },
   "outputs": [
    {
     "data": {
      "text/plain": [
       "(20, 3)"
      ]
     },
     "execution_count": 40,
     "metadata": {},
     "output_type": "execute_result"
    }
   ],
   "source": [
    "city.shape"
   ]
  },
  {
   "cell_type": "code",
   "execution_count": 41,
   "id": "a7348eca-4ccc-463d-92e2-a2207b40bcc4",
   "metadata": {
    "tags": []
   },
   "outputs": [],
   "source": [
    "city = city.drop_duplicates()"
   ]
  },
  {
   "cell_type": "code",
   "execution_count": 55,
   "id": "e26ddb8b-d4af-4284-a15b-0dc57194625a",
   "metadata": {
    "tags": []
   },
   "outputs": [
    {
     "data": {
      "text/plain": [
       "(20, 3)"
      ]
     },
     "execution_count": 55,
     "metadata": {},
     "output_type": "execute_result"
    }
   ],
   "source": [
    "city.shape"
   ]
  },
  {
   "cell_type": "markdown",
   "id": "e609c462-4b67-4ccb-956c-c3fe0ab395fd",
   "metadata": {},
   "source": [
    "### Joining The Data Into One Master Dataset"
   ]
  },
  {
   "cell_type": "markdown",
   "id": "7ff6d82b-14ba-47fb-afe8-3d87dc6e695d",
   "metadata": {},
   "source": [
    "Cab data will be the main data to join on since it has 2 varibales that can be joined on"
   ]
  },
  {
   "cell_type": "code",
   "execution_count": 416,
   "id": "08c23a8e-c499-4d83-af5f-d02534de615d",
   "metadata": {
    "tags": []
   },
   "outputs": [
    {
     "data": {
      "text/html": [
       "<div>\n",
       "<style scoped>\n",
       "    .dataframe tbody tr th:only-of-type {\n",
       "        vertical-align: middle;\n",
       "    }\n",
       "\n",
       "    .dataframe tbody tr th {\n",
       "        vertical-align: top;\n",
       "    }\n",
       "\n",
       "    .dataframe thead th {\n",
       "        text-align: right;\n",
       "    }\n",
       "</style>\n",
       "<table border=\"1\" class=\"dataframe\">\n",
       "  <thead>\n",
       "    <tr style=\"text-align: right;\">\n",
       "      <th></th>\n",
       "      <th>Transaction ID</th>\n",
       "      <th>Date of Travel</th>\n",
       "      <th>Company</th>\n",
       "      <th>City</th>\n",
       "      <th>KM Travelled</th>\n",
       "      <th>Price Charged</th>\n",
       "      <th>Cost of Trip</th>\n",
       "      <th>Customer ID</th>\n",
       "      <th>Payment_Mode</th>\n",
       "    </tr>\n",
       "  </thead>\n",
       "  <tbody>\n",
       "    <tr>\n",
       "      <th>0</th>\n",
       "      <td>10004263</td>\n",
       "      <td>2016-02-03</td>\n",
       "      <td>Pink Cab</td>\n",
       "      <td>ATLANTA GA</td>\n",
       "      <td>25.07</td>\n",
       "      <td>355.29</td>\n",
       "      <td>285.798</td>\n",
       "      <td>29170</td>\n",
       "      <td>Cash</td>\n",
       "    </tr>\n",
       "    <tr>\n",
       "      <th>1</th>\n",
       "      <td>10004269</td>\n",
       "      <td>2016-01-31</td>\n",
       "      <td>Pink Cab</td>\n",
       "      <td>BOSTON MA</td>\n",
       "      <td>10.45</td>\n",
       "      <td>104.20</td>\n",
       "      <td>108.680</td>\n",
       "      <td>58604</td>\n",
       "      <td>Cash</td>\n",
       "    </tr>\n",
       "    <tr>\n",
       "      <th>2</th>\n",
       "      <td>10004271</td>\n",
       "      <td>2016-02-02</td>\n",
       "      <td>Pink Cab</td>\n",
       "      <td>BOSTON MA</td>\n",
       "      <td>38.61</td>\n",
       "      <td>358.05</td>\n",
       "      <td>405.405</td>\n",
       "      <td>59321</td>\n",
       "      <td>Cash</td>\n",
       "    </tr>\n",
       "    <tr>\n",
       "      <th>3</th>\n",
       "      <td>10004276</td>\n",
       "      <td>2016-01-31</td>\n",
       "      <td>Pink Cab</td>\n",
       "      <td>BOSTON MA</td>\n",
       "      <td>33.33</td>\n",
       "      <td>315.73</td>\n",
       "      <td>376.629</td>\n",
       "      <td>58498</td>\n",
       "      <td>Card</td>\n",
       "    </tr>\n",
       "    <tr>\n",
       "      <th>4</th>\n",
       "      <td>10004280</td>\n",
       "      <td>2016-01-31</td>\n",
       "      <td>Pink Cab</td>\n",
       "      <td>BOSTON MA</td>\n",
       "      <td>47.60</td>\n",
       "      <td>522.10</td>\n",
       "      <td>537.880</td>\n",
       "      <td>57678</td>\n",
       "      <td>Cash</td>\n",
       "    </tr>\n",
       "  </tbody>\n",
       "</table>\n",
       "</div>"
      ],
      "text/plain": [
       "   Transaction ID Date of Travel   Company        City  KM Travelled  \\\n",
       "0        10004263     2016-02-03  Pink Cab  ATLANTA GA         25.07   \n",
       "1        10004269     2016-01-31  Pink Cab   BOSTON MA         10.45   \n",
       "2        10004271     2016-02-02  Pink Cab   BOSTON MA         38.61   \n",
       "3        10004276     2016-01-31  Pink Cab   BOSTON MA         33.33   \n",
       "4        10004280     2016-01-31  Pink Cab   BOSTON MA         47.60   \n",
       "\n",
       "   Price Charged  Cost of Trip  Customer ID Payment_Mode  \n",
       "0         355.29       285.798        29170         Cash  \n",
       "1         104.20       108.680        58604         Cash  \n",
       "2         358.05       405.405        59321         Cash  \n",
       "3         315.73       376.629        58498         Card  \n",
       "4         522.10       537.880        57678         Cash  "
      ]
     },
     "execution_count": 416,
     "metadata": {},
     "output_type": "execute_result"
    }
   ],
   "source": [
    "# Merging cab and transaction data\n",
    "master_cab_data = pd.merge(cab_data, Transaction_ID, on='Transaction ID', how = 'outer')\n",
    "master_cab_data.head()"
   ]
  },
  {
   "cell_type": "code",
   "execution_count": 415,
   "id": "0423aae0-fd8c-4fec-921a-e29a8f6c9e71",
   "metadata": {
    "tags": []
   },
   "outputs": [
    {
     "data": {
      "text/html": [
       "<div>\n",
       "<style scoped>\n",
       "    .dataframe tbody tr th:only-of-type {\n",
       "        vertical-align: middle;\n",
       "    }\n",
       "\n",
       "    .dataframe tbody tr th {\n",
       "        vertical-align: top;\n",
       "    }\n",
       "\n",
       "    .dataframe thead th {\n",
       "        text-align: right;\n",
       "    }\n",
       "</style>\n",
       "<table border=\"1\" class=\"dataframe\">\n",
       "  <thead>\n",
       "    <tr style=\"text-align: right;\">\n",
       "      <th></th>\n",
       "      <th>Transaction ID</th>\n",
       "      <th>Date of Travel</th>\n",
       "      <th>Company</th>\n",
       "      <th>City</th>\n",
       "      <th>KM Travelled</th>\n",
       "      <th>Price Charged</th>\n",
       "      <th>Cost of Trip</th>\n",
       "      <th>Customer ID</th>\n",
       "      <th>Payment_Mode</th>\n",
       "      <th>Gender_x</th>\n",
       "      <th>Age_x</th>\n",
       "      <th>Income (USD/Month)_x</th>\n",
       "      <th>Population_x</th>\n",
       "      <th>Users_x</th>\n",
       "      <th>Population_y</th>\n",
       "      <th>Users_y</th>\n",
       "      <th>Gender_y</th>\n",
       "      <th>Age_y</th>\n",
       "      <th>Income (USD/Month)_y</th>\n",
       "    </tr>\n",
       "  </thead>\n",
       "  <tbody>\n",
       "    <tr>\n",
       "      <th>0</th>\n",
       "      <td>10004263.0</td>\n",
       "      <td>2016-02-03</td>\n",
       "      <td>Pink Cab</td>\n",
       "      <td>ATLANTA GA</td>\n",
       "      <td>25.07</td>\n",
       "      <td>355.29</td>\n",
       "      <td>285.7980</td>\n",
       "      <td>29170.0</td>\n",
       "      <td>Cash</td>\n",
       "      <td>Male</td>\n",
       "      <td>40.0</td>\n",
       "      <td>11777.0</td>\n",
       "      <td>814,885</td>\n",
       "      <td>24,701</td>\n",
       "      <td>814,885</td>\n",
       "      <td>24,701</td>\n",
       "      <td>Male</td>\n",
       "      <td>40.0</td>\n",
       "      <td>11777.0</td>\n",
       "    </tr>\n",
       "    <tr>\n",
       "      <th>1</th>\n",
       "      <td>10049443.0</td>\n",
       "      <td>2016-07-05</td>\n",
       "      <td>Pink Cab</td>\n",
       "      <td>ATLANTA GA</td>\n",
       "      <td>19.72</td>\n",
       "      <td>203.13</td>\n",
       "      <td>228.7520</td>\n",
       "      <td>29170.0</td>\n",
       "      <td>Cash</td>\n",
       "      <td>Male</td>\n",
       "      <td>40.0</td>\n",
       "      <td>11777.0</td>\n",
       "      <td>814,885</td>\n",
       "      <td>24,701</td>\n",
       "      <td>814,885</td>\n",
       "      <td>24,701</td>\n",
       "      <td>Male</td>\n",
       "      <td>40.0</td>\n",
       "      <td>11777.0</td>\n",
       "    </tr>\n",
       "    <tr>\n",
       "      <th>2</th>\n",
       "      <td>10197301.0</td>\n",
       "      <td>2017-07-22</td>\n",
       "      <td>Yellow Cab</td>\n",
       "      <td>ATLANTA GA</td>\n",
       "      <td>3.60</td>\n",
       "      <td>90.89</td>\n",
       "      <td>48.8160</td>\n",
       "      <td>29170.0</td>\n",
       "      <td>Card</td>\n",
       "      <td>Male</td>\n",
       "      <td>40.0</td>\n",
       "      <td>11777.0</td>\n",
       "      <td>814,885</td>\n",
       "      <td>24,701</td>\n",
       "      <td>814,885</td>\n",
       "      <td>24,701</td>\n",
       "      <td>Male</td>\n",
       "      <td>40.0</td>\n",
       "      <td>11777.0</td>\n",
       "    </tr>\n",
       "    <tr>\n",
       "      <th>3</th>\n",
       "      <td>10391854.0</td>\n",
       "      <td>2018-10-21</td>\n",
       "      <td>Pink Cab</td>\n",
       "      <td>ATLANTA GA</td>\n",
       "      <td>36.63</td>\n",
       "      <td>495.41</td>\n",
       "      <td>435.8970</td>\n",
       "      <td>29170.0</td>\n",
       "      <td>Cash</td>\n",
       "      <td>Male</td>\n",
       "      <td>40.0</td>\n",
       "      <td>11777.0</td>\n",
       "      <td>814,885</td>\n",
       "      <td>24,701</td>\n",
       "      <td>814,885</td>\n",
       "      <td>24,701</td>\n",
       "      <td>Male</td>\n",
       "      <td>40.0</td>\n",
       "      <td>11777.0</td>\n",
       "    </tr>\n",
       "    <tr>\n",
       "      <th>4</th>\n",
       "      <td>10004540.0</td>\n",
       "      <td>2016-01-31</td>\n",
       "      <td>Yellow Cab</td>\n",
       "      <td>ATLANTA GA</td>\n",
       "      <td>44.84</td>\n",
       "      <td>821.07</td>\n",
       "      <td>586.5072</td>\n",
       "      <td>29273.0</td>\n",
       "      <td>Card</td>\n",
       "      <td>Female</td>\n",
       "      <td>24.0</td>\n",
       "      <td>4952.0</td>\n",
       "      <td>814,885</td>\n",
       "      <td>24,701</td>\n",
       "      <td>814,885</td>\n",
       "      <td>24,701</td>\n",
       "      <td>Female</td>\n",
       "      <td>24.0</td>\n",
       "      <td>4952.0</td>\n",
       "    </tr>\n",
       "  </tbody>\n",
       "</table>\n",
       "</div>"
      ],
      "text/plain": [
       "   Transaction ID Date of Travel     Company        City  KM Travelled  \\\n",
       "0      10004263.0     2016-02-03    Pink Cab  ATLANTA GA         25.07   \n",
       "1      10049443.0     2016-07-05    Pink Cab  ATLANTA GA         19.72   \n",
       "2      10197301.0     2017-07-22  Yellow Cab  ATLANTA GA          3.60   \n",
       "3      10391854.0     2018-10-21    Pink Cab  ATLANTA GA         36.63   \n",
       "4      10004540.0     2016-01-31  Yellow Cab  ATLANTA GA         44.84   \n",
       "\n",
       "   Price Charged  Cost of Trip  Customer ID Payment_Mode Gender_x  Age_x  \\\n",
       "0         355.29      285.7980      29170.0         Cash     Male   40.0   \n",
       "1         203.13      228.7520      29170.0         Cash     Male   40.0   \n",
       "2          90.89       48.8160      29170.0         Card     Male   40.0   \n",
       "3         495.41      435.8970      29170.0         Cash     Male   40.0   \n",
       "4         821.07      586.5072      29273.0         Card   Female   24.0   \n",
       "\n",
       "   Income (USD/Month)_x Population_x   Users_x Population_y   Users_y  \\\n",
       "0               11777.0     814,885    24,701      814,885    24,701    \n",
       "1               11777.0     814,885    24,701      814,885    24,701    \n",
       "2               11777.0     814,885    24,701      814,885    24,701    \n",
       "3               11777.0     814,885    24,701      814,885    24,701    \n",
       "4                4952.0     814,885    24,701      814,885    24,701    \n",
       "\n",
       "  Gender_y  Age_y  Income (USD/Month)_y  \n",
       "0     Male   40.0               11777.0  \n",
       "1     Male   40.0               11777.0  \n",
       "2     Male   40.0               11777.0  \n",
       "3     Male   40.0               11777.0  \n",
       "4   Female   24.0                4952.0  "
      ]
     },
     "execution_count": 415,
     "metadata": {},
     "output_type": "execute_result"
    }
   ],
   "source": [
    "# Combining master and customer_id data\n",
    "master_cab_data = pd.merge(master_cab_data, Customer_ID, on = 'Customer ID', how = 'outer')\n",
    "master_cab_data.head()"
   ]
  },
  {
   "cell_type": "code",
   "execution_count": 414,
   "id": "d9adb989-5f64-4f09-944b-e895e5346f20",
   "metadata": {
    "tags": []
   },
   "outputs": [
    {
     "data": {
      "text/html": [
       "<div>\n",
       "<style scoped>\n",
       "    .dataframe tbody tr th:only-of-type {\n",
       "        vertical-align: middle;\n",
       "    }\n",
       "\n",
       "    .dataframe tbody tr th {\n",
       "        vertical-align: top;\n",
       "    }\n",
       "\n",
       "    .dataframe thead th {\n",
       "        text-align: right;\n",
       "    }\n",
       "</style>\n",
       "<table border=\"1\" class=\"dataframe\">\n",
       "  <thead>\n",
       "    <tr style=\"text-align: right;\">\n",
       "      <th></th>\n",
       "      <th>Transaction ID</th>\n",
       "      <th>Date of Travel</th>\n",
       "      <th>Company</th>\n",
       "      <th>City</th>\n",
       "      <th>KM Travelled</th>\n",
       "      <th>Price Charged</th>\n",
       "      <th>Cost of Trip</th>\n",
       "      <th>Customer ID</th>\n",
       "      <th>Payment_Mode</th>\n",
       "      <th>Gender</th>\n",
       "      <th>Age</th>\n",
       "      <th>Income (USD/Month)</th>\n",
       "      <th>Population_x</th>\n",
       "      <th>Users_x</th>\n",
       "      <th>Population_y</th>\n",
       "      <th>Users_y</th>\n",
       "    </tr>\n",
       "  </thead>\n",
       "  <tbody>\n",
       "    <tr>\n",
       "      <th>0</th>\n",
       "      <td>10004263.0</td>\n",
       "      <td>2016-02-03</td>\n",
       "      <td>Pink Cab</td>\n",
       "      <td>ATLANTA GA</td>\n",
       "      <td>25.07</td>\n",
       "      <td>355.29</td>\n",
       "      <td>285.7980</td>\n",
       "      <td>29170.0</td>\n",
       "      <td>Cash</td>\n",
       "      <td>Male</td>\n",
       "      <td>40.0</td>\n",
       "      <td>11777.0</td>\n",
       "      <td>814,885</td>\n",
       "      <td>24,701</td>\n",
       "      <td>814,885</td>\n",
       "      <td>24,701</td>\n",
       "    </tr>\n",
       "    <tr>\n",
       "      <th>1</th>\n",
       "      <td>10049443.0</td>\n",
       "      <td>2016-07-05</td>\n",
       "      <td>Pink Cab</td>\n",
       "      <td>ATLANTA GA</td>\n",
       "      <td>19.72</td>\n",
       "      <td>203.13</td>\n",
       "      <td>228.7520</td>\n",
       "      <td>29170.0</td>\n",
       "      <td>Cash</td>\n",
       "      <td>Male</td>\n",
       "      <td>40.0</td>\n",
       "      <td>11777.0</td>\n",
       "      <td>814,885</td>\n",
       "      <td>24,701</td>\n",
       "      <td>814,885</td>\n",
       "      <td>24,701</td>\n",
       "    </tr>\n",
       "    <tr>\n",
       "      <th>2</th>\n",
       "      <td>10197301.0</td>\n",
       "      <td>2017-07-22</td>\n",
       "      <td>Yellow Cab</td>\n",
       "      <td>ATLANTA GA</td>\n",
       "      <td>3.60</td>\n",
       "      <td>90.89</td>\n",
       "      <td>48.8160</td>\n",
       "      <td>29170.0</td>\n",
       "      <td>Card</td>\n",
       "      <td>Male</td>\n",
       "      <td>40.0</td>\n",
       "      <td>11777.0</td>\n",
       "      <td>814,885</td>\n",
       "      <td>24,701</td>\n",
       "      <td>814,885</td>\n",
       "      <td>24,701</td>\n",
       "    </tr>\n",
       "    <tr>\n",
       "      <th>3</th>\n",
       "      <td>10391854.0</td>\n",
       "      <td>2018-10-21</td>\n",
       "      <td>Pink Cab</td>\n",
       "      <td>ATLANTA GA</td>\n",
       "      <td>36.63</td>\n",
       "      <td>495.41</td>\n",
       "      <td>435.8970</td>\n",
       "      <td>29170.0</td>\n",
       "      <td>Cash</td>\n",
       "      <td>Male</td>\n",
       "      <td>40.0</td>\n",
       "      <td>11777.0</td>\n",
       "      <td>814,885</td>\n",
       "      <td>24,701</td>\n",
       "      <td>814,885</td>\n",
       "      <td>24,701</td>\n",
       "    </tr>\n",
       "    <tr>\n",
       "      <th>4</th>\n",
       "      <td>10004540.0</td>\n",
       "      <td>2016-01-31</td>\n",
       "      <td>Yellow Cab</td>\n",
       "      <td>ATLANTA GA</td>\n",
       "      <td>44.84</td>\n",
       "      <td>821.07</td>\n",
       "      <td>586.5072</td>\n",
       "      <td>29273.0</td>\n",
       "      <td>Card</td>\n",
       "      <td>Female</td>\n",
       "      <td>24.0</td>\n",
       "      <td>4952.0</td>\n",
       "      <td>814,885</td>\n",
       "      <td>24,701</td>\n",
       "      <td>814,885</td>\n",
       "      <td>24,701</td>\n",
       "    </tr>\n",
       "  </tbody>\n",
       "</table>\n",
       "</div>"
      ],
      "text/plain": [
       "   Transaction ID Date of Travel     Company        City  KM Travelled  \\\n",
       "0      10004263.0     2016-02-03    Pink Cab  ATLANTA GA         25.07   \n",
       "1      10049443.0     2016-07-05    Pink Cab  ATLANTA GA         19.72   \n",
       "2      10197301.0     2017-07-22  Yellow Cab  ATLANTA GA          3.60   \n",
       "3      10391854.0     2018-10-21    Pink Cab  ATLANTA GA         36.63   \n",
       "4      10004540.0     2016-01-31  Yellow Cab  ATLANTA GA         44.84   \n",
       "\n",
       "   Price Charged  Cost of Trip  Customer ID Payment_Mode  Gender   Age  \\\n",
       "0         355.29      285.7980      29170.0         Cash    Male  40.0   \n",
       "1         203.13      228.7520      29170.0         Cash    Male  40.0   \n",
       "2          90.89       48.8160      29170.0         Card    Male  40.0   \n",
       "3         495.41      435.8970      29170.0         Cash    Male  40.0   \n",
       "4         821.07      586.5072      29273.0         Card  Female  24.0   \n",
       "\n",
       "   Income (USD/Month) Population_x   Users_x Population_y   Users_y  \n",
       "0             11777.0     814,885    24,701      814,885    24,701   \n",
       "1             11777.0     814,885    24,701      814,885    24,701   \n",
       "2             11777.0     814,885    24,701      814,885    24,701   \n",
       "3             11777.0     814,885    24,701      814,885    24,701   \n",
       "4              4952.0     814,885    24,701      814,885    24,701   "
      ]
     },
     "execution_count": 414,
     "metadata": {},
     "output_type": "execute_result"
    }
   ],
   "source": [
    "# Combining master and city data\n",
    "master_cab_data = pd.merge(master_cab_data, city, on = 'City', how = 'outer')\n",
    "master_cab_data.head()"
   ]
  },
  {
   "cell_type": "code",
   "execution_count": 413,
   "id": "026312bb-7fe6-4742-b947-9a8ef5d9b34e",
   "metadata": {
    "tags": []
   },
   "outputs": [
    {
     "data": {
      "text/html": [
       "<div>\n",
       "<style scoped>\n",
       "    .dataframe tbody tr th:only-of-type {\n",
       "        vertical-align: middle;\n",
       "    }\n",
       "\n",
       "    .dataframe tbody tr th {\n",
       "        vertical-align: top;\n",
       "    }\n",
       "\n",
       "    .dataframe thead th {\n",
       "        text-align: right;\n",
       "    }\n",
       "</style>\n",
       "<table border=\"1\" class=\"dataframe\">\n",
       "  <thead>\n",
       "    <tr style=\"text-align: right;\">\n",
       "      <th></th>\n",
       "      <th>Transaction ID</th>\n",
       "      <th>Date of Travel</th>\n",
       "      <th>Company</th>\n",
       "      <th>City</th>\n",
       "      <th>KM Travelled</th>\n",
       "      <th>Price Charged</th>\n",
       "      <th>Cost of Trip</th>\n",
       "      <th>Customer ID</th>\n",
       "      <th>Payment_Mode</th>\n",
       "      <th>Gender</th>\n",
       "      <th>Age</th>\n",
       "      <th>Income (USD/Month)</th>\n",
       "      <th>Population</th>\n",
       "      <th>Users</th>\n",
       "    </tr>\n",
       "  </thead>\n",
       "  <tbody>\n",
       "    <tr>\n",
       "      <th>433764</th>\n",
       "      <td>10005122.0</td>\n",
       "      <td>2016-01-31</td>\n",
       "      <td>Yellow Cab</td>\n",
       "      <td>PITTSBURGH PA</td>\n",
       "      <td>26.88</td>\n",
       "      <td>548.97</td>\n",
       "      <td>325.7856</td>\n",
       "      <td>48763.0</td>\n",
       "      <td>Card</td>\n",
       "      <td>Male</td>\n",
       "      <td>34.0</td>\n",
       "      <td>23267.0</td>\n",
       "      <td>542,085</td>\n",
       "      <td>3,643</td>\n",
       "    </tr>\n",
       "    <tr>\n",
       "      <th>191326</th>\n",
       "      <td>10006421.0</td>\n",
       "      <td>2016-01-31</td>\n",
       "      <td>Yellow Cab</td>\n",
       "      <td>LOS ANGELES CA</td>\n",
       "      <td>46.41</td>\n",
       "      <td>1115.65</td>\n",
       "      <td>634.8888</td>\n",
       "      <td>6261.0</td>\n",
       "      <td>Cash</td>\n",
       "      <td>Female</td>\n",
       "      <td>20.0</td>\n",
       "      <td>24294.0</td>\n",
       "      <td>1,595,037</td>\n",
       "      <td>144,132</td>\n",
       "    </tr>\n",
       "    <tr>\n",
       "      <th>7844</th>\n",
       "      <td>10005558.0</td>\n",
       "      <td>2016-01-31</td>\n",
       "      <td>Pink Cab</td>\n",
       "      <td>BOSTON MA</td>\n",
       "      <td>14.14</td>\n",
       "      <td>241.25</td>\n",
       "      <td>142.8140</td>\n",
       "      <td>57150.0</td>\n",
       "      <td>Cash</td>\n",
       "      <td>Female</td>\n",
       "      <td>26.0</td>\n",
       "      <td>9950.0</td>\n",
       "      <td>248,968</td>\n",
       "      <td>80,021</td>\n",
       "    </tr>\n",
       "    <tr>\n",
       "      <th>191201</th>\n",
       "      <td>10006414.0</td>\n",
       "      <td>2016-01-31</td>\n",
       "      <td>Yellow Cab</td>\n",
       "      <td>LOS ANGELES CA</td>\n",
       "      <td>29.87</td>\n",
       "      <td>784.19</td>\n",
       "      <td>419.3748</td>\n",
       "      <td>8901.0</td>\n",
       "      <td>Card</td>\n",
       "      <td>Male</td>\n",
       "      <td>22.0</td>\n",
       "      <td>4868.0</td>\n",
       "      <td>1,595,037</td>\n",
       "      <td>144,132</td>\n",
       "    </tr>\n",
       "    <tr>\n",
       "      <th>191085</th>\n",
       "      <td>10006406.0</td>\n",
       "      <td>2016-01-31</td>\n",
       "      <td>Yellow Cab</td>\n",
       "      <td>LOS ANGELES CA</td>\n",
       "      <td>38.11</td>\n",
       "      <td>992.18</td>\n",
       "      <td>489.3324</td>\n",
       "      <td>8334.0</td>\n",
       "      <td>Card</td>\n",
       "      <td>Male</td>\n",
       "      <td>37.0</td>\n",
       "      <td>3607.0</td>\n",
       "      <td>1,595,037</td>\n",
       "      <td>144,132</td>\n",
       "    </tr>\n",
       "  </tbody>\n",
       "</table>\n",
       "</div>"
      ],
      "text/plain": [
       "        Transaction ID Date of Travel     Company            City  \\\n",
       "433764      10005122.0     2016-01-31  Yellow Cab   PITTSBURGH PA   \n",
       "191326      10006421.0     2016-01-31  Yellow Cab  LOS ANGELES CA   \n",
       "7844        10005558.0     2016-01-31    Pink Cab       BOSTON MA   \n",
       "191201      10006414.0     2016-01-31  Yellow Cab  LOS ANGELES CA   \n",
       "191085      10006406.0     2016-01-31  Yellow Cab  LOS ANGELES CA   \n",
       "\n",
       "        KM Travelled  Price Charged  Cost of Trip  Customer ID Payment_Mode  \\\n",
       "433764         26.88         548.97      325.7856      48763.0         Card   \n",
       "191326         46.41        1115.65      634.8888       6261.0         Cash   \n",
       "7844           14.14         241.25      142.8140      57150.0         Cash   \n",
       "191201         29.87         784.19      419.3748       8901.0         Card   \n",
       "191085         38.11         992.18      489.3324       8334.0         Card   \n",
       "\n",
       "        Gender   Age  Income (USD/Month)   Population      Users  \n",
       "433764    Male  34.0             23267.0     542,085      3,643   \n",
       "191326  Female  20.0             24294.0   1,595,037    144,132   \n",
       "7844    Female  26.0              9950.0     248,968     80,021   \n",
       "191201    Male  22.0              4868.0   1,595,037    144,132   \n",
       "191085    Male  37.0              3607.0   1,595,037    144,132   "
      ]
     },
     "execution_count": 413,
     "metadata": {},
     "output_type": "execute_result"
    }
   ],
   "source": [
    "master_cab_data.sort_values(by = 'Date of Travel').head()"
   ]
  },
  {
   "cell_type": "markdown",
   "id": "ed85fc4d-266d-4e8f-8237-b62038287cd4",
   "metadata": {
    "tags": []
   },
   "source": [
    "#### One big thing to note is that we can see that not every cutomer in the Customer_ID table ended up having a transaction which means we can't gain any insight into which Cab company a customer would choose."
   ]
  },
  {
   "cell_type": "markdown",
   "id": "6593f009-f771-4ab8-b7df-0a642192fd12",
   "metadata": {
    "tags": []
   },
   "source": [
    "#### I will also be removing data which has no date because we wouldn't be able to have an understanding of those data points."
   ]
  },
  {
   "cell_type": "code",
   "execution_count": 368,
   "id": "87ece3da-f1a7-4f57-89fa-af4569a3c295",
   "metadata": {
    "tags": []
   },
   "outputs": [],
   "source": [
    "master_cab_data = master_cab_data[(master_cab_data['Date of Travel']>=\"2016-01-31\") & (master_cab_data['Date of Travel']<=\"2018-12-31\")]"
   ]
  },
  {
   "cell_type": "code",
   "execution_count": 422,
   "id": "243c7f64-e59d-4b37-81dd-1fa18def4475",
   "metadata": {
    "tags": []
   },
   "outputs": [],
   "source": [
    "master_cab_data = master_cab_data.sort_values(by = 'Date of Travel')"
   ]
  },
  {
   "cell_type": "code",
   "execution_count": 373,
   "id": "ca6fe824-e581-4de3-b1b3-46f92022417e",
   "metadata": {
    "tags": []
   },
   "outputs": [
    {
     "data": {
      "text/plain": [
       "Transaction ID        1.0\n",
       "Date of Travel        1.0\n",
       "Company               1.0\n",
       "City                  1.0\n",
       "KM Travelled          1.0\n",
       "Price Charged         1.0\n",
       "Cost of Trip          1.0\n",
       "Customer ID           1.0\n",
       "Payment_Mode          1.0\n",
       "Gender                1.0\n",
       "Age                   1.0\n",
       "Income (USD/Month)    1.0\n",
       "Population            1.0\n",
       "Users                 1.0\n",
       "dtype: float64"
      ]
     },
     "execution_count": 373,
     "metadata": {},
     "output_type": "execute_result"
    }
   ],
   "source": [
    "master_cab_data.count() / master_cab_data.shape[0]"
   ]
  },
  {
   "cell_type": "code",
   "execution_count": 380,
   "id": "e7fd9673-1f72-491a-9f8a-13f91f6f567a",
   "metadata": {
    "tags": []
   },
   "outputs": [
    {
     "name": "stdout",
     "output_type": "stream",
     "text": [
      "<class 'pandas.core.frame.DataFrame'>\n",
      "Int64Index: 355119 entries, 0 to 440097\n",
      "Data columns (total 14 columns):\n",
      " #   Column              Non-Null Count   Dtype  \n",
      "---  ------              --------------   -----  \n",
      " 0   Transaction ID      355119 non-null  float64\n",
      " 1   Date of Travel      355119 non-null  object \n",
      " 2   Company             355119 non-null  object \n",
      " 3   City                355119 non-null  object \n",
      " 4   KM Travelled        355119 non-null  float64\n",
      " 5   Price Charged       355119 non-null  float64\n",
      " 6   Cost of Trip        355119 non-null  float64\n",
      " 7   Customer ID         355119 non-null  float64\n",
      " 8   Payment_Mode        355119 non-null  object \n",
      " 9   Gender              355119 non-null  object \n",
      " 10  Age                 355119 non-null  float64\n",
      " 11  Income (USD/Month)  355119 non-null  float64\n",
      " 12  Population          355119 non-null  object \n",
      " 13  Users               355119 non-null  object \n",
      "dtypes: float64(7), object(7)\n",
      "memory usage: 40.6+ MB\n"
     ]
    }
   ],
   "source": [
    "master_cab_data.info()"
   ]
  },
  {
   "cell_type": "markdown",
   "id": "e3852d88-af7f-4204-9165-d8bddc46b663",
   "metadata": {},
   "source": [
    "#### Checking for outliers"
   ]
  },
  {
   "cell_type": "markdown",
   "id": "dc82ad75-6dbc-4488-9065-a97f2e9a531e",
   "metadata": {},
   "source": [
    "##### KM Travelled"
   ]
  },
  {
   "cell_type": "code",
   "execution_count": 389,
   "id": "3d057a7a-9b41-496d-8b84-22f5a6ad0968",
   "metadata": {
    "tags": []
   },
   "outputs": [
    {
     "data": {
      "image/png": "[encoded data removed]",
      "text/plain": [
       "<Figure size 640x480 with 1 Axes>"
      ]
     },
     "metadata": {},
     "output_type": "display_data"
    }
   ],
   "source": [
    "ax = sns.boxplot(data= master_cab_data[[\"KM Travelled\"]] , orient=\"h\", palette=\"Set2\")"
   ]
  },
  {
   "cell_type": "markdown",
   "id": "1f4a966d-a0d2-41e5-8385-b21cdab423ff",
   "metadata": {},
   "source": [
    "No outliers for KM Travelled!"
   ]
  },
  {
   "cell_type": "markdown",
   "id": "35921348-20d2-4746-86a1-1f83363be4b8",
   "metadata": {},
   "source": [
    "##### Price Charged"
   ]
  },
  {
   "cell_type": "code",
   "execution_count": 390,
   "id": "2b73d247-28d0-4504-95de-6203b5890120",
   "metadata": {
    "tags": []
   },
   "outputs": [
    {
     "data": {
      "image/png": "[encoded data removed]",
      "text/plain": [
       "<Figure size 640x480 with 1 Axes>"
      ]
     },
     "metadata": {},
     "output_type": "display_data"
    }
   ],
   "source": [
    "ax = sns.boxplot(data= master_cab_data[[\"Price Charged\"]] , orient=\"h\", color=\"red\")"
   ]
  },
  {
   "cell_type": "markdown",
   "id": "29e634dd-e736-4425-9340-d76d7bbbda79",
   "metadata": {},
   "source": [
    "As seen above, there are a lot of outlier for price charged. For this data analysis I will be keeping them since there isn't a column that shows how long each trip ended up taking. Also since a lot of data are outliers, I would also assume there is more than meets the eye with these outliers. Thus they will be treated as normal. "
   ]
  },
  {
   "cell_type": "markdown",
   "id": "6d1164af-df01-465f-92fd-35efd06d2846",
   "metadata": {},
   "source": [
    "##### Cost of Trip"
   ]
  },
  {
   "cell_type": "code",
   "execution_count": 392,
   "id": "afe6096e-cb6c-4b42-80c2-bea0379531da",
   "metadata": {
    "tags": []
   },
   "outputs": [
    {
     "data": {
      "image/png": "[encoded data removed]",
      "text/plain": [
       "<Figure size 640x480 with 1 Axes>"
      ]
     },
     "metadata": {},
     "output_type": "display_data"
    }
   ],
   "source": [
    "ax = sns.boxplot(data= master_cab_data[[\"Cost of Trip\"]] , orient=\"h\", color=\"blue\")"
   ]
  },
  {
   "cell_type": "markdown",
   "id": "538cd149-1a27-4a35-a49e-4655366888cb",
   "metadata": {},
   "source": [
    "No outliers for Cost of Trip!"
   ]
  },
  {
   "cell_type": "markdown",
   "id": "5ccf7807-4f3d-4f86-aaa4-cd332d81283e",
   "metadata": {},
   "source": [
    "##### Age "
   ]
  },
  {
   "cell_type": "code",
   "execution_count": 393,
   "id": "597cbc03-c3d9-4428-ac03-99f782dd2041",
   "metadata": {
    "tags": []
   },
   "outputs": [
    {
     "data": {
      "image/png": "[encoded data removed]",
      "text/plain": [
       "<Figure size 640x480 with 1 Axes>"
      ]
     },
     "metadata": {},
     "output_type": "display_data"
    }
   ],
   "source": [
    "ax = sns.boxplot(data= master_cab_data[[\"Age\"]] , orient=\"h\", color=\"pink\")"
   ]
  },
  {
   "cell_type": "markdown",
   "id": "900a50c8-f030-4f6f-8f96-2568bcce78ff",
   "metadata": {},
   "source": [
    "No outliers for Age!"
   ]
  },
  {
   "cell_type": "markdown",
   "id": "c36a9f06-57f4-41df-ba52-ac0c54a0b3c1",
   "metadata": {},
   "source": [
    "##### Income (USD/Month)"
   ]
  },
  {
   "cell_type": "code",
   "execution_count": 402,
   "id": "d4c78bf4-d3ac-43dd-abe8-0e98807ed75e",
   "metadata": {
    "tags": []
   },
   "outputs": [
    {
     "data": {
      "image/png": "[encoded data removed]",
      "text/plain": [
       "<Figure size 640x480 with 1 Axes>"
      ]
     },
     "metadata": {},
     "output_type": "display_data"
    }
   ],
   "source": [
    "ax = sns.boxplot(data= master_cab_data[[\"Cost of Trip\"]] , orient=\"h\", color=\"Green\")"
   ]
  },
  {
   "cell_type": "markdown",
   "id": "c5947b72-0d28-40dc-8322-af2ce7acac4e",
   "metadata": {},
   "source": [
    "No outliers for Income (USD/Month)!"
   ]
  },
  {
   "cell_type": "markdown",
   "id": "7f91a5ed-e6f7-4b5d-8a21-dde9e8c91310",
   "metadata": {},
   "source": [
    "### Assumptions for the Analysis"
   ]
  },
  {
   "cell_type": "markdown",
   "id": "57b8b644-4564-4ac5-923d-14035c3c5cfd",
   "metadata": {},
   "source": [
    "1. For the city data set, the column \"Users\" will be treated as the number of Cab users within that city. \n",
    "2. The \"Date of Travel\" Column is in days from 1900 (1899, 12, 31 since 1900 was a leap year) which is the excel default original timestamp. \n",
    "3. After filtering the master data set to the specified dates of the data we want to look at there are no other NA value columns. This means that the master data without the NAs give us a clearer picture of who and what we are dealing with."
   ]
  },
  {
   "cell_type": "markdown",
   "id": "6412c9e9-f3cb-4d1d-b511-9a2634215403",
   "metadata": {},
   "source": [
    "### Questions For Data (Hypothesis)"
   ]
  },
  {
   "cell_type": "markdown",
   "id": "b49ede16-0989-4823-8b9f-1689b0a635c7",
   "metadata": {},
   "source": [
    "1. Which Cab Company is more popular in each of the cities?\n",
    "2. Which dates tends to have the most transactions per company and why?\n",
    "3. Which cities charge the most per trip based on distance travelled?\n",
    "4. Is there a relationship between season and passengers?\n",
    "5. Are there certain customers who spend more in general or only based on season? and where?\n",
    "6. Does using card or cash make a difference in the distance travelled?\n",
    "7. Do younger audiences tend to take more cab rides than older generations?"
   ]
  },
  {
   "cell_type": "markdown",
   "id": "44268120-62e5-4890-9906-70599410d717",
   "metadata": {},
   "source": [
    "#### Breaking down Cab Company Profit"
   ]
  },
  {
   "cell_type": "code",
   "execution_count": 423,
   "id": "d52fc625-1c6c-4fdf-9e63-785a4f73062a",
   "metadata": {
    "tags": []
   },
   "outputs": [
    {
     "data": {
      "text/html": [
       "<div>\n",
       "<style scoped>\n",
       "    .dataframe tbody tr th:only-of-type {\n",
       "        vertical-align: middle;\n",
       "    }\n",
       "\n",
       "    .dataframe tbody tr th {\n",
       "        vertical-align: top;\n",
       "    }\n",
       "\n",
       "    .dataframe thead th {\n",
       "        text-align: right;\n",
       "    }\n",
       "</style>\n",
       "<table border=\"1\" class=\"dataframe\">\n",
       "  <thead>\n",
       "    <tr style=\"text-align: right;\">\n",
       "      <th></th>\n",
       "      <th>Transaction ID</th>\n",
       "      <th>Date of Travel</th>\n",
       "      <th>Company</th>\n",
       "      <th>City</th>\n",
       "      <th>KM Travelled</th>\n",
       "      <th>Price Charged</th>\n",
       "      <th>Cost of Trip</th>\n",
       "      <th>Customer ID</th>\n",
       "      <th>Payment_Mode</th>\n",
       "    </tr>\n",
       "  </thead>\n",
       "  <tbody>\n",
       "    <tr>\n",
       "      <th>875</th>\n",
       "      <td>10006291</td>\n",
       "      <td>2016-01-31</td>\n",
       "      <td>Yellow Cab</td>\n",
       "      <td>DALLAS TX</td>\n",
       "      <td>5.82</td>\n",
       "      <td>148.10</td>\n",
       "      <td>78.2208</td>\n",
       "      <td>24779</td>\n",
       "      <td>Cash</td>\n",
       "    </tr>\n",
       "    <tr>\n",
       "      <th>1421</th>\n",
       "      <td>10007076</td>\n",
       "      <td>2016-01-31</td>\n",
       "      <td>Yellow Cab</td>\n",
       "      <td>WASHINGTON DC</td>\n",
       "      <td>37.83</td>\n",
       "      <td>855.85</td>\n",
       "      <td>531.1332</td>\n",
       "      <td>53082</td>\n",
       "      <td>Card</td>\n",
       "    </tr>\n",
       "    <tr>\n",
       "      <th>401</th>\n",
       "      <td>10005673</td>\n",
       "      <td>2016-01-31</td>\n",
       "      <td>Pink Cab</td>\n",
       "      <td>NEW YORK NY</td>\n",
       "      <td>31.68</td>\n",
       "      <td>622.35</td>\n",
       "      <td>319.9680</td>\n",
       "      <td>518</td>\n",
       "      <td>Card</td>\n",
       "    </tr>\n",
       "    <tr>\n",
       "      <th>395</th>\n",
       "      <td>10005667</td>\n",
       "      <td>2016-01-31</td>\n",
       "      <td>Pink Cab</td>\n",
       "      <td>NEW YORK NY</td>\n",
       "      <td>9.52</td>\n",
       "      <td>203.79</td>\n",
       "      <td>99.0080</td>\n",
       "      <td>2914</td>\n",
       "      <td>Cash</td>\n",
       "    </tr>\n",
       "    <tr>\n",
       "      <th>394</th>\n",
       "      <td>10005666</td>\n",
       "      <td>2016-01-31</td>\n",
       "      <td>Pink Cab</td>\n",
       "      <td>NEW YORK NY</td>\n",
       "      <td>38.94</td>\n",
       "      <td>737.68</td>\n",
       "      <td>401.0820</td>\n",
       "      <td>66</td>\n",
       "      <td>Card</td>\n",
       "    </tr>\n",
       "  </tbody>\n",
       "</table>\n",
       "</div>"
      ],
      "text/plain": [
       "      Transaction ID Date of Travel     Company           City  KM Travelled  \\\n",
       "875         10006291     2016-01-31  Yellow Cab      DALLAS TX          5.82   \n",
       "1421        10007076     2016-01-31  Yellow Cab  WASHINGTON DC         37.83   \n",
       "401         10005673     2016-01-31    Pink Cab    NEW YORK NY         31.68   \n",
       "395         10005667     2016-01-31    Pink Cab    NEW YORK NY          9.52   \n",
       "394         10005666     2016-01-31    Pink Cab    NEW YORK NY         38.94   \n",
       "\n",
       "      Price Charged  Cost of Trip  Customer ID Payment_Mode  \n",
       "875          148.10       78.2208        24779         Cash  \n",
       "1421         855.85      531.1332        53082         Card  \n",
       "401          622.35      319.9680          518         Card  \n",
       "395          203.79       99.0080         2914         Cash  \n",
       "394          737.68      401.0820           66         Card  "
      ]
     },
     "execution_count": 423,
     "metadata": {},
     "output_type": "execute_result"
    }
   ],
   "source": [
    "master_cab_data.head()"
   ]
  },
  {
   "cell_type": "code",
   "execution_count": 410,
   "id": "c13ea51c-f00e-4102-87eb-652c3f85ed47",
   "metadata": {
    "tags": []
   },
   "outputs": [
    {
     "data": {
      "text/plain": [
       "(83824, 14)"
      ]
     },
     "execution_count": 410,
     "metadata": {},
     "output_type": "execute_result"
    }
   ],
   "source": [
    "pink_cab = master_cab_data[master_cab_data[\"Company\"] == \"Pink Cab\"]\n",
    "pink_cab.shape"
   ]
  },
  {
   "cell_type": "code",
   "execution_count": 409,
   "id": "a742bf8e-e8c0-4e5a-bae9-cae8c94c6f43",
   "metadata": {
    "tags": []
   },
   "outputs": [
    {
     "data": {
      "text/plain": [
       "(271295, 14)"
      ]
     },
     "execution_count": 409,
     "metadata": {},
     "output_type": "execute_result"
    }
   ],
   "source": [
    "yellow_cab = master_cab_data[master_cab_data[\"Company\"] == \"Yellow Cab\"]\n",
    "yellow_cab.shape"
   ]
  },
  {
   "cell_type": "markdown",
   "id": "cf9df0ce-e60b-4527-8bc6-e56cdcc70cf2",
   "metadata": {},
   "source": [
    "First thing to note off the bat, is that yellow cab has way more observations than pink cab company. This means either there was more data collected for yellow cab in general or there was a lot of pink cab data that had missing values."
   ]
  },
  {
   "cell_type": "markdown",
   "id": "403aa0d1-f554-49fe-807a-e75162cc9861",
   "metadata": {},
   "source": [
    "Let's look at the total profit for each company:"
   ]
  },
  {
   "cell_type": "code",
   "execution_count": 458,
   "id": "cc7ad6ee-e38b-4b5a-86ec-a755a73019ef",
   "metadata": {
    "tags": []
   },
   "outputs": [
    {
     "data": {
      "text/html": [
       "<div>\n",
       "<style scoped>\n",
       "    .dataframe tbody tr th:only-of-type {\n",
       "        vertical-align: middle;\n",
       "    }\n",
       "\n",
       "    .dataframe tbody tr th {\n",
       "        vertical-align: top;\n",
       "    }\n",
       "\n",
       "    .dataframe thead tr th {\n",
       "        text-align: left;\n",
       "    }\n",
       "\n",
       "    .dataframe thead tr:last-of-type th {\n",
       "        text-align: right;\n",
       "    }\n",
       "</style>\n",
       "<table border=\"1\" class=\"dataframe\">\n",
       "  <thead>\n",
       "    <tr>\n",
       "      <th></th>\n",
       "      <th colspan=\"2\" halign=\"left\">KM Travelled</th>\n",
       "      <th colspan=\"2\" halign=\"left\">Price Charged</th>\n",
       "      <th colspan=\"2\" halign=\"left\">Cost of Trip</th>\n",
       "    </tr>\n",
       "    <tr>\n",
       "      <th></th>\n",
       "      <th>sum</th>\n",
       "      <th>mean</th>\n",
       "      <th>sum</th>\n",
       "      <th>mean</th>\n",
       "      <th>sum</th>\n",
       "      <th>mean</th>\n",
       "    </tr>\n",
       "    <tr>\n",
       "      <th>Company</th>\n",
       "      <th></th>\n",
       "      <th></th>\n",
       "      <th></th>\n",
       "      <th></th>\n",
       "      <th></th>\n",
       "      <th></th>\n",
       "    </tr>\n",
       "  </thead>\n",
       "  <tbody>\n",
       "    <tr>\n",
       "      <th>Pink Cab</th>\n",
       "      <td>1890944.90</td>\n",
       "      <td>22.56</td>\n",
       "      <td>2.603852e+07</td>\n",
       "      <td>310.63</td>\n",
       "      <td>20799282.80</td>\n",
       "      <td>248.13</td>\n",
       "    </tr>\n",
       "    <tr>\n",
       "      <th>Yellow Cab</th>\n",
       "      <td>6122880.43</td>\n",
       "      <td>22.57</td>\n",
       "      <td>1.241268e+08</td>\n",
       "      <td>457.53</td>\n",
       "      <td>80824199.52</td>\n",
       "      <td>297.92</td>\n",
       "    </tr>\n",
       "  </tbody>\n",
       "</table>\n",
       "</div>"
      ],
      "text/plain": [
       "           KM Travelled        Price Charged         Cost of Trip        \n",
       "                    sum   mean           sum    mean          sum    mean\n",
       "Company                                                                  \n",
       "Pink Cab     1890944.90  22.56  2.603852e+07  310.63  20799282.80  248.13\n",
       "Yellow Cab   6122880.43  22.57  1.241268e+08  457.53  80824199.52  297.92"
      ]
     },
     "execution_count": 458,
     "metadata": {},
     "output_type": "execute_result"
    }
   ],
   "source": [
    "master_cab_data.groupby('Company')[[\"KM Travelled\", \"Price Charged\", \"Cost of Trip\"]].agg(['sum', 'mean']).round(2)"
   ]
  },
  {
   "cell_type": "markdown",
   "id": "231c5f0d-038f-4245-aeaf-64c289241784",
   "metadata": {
    "tags": []
   },
   "source": [
    "Profit in this case is going to be the sum of Price Charged minus the sum of Cost of the Trip"
   ]
  },
  {
   "cell_type": "markdown",
   "id": "faa7c30d-c52c-4ff2-a32d-432b78247a50",
   "metadata": {},
   "source": [
    "##### Pink Cab"
   ]
  },
  {
   "cell_type": "code",
   "execution_count": 470,
   "id": "a5f63da3-54ba-492c-98e3-bcf260ee6cc7",
   "metadata": {
    "tags": []
   },
   "outputs": [
    {
     "data": {
      "text/plain": [
       "5239236.895999998"
      ]
     },
     "execution_count": 470,
     "metadata": {},
     "output_type": "execute_result"
    }
   ],
   "source": [
    "# Pink Cab Profit\n",
    "pink_cab_profit =pink_cab[\"Price Charged\"].sum() - pink_cab[\"Cost of Trip\"].sum()\n",
    "pink_cab_profit"
   ]
  },
  {
   "cell_type": "markdown",
   "id": "0f43a9e9-35be-40cd-affb-736b998a822b",
   "metadata": {},
   "source": [
    "Thus in the 2 year time frame, Pink Cab made a total profit of $5,239,236.90 for the 83,824 observations available/"
   ]
  },
  {
   "cell_type": "markdown",
   "id": "372a6a4a-c4db-4aa5-a687-d831c10c3740",
   "metadata": {},
   "source": [
    "##### Yellow Cab"
   ]
  },
  {
   "cell_type": "code",
   "execution_count": 469,
   "id": "6f2985a1-a99d-4482-a0b2-f622b9bddd52",
   "metadata": {
    "tags": []
   },
   "outputs": [
    {
     "data": {
      "text/plain": [
       "43302611.66239998"
      ]
     },
     "execution_count": 469,
     "metadata": {},
     "output_type": "execute_result"
    }
   ],
   "source": [
    "# Yellow Cab Profit\n",
    "yellow_cab_profit = yellow_cab[\"Price Charged\"].sum() - yellow_cab[\"Cost of Trip\"].sum()\n",
    "yellow_cab_profit"
   ]
  },
  {
   "cell_type": "markdown",
   "id": "0c89df28-09a0-42d6-8ec7-791414d95ff3",
   "metadata": {},
   "source": [
    "Thus in the 2 year time frame, Yellow Cab made a total profit of $43,302,611.66 for the 271295 observations available."
   ]
  },
  {
   "cell_type": "code",
   "execution_count": 496,
   "id": "81e757c0-2f0e-46d8-a57e-5451cdea0017",
   "metadata": {
    "tags": []
   },
   "outputs": [
    {
     "data": {
      "image/png": "[encoded data removed]",
      "text/plain": [
       "<Figure size 640x480 with 1 Axes>"
      ]
     },
     "metadata": {},
     "output_type": "display_data"
    }
   ],
   "source": [
    "b = sns.histplot(yellow_cab, x = \"Price Charged\", color = \"Yellow\") \n",
    "b.set_title(\"Amount of times Yellow Cab vs Pink Cab charged at a given rate\")\n",
    "a = sns.histplot(pink_cab, x = \"Price Charged\", color = \"Blue\")"
   ]
  },
  {
   "cell_type": "markdown",
   "id": "c55c670d-1e82-43b7-bd92-5ca366291cd7",
   "metadata": {
    "tags": []
   },
   "source": [
    "We can see from the above graph that not only does yellow have more volume of transactions, but also they charge higher rates to people. "
   ]
  },
  {
   "cell_type": "code",
   "execution_count": null,
   "id": "5b187eec-deae-457e-90ec-ea6bf766698d",
   "metadata": {},
   "outputs": [],
   "source": []
  }
 ],
 "metadata": {
  "kernelspec": {
   "display_name": "Python 3 (ipykernel)",
   "language": "python",
   "name": "python3"
  },
  "language_info": {
   "codemirror_mode": {
    "name": "ipython",
    "version": 3
   },
   "file_extension": ".py",
   "mimetype": "text/x-python",
   "name": "python",
   "nbconvert_exporter": "python",
   "pygments_lexer": "ipython3",
   "version": "3.9.17"
  }
 },
 "nbformat": 4,
 "nbformat_minor": 5
}
