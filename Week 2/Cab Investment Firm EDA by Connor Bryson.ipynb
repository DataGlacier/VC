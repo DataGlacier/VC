{
 "cells": [
  {
   "cell_type": "markdown",
   "id": "427309b6-5c1f-4f10-af90-9a429519ec9f",
   "metadata": {},
   "source": [
    "# EDA for Cab Investment Firm"
   ]
  },
  {
   "cell_type": "markdown",
   "id": "7dc25af6-c4bc-4b0c-a9f2-58e42ab089e6",
   "metadata": {},
   "source": [
    "## by Connor Bryson\n",
    "## 9/11/2023"
   ]
  },
  {
   "cell_type": "code",
   "execution_count": 1,
   "id": "a500e939-d391-44c6-aa73-ee0bf5ac66c2",
   "metadata": {
    "tags": []
   },
   "outputs": [],
   "source": [
    "# Importing Packages\n",
    "import pandas as pd\n",
    "import numpy as np\n",
    "import datetime\n",
    "import seaborn as sns\n",
    "import matplotlib.pyplot as plt\n",
    "\n",
    "# Loading in Data\n",
    "cab_data = pd.read_csv(\"./Data/Cab_Data.csv\")\n",
    "city = pd.read_csv(\"./Data/City.csv\")\n",
    "Customer_ID = pd.read_csv(\"./Data/Customer_ID.csv\")\n",
    "Transaction_ID = pd.read_csv(\"./Data/Transaction_ID.csv\")"
   ]
  },
  {
   "cell_type": "markdown",
   "id": "69eb4c2d-f3c4-43e7-9481-b51cccc29e9b",
   "metadata": {
    "tags": []
   },
   "source": [
    "# Transforming Data to Right Format"
   ]
  },
  {
   "cell_type": "code",
   "execution_count": 2,
   "id": "a08fe65e-88bc-4bff-991d-8262b51a81b1",
   "metadata": {
    "tags": []
   },
   "outputs": [],
   "source": [
    "# Converting Date to Date object\n",
    "def convert_time(x):\n",
    "    return (datetime.datetime(1899,12,31) + datetime.timedelta(days = int(x)))\n",
    "\n",
    "cab_data['Date of Travel'] = cab_data['Date of Travel'] \\\n",
    ".apply(lambda x : convert_time(x) if (np.all(pd.notnull(x))) else x)\n",
    "\n",
    "# Filtering date for timeperiod as some data falls outside of time period\n",
    "cab_data = cab_data[(cab_data['Date of Travel']>=\"2016-01-31\") & (cab_data['Date of Travel']<=\"2018-12-31\")]"
   ]
  },
  {
   "cell_type": "markdown",
   "id": "e609c462-4b67-4ccb-956c-c3fe0ab395fd",
   "metadata": {},
   "source": [
    "### Joining The Data Into One Master Dataset"
   ]
  },
  {
   "cell_type": "markdown",
   "id": "7ff6d82b-14ba-47fb-afe8-3d87dc6e695d",
   "metadata": {},
   "source": [
    "Cab data will be the main data to join on since it has 2 varibales that can be joined on"
   ]
  },
  {
   "cell_type": "code",
   "execution_count": 3,
   "id": "0423aae0-fd8c-4fec-921a-e29a8f6c9e71",
   "metadata": {
    "tags": []
   },
   "outputs": [],
   "source": [
    "# Merging cab and transaction data\n",
    "master_cab_data = pd.merge(cab_data, Transaction_ID, on='Transaction ID', how = 'outer')\n",
    "\n",
    "# Combining master and customer_id data\n",
    "master_cab_data = pd.merge(master_cab_data, Customer_ID, on = 'Customer ID', how = 'outer')\n",
    "\n",
    "# Combining master and city data\n",
    "master_cab_data = pd.merge(master_cab_data, city, on = 'City', how = 'outer')\n",
    "\n",
    "# Filtering Data to Desired Date\n",
    "master_cab_data = master_cab_data[(master_cab_data['Date of Travel']>= \"2016-01-31\") & (master_cab_data['Date of Travel']<=\"2018-12-31\")]"
   ]
  },
  {
   "cell_type": "markdown",
   "id": "ed85fc4d-266d-4e8f-8237-b62038287cd4",
   "metadata": {
    "tags": []
   },
   "source": [
    "#### One big thing to note is that we can see that not every cutomer in the Customer_ID table ended up having a transaction which means we can't gain any insight into which Cab company a customer would choose."
   ]
  },
  {
   "cell_type": "code",
   "execution_count": 4,
   "id": "243c7f64-e59d-4b37-81dd-1fa18def4475",
   "metadata": {
    "tags": []
   },
   "outputs": [
    {
     "data": {
      "text/html": [
       "<div>\n",
       "<style scoped>\n",
       "    .dataframe tbody tr th:only-of-type {\n",
       "        vertical-align: middle;\n",
       "    }\n",
       "\n",
       "    .dataframe tbody tr th {\n",
       "        vertical-align: top;\n",
       "    }\n",
       "\n",
       "    .dataframe thead th {\n",
       "        text-align: right;\n",
       "    }\n",
       "</style>\n",
       "<table border=\"1\" class=\"dataframe\">\n",
       "  <thead>\n",
       "    <tr style=\"text-align: right;\">\n",
       "      <th></th>\n",
       "      <th>Transaction ID</th>\n",
       "      <th>Date of Travel</th>\n",
       "      <th>Company</th>\n",
       "      <th>City</th>\n",
       "      <th>KM Travelled</th>\n",
       "      <th>Price Charged</th>\n",
       "      <th>Cost of Trip</th>\n",
       "      <th>Customer ID</th>\n",
       "      <th>Payment_Mode</th>\n",
       "      <th>Gender</th>\n",
       "      <th>Age</th>\n",
       "      <th>Income (USD/Month)</th>\n",
       "      <th>Population</th>\n",
       "      <th>Users</th>\n",
       "    </tr>\n",
       "  </thead>\n",
       "  <tbody>\n",
       "    <tr>\n",
       "      <th>433764</th>\n",
       "      <td>10005122.0</td>\n",
       "      <td>2016-01-31</td>\n",
       "      <td>Yellow Cab</td>\n",
       "      <td>PITTSBURGH PA</td>\n",
       "      <td>26.88</td>\n",
       "      <td>548.97</td>\n",
       "      <td>325.7856</td>\n",
       "      <td>48763.0</td>\n",
       "      <td>Card</td>\n",
       "      <td>Male</td>\n",
       "      <td>34.0</td>\n",
       "      <td>23267.0</td>\n",
       "      <td>542,085</td>\n",
       "      <td>3,643</td>\n",
       "    </tr>\n",
       "    <tr>\n",
       "      <th>191326</th>\n",
       "      <td>10006421.0</td>\n",
       "      <td>2016-01-31</td>\n",
       "      <td>Yellow Cab</td>\n",
       "      <td>LOS ANGELES CA</td>\n",
       "      <td>46.41</td>\n",
       "      <td>1115.65</td>\n",
       "      <td>634.8888</td>\n",
       "      <td>6261.0</td>\n",
       "      <td>Cash</td>\n",
       "      <td>Female</td>\n",
       "      <td>20.0</td>\n",
       "      <td>24294.0</td>\n",
       "      <td>1,595,037</td>\n",
       "      <td>144,132</td>\n",
       "    </tr>\n",
       "    <tr>\n",
       "      <th>7844</th>\n",
       "      <td>10005558.0</td>\n",
       "      <td>2016-01-31</td>\n",
       "      <td>Pink Cab</td>\n",
       "      <td>BOSTON MA</td>\n",
       "      <td>14.14</td>\n",
       "      <td>241.25</td>\n",
       "      <td>142.8140</td>\n",
       "      <td>57150.0</td>\n",
       "      <td>Cash</td>\n",
       "      <td>Female</td>\n",
       "      <td>26.0</td>\n",
       "      <td>9950.0</td>\n",
       "      <td>248,968</td>\n",
       "      <td>80,021</td>\n",
       "    </tr>\n",
       "    <tr>\n",
       "      <th>191201</th>\n",
       "      <td>10006414.0</td>\n",
       "      <td>2016-01-31</td>\n",
       "      <td>Yellow Cab</td>\n",
       "      <td>LOS ANGELES CA</td>\n",
       "      <td>29.87</td>\n",
       "      <td>784.19</td>\n",
       "      <td>419.3748</td>\n",
       "      <td>8901.0</td>\n",
       "      <td>Card</td>\n",
       "      <td>Male</td>\n",
       "      <td>22.0</td>\n",
       "      <td>4868.0</td>\n",
       "      <td>1,595,037</td>\n",
       "      <td>144,132</td>\n",
       "    </tr>\n",
       "    <tr>\n",
       "      <th>191085</th>\n",
       "      <td>10006406.0</td>\n",
       "      <td>2016-01-31</td>\n",
       "      <td>Yellow Cab</td>\n",
       "      <td>LOS ANGELES CA</td>\n",
       "      <td>38.11</td>\n",
       "      <td>992.18</td>\n",
       "      <td>489.3324</td>\n",
       "      <td>8334.0</td>\n",
       "      <td>Card</td>\n",
       "      <td>Male</td>\n",
       "      <td>37.0</td>\n",
       "      <td>3607.0</td>\n",
       "      <td>1,595,037</td>\n",
       "      <td>144,132</td>\n",
       "    </tr>\n",
       "    <tr>\n",
       "      <th>...</th>\n",
       "      <td>...</td>\n",
       "      <td>...</td>\n",
       "      <td>...</td>\n",
       "      <td>...</td>\n",
       "      <td>...</td>\n",
       "      <td>...</td>\n",
       "      <td>...</td>\n",
       "      <td>...</td>\n",
       "      <td>...</td>\n",
       "      <td>...</td>\n",
       "      <td>...</td>\n",
       "      <td>...</td>\n",
       "      <td>...</td>\n",
       "      <td>...</td>\n",
       "    </tr>\n",
       "    <tr>\n",
       "      <th>262571</th>\n",
       "      <td>10435753.0</td>\n",
       "      <td>2018-12-31</td>\n",
       "      <td>Yellow Cab</td>\n",
       "      <td>NEW YORK NY</td>\n",
       "      <td>3.27</td>\n",
       "      <td>85.05</td>\n",
       "      <td>45.5184</td>\n",
       "      <td>718.0</td>\n",
       "      <td>Card</td>\n",
       "      <td>Male</td>\n",
       "      <td>53.0</td>\n",
       "      <td>17902.0</td>\n",
       "      <td>8,405,837</td>\n",
       "      <td>302,149</td>\n",
       "    </tr>\n",
       "    <tr>\n",
       "      <th>414929</th>\n",
       "      <td>10436602.0</td>\n",
       "      <td>2018-12-31</td>\n",
       "      <td>Yellow Cab</td>\n",
       "      <td>WASHINGTON DC</td>\n",
       "      <td>37.20</td>\n",
       "      <td>541.18</td>\n",
       "      <td>508.8960</td>\n",
       "      <td>51380.0</td>\n",
       "      <td>Card</td>\n",
       "      <td>Male</td>\n",
       "      <td>38.0</td>\n",
       "      <td>13277.0</td>\n",
       "      <td>418,859</td>\n",
       "      <td>127,001</td>\n",
       "    </tr>\n",
       "    <tr>\n",
       "      <th>401093</th>\n",
       "      <td>10436536.0</td>\n",
       "      <td>2018-12-31</td>\n",
       "      <td>Yellow Cab</td>\n",
       "      <td>WASHINGTON DC</td>\n",
       "      <td>11.60</td>\n",
       "      <td>180.69</td>\n",
       "      <td>151.7280</td>\n",
       "      <td>51797.0</td>\n",
       "      <td>Card</td>\n",
       "      <td>Male</td>\n",
       "      <td>45.0</td>\n",
       "      <td>9902.0</td>\n",
       "      <td>418,859</td>\n",
       "      <td>127,001</td>\n",
       "    </tr>\n",
       "    <tr>\n",
       "      <th>352718</th>\n",
       "      <td>10436001.0</td>\n",
       "      <td>2018-12-31</td>\n",
       "      <td>Yellow Cab</td>\n",
       "      <td>SAN DIEGO CA</td>\n",
       "      <td>43.60</td>\n",
       "      <td>644.01</td>\n",
       "      <td>544.1280</td>\n",
       "      <td>18246.0</td>\n",
       "      <td>Card</td>\n",
       "      <td>Male</td>\n",
       "      <td>39.0</td>\n",
       "      <td>2336.0</td>\n",
       "      <td>959,307</td>\n",
       "      <td>69,995</td>\n",
       "    </tr>\n",
       "    <tr>\n",
       "      <th>405322</th>\n",
       "      <td>10434059.0</td>\n",
       "      <td>2018-12-31</td>\n",
       "      <td>Pink Cab</td>\n",
       "      <td>WASHINGTON DC</td>\n",
       "      <td>44.00</td>\n",
       "      <td>674.28</td>\n",
       "      <td>528.0000</td>\n",
       "      <td>51704.0</td>\n",
       "      <td>Cash</td>\n",
       "      <td>Male</td>\n",
       "      <td>46.0</td>\n",
       "      <td>12387.0</td>\n",
       "      <td>418,859</td>\n",
       "      <td>127,001</td>\n",
       "    </tr>\n",
       "  </tbody>\n",
       "</table>\n",
       "<p>355119 rows × 14 columns</p>\n",
       "</div>"
      ],
      "text/plain": [
       "        Transaction ID Date of Travel     Company            City  \\\n",
       "433764      10005122.0     2016-01-31  Yellow Cab   PITTSBURGH PA   \n",
       "191326      10006421.0     2016-01-31  Yellow Cab  LOS ANGELES CA   \n",
       "7844        10005558.0     2016-01-31    Pink Cab       BOSTON MA   \n",
       "191201      10006414.0     2016-01-31  Yellow Cab  LOS ANGELES CA   \n",
       "191085      10006406.0     2016-01-31  Yellow Cab  LOS ANGELES CA   \n",
       "...                ...            ...         ...             ...   \n",
       "262571      10435753.0     2018-12-31  Yellow Cab     NEW YORK NY   \n",
       "414929      10436602.0     2018-12-31  Yellow Cab   WASHINGTON DC   \n",
       "401093      10436536.0     2018-12-31  Yellow Cab   WASHINGTON DC   \n",
       "352718      10436001.0     2018-12-31  Yellow Cab    SAN DIEGO CA   \n",
       "405322      10434059.0     2018-12-31    Pink Cab   WASHINGTON DC   \n",
       "\n",
       "        KM Travelled  Price Charged  Cost of Trip  Customer ID Payment_Mode  \\\n",
       "433764         26.88         548.97      325.7856      48763.0         Card   \n",
       "191326         46.41        1115.65      634.8888       6261.0         Cash   \n",
       "7844           14.14         241.25      142.8140      57150.0         Cash   \n",
       "191201         29.87         784.19      419.3748       8901.0         Card   \n",
       "191085         38.11         992.18      489.3324       8334.0         Card   \n",
       "...              ...            ...           ...          ...          ...   \n",
       "262571          3.27          85.05       45.5184        718.0         Card   \n",
       "414929         37.20         541.18      508.8960      51380.0         Card   \n",
       "401093         11.60         180.69      151.7280      51797.0         Card   \n",
       "352718         43.60         644.01      544.1280      18246.0         Card   \n",
       "405322         44.00         674.28      528.0000      51704.0         Cash   \n",
       "\n",
       "        Gender   Age  Income (USD/Month)   Population      Users  \n",
       "433764    Male  34.0             23267.0     542,085      3,643   \n",
       "191326  Female  20.0             24294.0   1,595,037    144,132   \n",
       "7844    Female  26.0              9950.0     248,968     80,021   \n",
       "191201    Male  22.0              4868.0   1,595,037    144,132   \n",
       "191085    Male  37.0              3607.0   1,595,037    144,132   \n",
       "...        ...   ...                 ...          ...        ...  \n",
       "262571    Male  53.0             17902.0   8,405,837    302,149   \n",
       "414929    Male  38.0             13277.0     418,859    127,001   \n",
       "401093    Male  45.0              9902.0     418,859    127,001   \n",
       "352718    Male  39.0              2336.0     959,307     69,995   \n",
       "405322    Male  46.0             12387.0     418,859    127,001   \n",
       "\n",
       "[355119 rows x 14 columns]"
      ]
     },
     "execution_count": 4,
     "metadata": {},
     "output_type": "execute_result"
    }
   ],
   "source": [
    "master_cab_data = master_cab_data.sort_values(by = 'Date of Travel')\n",
    "master_cab_data"
   ]
  },
  {
   "cell_type": "markdown",
   "id": "afb820f2-bdf4-4c20-a262-92e24c0930da",
   "metadata": {},
   "source": [
    "### Age"
   ]
  },
  {
   "cell_type": "code",
   "execution_count": 21,
   "id": "a33dbfe3-3496-4ba9-94d3-00c05615fdcf",
   "metadata": {
    "tags": []
   },
   "outputs": [
    {
     "data": {
      "text/html": [
       "<div>\n",
       "<style scoped>\n",
       "    .dataframe tbody tr th:only-of-type {\n",
       "        vertical-align: middle;\n",
       "    }\n",
       "\n",
       "    .dataframe tbody tr th {\n",
       "        vertical-align: top;\n",
       "    }\n",
       "\n",
       "    .dataframe thead th {\n",
       "        text-align: right;\n",
       "    }\n",
       "</style>\n",
       "<table border=\"1\" class=\"dataframe\">\n",
       "  <thead>\n",
       "    <tr style=\"text-align: right;\">\n",
       "      <th></th>\n",
       "      <th>Transaction ID</th>\n",
       "      <th>Date of Travel</th>\n",
       "      <th>Company</th>\n",
       "      <th>City</th>\n",
       "      <th>KM Travelled</th>\n",
       "      <th>Price Charged</th>\n",
       "      <th>Cost of Trip</th>\n",
       "      <th>Customer ID</th>\n",
       "      <th>Payment_Mode</th>\n",
       "      <th>Gender</th>\n",
       "      <th>Age</th>\n",
       "      <th>Income (USD/Month)</th>\n",
       "      <th>Population</th>\n",
       "      <th>Users</th>\n",
       "      <th>Age Group</th>\n",
       "    </tr>\n",
       "  </thead>\n",
       "  <tbody>\n",
       "    <tr>\n",
       "      <th>433764</th>\n",
       "      <td>10005122.0</td>\n",
       "      <td>2016-01-31</td>\n",
       "      <td>Yellow Cab</td>\n",
       "      <td>PITTSBURGH PA</td>\n",
       "      <td>26.88</td>\n",
       "      <td>548.97</td>\n",
       "      <td>325.7856</td>\n",
       "      <td>48763.0</td>\n",
       "      <td>Card</td>\n",
       "      <td>Male</td>\n",
       "      <td>34.0</td>\n",
       "      <td>23267.0</td>\n",
       "      <td>542,085</td>\n",
       "      <td>3,643</td>\n",
       "      <td>30s</td>\n",
       "    </tr>\n",
       "    <tr>\n",
       "      <th>191326</th>\n",
       "      <td>10006421.0</td>\n",
       "      <td>2016-01-31</td>\n",
       "      <td>Yellow Cab</td>\n",
       "      <td>LOS ANGELES CA</td>\n",
       "      <td>46.41</td>\n",
       "      <td>1115.65</td>\n",
       "      <td>634.8888</td>\n",
       "      <td>6261.0</td>\n",
       "      <td>Cash</td>\n",
       "      <td>Female</td>\n",
       "      <td>20.0</td>\n",
       "      <td>24294.0</td>\n",
       "      <td>1,595,037</td>\n",
       "      <td>144,132</td>\n",
       "      <td>20s</td>\n",
       "    </tr>\n",
       "    <tr>\n",
       "      <th>7844</th>\n",
       "      <td>10005558.0</td>\n",
       "      <td>2016-01-31</td>\n",
       "      <td>Pink Cab</td>\n",
       "      <td>BOSTON MA</td>\n",
       "      <td>14.14</td>\n",
       "      <td>241.25</td>\n",
       "      <td>142.8140</td>\n",
       "      <td>57150.0</td>\n",
       "      <td>Cash</td>\n",
       "      <td>Female</td>\n",
       "      <td>26.0</td>\n",
       "      <td>9950.0</td>\n",
       "      <td>248,968</td>\n",
       "      <td>80,021</td>\n",
       "      <td>20s</td>\n",
       "    </tr>\n",
       "    <tr>\n",
       "      <th>191201</th>\n",
       "      <td>10006414.0</td>\n",
       "      <td>2016-01-31</td>\n",
       "      <td>Yellow Cab</td>\n",
       "      <td>LOS ANGELES CA</td>\n",
       "      <td>29.87</td>\n",
       "      <td>784.19</td>\n",
       "      <td>419.3748</td>\n",
       "      <td>8901.0</td>\n",
       "      <td>Card</td>\n",
       "      <td>Male</td>\n",
       "      <td>22.0</td>\n",
       "      <td>4868.0</td>\n",
       "      <td>1,595,037</td>\n",
       "      <td>144,132</td>\n",
       "      <td>20s</td>\n",
       "    </tr>\n",
       "    <tr>\n",
       "      <th>191085</th>\n",
       "      <td>10006406.0</td>\n",
       "      <td>2016-01-31</td>\n",
       "      <td>Yellow Cab</td>\n",
       "      <td>LOS ANGELES CA</td>\n",
       "      <td>38.11</td>\n",
       "      <td>992.18</td>\n",
       "      <td>489.3324</td>\n",
       "      <td>8334.0</td>\n",
       "      <td>Card</td>\n",
       "      <td>Male</td>\n",
       "      <td>37.0</td>\n",
       "      <td>3607.0</td>\n",
       "      <td>1,595,037</td>\n",
       "      <td>144,132</td>\n",
       "      <td>30s</td>\n",
       "    </tr>\n",
       "  </tbody>\n",
       "</table>\n",
       "</div>"
      ],
      "text/plain": [
       "        Transaction ID Date of Travel     Company            City  \\\n",
       "433764      10005122.0     2016-01-31  Yellow Cab   PITTSBURGH PA   \n",
       "191326      10006421.0     2016-01-31  Yellow Cab  LOS ANGELES CA   \n",
       "7844        10005558.0     2016-01-31    Pink Cab       BOSTON MA   \n",
       "191201      10006414.0     2016-01-31  Yellow Cab  LOS ANGELES CA   \n",
       "191085      10006406.0     2016-01-31  Yellow Cab  LOS ANGELES CA   \n",
       "\n",
       "        KM Travelled  Price Charged  Cost of Trip  Customer ID Payment_Mode  \\\n",
       "433764         26.88         548.97      325.7856      48763.0         Card   \n",
       "191326         46.41        1115.65      634.8888       6261.0         Cash   \n",
       "7844           14.14         241.25      142.8140      57150.0         Cash   \n",
       "191201         29.87         784.19      419.3748       8901.0         Card   \n",
       "191085         38.11         992.18      489.3324       8334.0         Card   \n",
       "\n",
       "        Gender   Age  Income (USD/Month)   Population      Users Age Group  \n",
       "433764    Male  34.0             23267.0     542,085      3,643        30s  \n",
       "191326  Female  20.0             24294.0   1,595,037    144,132        20s  \n",
       "7844    Female  26.0              9950.0     248,968     80,021        20s  \n",
       "191201    Male  22.0              4868.0   1,595,037    144,132        20s  \n",
       "191085    Male  37.0              3607.0   1,595,037    144,132        30s  "
      ]
     },
     "execution_count": 21,
     "metadata": {},
     "output_type": "execute_result"
    }
   ],
   "source": [
    "master_cab_data['Age Group'] = pd.cut(master_cab_data['Age'],  bins=[-1, 10, 19, 29, 39, 49, 59, 69],\n",
    "                    labels=[ 'Children', 'Adolescents' , '20s', '30s', '40s', '50s', '60s'])\n",
    "master_cab_data.head()"
   ]
  },
  {
   "cell_type": "code",
   "execution_count": 22,
   "id": "ca6fe824-e581-4de3-b1b3-46f92022417e",
   "metadata": {
    "tags": []
   },
   "outputs": [
    {
     "data": {
      "text/plain": [
       "Transaction ID        1.0\n",
       "Date of Travel        1.0\n",
       "Company               1.0\n",
       "City                  1.0\n",
       "KM Travelled          1.0\n",
       "Price Charged         1.0\n",
       "Cost of Trip          1.0\n",
       "Customer ID           1.0\n",
       "Payment_Mode          1.0\n",
       "Gender                1.0\n",
       "Age                   1.0\n",
       "Income (USD/Month)    1.0\n",
       "Population            1.0\n",
       "Users                 1.0\n",
       "dtype: float64"
      ]
     },
     "execution_count": 22,
     "metadata": {},
     "output_type": "execute_result"
    }
   ],
   "source": [
    "master_cab_data.count() / master_cab_data.shape[0]"
   ]
  },
  {
   "cell_type": "code",
   "execution_count": 23,
   "id": "e7fd9673-1f72-491a-9f8a-13f91f6f567a",
   "metadata": {
    "tags": []
   },
   "outputs": [
    {
     "name": "stdout",
     "output_type": "stream",
     "text": [
      "<class 'pandas.core.frame.DataFrame'>\n",
      "Int64Index: 355119 entries, 433764 to 405322\n",
      "Data columns (total 14 columns):\n",
      " #   Column              Non-Null Count   Dtype         \n",
      "---  ------              --------------   -----         \n",
      " 0   Transaction ID      355119 non-null  float64       \n",
      " 1   Date of Travel      355119 non-null  datetime64[ns]\n",
      " 2   Company             355119 non-null  object        \n",
      " 3   City                355119 non-null  object        \n",
      " 4   KM Travelled        355119 non-null  float64       \n",
      " 5   Price Charged       355119 non-null  float64       \n",
      " 6   Cost of Trip        355119 non-null  float64       \n",
      " 7   Customer ID         355119 non-null  float64       \n",
      " 8   Payment_Mode        355119 non-null  object        \n",
      " 9   Gender              355119 non-null  object        \n",
      " 10  Age                 355119 non-null  float64       \n",
      " 11  Income (USD/Month)  355119 non-null  float64       \n",
      " 12  Population          355119 non-null  object        \n",
      " 13  Users               355119 non-null  object        \n",
      "dtypes: datetime64[ns](1), float64(7), object(6)\n",
      "memory usage: 40.6+ MB\n"
     ]
    }
   ],
   "source": [
    "master_cab_data.info()"
   ]
  },
  {
   "cell_type": "markdown",
   "id": "0ca53c16-ecab-4cca-9fab-0d0159f9fcc9",
   "metadata": {},
   "source": [
    "#### Information about Data\n",
    "1. The data spans from 31/01/2016 to 31/12/2018.\n",
    "2. The data contains two cab company data combined."
   ]
  },
  {
   "cell_type": "markdown",
   "id": "e2372eba-204e-4569-9799-52cde5da16c7",
   "metadata": {},
   "source": [
    "### Cab Data "
   ]
  },
  {
   "cell_type": "code",
   "execution_count": 3,
   "id": "60ae3402-2bb2-4a86-99e6-deca09d8f887",
   "metadata": {
    "tags": []
   },
   "outputs": [
    {
     "data": {
      "text/html": [
       "<div>\n",
       "<style scoped>\n",
       "    .dataframe tbody tr th:only-of-type {\n",
       "        vertical-align: middle;\n",
       "    }\n",
       "\n",
       "    .dataframe tbody tr th {\n",
       "        vertical-align: top;\n",
       "    }\n",
       "\n",
       "    .dataframe thead th {\n",
       "        text-align: right;\n",
       "    }\n",
       "</style>\n",
       "<table border=\"1\" class=\"dataframe\">\n",
       "  <thead>\n",
       "    <tr style=\"text-align: right;\">\n",
       "      <th></th>\n",
       "      <th>Transaction ID</th>\n",
       "      <th>Date of Travel</th>\n",
       "      <th>Company</th>\n",
       "      <th>City</th>\n",
       "      <th>KM Travelled</th>\n",
       "      <th>Price Charged</th>\n",
       "      <th>Cost of Trip</th>\n",
       "    </tr>\n",
       "  </thead>\n",
       "  <tbody>\n",
       "    <tr>\n",
       "      <th>0</th>\n",
       "      <td>10000011</td>\n",
       "      <td>42377</td>\n",
       "      <td>Pink Cab</td>\n",
       "      <td>ATLANTA GA</td>\n",
       "      <td>30.45</td>\n",
       "      <td>370.95</td>\n",
       "      <td>313.635</td>\n",
       "    </tr>\n",
       "    <tr>\n",
       "      <th>1</th>\n",
       "      <td>10000012</td>\n",
       "      <td>42375</td>\n",
       "      <td>Pink Cab</td>\n",
       "      <td>ATLANTA GA</td>\n",
       "      <td>28.62</td>\n",
       "      <td>358.52</td>\n",
       "      <td>334.854</td>\n",
       "    </tr>\n",
       "    <tr>\n",
       "      <th>2</th>\n",
       "      <td>10000013</td>\n",
       "      <td>42371</td>\n",
       "      <td>Pink Cab</td>\n",
       "      <td>ATLANTA GA</td>\n",
       "      <td>9.04</td>\n",
       "      <td>125.20</td>\n",
       "      <td>97.632</td>\n",
       "    </tr>\n",
       "    <tr>\n",
       "      <th>3</th>\n",
       "      <td>10000014</td>\n",
       "      <td>42376</td>\n",
       "      <td>Pink Cab</td>\n",
       "      <td>ATLANTA GA</td>\n",
       "      <td>33.17</td>\n",
       "      <td>377.40</td>\n",
       "      <td>351.602</td>\n",
       "    </tr>\n",
       "    <tr>\n",
       "      <th>4</th>\n",
       "      <td>10000015</td>\n",
       "      <td>42372</td>\n",
       "      <td>Pink Cab</td>\n",
       "      <td>ATLANTA GA</td>\n",
       "      <td>8.73</td>\n",
       "      <td>114.62</td>\n",
       "      <td>97.776</td>\n",
       "    </tr>\n",
       "  </tbody>\n",
       "</table>\n",
       "</div>"
      ],
      "text/plain": [
       "   Transaction ID  Date of Travel   Company        City  KM Travelled  \\\n",
       "0        10000011           42377  Pink Cab  ATLANTA GA         30.45   \n",
       "1        10000012           42375  Pink Cab  ATLANTA GA         28.62   \n",
       "2        10000013           42371  Pink Cab  ATLANTA GA          9.04   \n",
       "3        10000014           42376  Pink Cab  ATLANTA GA         33.17   \n",
       "4        10000015           42372  Pink Cab  ATLANTA GA          8.73   \n",
       "\n",
       "   Price Charged  Cost of Trip  \n",
       "0         370.95       313.635  \n",
       "1         358.52       334.854  \n",
       "2         125.20        97.632  \n",
       "3         377.40       351.602  \n",
       "4         114.62        97.776  "
      ]
     },
     "execution_count": 3,
     "metadata": {},
     "output_type": "execute_result"
    }
   ],
   "source": [
    "cab_data.head()"
   ]
  },
  {
   "cell_type": "code",
   "execution_count": 4,
   "id": "55e8503d-3cca-4e68-844b-64e7b5f7c9fd",
   "metadata": {
    "tags": []
   },
   "outputs": [
    {
     "name": "stdout",
     "output_type": "stream",
     "text": [
      "<class 'pandas.core.frame.DataFrame'>\n",
      "RangeIndex: 359392 entries, 0 to 359391\n",
      "Data columns (total 7 columns):\n",
      " #   Column          Non-Null Count   Dtype  \n",
      "---  ------          --------------   -----  \n",
      " 0   Transaction ID  359392 non-null  int64  \n",
      " 1   Date of Travel  359392 non-null  int64  \n",
      " 2   Company         359392 non-null  object \n",
      " 3   City            359392 non-null  object \n",
      " 4   KM Travelled    359392 non-null  float64\n",
      " 5   Price Charged   359392 non-null  float64\n",
      " 6   Cost of Trip    359392 non-null  float64\n",
      "dtypes: float64(3), int64(2), object(2)\n",
      "memory usage: 19.2+ MB\n"
     ]
    }
   ],
   "source": [
    "cab_data.info()"
   ]
  },
  {
   "cell_type": "code",
   "execution_count": 5,
   "id": "16fcb4db-f5f1-448e-9f8b-ebabadea86e9",
   "metadata": {
    "tags": []
   },
   "outputs": [],
   "source": [
    "cab_data = cab_data.drop_duplicates()"
   ]
  },
  {
   "cell_type": "code",
   "execution_count": 6,
   "id": "e0d4efa0-8623-4f78-bff6-a1f4c1949131",
   "metadata": {
    "tags": []
   },
   "outputs": [
    {
     "data": {
      "text/plain": [
       "(359392, 7)"
      ]
     },
     "execution_count": 6,
     "metadata": {},
     "output_type": "execute_result"
    }
   ],
   "source": [
    "cab_data.shape"
   ]
  },
  {
   "cell_type": "code",
   "execution_count": 44,
   "id": "b536a8d8-00fb-43ba-b67c-071898059bcc",
   "metadata": {
    "tags": []
   },
   "outputs": [
    {
     "data": {
      "text/html": [
       "<div>\n",
       "<style scoped>\n",
       "    .dataframe tbody tr th:only-of-type {\n",
       "        vertical-align: middle;\n",
       "    }\n",
       "\n",
       "    .dataframe tbody tr th {\n",
       "        vertical-align: top;\n",
       "    }\n",
       "\n",
       "    .dataframe thead th {\n",
       "        text-align: right;\n",
       "    }\n",
       "</style>\n",
       "<table border=\"1\" class=\"dataframe\">\n",
       "  <thead>\n",
       "    <tr style=\"text-align: right;\">\n",
       "      <th></th>\n",
       "      <th>Transaction ID</th>\n",
       "      <th>Date of Travel</th>\n",
       "      <th>Company</th>\n",
       "      <th>City</th>\n",
       "      <th>KM Travelled</th>\n",
       "      <th>Price Charged</th>\n",
       "      <th>Cost of Trip</th>\n",
       "    </tr>\n",
       "  </thead>\n",
       "  <tbody>\n",
       "    <tr>\n",
       "      <th>1030</th>\n",
       "      <td>10001340</td>\n",
       "      <td>2016-01-03</td>\n",
       "      <td>Yellow Cab</td>\n",
       "      <td>WASHINGTON DC</td>\n",
       "      <td>10.20</td>\n",
       "      <td>202.54</td>\n",
       "      <td>135.8640</td>\n",
       "    </tr>\n",
       "    <tr>\n",
       "      <th>489</th>\n",
       "      <td>10000640</td>\n",
       "      <td>2016-01-03</td>\n",
       "      <td>Yellow Cab</td>\n",
       "      <td>CHICAGO IL</td>\n",
       "      <td>15.60</td>\n",
       "      <td>374.66</td>\n",
       "      <td>209.6640</td>\n",
       "    </tr>\n",
       "    <tr>\n",
       "      <th>484</th>\n",
       "      <td>10000635</td>\n",
       "      <td>2016-01-03</td>\n",
       "      <td>Yellow Cab</td>\n",
       "      <td>CHICAGO IL</td>\n",
       "      <td>25.08</td>\n",
       "      <td>532.83</td>\n",
       "      <td>337.0752</td>\n",
       "    </tr>\n",
       "    <tr>\n",
       "      <th>850</th>\n",
       "      <td>10001001</td>\n",
       "      <td>2016-01-03</td>\n",
       "      <td>Yellow Cab</td>\n",
       "      <td>NEW YORK NY</td>\n",
       "      <td>46.80</td>\n",
       "      <td>1391.91</td>\n",
       "      <td>595.2960</td>\n",
       "    </tr>\n",
       "    <tr>\n",
       "      <th>160</th>\n",
       "      <td>10000171</td>\n",
       "      <td>2016-01-03</td>\n",
       "      <td>Pink Cab</td>\n",
       "      <td>SAN DIEGO CA</td>\n",
       "      <td>14.28</td>\n",
       "      <td>269.15</td>\n",
       "      <td>147.0840</td>\n",
       "    </tr>\n",
       "  </tbody>\n",
       "</table>\n",
       "</div>"
      ],
      "text/plain": [
       "      Transaction ID Date of Travel     Company           City  KM Travelled  \\\n",
       "1030        10001340     2016-01-03  Yellow Cab  WASHINGTON DC         10.20   \n",
       "489         10000640     2016-01-03  Yellow Cab     CHICAGO IL         15.60   \n",
       "484         10000635     2016-01-03  Yellow Cab     CHICAGO IL         25.08   \n",
       "850         10001001     2016-01-03  Yellow Cab    NEW YORK NY         46.80   \n",
       "160         10000171     2016-01-03    Pink Cab   SAN DIEGO CA         14.28   \n",
       "\n",
       "      Price Charged  Cost of Trip  \n",
       "1030         202.54      135.8640  \n",
       "489          374.66      209.6640  \n",
       "484          532.83      337.0752  \n",
       "850         1391.91      595.2960  \n",
       "160          269.15      147.0840  "
      ]
     },
     "execution_count": 44,
     "metadata": {},
     "output_type": "execute_result"
    }
   ],
   "source": [
    "cab_data.sort_values(by = 'Date of Travel').head()"
   ]
  },
  {
   "cell_type": "markdown",
   "id": "8b7c8197-d09a-4874-b484-75aa27c58d1b",
   "metadata": {},
   "source": [
    "### Transaction_ID "
   ]
  },
  {
   "cell_type": "code",
   "execution_count": 32,
   "id": "c34961ff-3669-467d-8574-325827e40797",
   "metadata": {
    "tags": []
   },
   "outputs": [
    {
     "name": "stdout",
     "output_type": "stream",
     "text": [
      "<class 'pandas.core.frame.DataFrame'>\n",
      "RangeIndex: 440098 entries, 0 to 440097\n",
      "Data columns (total 3 columns):\n",
      " #   Column          Non-Null Count   Dtype \n",
      "---  ------          --------------   ----- \n",
      " 0   Transaction ID  440098 non-null  int64 \n",
      " 1   Customer ID     440098 non-null  int64 \n",
      " 2   Payment_Mode    440098 non-null  object\n",
      "dtypes: int64(2), object(1)\n",
      "memory usage: 10.1+ MB\n"
     ]
    }
   ],
   "source": [
    "Transaction_ID.info()"
   ]
  },
  {
   "cell_type": "code",
   "execution_count": 33,
   "id": "a31fad1d-0a37-49e9-bf8d-a3947feac528",
   "metadata": {
    "tags": []
   },
   "outputs": [
    {
     "data": {
      "text/html": [
       "<div>\n",
       "<style scoped>\n",
       "    .dataframe tbody tr th:only-of-type {\n",
       "        vertical-align: middle;\n",
       "    }\n",
       "\n",
       "    .dataframe tbody tr th {\n",
       "        vertical-align: top;\n",
       "    }\n",
       "\n",
       "    .dataframe thead th {\n",
       "        text-align: right;\n",
       "    }\n",
       "</style>\n",
       "<table border=\"1\" class=\"dataframe\">\n",
       "  <thead>\n",
       "    <tr style=\"text-align: right;\">\n",
       "      <th></th>\n",
       "      <th>Transaction ID</th>\n",
       "      <th>Customer ID</th>\n",
       "      <th>Payment_Mode</th>\n",
       "    </tr>\n",
       "  </thead>\n",
       "  <tbody>\n",
       "    <tr>\n",
       "      <th>0</th>\n",
       "      <td>10000011</td>\n",
       "      <td>29290</td>\n",
       "      <td>Card</td>\n",
       "    </tr>\n",
       "    <tr>\n",
       "      <th>1</th>\n",
       "      <td>10000012</td>\n",
       "      <td>27703</td>\n",
       "      <td>Card</td>\n",
       "    </tr>\n",
       "    <tr>\n",
       "      <th>2</th>\n",
       "      <td>10000013</td>\n",
       "      <td>28712</td>\n",
       "      <td>Cash</td>\n",
       "    </tr>\n",
       "    <tr>\n",
       "      <th>3</th>\n",
       "      <td>10000014</td>\n",
       "      <td>28020</td>\n",
       "      <td>Cash</td>\n",
       "    </tr>\n",
       "    <tr>\n",
       "      <th>4</th>\n",
       "      <td>10000015</td>\n",
       "      <td>27182</td>\n",
       "      <td>Card</td>\n",
       "    </tr>\n",
       "    <tr>\n",
       "      <th>...</th>\n",
       "      <td>...</td>\n",
       "      <td>...</td>\n",
       "      <td>...</td>\n",
       "    </tr>\n",
       "    <tr>\n",
       "      <th>440093</th>\n",
       "      <td>10440104</td>\n",
       "      <td>53286</td>\n",
       "      <td>Cash</td>\n",
       "    </tr>\n",
       "    <tr>\n",
       "      <th>440094</th>\n",
       "      <td>10440105</td>\n",
       "      <td>52265</td>\n",
       "      <td>Cash</td>\n",
       "    </tr>\n",
       "    <tr>\n",
       "      <th>440095</th>\n",
       "      <td>10440106</td>\n",
       "      <td>52175</td>\n",
       "      <td>Card</td>\n",
       "    </tr>\n",
       "    <tr>\n",
       "      <th>440096</th>\n",
       "      <td>10440107</td>\n",
       "      <td>52917</td>\n",
       "      <td>Card</td>\n",
       "    </tr>\n",
       "    <tr>\n",
       "      <th>440097</th>\n",
       "      <td>10440108</td>\n",
       "      <td>51587</td>\n",
       "      <td>Card</td>\n",
       "    </tr>\n",
       "  </tbody>\n",
       "</table>\n",
       "<p>440098 rows × 3 columns</p>\n",
       "</div>"
      ],
      "text/plain": [
       "        Transaction ID  Customer ID Payment_Mode\n",
       "0             10000011        29290         Card\n",
       "1             10000012        27703         Card\n",
       "2             10000013        28712         Cash\n",
       "3             10000014        28020         Cash\n",
       "4             10000015        27182         Card\n",
       "...                ...          ...          ...\n",
       "440093        10440104        53286         Cash\n",
       "440094        10440105        52265         Cash\n",
       "440095        10440106        52175         Card\n",
       "440096        10440107        52917         Card\n",
       "440097        10440108        51587         Card\n",
       "\n",
       "[440098 rows x 3 columns]"
      ]
     },
     "execution_count": 33,
     "metadata": {},
     "output_type": "execute_result"
    }
   ],
   "source": [
    "Transaction_ID"
   ]
  },
  {
   "cell_type": "code",
   "execution_count": 50,
   "id": "9b6264e9-16e6-4c76-92ce-9e6209d36619",
   "metadata": {
    "tags": []
   },
   "outputs": [],
   "source": [
    "Transaction_ID = Transaction_ID.drop_duplicates()"
   ]
  },
  {
   "cell_type": "code",
   "execution_count": 51,
   "id": "0cd91a99-5bf2-4877-8aa5-b6558bc2bdbc",
   "metadata": {
    "tags": []
   },
   "outputs": [
    {
     "data": {
      "text/plain": [
       "(440098, 3)"
      ]
     },
     "execution_count": 51,
     "metadata": {},
     "output_type": "execute_result"
    }
   ],
   "source": [
    "Transaction_ID.shape"
   ]
  },
  {
   "cell_type": "markdown",
   "id": "092392b7-dbdd-4de6-9f69-712105a5beb3",
   "metadata": {},
   "source": [
    "### Customer_ID"
   ]
  },
  {
   "cell_type": "code",
   "execution_count": 34,
   "id": "40c82c38-4e76-40e2-becb-8b6733440576",
   "metadata": {
    "tags": []
   },
   "outputs": [
    {
     "name": "stdout",
     "output_type": "stream",
     "text": [
      "<class 'pandas.core.frame.DataFrame'>\n",
      "RangeIndex: 49171 entries, 0 to 49170\n",
      "Data columns (total 4 columns):\n",
      " #   Column              Non-Null Count  Dtype \n",
      "---  ------              --------------  ----- \n",
      " 0   Customer ID         49171 non-null  int64 \n",
      " 1   Gender              49171 non-null  object\n",
      " 2   Age                 49171 non-null  int64 \n",
      " 3   Income (USD/Month)  49171 non-null  int64 \n",
      "dtypes: int64(3), object(1)\n",
      "memory usage: 1.5+ MB\n"
     ]
    }
   ],
   "source": [
    "Customer_ID.info()"
   ]
  },
  {
   "cell_type": "code",
   "execution_count": 35,
   "id": "e6d46817-5242-4364-95e8-46915f46efd7",
   "metadata": {
    "tags": []
   },
   "outputs": [
    {
     "data": {
      "text/html": [
       "<div>\n",
       "<style scoped>\n",
       "    .dataframe tbody tr th:only-of-type {\n",
       "        vertical-align: middle;\n",
       "    }\n",
       "\n",
       "    .dataframe tbody tr th {\n",
       "        vertical-align: top;\n",
       "    }\n",
       "\n",
       "    .dataframe thead th {\n",
       "        text-align: right;\n",
       "    }\n",
       "</style>\n",
       "<table border=\"1\" class=\"dataframe\">\n",
       "  <thead>\n",
       "    <tr style=\"text-align: right;\">\n",
       "      <th></th>\n",
       "      <th>Customer ID</th>\n",
       "      <th>Gender</th>\n",
       "      <th>Age</th>\n",
       "      <th>Income (USD/Month)</th>\n",
       "    </tr>\n",
       "  </thead>\n",
       "  <tbody>\n",
       "    <tr>\n",
       "      <th>0</th>\n",
       "      <td>29290</td>\n",
       "      <td>Male</td>\n",
       "      <td>28</td>\n",
       "      <td>10813</td>\n",
       "    </tr>\n",
       "    <tr>\n",
       "      <th>1</th>\n",
       "      <td>27703</td>\n",
       "      <td>Male</td>\n",
       "      <td>27</td>\n",
       "      <td>9237</td>\n",
       "    </tr>\n",
       "    <tr>\n",
       "      <th>2</th>\n",
       "      <td>28712</td>\n",
       "      <td>Male</td>\n",
       "      <td>53</td>\n",
       "      <td>11242</td>\n",
       "    </tr>\n",
       "    <tr>\n",
       "      <th>3</th>\n",
       "      <td>28020</td>\n",
       "      <td>Male</td>\n",
       "      <td>23</td>\n",
       "      <td>23327</td>\n",
       "    </tr>\n",
       "    <tr>\n",
       "      <th>4</th>\n",
       "      <td>27182</td>\n",
       "      <td>Male</td>\n",
       "      <td>33</td>\n",
       "      <td>8536</td>\n",
       "    </tr>\n",
       "    <tr>\n",
       "      <th>...</th>\n",
       "      <td>...</td>\n",
       "      <td>...</td>\n",
       "      <td>...</td>\n",
       "      <td>...</td>\n",
       "    </tr>\n",
       "    <tr>\n",
       "      <th>49166</th>\n",
       "      <td>12490</td>\n",
       "      <td>Male</td>\n",
       "      <td>33</td>\n",
       "      <td>18713</td>\n",
       "    </tr>\n",
       "    <tr>\n",
       "      <th>49167</th>\n",
       "      <td>14971</td>\n",
       "      <td>Male</td>\n",
       "      <td>30</td>\n",
       "      <td>15346</td>\n",
       "    </tr>\n",
       "    <tr>\n",
       "      <th>49168</th>\n",
       "      <td>41414</td>\n",
       "      <td>Male</td>\n",
       "      <td>38</td>\n",
       "      <td>3960</td>\n",
       "    </tr>\n",
       "    <tr>\n",
       "      <th>49169</th>\n",
       "      <td>41677</td>\n",
       "      <td>Male</td>\n",
       "      <td>23</td>\n",
       "      <td>19454</td>\n",
       "    </tr>\n",
       "    <tr>\n",
       "      <th>49170</th>\n",
       "      <td>39761</td>\n",
       "      <td>Female</td>\n",
       "      <td>32</td>\n",
       "      <td>10128</td>\n",
       "    </tr>\n",
       "  </tbody>\n",
       "</table>\n",
       "<p>49171 rows × 4 columns</p>\n",
       "</div>"
      ],
      "text/plain": [
       "       Customer ID  Gender  Age  Income (USD/Month)\n",
       "0            29290    Male   28               10813\n",
       "1            27703    Male   27                9237\n",
       "2            28712    Male   53               11242\n",
       "3            28020    Male   23               23327\n",
       "4            27182    Male   33                8536\n",
       "...            ...     ...  ...                 ...\n",
       "49166        12490    Male   33               18713\n",
       "49167        14971    Male   30               15346\n",
       "49168        41414    Male   38                3960\n",
       "49169        41677    Male   23               19454\n",
       "49170        39761  Female   32               10128\n",
       "\n",
       "[49171 rows x 4 columns]"
      ]
     },
     "execution_count": 35,
     "metadata": {},
     "output_type": "execute_result"
    }
   ],
   "source": [
    "Customer_ID"
   ]
  },
  {
   "cell_type": "code",
   "execution_count": 86,
   "id": "c2cea6f8-d41c-43af-825c-adeaadf76982",
   "metadata": {
    "tags": []
   },
   "outputs": [],
   "source": [
    "Customer_ID = Customer_ID.drop_duplicates()"
   ]
  },
  {
   "cell_type": "code",
   "execution_count": 94,
   "id": "f997cb4c-8452-4649-8569-663d37e5c539",
   "metadata": {
    "tags": []
   },
   "outputs": [
    {
     "data": {
      "text/plain": [
       "Customer ID\n",
       "60000          1\n",
       "17515          1\n",
       "17513          1\n",
       "17512          1\n",
       "17511          1\n",
       "              ..\n",
       "37514          1\n",
       "37513          1\n",
       "37512          1\n",
       "36960          1\n",
       "1              1\n",
       "Length: 49171, dtype: int64"
      ]
     },
     "execution_count": 94,
     "metadata": {},
     "output_type": "execute_result"
    }
   ],
   "source": [
    "Customer_ID[[\"Customer ID\"]].value_counts(sort=True)[-1::-1]"
   ]
  },
  {
   "cell_type": "markdown",
   "id": "8e9d6d79-4b97-4eda-abdc-9a0dda329887",
   "metadata": {},
   "source": [
    "### City"
   ]
  },
  {
   "cell_type": "code",
   "execution_count": 44,
   "id": "c9df8a2c-ca5a-4fb4-8f1b-477150fd7613",
   "metadata": {
    "tags": []
   },
   "outputs": [],
   "source": [
    "city = city.drop_duplicates()"
   ]
  },
  {
   "cell_type": "code",
   "execution_count": 36,
   "id": "ef1ee7e4-2876-48af-b691-bbcc362e104d",
   "metadata": {
    "tags": []
   },
   "outputs": [
    {
     "name": "stdout",
     "output_type": "stream",
     "text": [
      "<class 'pandas.core.frame.DataFrame'>\n",
      "RangeIndex: 20 entries, 0 to 19\n",
      "Data columns (total 3 columns):\n",
      " #   Column      Non-Null Count  Dtype \n",
      "---  ------      --------------  ----- \n",
      " 0   City        20 non-null     object\n",
      " 1   Population  20 non-null     object\n",
      " 2   Users       20 non-null     object\n",
      "dtypes: object(3)\n",
      "memory usage: 608.0+ bytes\n"
     ]
    }
   ],
   "source": [
    "city.info()"
   ]
  },
  {
   "cell_type": "code",
   "execution_count": 54,
   "id": "492fcbd9-ebee-4c95-835e-393454329aa1",
   "metadata": {
    "tags": []
   },
   "outputs": [
    {
     "data": {
      "text/html": [
       "<div>\n",
       "<style scoped>\n",
       "    .dataframe tbody tr th:only-of-type {\n",
       "        vertical-align: middle;\n",
       "    }\n",
       "\n",
       "    .dataframe tbody tr th {\n",
       "        vertical-align: top;\n",
       "    }\n",
       "\n",
       "    .dataframe thead th {\n",
       "        text-align: right;\n",
       "    }\n",
       "</style>\n",
       "<table border=\"1\" class=\"dataframe\">\n",
       "  <thead>\n",
       "    <tr style=\"text-align: right;\">\n",
       "      <th></th>\n",
       "      <th>City</th>\n",
       "      <th>Population</th>\n",
       "      <th>Users</th>\n",
       "    </tr>\n",
       "  </thead>\n",
       "  <tbody>\n",
       "    <tr>\n",
       "      <th>0</th>\n",
       "      <td>NEW YORK NY</td>\n",
       "      <td>8,405,837</td>\n",
       "      <td>302,149</td>\n",
       "    </tr>\n",
       "    <tr>\n",
       "      <th>1</th>\n",
       "      <td>CHICAGO IL</td>\n",
       "      <td>1,955,130</td>\n",
       "      <td>164,468</td>\n",
       "    </tr>\n",
       "    <tr>\n",
       "      <th>2</th>\n",
       "      <td>LOS ANGELES CA</td>\n",
       "      <td>1,595,037</td>\n",
       "      <td>144,132</td>\n",
       "    </tr>\n",
       "    <tr>\n",
       "      <th>3</th>\n",
       "      <td>MIAMI FL</td>\n",
       "      <td>1,339,155</td>\n",
       "      <td>17,675</td>\n",
       "    </tr>\n",
       "    <tr>\n",
       "      <th>4</th>\n",
       "      <td>SILICON VALLEY</td>\n",
       "      <td>1,177,609</td>\n",
       "      <td>27,247</td>\n",
       "    </tr>\n",
       "    <tr>\n",
       "      <th>5</th>\n",
       "      <td>ORANGE COUNTY</td>\n",
       "      <td>1,030,185</td>\n",
       "      <td>12,994</td>\n",
       "    </tr>\n",
       "    <tr>\n",
       "      <th>6</th>\n",
       "      <td>SAN DIEGO CA</td>\n",
       "      <td>959,307</td>\n",
       "      <td>69,995</td>\n",
       "    </tr>\n",
       "    <tr>\n",
       "      <th>7</th>\n",
       "      <td>PHOENIX AZ</td>\n",
       "      <td>943,999</td>\n",
       "      <td>6,133</td>\n",
       "    </tr>\n",
       "    <tr>\n",
       "      <th>8</th>\n",
       "      <td>DALLAS TX</td>\n",
       "      <td>942,908</td>\n",
       "      <td>22,157</td>\n",
       "    </tr>\n",
       "    <tr>\n",
       "      <th>9</th>\n",
       "      <td>ATLANTA GA</td>\n",
       "      <td>814,885</td>\n",
       "      <td>24,701</td>\n",
       "    </tr>\n",
       "    <tr>\n",
       "      <th>10</th>\n",
       "      <td>DENVER CO</td>\n",
       "      <td>754,233</td>\n",
       "      <td>12,421</td>\n",
       "    </tr>\n",
       "    <tr>\n",
       "      <th>11</th>\n",
       "      <td>AUSTIN TX</td>\n",
       "      <td>698,371</td>\n",
       "      <td>14,978</td>\n",
       "    </tr>\n",
       "    <tr>\n",
       "      <th>12</th>\n",
       "      <td>SEATTLE WA</td>\n",
       "      <td>671,238</td>\n",
       "      <td>25,063</td>\n",
       "    </tr>\n",
       "    <tr>\n",
       "      <th>13</th>\n",
       "      <td>TUCSON AZ</td>\n",
       "      <td>631,442</td>\n",
       "      <td>5,712</td>\n",
       "    </tr>\n",
       "    <tr>\n",
       "      <th>14</th>\n",
       "      <td>SAN FRANCISCO CA</td>\n",
       "      <td>629,591</td>\n",
       "      <td>213,609</td>\n",
       "    </tr>\n",
       "    <tr>\n",
       "      <th>15</th>\n",
       "      <td>SACRAMENTO CA</td>\n",
       "      <td>545,776</td>\n",
       "      <td>7,044</td>\n",
       "    </tr>\n",
       "    <tr>\n",
       "      <th>16</th>\n",
       "      <td>PITTSBURGH PA</td>\n",
       "      <td>542,085</td>\n",
       "      <td>3,643</td>\n",
       "    </tr>\n",
       "    <tr>\n",
       "      <th>17</th>\n",
       "      <td>WASHINGTON DC</td>\n",
       "      <td>418,859</td>\n",
       "      <td>127,001</td>\n",
       "    </tr>\n",
       "    <tr>\n",
       "      <th>18</th>\n",
       "      <td>NASHVILLE TN</td>\n",
       "      <td>327,225</td>\n",
       "      <td>9,270</td>\n",
       "    </tr>\n",
       "    <tr>\n",
       "      <th>19</th>\n",
       "      <td>BOSTON MA</td>\n",
       "      <td>248,968</td>\n",
       "      <td>80,021</td>\n",
       "    </tr>\n",
       "  </tbody>\n",
       "</table>\n",
       "</div>"
      ],
      "text/plain": [
       "                City   Population      Users\n",
       "0        NEW YORK NY   8,405,837    302,149 \n",
       "1         CHICAGO IL   1,955,130    164,468 \n",
       "2     LOS ANGELES CA   1,595,037    144,132 \n",
       "3           MIAMI FL   1,339,155     17,675 \n",
       "4     SILICON VALLEY   1,177,609     27,247 \n",
       "5      ORANGE COUNTY   1,030,185     12,994 \n",
       "6       SAN DIEGO CA     959,307     69,995 \n",
       "7         PHOENIX AZ     943,999      6,133 \n",
       "8          DALLAS TX     942,908     22,157 \n",
       "9         ATLANTA GA     814,885     24,701 \n",
       "10         DENVER CO     754,233     12,421 \n",
       "11         AUSTIN TX     698,371     14,978 \n",
       "12        SEATTLE WA     671,238     25,063 \n",
       "13         TUCSON AZ     631,442      5,712 \n",
       "14  SAN FRANCISCO CA     629,591    213,609 \n",
       "15     SACRAMENTO CA     545,776      7,044 \n",
       "16     PITTSBURGH PA     542,085      3,643 \n",
       "17     WASHINGTON DC     418,859    127,001 \n",
       "18      NASHVILLE TN     327,225      9,270 \n",
       "19         BOSTON MA     248,968     80,021 "
      ]
     },
     "execution_count": 54,
     "metadata": {},
     "output_type": "execute_result"
    }
   ],
   "source": [
    "city"
   ]
  },
  {
   "cell_type": "code",
   "execution_count": 55,
   "id": "e26ddb8b-d4af-4284-a15b-0dc57194625a",
   "metadata": {
    "tags": []
   },
   "outputs": [
    {
     "data": {
      "text/plain": [
       "(20, 3)"
      ]
     },
     "execution_count": 55,
     "metadata": {},
     "output_type": "execute_result"
    }
   ],
   "source": [
    "city.shape"
   ]
  },
  {
   "cell_type": "markdown",
   "id": "e3852d88-af7f-4204-9165-d8bddc46b663",
   "metadata": {},
   "source": [
    "#### Checking for outliers"
   ]
  },
  {
   "cell_type": "markdown",
   "id": "dc82ad75-6dbc-4488-9065-a97f2e9a531e",
   "metadata": {},
   "source": [
    "##### KM Travelled"
   ]
  },
  {
   "cell_type": "code",
   "execution_count": 389,
   "id": "3d057a7a-9b41-496d-8b84-22f5a6ad0968",
   "metadata": {
    "tags": []
   },
   "outputs": [
    {
     "data": {
      "image/png": "[encoded data removed]",
      "text/plain": [
       "<Figure size 640x480 with 1 Axes>"
      ]
     },
     "metadata": {},
     "output_type": "display_data"
    }
   ],
   "source": [
    "ax = sns.boxplot(data= master_cab_data[[\"KM Travelled\"]] , orient=\"h\", palette=\"Set2\")"
   ]
  },
  {
   "cell_type": "markdown",
   "id": "1f4a966d-a0d2-41e5-8385-b21cdab423ff",
   "metadata": {},
   "source": [
    "No outliers for KM Travelled!"
   ]
  },
  {
   "cell_type": "markdown",
   "id": "35921348-20d2-4746-86a1-1f83363be4b8",
   "metadata": {},
   "source": [
    "##### Price Charged"
   ]
  },
  {
   "cell_type": "code",
   "execution_count": 390,
   "id": "2b73d247-28d0-4504-95de-6203b5890120",
   "metadata": {
    "tags": []
   },
   "outputs": [
    {
     "data": {
      "image/png": "[encoded data removed]",
      "text/plain": [
       "<Figure size 640x480 with 1 Axes>"
      ]
     },
     "metadata": {},
     "output_type": "display_data"
    }
   ],
   "source": [
    "ax = sns.boxplot(data= master_cab_data[[\"Price Charged\"]] , orient=\"h\", color=\"red\")"
   ]
  },
  {
   "cell_type": "markdown",
   "id": "29e634dd-e736-4425-9340-d76d7bbbda79",
   "metadata": {},
   "source": [
    "As seen above, there are a lot of outlier for price charged. For this data analysis I will be keeping them since there isn't a column that shows how long each trip ended up taking. Also since a lot of data are outliers, I would also assume there is more than meets the eye with these outliers. Thus they will be treated as normal. "
   ]
  },
  {
   "cell_type": "markdown",
   "id": "6d1164af-df01-465f-92fd-35efd06d2846",
   "metadata": {},
   "source": [
    "##### Cost of Trip"
   ]
  },
  {
   "cell_type": "code",
   "execution_count": 392,
   "id": "afe6096e-cb6c-4b42-80c2-bea0379531da",
   "metadata": {
    "tags": []
   },
   "outputs": [
    {
     "data": {
      "image/png": "[encoded data removed]",
      "text/plain": [
       "<Figure size 640x480 with 1 Axes>"
      ]
     },
     "metadata": {},
     "output_type": "display_data"
    }
   ],
   "source": [
    "ax = sns.boxplot(data= master_cab_data[[\"Cost of Trip\"]] , orient=\"h\", color=\"blue\")"
   ]
  },
  {
   "cell_type": "markdown",
   "id": "538cd149-1a27-4a35-a49e-4655366888cb",
   "metadata": {},
   "source": [
    "No outliers for Cost of Trip!"
   ]
  },
  {
   "cell_type": "markdown",
   "id": "5ccf7807-4f3d-4f86-aaa4-cd332d81283e",
   "metadata": {},
   "source": [
    "##### Age "
   ]
  },
  {
   "cell_type": "code",
   "execution_count": 393,
   "id": "597cbc03-c3d9-4428-ac03-99f782dd2041",
   "metadata": {
    "tags": []
   },
   "outputs": [
    {
     "data": {
      "image/png": "[encoded data removed]",
      "text/plain": [
       "<Figure size 640x480 with 1 Axes>"
      ]
     },
     "metadata": {},
     "output_type": "display_data"
    }
   ],
   "source": [
    "ax = sns.boxplot(data= master_cab_data[[\"Age\"]] , orient=\"h\", color=\"pink\")"
   ]
  },
  {
   "cell_type": "markdown",
   "id": "900a50c8-f030-4f6f-8f96-2568bcce78ff",
   "metadata": {},
   "source": [
    "No outliers for Age!"
   ]
  },
  {
   "cell_type": "markdown",
   "id": "c36a9f06-57f4-41df-ba52-ac0c54a0b3c1",
   "metadata": {},
   "source": [
    "##### Income (USD/Month)"
   ]
  },
  {
   "cell_type": "code",
   "execution_count": 402,
   "id": "d4c78bf4-d3ac-43dd-abe8-0e98807ed75e",
   "metadata": {
    "tags": []
   },
   "outputs": [
    {
     "data": {
      "image/png": "[encoded data removed]",
      "text/plain": [
       "<Figure size 640x480 with 1 Axes>"
      ]
     },
     "metadata": {},
     "output_type": "display_data"
    }
   ],
   "source": [
    "ax = sns.boxplot(data= master_cab_data[[\"Cost of Trip\"]] , orient=\"h\", color=\"Green\")"
   ]
  },
  {
   "cell_type": "markdown",
   "id": "c5947b72-0d28-40dc-8322-af2ce7acac4e",
   "metadata": {},
   "source": [
    "No outliers for Income (USD/Month)!"
   ]
  },
  {
   "cell_type": "markdown",
   "id": "7f91a5ed-e6f7-4b5d-8a21-dde9e8c91310",
   "metadata": {},
   "source": [
    "### Assumptions for the Analysis"
   ]
  },
  {
   "cell_type": "markdown",
   "id": "57b8b644-4564-4ac5-923d-14035c3c5cfd",
   "metadata": {},
   "source": [
    "1. For the city data set, the column \"Users\" will be treated as the number of Cab users within that city. \n",
    "2. The \"Date of Travel\" Column is in days from 1900 (1899, 12, 31 since 1900 was a leap year) which is the excel default original timestamp. \n",
    "3. After filtering the master data set to the specified dates of the data we want to look at there are no other NA value columns. This means that the master data without the NAs give us a clearer picture of who and what we are dealing with."
   ]
  },
  {
   "cell_type": "markdown",
   "id": "6412c9e9-f3cb-4d1d-b511-9a2634215403",
   "metadata": {},
   "source": [
    "### Questions For Data (Hypothesis)"
   ]
  },
  {
   "cell_type": "markdown",
   "id": "b49ede16-0989-4823-8b9f-1689b0a635c7",
   "metadata": {},
   "source": [
    "1. Which Cab Company is more profitable?\n",
    "2. Which dates tends to have the most transactions per company and why?\n",
    "3. Which cities charge the most per trip based on distance travelled?\n",
    "4. Is there a relationship between season and passengers?\n",
    "5. Are there certain customers who spend more in general or only based on season? and where?\n",
    "6. Does using card or cash make a difference in the distance travelled?\n",
    "7. Do younger audiences tend to take more cab rides than older generations?"
   ]
  },
  {
   "cell_type": "markdown",
   "id": "44268120-62e5-4890-9906-70599410d717",
   "metadata": {},
   "source": [
    "#### Breaking down Cab Company Profit"
   ]
  },
  {
   "cell_type": "code",
   "execution_count": 423,
   "id": "d52fc625-1c6c-4fdf-9e63-785a4f73062a",
   "metadata": {
    "tags": []
   },
   "outputs": [
    {
     "data": {
      "text/html": [
       "<div>\n",
       "<style scoped>\n",
       "    .dataframe tbody tr th:only-of-type {\n",
       "        vertical-align: middle;\n",
       "    }\n",
       "\n",
       "    .dataframe tbody tr th {\n",
       "        vertical-align: top;\n",
       "    }\n",
       "\n",
       "    .dataframe thead th {\n",
       "        text-align: right;\n",
       "    }\n",
       "</style>\n",
       "<table border=\"1\" class=\"dataframe\">\n",
       "  <thead>\n",
       "    <tr style=\"text-align: right;\">\n",
       "      <th></th>\n",
       "      <th>Transaction ID</th>\n",
       "      <th>Date of Travel</th>\n",
       "      <th>Company</th>\n",
       "      <th>City</th>\n",
       "      <th>KM Travelled</th>\n",
       "      <th>Price Charged</th>\n",
       "      <th>Cost of Trip</th>\n",
       "      <th>Customer ID</th>\n",
       "      <th>Payment_Mode</th>\n",
       "    </tr>\n",
       "  </thead>\n",
       "  <tbody>\n",
       "    <tr>\n",
       "      <th>875</th>\n",
       "      <td>10006291</td>\n",
       "      <td>2016-01-31</td>\n",
       "      <td>Yellow Cab</td>\n",
       "      <td>DALLAS TX</td>\n",
       "      <td>5.82</td>\n",
       "      <td>148.10</td>\n",
       "      <td>78.2208</td>\n",
       "      <td>24779</td>\n",
       "      <td>Cash</td>\n",
       "    </tr>\n",
       "    <tr>\n",
       "      <th>1421</th>\n",
       "      <td>10007076</td>\n",
       "      <td>2016-01-31</td>\n",
       "      <td>Yellow Cab</td>\n",
       "      <td>WASHINGTON DC</td>\n",
       "      <td>37.83</td>\n",
       "      <td>855.85</td>\n",
       "      <td>531.1332</td>\n",
       "      <td>53082</td>\n",
       "      <td>Card</td>\n",
       "    </tr>\n",
       "    <tr>\n",
       "      <th>401</th>\n",
       "      <td>10005673</td>\n",
       "      <td>2016-01-31</td>\n",
       "      <td>Pink Cab</td>\n",
       "      <td>NEW YORK NY</td>\n",
       "      <td>31.68</td>\n",
       "      <td>622.35</td>\n",
       "      <td>319.9680</td>\n",
       "      <td>518</td>\n",
       "      <td>Card</td>\n",
       "    </tr>\n",
       "    <tr>\n",
       "      <th>395</th>\n",
       "      <td>10005667</td>\n",
       "      <td>2016-01-31</td>\n",
       "      <td>Pink Cab</td>\n",
       "      <td>NEW YORK NY</td>\n",
       "      <td>9.52</td>\n",
       "      <td>203.79</td>\n",
       "      <td>99.0080</td>\n",
       "      <td>2914</td>\n",
       "      <td>Cash</td>\n",
       "    </tr>\n",
       "    <tr>\n",
       "      <th>394</th>\n",
       "      <td>10005666</td>\n",
       "      <td>2016-01-31</td>\n",
       "      <td>Pink Cab</td>\n",
       "      <td>NEW YORK NY</td>\n",
       "      <td>38.94</td>\n",
       "      <td>737.68</td>\n",
       "      <td>401.0820</td>\n",
       "      <td>66</td>\n",
       "      <td>Card</td>\n",
       "    </tr>\n",
       "  </tbody>\n",
       "</table>\n",
       "</div>"
      ],
      "text/plain": [
       "      Transaction ID Date of Travel     Company           City  KM Travelled  \\\n",
       "875         10006291     2016-01-31  Yellow Cab      DALLAS TX          5.82   \n",
       "1421        10007076     2016-01-31  Yellow Cab  WASHINGTON DC         37.83   \n",
       "401         10005673     2016-01-31    Pink Cab    NEW YORK NY         31.68   \n",
       "395         10005667     2016-01-31    Pink Cab    NEW YORK NY          9.52   \n",
       "394         10005666     2016-01-31    Pink Cab    NEW YORK NY         38.94   \n",
       "\n",
       "      Price Charged  Cost of Trip  Customer ID Payment_Mode  \n",
       "875          148.10       78.2208        24779         Cash  \n",
       "1421         855.85      531.1332        53082         Card  \n",
       "401          622.35      319.9680          518         Card  \n",
       "395          203.79       99.0080         2914         Cash  \n",
       "394          737.68      401.0820           66         Card  "
      ]
     },
     "execution_count": 423,
     "metadata": {},
     "output_type": "execute_result"
    }
   ],
   "source": [
    "master_cab_data.head()"
   ]
  },
  {
   "cell_type": "code",
   "execution_count": 23,
   "id": "c13ea51c-f00e-4102-87eb-652c3f85ed47",
   "metadata": {
    "tags": []
   },
   "outputs": [
    {
     "data": {
      "text/plain": [
       "((83824, 15), (271295, 15))"
      ]
     },
     "execution_count": 23,
     "metadata": {},
     "output_type": "execute_result"
    }
   ],
   "source": [
    "pink_cab = master_cab_data[master_cab_data[\"Company\"] == \"Pink Cab\"]\n",
    "yellow_cab = master_cab_data[master_cab_data[\"Company\"] == \"Yellow Cab\"]\n",
    "pink_cab.shape, yellow_cab.shape"
   ]
  },
  {
   "cell_type": "markdown",
   "id": "cf9df0ce-e60b-4527-8bc6-e56cdcc70cf2",
   "metadata": {},
   "source": [
    "First thing to note off the bat, is that yellow cab has way more observations than pink cab company. This means either there was more data collected for yellow cab in general or there was a lot of pink cab data that had missing values."
   ]
  },
  {
   "cell_type": "markdown",
   "id": "403aa0d1-f554-49fe-807a-e75162cc9861",
   "metadata": {},
   "source": [
    "Let's look at the total profit for each company:"
   ]
  },
  {
   "cell_type": "code",
   "execution_count": 28,
   "id": "cc7ad6ee-e38b-4b5a-86ec-a755a73019ef",
   "metadata": {
    "tags": []
   },
   "outputs": [
    {
     "data": {
      "text/html": [
       "<div>\n",
       "<style scoped>\n",
       "    .dataframe tbody tr th:only-of-type {\n",
       "        vertical-align: middle;\n",
       "    }\n",
       "\n",
       "    .dataframe tbody tr th {\n",
       "        vertical-align: top;\n",
       "    }\n",
       "\n",
       "    .dataframe thead tr th {\n",
       "        text-align: left;\n",
       "    }\n",
       "\n",
       "    .dataframe thead tr:last-of-type th {\n",
       "        text-align: right;\n",
       "    }\n",
       "</style>\n",
       "<table border=\"1\" class=\"dataframe\">\n",
       "  <thead>\n",
       "    <tr>\n",
       "      <th></th>\n",
       "      <th colspan=\"2\" halign=\"left\">KM Travelled</th>\n",
       "      <th colspan=\"2\" halign=\"left\">Price Charged</th>\n",
       "      <th colspan=\"2\" halign=\"left\">Cost of Trip</th>\n",
       "    </tr>\n",
       "    <tr>\n",
       "      <th></th>\n",
       "      <th>sum</th>\n",
       "      <th>mean</th>\n",
       "      <th>sum</th>\n",
       "      <th>mean</th>\n",
       "      <th>sum</th>\n",
       "      <th>mean</th>\n",
       "    </tr>\n",
       "    <tr>\n",
       "      <th>Company</th>\n",
       "      <th></th>\n",
       "      <th></th>\n",
       "      <th></th>\n",
       "      <th></th>\n",
       "      <th></th>\n",
       "      <th></th>\n",
       "    </tr>\n",
       "  </thead>\n",
       "  <tbody>\n",
       "    <tr>\n",
       "      <th>Pink Cab</th>\n",
       "      <td>1890944.90</td>\n",
       "      <td>22.56</td>\n",
       "      <td>2.603852e+07</td>\n",
       "      <td>310.63</td>\n",
       "      <td>20799282.80</td>\n",
       "      <td>248.13</td>\n",
       "    </tr>\n",
       "    <tr>\n",
       "      <th>Yellow Cab</th>\n",
       "      <td>6122880.43</td>\n",
       "      <td>22.57</td>\n",
       "      <td>1.241268e+08</td>\n",
       "      <td>457.53</td>\n",
       "      <td>80824199.52</td>\n",
       "      <td>297.92</td>\n",
       "    </tr>\n",
       "  </tbody>\n",
       "</table>\n",
       "</div>"
      ],
      "text/plain": [
       "           KM Travelled        Price Charged         Cost of Trip        \n",
       "                    sum   mean           sum    mean          sum    mean\n",
       "Company                                                                  \n",
       "Pink Cab     1890944.90  22.56  2.603852e+07  310.63  20799282.80  248.13\n",
       "Yellow Cab   6122880.43  22.57  1.241268e+08  457.53  80824199.52  297.92"
      ]
     },
     "execution_count": 28,
     "metadata": {},
     "output_type": "execute_result"
    }
   ],
   "source": [
    "master_cab_data.groupby('Company')[[\"KM Travelled\", \"Price Charged\", \"Cost of Trip\"]].agg(['sum', 'mean']).round(2)"
   ]
  },
  {
   "cell_type": "markdown",
   "id": "231c5f0d-038f-4245-aeaf-64c289241784",
   "metadata": {
    "tags": []
   },
   "source": [
    "Profit in this case is going to be the sum of Price Charged minus the sum of Cost of the Trip"
   ]
  },
  {
   "cell_type": "code",
   "execution_count": 6,
   "id": "34865884-0648-4e98-b9cc-53af0570b71c",
   "metadata": {
    "tags": []
   },
   "outputs": [],
   "source": [
    "#Profit Function\n",
    "def profit(dataset):\n",
    "    profit = dataset[\"Price Charged\"].sum() - dataset[\"Cost of Trip\"].sum()\n",
    "    return profit"
   ]
  },
  {
   "cell_type": "markdown",
   "id": "faa7c30d-c52c-4ff2-a32d-432b78247a50",
   "metadata": {},
   "source": [
    "##### Pink Cab"
   ]
  },
  {
   "cell_type": "code",
   "execution_count": 95,
   "id": "a5f63da3-54ba-492c-98e3-bcf260ee6cc7",
   "metadata": {
    "tags": []
   },
   "outputs": [
    {
     "data": {
      "text/plain": [
       "5239236.9"
      ]
     },
     "execution_count": 95,
     "metadata": {},
     "output_type": "execute_result"
    }
   ],
   "source": [
    "# Pink Cab Profit\n",
    "pink_cab_profit = profit(pink_cab)\n",
    "pink_cab_profit.round(2)"
   ]
  },
  {
   "cell_type": "markdown",
   "id": "0f43a9e9-35be-40cd-affb-736b998a822b",
   "metadata": {},
   "source": [
    "Thus in the 2 year time frame, Pink Cab made a total profit of $5,239,236.90 for the 83,824 observations available/"
   ]
  },
  {
   "cell_type": "markdown",
   "id": "372a6a4a-c4db-4aa5-a687-d831c10c3740",
   "metadata": {},
   "source": [
    "##### Yellow Cab"
   ]
  },
  {
   "cell_type": "code",
   "execution_count": 29,
   "id": "6f2985a1-a99d-4482-a0b2-f622b9bddd52",
   "metadata": {
    "tags": []
   },
   "outputs": [
    {
     "data": {
      "text/plain": [
       "43302611.66"
      ]
     },
     "execution_count": 29,
     "metadata": {},
     "output_type": "execute_result"
    }
   ],
   "source": [
    "# Yellow Cab Profit\n",
    "yellow_cab_profit = profit(yellow_cab)\n",
    "yellow_cab_profit.round(2)"
   ]
  },
  {
   "cell_type": "markdown",
   "id": "0c89df28-09a0-42d6-8ec7-791414d95ff3",
   "metadata": {},
   "source": [
    "Thus in the 2 year time frame, Yellow Cab made a total profit of $43,302,611.66 for the 271295 observations available."
   ]
  },
  {
   "cell_type": "code",
   "execution_count": 31,
   "id": "81e757c0-2f0e-46d8-a57e-5451cdea0017",
   "metadata": {
    "tags": []
   },
   "outputs": [
    {
     "data": {
      "image/png": "[encoded data removed]",
      "text/plain": [
       "<Figure size 640x480 with 1 Axes>"
      ]
     },
     "metadata": {},
     "output_type": "display_data"
    }
   ],
   "source": [
    "b = sns.histplot(yellow_cab, x = \"Price Charged\", color = \"Yellow\") \n",
    "b.set_title(\"Amount of times Yellow Cab vs Pink Cab charged at a given rate\")\n",
    "a = sns.histplot(pink_cab, x = \"Price Charged\", color = \"Pink\")"
   ]
  },
  {
   "cell_type": "markdown",
   "id": "c55c670d-1e82-43b7-bd92-5ca366291cd7",
   "metadata": {
    "tags": []
   },
   "source": [
    "We can see from the above graph that not only does yellow have more volume of transactions, but also they charge higher rates to people. "
   ]
  },
  {
   "cell_type": "markdown",
   "id": "2cf196eb-6331-47f2-b7e8-02c4e372fc8b",
   "metadata": {},
   "source": [
    "Let's break this down by year to see how much increase in profit there was between the 2 years"
   ]
  },
  {
   "cell_type": "markdown",
   "id": "6693802d-daa3-462f-bbe1-440fd5a7a730",
   "metadata": {},
   "source": [
    "#### Breaking Profit Down by Year"
   ]
  },
  {
   "cell_type": "code",
   "execution_count": 7,
   "id": "279ea04b-d781-4166-9274-614f250dfa89",
   "metadata": {
    "tags": []
   },
   "outputs": [
    {
     "name": "stderr",
     "output_type": "stream",
     "text": [
      "C:\\Users\\cdbry\\AppData\\Local\\Temp\\ipykernel_7592\\921929827.py:2: FutureWarning: Indexing with multiple keys (implicitly converted to a tuple of keys) will be deprecated, use a list instead.\n",
      "  data_per_year = master_cab_data.groupby([\"Company\", master_cab_data[\"Date of Travel\"].dt.year], group_keys = False) \\\n"
     ]
    }
   ],
   "source": [
    "# Group By Year and Company\n",
    "data_per_year = master_cab_data.groupby([\"Company\", master_cab_data[\"Date of Travel\"].dt.year], group_keys = False) \\\n",
    "[\"KM Travelled\", \"Price Charged\", \"Cost of Trip\"].sum().round(2)\n",
    "\n",
    "# Add Profit Column to Table\n",
    "data_per_year[\"Profit\"] = profit(data_per_year.groupby([\"Company\", \"Date of Travel\"]))\n",
    "\n",
    "# Add Profit Per Month\n",
    "data_per_year[\"Profit Per Month\"] = data_per_year.groupby([\"Company\", \"Date of Travel\"], group_keys = False)\\\n",
    "[\"Profit\"].apply(lambda x: x/12).round(2) \n",
    "\n",
    "# Add Profit Per Day\n",
    "data_per_year[\"Profit Per Day\"] = data_per_year.groupby([\"Company\", \"Date of Travel\"], group_keys = False)\\\n",
    "[\"Profit\"].apply(lambda x: x/365).round(2) "
   ]
  },
  {
   "cell_type": "code",
   "execution_count": 10,
   "id": "41b6a2e5-6cc8-4229-a154-e44c446be9d0",
   "metadata": {
    "tags": []
   },
   "outputs": [],
   "source": [
    "# Add Amount Charged Per KM\n",
    "data_per_year[\"Charge Per KM\"] = (data_per_year[\"Price Charged\"] / data_per_year[\"KM Travelled\"]).round(2)\n",
    "\n",
    "# Add Profit Per KM\n",
    "data_per_year[\"Profit Per KM\"] = (data_per_year[\"Profit\"] / data_per_year[\"KM Travelled\"]).round(2)"
   ]
  },
  {
   "cell_type": "code",
   "execution_count": 9,
   "id": "4cf4780c-c012-4a45-bce0-33e3dac33e5b",
   "metadata": {
    "tags": []
   },
   "outputs": [
    {
     "data": {
      "text/html": [
       "<div>\n",
       "<style scoped>\n",
       "    .dataframe tbody tr th:only-of-type {\n",
       "        vertical-align: middle;\n",
       "    }\n",
       "\n",
       "    .dataframe tbody tr th {\n",
       "        vertical-align: top;\n",
       "    }\n",
       "\n",
       "    .dataframe thead th {\n",
       "        text-align: right;\n",
       "    }\n",
       "</style>\n",
       "<table border=\"1\" class=\"dataframe\">\n",
       "  <thead>\n",
       "    <tr style=\"text-align: right;\">\n",
       "      <th></th>\n",
       "      <th></th>\n",
       "      <th>KM Travelled</th>\n",
       "      <th>Price Charged</th>\n",
       "      <th>Cost of Trip</th>\n",
       "      <th>Profit</th>\n",
       "      <th>Profit Per Month</th>\n",
       "      <th>Profit Per Day</th>\n",
       "      <th>Charge Per KM</th>\n",
       "      <th>Profit Per KM</th>\n",
       "    </tr>\n",
       "    <tr>\n",
       "      <th>Company</th>\n",
       "      <th>Date of Travel</th>\n",
       "      <th></th>\n",
       "      <th></th>\n",
       "      <th></th>\n",
       "      <th></th>\n",
       "      <th></th>\n",
       "      <th></th>\n",
       "      <th></th>\n",
       "      <th></th>\n",
       "    </tr>\n",
       "  </thead>\n",
       "  <tbody>\n",
       "    <tr>\n",
       "      <th rowspan=\"3\" valign=\"top\">Pink Cab</th>\n",
       "      <th>2016</th>\n",
       "      <td>540694.55</td>\n",
       "      <td>7573094.36</td>\n",
       "      <td>5943731.79</td>\n",
       "      <td>1629362.57</td>\n",
       "      <td>135780.21</td>\n",
       "      <td>4464.01</td>\n",
       "      <td>14.01</td>\n",
       "      <td>3.01</td>\n",
       "    </tr>\n",
       "    <tr>\n",
       "      <th>2017</th>\n",
       "      <td>685635.03</td>\n",
       "      <td>9577146.48</td>\n",
       "      <td>7542978.22</td>\n",
       "      <td>2034168.26</td>\n",
       "      <td>169514.02</td>\n",
       "      <td>5573.06</td>\n",
       "      <td>13.97</td>\n",
       "      <td>2.97</td>\n",
       "    </tr>\n",
       "    <tr>\n",
       "      <th>2018</th>\n",
       "      <td>664615.32</td>\n",
       "      <td>8888278.86</td>\n",
       "      <td>7312572.80</td>\n",
       "      <td>1575706.06</td>\n",
       "      <td>131308.84</td>\n",
       "      <td>4317.00</td>\n",
       "      <td>13.37</td>\n",
       "      <td>2.37</td>\n",
       "    </tr>\n",
       "    <tr>\n",
       "      <th rowspan=\"3\" valign=\"top\">Yellow Cab</th>\n",
       "      <th>2016</th>\n",
       "      <td>1773413.72</td>\n",
       "      <td>36529301.94</td>\n",
       "      <td>23411909.94</td>\n",
       "      <td>13117392.00</td>\n",
       "      <td>1093116.00</td>\n",
       "      <td>35938.06</td>\n",
       "      <td>20.60</td>\n",
       "      <td>7.40</td>\n",
       "    </tr>\n",
       "    <tr>\n",
       "      <th>2017</th>\n",
       "      <td>2217474.69</td>\n",
       "      <td>45871862.15</td>\n",
       "      <td>29278065.45</td>\n",
       "      <td>16593796.70</td>\n",
       "      <td>1382816.39</td>\n",
       "      <td>45462.46</td>\n",
       "      <td>20.69</td>\n",
       "      <td>7.48</td>\n",
       "    </tr>\n",
       "    <tr>\n",
       "      <th>2018</th>\n",
       "      <td>2131992.02</td>\n",
       "      <td>41725647.09</td>\n",
       "      <td>28134224.12</td>\n",
       "      <td>13591422.97</td>\n",
       "      <td>1132618.58</td>\n",
       "      <td>37236.78</td>\n",
       "      <td>19.57</td>\n",
       "      <td>6.37</td>\n",
       "    </tr>\n",
       "  </tbody>\n",
       "</table>\n",
       "</div>"
      ],
      "text/plain": [
       "                           KM Travelled  Price Charged  Cost of Trip  \\\n",
       "Company    Date of Travel                                              \n",
       "Pink Cab   2016               540694.55     7573094.36    5943731.79   \n",
       "           2017               685635.03     9577146.48    7542978.22   \n",
       "           2018               664615.32     8888278.86    7312572.80   \n",
       "Yellow Cab 2016              1773413.72    36529301.94   23411909.94   \n",
       "           2017              2217474.69    45871862.15   29278065.45   \n",
       "           2018              2131992.02    41725647.09   28134224.12   \n",
       "\n",
       "                                Profit  Profit Per Month  Profit Per Day  \\\n",
       "Company    Date of Travel                                                  \n",
       "Pink Cab   2016             1629362.57         135780.21         4464.01   \n",
       "           2017             2034168.26         169514.02         5573.06   \n",
       "           2018             1575706.06         131308.84         4317.00   \n",
       "Yellow Cab 2016            13117392.00        1093116.00        35938.06   \n",
       "           2017            16593796.70        1382816.39        45462.46   \n",
       "           2018            13591422.97        1132618.58        37236.78   \n",
       "\n",
       "                           Charge Per KM  Profit Per KM  \n",
       "Company    Date of Travel                                \n",
       "Pink Cab   2016                    14.01           3.01  \n",
       "           2017                    13.97           2.97  \n",
       "           2018                    13.37           2.37  \n",
       "Yellow Cab 2016                    20.60           7.40  \n",
       "           2017                    20.69           7.48  \n",
       "           2018                    19.57           6.37  "
      ]
     },
     "execution_count": 9,
     "metadata": {},
     "output_type": "execute_result"
    }
   ],
   "source": [
    "data_per_year"
   ]
  },
  {
   "cell_type": "markdown",
   "id": "2310a3cf-dda7-4e7a-86ff-ac176eb31c30",
   "metadata": {},
   "source": [
    "#### By Quarter"
   ]
  },
  {
   "cell_type": "code",
   "execution_count": 216,
   "id": "ace7852d-e711-460e-999b-ec35eef9af10",
   "metadata": {
    "tags": []
   },
   "outputs": [
    {
     "name": "stderr",
     "output_type": "stream",
     "text": [
      "C:\\Users\\cdbry\\AppData\\Local\\Temp\\ipykernel_18652\\3427096165.py:2: FutureWarning: Indexing with multiple keys (implicitly converted to a tuple of keys) will be deprecated, use a list instead.\n",
      "  data_per_quarter = master_cab_data.groupby([\"Company\", master_cab_data[\"Date of Travel\"].dt.quarter], group_keys = False) \\\n"
     ]
    }
   ],
   "source": [
    "# Group By Year and Company\n",
    "data_per_quarter = master_cab_data.groupby([\"Company\", master_cab_data[\"Date of Travel\"].dt.quarter], group_keys = False) \\\n",
    "[\"KM Travelled\", \"Price Charged\", \"Cost of Trip\"].sum().round(2)\n",
    "\n",
    "# Add Profit Column to Table\n",
    "data_per_quarter[\"Profit\"] = profit(data_per_quarter.groupby([\"Company\", \"Date of Travel\"]))"
   ]
  },
  {
   "cell_type": "code",
   "execution_count": 215,
   "id": "722960e9-2849-49fd-99be-211baac80b84",
   "metadata": {
    "tags": []
   },
   "outputs": [
    {
     "data": {
      "text/html": [
       "<div>\n",
       "<style scoped>\n",
       "    .dataframe tbody tr th:only-of-type {\n",
       "        vertical-align: middle;\n",
       "    }\n",
       "\n",
       "    .dataframe tbody tr th {\n",
       "        vertical-align: top;\n",
       "    }\n",
       "\n",
       "    .dataframe thead th {\n",
       "        text-align: right;\n",
       "    }\n",
       "</style>\n",
       "<table border=\"1\" class=\"dataframe\">\n",
       "  <thead>\n",
       "    <tr style=\"text-align: right;\">\n",
       "      <th></th>\n",
       "      <th></th>\n",
       "      <th>KM Travelled</th>\n",
       "      <th>Price Charged</th>\n",
       "      <th>Cost of Trip</th>\n",
       "      <th>Profit</th>\n",
       "    </tr>\n",
       "    <tr>\n",
       "      <th>Company</th>\n",
       "      <th>Date of Travel</th>\n",
       "      <th></th>\n",
       "      <th></th>\n",
       "      <th></th>\n",
       "      <th></th>\n",
       "    </tr>\n",
       "  </thead>\n",
       "  <tbody>\n",
       "    <tr>\n",
       "      <th rowspan=\"4\" valign=\"top\">Pink Cab</th>\n",
       "      <th>1</th>\n",
       "      <td>272100.11</td>\n",
       "      <td>3890898.46</td>\n",
       "      <td>2992280.92</td>\n",
       "      <td>898617.54</td>\n",
       "    </tr>\n",
       "    <tr>\n",
       "      <th>2</th>\n",
       "      <td>333964.91</td>\n",
       "      <td>4320401.92</td>\n",
       "      <td>3674023.74</td>\n",
       "      <td>646378.18</td>\n",
       "    </tr>\n",
       "    <tr>\n",
       "      <th>3</th>\n",
       "      <td>541788.39</td>\n",
       "      <td>7150825.35</td>\n",
       "      <td>5957938.46</td>\n",
       "      <td>1192886.89</td>\n",
       "    </tr>\n",
       "    <tr>\n",
       "      <th>4</th>\n",
       "      <td>743091.49</td>\n",
       "      <td>10676393.97</td>\n",
       "      <td>8175039.69</td>\n",
       "      <td>2501354.28</td>\n",
       "    </tr>\n",
       "    <tr>\n",
       "      <th rowspan=\"4\" valign=\"top\">Yellow Cab</th>\n",
       "      <th>1</th>\n",
       "      <td>1074193.22</td>\n",
       "      <td>22983729.63</td>\n",
       "      <td>14180374.95</td>\n",
       "      <td>8803354.68</td>\n",
       "    </tr>\n",
       "    <tr>\n",
       "      <th>2</th>\n",
       "      <td>1236594.38</td>\n",
       "      <td>26971472.67</td>\n",
       "      <td>16320199.99</td>\n",
       "      <td>10651272.68</td>\n",
       "    </tr>\n",
       "    <tr>\n",
       "      <th>3</th>\n",
       "      <td>1629961.36</td>\n",
       "      <td>31452148.46</td>\n",
       "      <td>21519604.32</td>\n",
       "      <td>9932544.14</td>\n",
       "    </tr>\n",
       "    <tr>\n",
       "      <th>4</th>\n",
       "      <td>2182131.47</td>\n",
       "      <td>42719460.42</td>\n",
       "      <td>28804020.26</td>\n",
       "      <td>13915440.16</td>\n",
       "    </tr>\n",
       "  </tbody>\n",
       "</table>\n",
       "</div>"
      ],
      "text/plain": [
       "                           KM Travelled  Price Charged  Cost of Trip  \\\n",
       "Company    Date of Travel                                              \n",
       "Pink Cab   1                  272100.11     3890898.46    2992280.92   \n",
       "           2                  333964.91     4320401.92    3674023.74   \n",
       "           3                  541788.39     7150825.35    5957938.46   \n",
       "           4                  743091.49    10676393.97    8175039.69   \n",
       "Yellow Cab 1                 1074193.22    22983729.63   14180374.95   \n",
       "           2                 1236594.38    26971472.67   16320199.99   \n",
       "           3                 1629961.36    31452148.46   21519604.32   \n",
       "           4                 2182131.47    42719460.42   28804020.26   \n",
       "\n",
       "                                Profit  \n",
       "Company    Date of Travel               \n",
       "Pink Cab   1                 898617.54  \n",
       "           2                 646378.18  \n",
       "           3                1192886.89  \n",
       "           4                2501354.28  \n",
       "Yellow Cab 1                8803354.68  \n",
       "           2               10651272.68  \n",
       "           3                9932544.14  \n",
       "           4               13915440.16  "
      ]
     },
     "execution_count": 215,
     "metadata": {},
     "output_type": "execute_result"
    }
   ],
   "source": [
    "data_per_quarter"
   ]
  },
  {
   "cell_type": "markdown",
   "id": "7127ecea-80cd-45f0-9c7a-e902ec7af7b4",
   "metadata": {},
   "source": [
    "We can even see on average per year, month, and day Yellow Cab company outperforms Pink Cab Company"
   ]
  },
  {
   "cell_type": "markdown",
   "id": "75707dd8-c51e-4650-93d9-92be1809ee7c",
   "metadata": {},
   "source": [
    "### Let's look at the profit by City for each Company"
   ]
  },
  {
   "cell_type": "code",
   "execution_count": 109,
   "id": "bc49cd3b-59e8-437c-a765-3aa19ae4ec13",
   "metadata": {
    "tags": []
   },
   "outputs": [
    {
     "data": {
      "text/plain": [
       "array(['PITTSBURGH PA', 'WASHINGTON DC', 'CHICAGO IL', 'ATLANTA GA',\n",
       "       'BOSTON MA', 'NEW YORK NY', 'SAN DIEGO CA', 'SILICON VALLEY',\n",
       "       'TUCSON AZ', 'DALLAS TX', 'AUSTIN TX', 'DENVER CO',\n",
       "       'LOS ANGELES CA', 'SEATTLE WA', 'MIAMI FL', 'SACRAMENTO CA',\n",
       "       'ORANGE COUNTY', 'NASHVILLE TN', 'PHOENIX AZ'], dtype=object)"
      ]
     },
     "execution_count": 109,
     "metadata": {},
     "output_type": "execute_result"
    }
   ],
   "source": [
    "yellow_cab[\"City\"].unique()"
   ]
  },
  {
   "cell_type": "code",
   "execution_count": 276,
   "id": "0e8f55a1-39e2-4dac-8317-1227f17670fd",
   "metadata": {
    "tags": []
   },
   "outputs": [
    {
     "data": {
      "text/plain": [
       "Text(0, 0.5, 'Count')"
      ]
     },
     "execution_count": 276,
     "metadata": {},
     "output_type": "execute_result"
    },
    {
     "data": {
      "image/png": "[encoded data removed]",
      "text/plain": [
       "<Figure size 1900x500 with 2 Axes>"
      ]
     },
     "metadata": {},
     "output_type": "display_data"
    }
   ],
   "source": [
    "sns.set(rc={\"figure.figsize\":(19, 5)})\n",
    "sns.set_theme(style =\"white\")\n",
    "\n",
    "fig, axs = plt.subplots(ncols=2)\n",
    "\n",
    "# Yellow City Plot\n",
    "yellow_city = yellow_cab.City.value_counts().plot(y='number', kind='bar', color = \"Yellow\", legend=False, ax=axs[1])\n",
    "yellow_city.set_xticklabels(yellow_city.get_xticklabels(), rotation=50, horizontalalignment='right')\n",
    "yellow_city.set_xlabel(\"City\")\n",
    "yellow_city.set_ylabel(\"Count\")\n",
    "\n",
    "# Pink City Plot\n",
    "pink_city = pink_cab.City.value_counts().plot(y='number', kind='bar', color = \"Pink\", legend=False, ax=axs[0])\n",
    "pink_city.set_xticklabels(pink_city.get_xticklabels(), rotation=50, horizontalalignment='right')\n",
    "pink_city.set_xlabel(\"City\")\n",
    "pink_city.set_ylabel(\"Count\")"
   ]
  },
  {
   "cell_type": "code",
   "execution_count": 280,
   "id": "7f1a2d91-5924-4a3f-8b48-9b951b754ac5",
   "metadata": {
    "tags": []
   },
   "outputs": [],
   "source": [
    "# sns.set(rc={\"figure.figsize\":(19, 5)})\n",
    "# sns.set_theme(style =\"white\")\n",
    "# fig, axs = plt.subplots(ncols=2)\n",
    "\n",
    "\n",
    "# yellow_city = sns.histplot(yellow_cab, x = \"City\", color = \"Yellow\", ax=axs[0])\n",
    "# yellow_city.set_xticklabels(yellow_city.get_xticklabels(), rotation=50, horizontalalignment='right')\n",
    "\n",
    "# pink_city = sns.histplot(pink_cab, x = \"City\", color = \"Pink\",  ax=axs[1])\n",
    "# pink_city.set_xticklabels(pink_city.get_xticklabels(), rotation=50, horizontalalignment='right')"
   ]
  },
  {
   "cell_type": "code",
   "execution_count": 12,
   "id": "aff51f97-56db-4b26-8d7e-dd0ec6abfcda",
   "metadata": {
    "tags": []
   },
   "outputs": [
    {
     "name": "stderr",
     "output_type": "stream",
     "text": [
      "C:\\Users\\cdbry\\AppData\\Local\\Temp\\ipykernel_14648\\3769204749.py:2: FutureWarning: Indexing with multiple keys (implicitly converted to a tuple of keys) will be deprecated, use a list instead.\n",
      "  per_city = master_cab_data.groupby([\"City\", \"Company\"], group_keys = False) \\\n"
     ]
    }
   ],
   "source": [
    "# Group By City\n",
    "per_city = master_cab_data.groupby([\"City\", \"Company\"], group_keys = False) \\\n",
    "[\"KM Travelled\", \"Price Charged\", \"Cost of Trip\"].sum().round(2)\n",
    "\n",
    "# Add Amount Charged Per KM\n",
    "per_city[\"Charge Per KM\"] = (per_city[\"Price Charged\"] / per_city[\"KM Travelled\"]).round(2)\n",
    "\n",
    "# Add Profit Column to Table\n",
    "per_city[\"Profit\"] = profit(per_city.groupby([\"City\", \"Company\"]))\n",
    "\n",
    "# Add Profit Per KM\n",
    "per_city[\"Profit Per KM\"] = (per_city[\"Profit\"] / per_city[\"KM Travelled\"]).round(2)"
   ]
  },
  {
   "cell_type": "code",
   "execution_count": 13,
   "id": "c93043bf-6987-46e0-b66c-0dcd467c8941",
   "metadata": {
    "tags": []
   },
   "outputs": [
    {
     "data": {
      "text/html": [
       "<div>\n",
       "<style scoped>\n",
       "    .dataframe tbody tr th:only-of-type {\n",
       "        vertical-align: middle;\n",
       "    }\n",
       "\n",
       "    .dataframe tbody tr th {\n",
       "        vertical-align: top;\n",
       "    }\n",
       "\n",
       "    .dataframe thead th {\n",
       "        text-align: right;\n",
       "    }\n",
       "</style>\n",
       "<table border=\"1\" class=\"dataframe\">\n",
       "  <thead>\n",
       "    <tr style=\"text-align: right;\">\n",
       "      <th></th>\n",
       "      <th></th>\n",
       "      <th>KM Travelled</th>\n",
       "      <th>Price Charged</th>\n",
       "      <th>Cost of Trip</th>\n",
       "      <th>Charge Per KM</th>\n",
       "      <th>Profit</th>\n",
       "      <th>Profit Per KM</th>\n",
       "    </tr>\n",
       "    <tr>\n",
       "      <th>City</th>\n",
       "      <th>Company</th>\n",
       "      <th></th>\n",
       "      <th></th>\n",
       "      <th></th>\n",
       "      <th></th>\n",
       "      <th></th>\n",
       "      <th></th>\n",
       "    </tr>\n",
       "  </thead>\n",
       "  <tbody>\n",
       "    <tr>\n",
       "      <th rowspan=\"2\" valign=\"top\">ATLANTA GA</th>\n",
       "      <th>Pink Cab</th>\n",
       "      <td>39209.93</td>\n",
       "      <td>525463.64</td>\n",
       "      <td>430727.46</td>\n",
       "      <td>13.40</td>\n",
       "      <td>94736.18</td>\n",
       "      <td>2.42</td>\n",
       "    </tr>\n",
       "    <tr>\n",
       "      <th>Yellow Cab</th>\n",
       "      <td>127274.68</td>\n",
       "      <td>2406772.46</td>\n",
       "      <td>1679652.72</td>\n",
       "      <td>18.91</td>\n",
       "      <td>727119.74</td>\n",
       "      <td>5.71</td>\n",
       "    </tr>\n",
       "    <tr>\n",
       "      <th rowspan=\"2\" valign=\"top\">AUSTIN TX</th>\n",
       "      <th>Pink Cab</th>\n",
       "      <td>40803.28</td>\n",
       "      <td>595306.30</td>\n",
       "      <td>448561.39</td>\n",
       "      <td>14.59</td>\n",
       "      <td>146744.91</td>\n",
       "      <td>3.60</td>\n",
       "    </tr>\n",
       "    <tr>\n",
       "      <th>Yellow Cab</th>\n",
       "      <td>67706.13</td>\n",
       "      <td>1267498.80</td>\n",
       "      <td>893258.52</td>\n",
       "      <td>18.72</td>\n",
       "      <td>374240.28</td>\n",
       "      <td>5.53</td>\n",
       "    </tr>\n",
       "    <tr>\n",
       "      <th rowspan=\"2\" valign=\"top\">BOSTON MA</th>\n",
       "      <th>Pink Cab</th>\n",
       "      <td>116530.44</td>\n",
       "      <td>1540983.77</td>\n",
       "      <td>1281139.87</td>\n",
       "      <td>13.22</td>\n",
       "      <td>259843.90</td>\n",
       "      <td>2.23</td>\n",
       "    </tr>\n",
       "    <tr>\n",
       "      <th>Yellow Cab</th>\n",
       "      <td>545632.90</td>\n",
       "      <td>8676316.95</td>\n",
       "      <td>7204327.13</td>\n",
       "      <td>15.90</td>\n",
       "      <td>1471989.82</td>\n",
       "      <td>2.70</td>\n",
       "    </tr>\n",
       "    <tr>\n",
       "      <th rowspan=\"2\" valign=\"top\">CHICAGO IL</th>\n",
       "      <th>Pink Cab</th>\n",
       "      <td>207930.59</td>\n",
       "      <td>2598708.02</td>\n",
       "      <td>2286456.39</td>\n",
       "      <td>12.50</td>\n",
       "      <td>312251.63</td>\n",
       "      <td>1.50</td>\n",
       "    </tr>\n",
       "    <tr>\n",
       "      <th>Yellow Cab</th>\n",
       "      <td>1055027.42</td>\n",
       "      <td>16900943.45</td>\n",
       "      <td>13925153.94</td>\n",
       "      <td>16.02</td>\n",
       "      <td>2975789.51</td>\n",
       "      <td>2.82</td>\n",
       "    </tr>\n",
       "    <tr>\n",
       "      <th rowspan=\"2\" valign=\"top\">DALLAS TX</th>\n",
       "      <th>Pink Cab</th>\n",
       "      <td>29969.03</td>\n",
       "      <td>354559.42</td>\n",
       "      <td>329498.85</td>\n",
       "      <td>11.83</td>\n",
       "      <td>25060.57</td>\n",
       "      <td>0.84</td>\n",
       "    </tr>\n",
       "    <tr>\n",
       "      <th>Yellow Cab</th>\n",
       "      <td>125351.50</td>\n",
       "      <td>2730881.23</td>\n",
       "      <td>1652580.42</td>\n",
       "      <td>21.79</td>\n",
       "      <td>1078300.81</td>\n",
       "      <td>8.60</td>\n",
       "    </tr>\n",
       "    <tr>\n",
       "      <th rowspan=\"2\" valign=\"top\">DENVER CO</th>\n",
       "      <th>Pink Cab</th>\n",
       "      <td>31064.52</td>\n",
       "      <td>382356.02</td>\n",
       "      <td>341758.82</td>\n",
       "      <td>12.31</td>\n",
       "      <td>40597.20</td>\n",
       "      <td>1.31</td>\n",
       "    </tr>\n",
       "    <tr>\n",
       "      <th>Yellow Cab</th>\n",
       "      <td>53825.22</td>\n",
       "      <td>1059064.01</td>\n",
       "      <td>710824.41</td>\n",
       "      <td>19.68</td>\n",
       "      <td>348239.60</td>\n",
       "      <td>6.47</td>\n",
       "    </tr>\n",
       "    <tr>\n",
       "      <th rowspan=\"2\" valign=\"top\">LOS ANGELES CA</th>\n",
       "      <th>Pink Cab</th>\n",
       "      <td>445013.08</td>\n",
       "      <td>5995489.09</td>\n",
       "      <td>4894468.81</td>\n",
       "      <td>13.47</td>\n",
       "      <td>1101020.28</td>\n",
       "      <td>2.47</td>\n",
       "    </tr>\n",
       "    <tr>\n",
       "      <th>Yellow Cab</th>\n",
       "      <td>630749.05</td>\n",
       "      <td>11536591.48</td>\n",
       "      <td>8328527.62</td>\n",
       "      <td>18.29</td>\n",
       "      <td>3208063.86</td>\n",
       "      <td>5.09</td>\n",
       "    </tr>\n",
       "    <tr>\n",
       "      <th rowspan=\"2\" valign=\"top\">MIAMI FL</th>\n",
       "      <th>Pink Cab</th>\n",
       "      <td>44444.88</td>\n",
       "      <td>649931.87</td>\n",
       "      <td>488168.94</td>\n",
       "      <td>14.62</td>\n",
       "      <td>161762.93</td>\n",
       "      <td>3.64</td>\n",
       "    </tr>\n",
       "    <tr>\n",
       "      <th>Yellow Cab</th>\n",
       "      <td>100177.05</td>\n",
       "      <td>1913616.95</td>\n",
       "      <td>1323770.08</td>\n",
       "      <td>19.10</td>\n",
       "      <td>589846.87</td>\n",
       "      <td>5.89</td>\n",
       "    </tr>\n",
       "    <tr>\n",
       "      <th rowspan=\"2\" valign=\"top\">NASHVILLE TN</th>\n",
       "      <th>Pink Cab</th>\n",
       "      <td>41235.00</td>\n",
       "      <td>515698.58</td>\n",
       "      <td>452394.01</td>\n",
       "      <td>12.51</td>\n",
       "      <td>63304.57</td>\n",
       "      <td>1.54</td>\n",
       "    </tr>\n",
       "    <tr>\n",
       "      <th>Yellow Cab</th>\n",
       "      <td>26660.60</td>\n",
       "      <td>435578.76</td>\n",
       "      <td>352171.52</td>\n",
       "      <td>16.34</td>\n",
       "      <td>83407.24</td>\n",
       "      <td>3.13</td>\n",
       "    </tr>\n",
       "    <tr>\n",
       "      <th rowspan=\"2\" valign=\"top\">NEW YORK NY</th>\n",
       "      <th>Pink Cab</th>\n",
       "      <td>313795.37</td>\n",
       "      <td>4954294.22</td>\n",
       "      <td>3451915.36</td>\n",
       "      <td>15.79</td>\n",
       "      <td>1502378.86</td>\n",
       "      <td>4.79</td>\n",
       "    </tr>\n",
       "    <tr>\n",
       "      <th>Yellow Cab</th>\n",
       "      <td>1913776.88</td>\n",
       "      <td>51401824.09</td>\n",
       "      <td>25264876.07</td>\n",
       "      <td>26.86</td>\n",
       "      <td>26136948.02</td>\n",
       "      <td>13.66</td>\n",
       "    </tr>\n",
       "    <tr>\n",
       "      <th rowspan=\"2\" valign=\"top\">ORANGE COUNTY</th>\n",
       "      <th>Pink Cab</th>\n",
       "      <td>33341.87</td>\n",
       "      <td>467730.80</td>\n",
       "      <td>367128.11</td>\n",
       "      <td>14.03</td>\n",
       "      <td>100602.69</td>\n",
       "      <td>3.02</td>\n",
       "    </tr>\n",
       "    <tr>\n",
       "      <th>Yellow Cab</th>\n",
       "      <td>54746.37</td>\n",
       "      <td>1070456.06</td>\n",
       "      <td>721552.56</td>\n",
       "      <td>19.55</td>\n",
       "      <td>348903.50</td>\n",
       "      <td>6.37</td>\n",
       "    </tr>\n",
       "    <tr>\n",
       "      <th rowspan=\"2\" valign=\"top\">PHOENIX AZ</th>\n",
       "      <th>Pink Cab</th>\n",
       "      <td>18571.26</td>\n",
       "      <td>238753.83</td>\n",
       "      <td>204250.92</td>\n",
       "      <td>12.86</td>\n",
       "      <td>34502.91</td>\n",
       "      <td>1.86</td>\n",
       "    </tr>\n",
       "    <tr>\n",
       "      <th>Yellow Cab</th>\n",
       "      <td>26681.02</td>\n",
       "      <td>506928.89</td>\n",
       "      <td>352502.21</td>\n",
       "      <td>19.00</td>\n",
       "      <td>154426.68</td>\n",
       "      <td>5.79</td>\n",
       "    </tr>\n",
       "    <tr>\n",
       "      <th rowspan=\"2\" valign=\"top\">PITTSBURGH PA</th>\n",
       "      <th>Pink Cab</th>\n",
       "      <td>15359.66</td>\n",
       "      <td>186066.70</td>\n",
       "      <td>169192.92</td>\n",
       "      <td>12.11</td>\n",
       "      <td>16873.78</td>\n",
       "      <td>1.10</td>\n",
       "    </tr>\n",
       "    <tr>\n",
       "      <th>Yellow Cab</th>\n",
       "      <td>14172.55</td>\n",
       "      <td>252441.85</td>\n",
       "      <td>185904.02</td>\n",
       "      <td>17.81</td>\n",
       "      <td>66537.83</td>\n",
       "      <td>4.69</td>\n",
       "    </tr>\n",
       "    <tr>\n",
       "      <th rowspan=\"2\" valign=\"top\">SACRAMENTO CA</th>\n",
       "      <th>Pink Cab</th>\n",
       "      <td>29841.78</td>\n",
       "      <td>381586.44</td>\n",
       "      <td>328321.80</td>\n",
       "      <td>12.79</td>\n",
       "      <td>53264.64</td>\n",
       "      <td>1.78</td>\n",
       "    </tr>\n",
       "    <tr>\n",
       "      <th>Yellow Cab</th>\n",
       "      <td>23287.74</td>\n",
       "      <td>365859.56</td>\n",
       "      <td>307012.45</td>\n",
       "      <td>15.71</td>\n",
       "      <td>58847.11</td>\n",
       "      <td>2.53</td>\n",
       "    </tr>\n",
       "    <tr>\n",
       "      <th rowspan=\"2\" valign=\"top\">SAN DIEGO CA</th>\n",
       "      <th>Pink Cab</th>\n",
       "      <td>237912.62</td>\n",
       "      <td>3245623.79</td>\n",
       "      <td>2617599.59</td>\n",
       "      <td>13.64</td>\n",
       "      <td>628024.20</td>\n",
       "      <td>2.64</td>\n",
       "    </tr>\n",
       "    <tr>\n",
       "      <th>Yellow Cab</th>\n",
       "      <td>217150.19</td>\n",
       "      <td>3794926.36</td>\n",
       "      <td>2865556.80</td>\n",
       "      <td>17.48</td>\n",
       "      <td>929369.56</td>\n",
       "      <td>4.28</td>\n",
       "    </tr>\n",
       "    <tr>\n",
       "      <th rowspan=\"2\" valign=\"top\">SEATTLE WA</th>\n",
       "      <th>Pink Cab</th>\n",
       "      <td>60418.26</td>\n",
       "      <td>778100.99</td>\n",
       "      <td>665491.86</td>\n",
       "      <td>12.88</td>\n",
       "      <td>112609.13</td>\n",
       "      <td>1.86</td>\n",
       "    </tr>\n",
       "    <tr>\n",
       "      <th>Yellow Cab</th>\n",
       "      <td>116626.99</td>\n",
       "      <td>2010554.27</td>\n",
       "      <td>1536626.48</td>\n",
       "      <td>17.24</td>\n",
       "      <td>473927.79</td>\n",
       "      <td>4.06</td>\n",
       "    </tr>\n",
       "    <tr>\n",
       "      <th rowspan=\"2\" valign=\"top\">SILICON VALLEY</th>\n",
       "      <th>Pink Cab</th>\n",
       "      <td>85458.67</td>\n",
       "      <td>1275387.47</td>\n",
       "      <td>940149.82</td>\n",
       "      <td>14.92</td>\n",
       "      <td>335237.65</td>\n",
       "      <td>3.92</td>\n",
       "    </tr>\n",
       "    <tr>\n",
       "      <th>Yellow Cab</th>\n",
       "      <td>106091.54</td>\n",
       "      <td>2361501.09</td>\n",
       "      <td>1401098.83</td>\n",
       "      <td>22.26</td>\n",
       "      <td>960402.26</td>\n",
       "      <td>9.05</td>\n",
       "    </tr>\n",
       "    <tr>\n",
       "      <th rowspan=\"2\" valign=\"top\">TUCSON AZ</th>\n",
       "      <th>Pink Cab</th>\n",
       "      <td>17893.89</td>\n",
       "      <td>256211.30</td>\n",
       "      <td>197606.42</td>\n",
       "      <td>14.32</td>\n",
       "      <td>58604.88</td>\n",
       "      <td>3.28</td>\n",
       "    </tr>\n",
       "    <tr>\n",
       "      <th>Yellow Cab</th>\n",
       "      <td>24999.48</td>\n",
       "      <td>409831.91</td>\n",
       "      <td>330591.10</td>\n",
       "      <td>16.39</td>\n",
       "      <td>79240.81</td>\n",
       "      <td>3.17</td>\n",
       "    </tr>\n",
       "    <tr>\n",
       "      <th rowspan=\"2\" valign=\"top\">WASHINGTON DC</th>\n",
       "      <th>Pink Cab</th>\n",
       "      <td>82150.77</td>\n",
       "      <td>1096267.45</td>\n",
       "      <td>904451.47</td>\n",
       "      <td>13.34</td>\n",
       "      <td>191815.98</td>\n",
       "      <td>2.33</td>\n",
       "    </tr>\n",
       "    <tr>\n",
       "      <th>Yellow Cab</th>\n",
       "      <td>892943.12</td>\n",
       "      <td>15025223.01</td>\n",
       "      <td>11788212.61</td>\n",
       "      <td>16.83</td>\n",
       "      <td>3237010.40</td>\n",
       "      <td>3.63</td>\n",
       "    </tr>\n",
       "  </tbody>\n",
       "</table>\n",
       "</div>"
      ],
      "text/plain": [
       "                           KM Travelled  Price Charged  Cost of Trip  \\\n",
       "City           Company                                                 \n",
       "ATLANTA GA     Pink Cab        39209.93      525463.64     430727.46   \n",
       "               Yellow Cab     127274.68     2406772.46    1679652.72   \n",
       "AUSTIN TX      Pink Cab        40803.28      595306.30     448561.39   \n",
       "               Yellow Cab      67706.13     1267498.80     893258.52   \n",
       "BOSTON MA      Pink Cab       116530.44     1540983.77    1281139.87   \n",
       "               Yellow Cab     545632.90     8676316.95    7204327.13   \n",
       "CHICAGO IL     Pink Cab       207930.59     2598708.02    2286456.39   \n",
       "               Yellow Cab    1055027.42    16900943.45   13925153.94   \n",
       "DALLAS TX      Pink Cab        29969.03      354559.42     329498.85   \n",
       "               Yellow Cab     125351.50     2730881.23    1652580.42   \n",
       "DENVER CO      Pink Cab        31064.52      382356.02     341758.82   \n",
       "               Yellow Cab      53825.22     1059064.01     710824.41   \n",
       "LOS ANGELES CA Pink Cab       445013.08     5995489.09    4894468.81   \n",
       "               Yellow Cab     630749.05    11536591.48    8328527.62   \n",
       "MIAMI FL       Pink Cab        44444.88      649931.87     488168.94   \n",
       "               Yellow Cab     100177.05     1913616.95    1323770.08   \n",
       "NASHVILLE TN   Pink Cab        41235.00      515698.58     452394.01   \n",
       "               Yellow Cab      26660.60      435578.76     352171.52   \n",
       "NEW YORK NY    Pink Cab       313795.37     4954294.22    3451915.36   \n",
       "               Yellow Cab    1913776.88    51401824.09   25264876.07   \n",
       "ORANGE COUNTY  Pink Cab        33341.87      467730.80     367128.11   \n",
       "               Yellow Cab      54746.37     1070456.06     721552.56   \n",
       "PHOENIX AZ     Pink Cab        18571.26      238753.83     204250.92   \n",
       "               Yellow Cab      26681.02      506928.89     352502.21   \n",
       "PITTSBURGH PA  Pink Cab        15359.66      186066.70     169192.92   \n",
       "               Yellow Cab      14172.55      252441.85     185904.02   \n",
       "SACRAMENTO CA  Pink Cab        29841.78      381586.44     328321.80   \n",
       "               Yellow Cab      23287.74      365859.56     307012.45   \n",
       "SAN DIEGO CA   Pink Cab       237912.62     3245623.79    2617599.59   \n",
       "               Yellow Cab     217150.19     3794926.36    2865556.80   \n",
       "SEATTLE WA     Pink Cab        60418.26      778100.99     665491.86   \n",
       "               Yellow Cab     116626.99     2010554.27    1536626.48   \n",
       "SILICON VALLEY Pink Cab        85458.67     1275387.47     940149.82   \n",
       "               Yellow Cab     106091.54     2361501.09    1401098.83   \n",
       "TUCSON AZ      Pink Cab        17893.89      256211.30     197606.42   \n",
       "               Yellow Cab      24999.48      409831.91     330591.10   \n",
       "WASHINGTON DC  Pink Cab        82150.77     1096267.45     904451.47   \n",
       "               Yellow Cab     892943.12    15025223.01   11788212.61   \n",
       "\n",
       "                           Charge Per KM       Profit  Profit Per KM  \n",
       "City           Company                                                \n",
       "ATLANTA GA     Pink Cab            13.40     94736.18           2.42  \n",
       "               Yellow Cab          18.91    727119.74           5.71  \n",
       "AUSTIN TX      Pink Cab            14.59    146744.91           3.60  \n",
       "               Yellow Cab          18.72    374240.28           5.53  \n",
       "BOSTON MA      Pink Cab            13.22    259843.90           2.23  \n",
       "               Yellow Cab          15.90   1471989.82           2.70  \n",
       "CHICAGO IL     Pink Cab            12.50    312251.63           1.50  \n",
       "               Yellow Cab          16.02   2975789.51           2.82  \n",
       "DALLAS TX      Pink Cab            11.83     25060.57           0.84  \n",
       "               Yellow Cab          21.79   1078300.81           8.60  \n",
       "DENVER CO      Pink Cab            12.31     40597.20           1.31  \n",
       "               Yellow Cab          19.68    348239.60           6.47  \n",
       "LOS ANGELES CA Pink Cab            13.47   1101020.28           2.47  \n",
       "               Yellow Cab          18.29   3208063.86           5.09  \n",
       "MIAMI FL       Pink Cab            14.62    161762.93           3.64  \n",
       "               Yellow Cab          19.10    589846.87           5.89  \n",
       "NASHVILLE TN   Pink Cab            12.51     63304.57           1.54  \n",
       "               Yellow Cab          16.34     83407.24           3.13  \n",
       "NEW YORK NY    Pink Cab            15.79   1502378.86           4.79  \n",
       "               Yellow Cab          26.86  26136948.02          13.66  \n",
       "ORANGE COUNTY  Pink Cab            14.03    100602.69           3.02  \n",
       "               Yellow Cab          19.55    348903.50           6.37  \n",
       "PHOENIX AZ     Pink Cab            12.86     34502.91           1.86  \n",
       "               Yellow Cab          19.00    154426.68           5.79  \n",
       "PITTSBURGH PA  Pink Cab            12.11     16873.78           1.10  \n",
       "               Yellow Cab          17.81     66537.83           4.69  \n",
       "SACRAMENTO CA  Pink Cab            12.79     53264.64           1.78  \n",
       "               Yellow Cab          15.71     58847.11           2.53  \n",
       "SAN DIEGO CA   Pink Cab            13.64    628024.20           2.64  \n",
       "               Yellow Cab          17.48    929369.56           4.28  \n",
       "SEATTLE WA     Pink Cab            12.88    112609.13           1.86  \n",
       "               Yellow Cab          17.24    473927.79           4.06  \n",
       "SILICON VALLEY Pink Cab            14.92    335237.65           3.92  \n",
       "               Yellow Cab          22.26    960402.26           9.05  \n",
       "TUCSON AZ      Pink Cab            14.32     58604.88           3.28  \n",
       "               Yellow Cab          16.39     79240.81           3.17  \n",
       "WASHINGTON DC  Pink Cab            13.34    191815.98           2.33  \n",
       "               Yellow Cab          16.83   3237010.40           3.63  "
      ]
     },
     "execution_count": 13,
     "metadata": {},
     "output_type": "execute_result"
    }
   ],
   "source": [
    "per_city"
   ]
  },
  {
   "cell_type": "code",
   "execution_count": 281,
   "id": "f483b9d7-bb41-41ad-8002-f04062fd1c07",
   "metadata": {
    "tags": []
   },
   "outputs": [
    {
     "data": {
      "text/html": [
       "<div>\n",
       "<style scoped>\n",
       "    .dataframe tbody tr th:only-of-type {\n",
       "        vertical-align: middle;\n",
       "    }\n",
       "\n",
       "    .dataframe tbody tr th {\n",
       "        vertical-align: top;\n",
       "    }\n",
       "\n",
       "    .dataframe thead th {\n",
       "        text-align: right;\n",
       "    }\n",
       "</style>\n",
       "<table border=\"1\" class=\"dataframe\">\n",
       "  <thead>\n",
       "    <tr style=\"text-align: right;\">\n",
       "      <th></th>\n",
       "      <th></th>\n",
       "      <th>KM Travelled</th>\n",
       "      <th>Price Charged</th>\n",
       "      <th>Cost of Trip</th>\n",
       "      <th>Profit</th>\n",
       "      <th>Profit Per KM</th>\n",
       "    </tr>\n",
       "    <tr>\n",
       "      <th>City</th>\n",
       "      <th>Company</th>\n",
       "      <th></th>\n",
       "      <th></th>\n",
       "      <th></th>\n",
       "      <th></th>\n",
       "      <th></th>\n",
       "    </tr>\n",
       "  </thead>\n",
       "  <tbody>\n",
       "    <tr>\n",
       "      <th>DALLAS TX</th>\n",
       "      <th>Pink Cab</th>\n",
       "      <td>29969.03</td>\n",
       "      <td>354559.42</td>\n",
       "      <td>329498.85</td>\n",
       "      <td>25060.57</td>\n",
       "      <td>0.836216</td>\n",
       "    </tr>\n",
       "    <tr>\n",
       "      <th>PITTSBURGH PA</th>\n",
       "      <th>Pink Cab</th>\n",
       "      <td>15359.66</td>\n",
       "      <td>186066.70</td>\n",
       "      <td>169192.92</td>\n",
       "      <td>16873.78</td>\n",
       "      <td>1.098578</td>\n",
       "    </tr>\n",
       "    <tr>\n",
       "      <th>DENVER CO</th>\n",
       "      <th>Pink Cab</th>\n",
       "      <td>31064.52</td>\n",
       "      <td>382356.02</td>\n",
       "      <td>341758.82</td>\n",
       "      <td>40597.20</td>\n",
       "      <td>1.306867</td>\n",
       "    </tr>\n",
       "    <tr>\n",
       "      <th>CHICAGO IL</th>\n",
       "      <th>Pink Cab</th>\n",
       "      <td>207930.59</td>\n",
       "      <td>2598708.02</td>\n",
       "      <td>2286456.39</td>\n",
       "      <td>312251.63</td>\n",
       "      <td>1.501711</td>\n",
       "    </tr>\n",
       "    <tr>\n",
       "      <th>NASHVILLE TN</th>\n",
       "      <th>Pink Cab</th>\n",
       "      <td>41235.00</td>\n",
       "      <td>515698.58</td>\n",
       "      <td>452394.01</td>\n",
       "      <td>63304.57</td>\n",
       "      <td>1.535215</td>\n",
       "    </tr>\n",
       "    <tr>\n",
       "      <th>SACRAMENTO CA</th>\n",
       "      <th>Pink Cab</th>\n",
       "      <td>29841.78</td>\n",
       "      <td>381586.44</td>\n",
       "      <td>328321.80</td>\n",
       "      <td>53264.64</td>\n",
       "      <td>1.784902</td>\n",
       "    </tr>\n",
       "    <tr>\n",
       "      <th>PHOENIX AZ</th>\n",
       "      <th>Pink Cab</th>\n",
       "      <td>18571.26</td>\n",
       "      <td>238753.83</td>\n",
       "      <td>204250.92</td>\n",
       "      <td>34502.91</td>\n",
       "      <td>1.857866</td>\n",
       "    </tr>\n",
       "    <tr>\n",
       "      <th>SEATTLE WA</th>\n",
       "      <th>Pink Cab</th>\n",
       "      <td>60418.26</td>\n",
       "      <td>778100.99</td>\n",
       "      <td>665491.86</td>\n",
       "      <td>112609.13</td>\n",
       "      <td>1.863826</td>\n",
       "    </tr>\n",
       "    <tr>\n",
       "      <th>BOSTON MA</th>\n",
       "      <th>Pink Cab</th>\n",
       "      <td>116530.44</td>\n",
       "      <td>1540983.77</td>\n",
       "      <td>1281139.87</td>\n",
       "      <td>259843.90</td>\n",
       "      <td>2.229837</td>\n",
       "    </tr>\n",
       "    <tr>\n",
       "      <th>WASHINGTON DC</th>\n",
       "      <th>Pink Cab</th>\n",
       "      <td>82150.77</td>\n",
       "      <td>1096267.45</td>\n",
       "      <td>904451.47</td>\n",
       "      <td>191815.98</td>\n",
       "      <td>2.334926</td>\n",
       "    </tr>\n",
       "    <tr>\n",
       "      <th>ATLANTA GA</th>\n",
       "      <th>Pink Cab</th>\n",
       "      <td>39209.93</td>\n",
       "      <td>525463.64</td>\n",
       "      <td>430727.46</td>\n",
       "      <td>94736.18</td>\n",
       "      <td>2.416127</td>\n",
       "    </tr>\n",
       "    <tr>\n",
       "      <th>LOS ANGELES CA</th>\n",
       "      <th>Pink Cab</th>\n",
       "      <td>445013.08</td>\n",
       "      <td>5995489.09</td>\n",
       "      <td>4894468.81</td>\n",
       "      <td>1101020.28</td>\n",
       "      <td>2.474130</td>\n",
       "    </tr>\n",
       "    <tr>\n",
       "      <th>SACRAMENTO CA</th>\n",
       "      <th>Yellow Cab</th>\n",
       "      <td>23287.74</td>\n",
       "      <td>365859.56</td>\n",
       "      <td>307012.45</td>\n",
       "      <td>58847.11</td>\n",
       "      <td>2.526957</td>\n",
       "    </tr>\n",
       "    <tr>\n",
       "      <th>SAN DIEGO CA</th>\n",
       "      <th>Pink Cab</th>\n",
       "      <td>237912.62</td>\n",
       "      <td>3245623.79</td>\n",
       "      <td>2617599.59</td>\n",
       "      <td>628024.20</td>\n",
       "      <td>2.639726</td>\n",
       "    </tr>\n",
       "    <tr>\n",
       "      <th>BOSTON MA</th>\n",
       "      <th>Yellow Cab</th>\n",
       "      <td>545632.90</td>\n",
       "      <td>8676316.95</td>\n",
       "      <td>7204327.13</td>\n",
       "      <td>1471989.82</td>\n",
       "      <td>2.697766</td>\n",
       "    </tr>\n",
       "    <tr>\n",
       "      <th>CHICAGO IL</th>\n",
       "      <th>Yellow Cab</th>\n",
       "      <td>1055027.42</td>\n",
       "      <td>16900943.45</td>\n",
       "      <td>13925153.94</td>\n",
       "      <td>2975789.51</td>\n",
       "      <td>2.820580</td>\n",
       "    </tr>\n",
       "    <tr>\n",
       "      <th>ORANGE COUNTY</th>\n",
       "      <th>Pink Cab</th>\n",
       "      <td>33341.87</td>\n",
       "      <td>467730.80</td>\n",
       "      <td>367128.11</td>\n",
       "      <td>100602.69</td>\n",
       "      <td>3.017308</td>\n",
       "    </tr>\n",
       "    <tr>\n",
       "      <th>NASHVILLE TN</th>\n",
       "      <th>Yellow Cab</th>\n",
       "      <td>26660.60</td>\n",
       "      <td>435578.76</td>\n",
       "      <td>352171.52</td>\n",
       "      <td>83407.24</td>\n",
       "      <td>3.128483</td>\n",
       "    </tr>\n",
       "    <tr>\n",
       "      <th rowspan=\"2\" valign=\"top\">TUCSON AZ</th>\n",
       "      <th>Yellow Cab</th>\n",
       "      <td>24999.48</td>\n",
       "      <td>409831.91</td>\n",
       "      <td>330591.10</td>\n",
       "      <td>79240.81</td>\n",
       "      <td>3.169698</td>\n",
       "    </tr>\n",
       "    <tr>\n",
       "      <th>Pink Cab</th>\n",
       "      <td>17893.89</td>\n",
       "      <td>256211.30</td>\n",
       "      <td>197606.42</td>\n",
       "      <td>58604.88</td>\n",
       "      <td>3.275134</td>\n",
       "    </tr>\n",
       "    <tr>\n",
       "      <th>AUSTIN TX</th>\n",
       "      <th>Pink Cab</th>\n",
       "      <td>40803.28</td>\n",
       "      <td>595306.30</td>\n",
       "      <td>448561.39</td>\n",
       "      <td>146744.91</td>\n",
       "      <td>3.596400</td>\n",
       "    </tr>\n",
       "    <tr>\n",
       "      <th>WASHINGTON DC</th>\n",
       "      <th>Yellow Cab</th>\n",
       "      <td>892943.12</td>\n",
       "      <td>15025223.01</td>\n",
       "      <td>11788212.61</td>\n",
       "      <td>3237010.40</td>\n",
       "      <td>3.625103</td>\n",
       "    </tr>\n",
       "    <tr>\n",
       "      <th>MIAMI FL</th>\n",
       "      <th>Pink Cab</th>\n",
       "      <td>44444.88</td>\n",
       "      <td>649931.87</td>\n",
       "      <td>488168.94</td>\n",
       "      <td>161762.93</td>\n",
       "      <td>3.639630</td>\n",
       "    </tr>\n",
       "    <tr>\n",
       "      <th>SILICON VALLEY</th>\n",
       "      <th>Pink Cab</th>\n",
       "      <td>85458.67</td>\n",
       "      <td>1275387.47</td>\n",
       "      <td>940149.82</td>\n",
       "      <td>335237.65</td>\n",
       "      <td>3.922804</td>\n",
       "    </tr>\n",
       "    <tr>\n",
       "      <th>SEATTLE WA</th>\n",
       "      <th>Yellow Cab</th>\n",
       "      <td>116626.99</td>\n",
       "      <td>2010554.27</td>\n",
       "      <td>1536626.48</td>\n",
       "      <td>473927.79</td>\n",
       "      <td>4.063620</td>\n",
       "    </tr>\n",
       "    <tr>\n",
       "      <th>SAN DIEGO CA</th>\n",
       "      <th>Yellow Cab</th>\n",
       "      <td>217150.19</td>\n",
       "      <td>3794926.36</td>\n",
       "      <td>2865556.80</td>\n",
       "      <td>929369.56</td>\n",
       "      <td>4.279847</td>\n",
       "    </tr>\n",
       "    <tr>\n",
       "      <th>PITTSBURGH PA</th>\n",
       "      <th>Yellow Cab</th>\n",
       "      <td>14172.55</td>\n",
       "      <td>252441.85</td>\n",
       "      <td>185904.02</td>\n",
       "      <td>66537.83</td>\n",
       "      <td>4.694838</td>\n",
       "    </tr>\n",
       "    <tr>\n",
       "      <th>NEW YORK NY</th>\n",
       "      <th>Pink Cab</th>\n",
       "      <td>313795.37</td>\n",
       "      <td>4954294.22</td>\n",
       "      <td>3451915.36</td>\n",
       "      <td>1502378.86</td>\n",
       "      <td>4.787766</td>\n",
       "    </tr>\n",
       "    <tr>\n",
       "      <th>LOS ANGELES CA</th>\n",
       "      <th>Yellow Cab</th>\n",
       "      <td>630749.05</td>\n",
       "      <td>11536591.48</td>\n",
       "      <td>8328527.62</td>\n",
       "      <td>3208063.86</td>\n",
       "      <td>5.086118</td>\n",
       "    </tr>\n",
       "    <tr>\n",
       "      <th>AUSTIN TX</th>\n",
       "      <th>Yellow Cab</th>\n",
       "      <td>67706.13</td>\n",
       "      <td>1267498.80</td>\n",
       "      <td>893258.52</td>\n",
       "      <td>374240.28</td>\n",
       "      <td>5.527421</td>\n",
       "    </tr>\n",
       "    <tr>\n",
       "      <th>ATLANTA GA</th>\n",
       "      <th>Yellow Cab</th>\n",
       "      <td>127274.68</td>\n",
       "      <td>2406772.46</td>\n",
       "      <td>1679652.72</td>\n",
       "      <td>727119.74</td>\n",
       "      <td>5.712996</td>\n",
       "    </tr>\n",
       "    <tr>\n",
       "      <th>PHOENIX AZ</th>\n",
       "      <th>Yellow Cab</th>\n",
       "      <td>26681.02</td>\n",
       "      <td>506928.89</td>\n",
       "      <td>352502.21</td>\n",
       "      <td>154426.68</td>\n",
       "      <td>5.787885</td>\n",
       "    </tr>\n",
       "    <tr>\n",
       "      <th>MIAMI FL</th>\n",
       "      <th>Yellow Cab</th>\n",
       "      <td>100177.05</td>\n",
       "      <td>1913616.95</td>\n",
       "      <td>1323770.08</td>\n",
       "      <td>589846.87</td>\n",
       "      <td>5.888044</td>\n",
       "    </tr>\n",
       "    <tr>\n",
       "      <th>ORANGE COUNTY</th>\n",
       "      <th>Yellow Cab</th>\n",
       "      <td>54746.37</td>\n",
       "      <td>1070456.06</td>\n",
       "      <td>721552.56</td>\n",
       "      <td>348903.50</td>\n",
       "      <td>6.373089</td>\n",
       "    </tr>\n",
       "    <tr>\n",
       "      <th>DENVER CO</th>\n",
       "      <th>Yellow Cab</th>\n",
       "      <td>53825.22</td>\n",
       "      <td>1059064.01</td>\n",
       "      <td>710824.41</td>\n",
       "      <td>348239.60</td>\n",
       "      <td>6.469822</td>\n",
       "    </tr>\n",
       "    <tr>\n",
       "      <th>DALLAS TX</th>\n",
       "      <th>Yellow Cab</th>\n",
       "      <td>125351.50</td>\n",
       "      <td>2730881.23</td>\n",
       "      <td>1652580.42</td>\n",
       "      <td>1078300.81</td>\n",
       "      <td>8.602217</td>\n",
       "    </tr>\n",
       "    <tr>\n",
       "      <th>SILICON VALLEY</th>\n",
       "      <th>Yellow Cab</th>\n",
       "      <td>106091.54</td>\n",
       "      <td>2361501.09</td>\n",
       "      <td>1401098.83</td>\n",
       "      <td>960402.26</td>\n",
       "      <td>9.052581</td>\n",
       "    </tr>\n",
       "    <tr>\n",
       "      <th>NEW YORK NY</th>\n",
       "      <th>Yellow Cab</th>\n",
       "      <td>1913776.88</td>\n",
       "      <td>51401824.09</td>\n",
       "      <td>25264876.07</td>\n",
       "      <td>26136948.02</td>\n",
       "      <td>13.657260</td>\n",
       "    </tr>\n",
       "  </tbody>\n",
       "</table>\n",
       "</div>"
      ],
      "text/plain": [
       "                           KM Travelled  Price Charged  Cost of Trip  \\\n",
       "City           Company                                                 \n",
       "DALLAS TX      Pink Cab        29969.03      354559.42     329498.85   \n",
       "PITTSBURGH PA  Pink Cab        15359.66      186066.70     169192.92   \n",
       "DENVER CO      Pink Cab        31064.52      382356.02     341758.82   \n",
       "CHICAGO IL     Pink Cab       207930.59     2598708.02    2286456.39   \n",
       "NASHVILLE TN   Pink Cab        41235.00      515698.58     452394.01   \n",
       "SACRAMENTO CA  Pink Cab        29841.78      381586.44     328321.80   \n",
       "PHOENIX AZ     Pink Cab        18571.26      238753.83     204250.92   \n",
       "SEATTLE WA     Pink Cab        60418.26      778100.99     665491.86   \n",
       "BOSTON MA      Pink Cab       116530.44     1540983.77    1281139.87   \n",
       "WASHINGTON DC  Pink Cab        82150.77     1096267.45     904451.47   \n",
       "ATLANTA GA     Pink Cab        39209.93      525463.64     430727.46   \n",
       "LOS ANGELES CA Pink Cab       445013.08     5995489.09    4894468.81   \n",
       "SACRAMENTO CA  Yellow Cab      23287.74      365859.56     307012.45   \n",
       "SAN DIEGO CA   Pink Cab       237912.62     3245623.79    2617599.59   \n",
       "BOSTON MA      Yellow Cab     545632.90     8676316.95    7204327.13   \n",
       "CHICAGO IL     Yellow Cab    1055027.42    16900943.45   13925153.94   \n",
       "ORANGE COUNTY  Pink Cab        33341.87      467730.80     367128.11   \n",
       "NASHVILLE TN   Yellow Cab      26660.60      435578.76     352171.52   \n",
       "TUCSON AZ      Yellow Cab      24999.48      409831.91     330591.10   \n",
       "               Pink Cab        17893.89      256211.30     197606.42   \n",
       "AUSTIN TX      Pink Cab        40803.28      595306.30     448561.39   \n",
       "WASHINGTON DC  Yellow Cab     892943.12    15025223.01   11788212.61   \n",
       "MIAMI FL       Pink Cab        44444.88      649931.87     488168.94   \n",
       "SILICON VALLEY Pink Cab        85458.67     1275387.47     940149.82   \n",
       "SEATTLE WA     Yellow Cab     116626.99     2010554.27    1536626.48   \n",
       "SAN DIEGO CA   Yellow Cab     217150.19     3794926.36    2865556.80   \n",
       "PITTSBURGH PA  Yellow Cab      14172.55      252441.85     185904.02   \n",
       "NEW YORK NY    Pink Cab       313795.37     4954294.22    3451915.36   \n",
       "LOS ANGELES CA Yellow Cab     630749.05    11536591.48    8328527.62   \n",
       "AUSTIN TX      Yellow Cab      67706.13     1267498.80     893258.52   \n",
       "ATLANTA GA     Yellow Cab     127274.68     2406772.46    1679652.72   \n",
       "PHOENIX AZ     Yellow Cab      26681.02      506928.89     352502.21   \n",
       "MIAMI FL       Yellow Cab     100177.05     1913616.95    1323770.08   \n",
       "ORANGE COUNTY  Yellow Cab      54746.37     1070456.06     721552.56   \n",
       "DENVER CO      Yellow Cab      53825.22     1059064.01     710824.41   \n",
       "DALLAS TX      Yellow Cab     125351.50     2730881.23    1652580.42   \n",
       "SILICON VALLEY Yellow Cab     106091.54     2361501.09    1401098.83   \n",
       "NEW YORK NY    Yellow Cab    1913776.88    51401824.09   25264876.07   \n",
       "\n",
       "                                Profit  Profit Per KM  \n",
       "City           Company                                 \n",
       "DALLAS TX      Pink Cab       25060.57       0.836216  \n",
       "PITTSBURGH PA  Pink Cab       16873.78       1.098578  \n",
       "DENVER CO      Pink Cab       40597.20       1.306867  \n",
       "CHICAGO IL     Pink Cab      312251.63       1.501711  \n",
       "NASHVILLE TN   Pink Cab       63304.57       1.535215  \n",
       "SACRAMENTO CA  Pink Cab       53264.64       1.784902  \n",
       "PHOENIX AZ     Pink Cab       34502.91       1.857866  \n",
       "SEATTLE WA     Pink Cab      112609.13       1.863826  \n",
       "BOSTON MA      Pink Cab      259843.90       2.229837  \n",
       "WASHINGTON DC  Pink Cab      191815.98       2.334926  \n",
       "ATLANTA GA     Pink Cab       94736.18       2.416127  \n",
       "LOS ANGELES CA Pink Cab     1101020.28       2.474130  \n",
       "SACRAMENTO CA  Yellow Cab     58847.11       2.526957  \n",
       "SAN DIEGO CA   Pink Cab      628024.20       2.639726  \n",
       "BOSTON MA      Yellow Cab   1471989.82       2.697766  \n",
       "CHICAGO IL     Yellow Cab   2975789.51       2.820580  \n",
       "ORANGE COUNTY  Pink Cab      100602.69       3.017308  \n",
       "NASHVILLE TN   Yellow Cab     83407.24       3.128483  \n",
       "TUCSON AZ      Yellow Cab     79240.81       3.169698  \n",
       "               Pink Cab       58604.88       3.275134  \n",
       "AUSTIN TX      Pink Cab      146744.91       3.596400  \n",
       "WASHINGTON DC  Yellow Cab   3237010.40       3.625103  \n",
       "MIAMI FL       Pink Cab      161762.93       3.639630  \n",
       "SILICON VALLEY Pink Cab      335237.65       3.922804  \n",
       "SEATTLE WA     Yellow Cab    473927.79       4.063620  \n",
       "SAN DIEGO CA   Yellow Cab    929369.56       4.279847  \n",
       "PITTSBURGH PA  Yellow Cab     66537.83       4.694838  \n",
       "NEW YORK NY    Pink Cab     1502378.86       4.787766  \n",
       "LOS ANGELES CA Yellow Cab   3208063.86       5.086118  \n",
       "AUSTIN TX      Yellow Cab    374240.28       5.527421  \n",
       "ATLANTA GA     Yellow Cab    727119.74       5.712996  \n",
       "PHOENIX AZ     Yellow Cab    154426.68       5.787885  \n",
       "MIAMI FL       Yellow Cab    589846.87       5.888044  \n",
       "ORANGE COUNTY  Yellow Cab    348903.50       6.373089  \n",
       "DENVER CO      Yellow Cab    348239.60       6.469822  \n",
       "DALLAS TX      Yellow Cab   1078300.81       8.602217  \n",
       "SILICON VALLEY Yellow Cab    960402.26       9.052581  \n",
       "NEW YORK NY    Yellow Cab  26136948.02      13.657260  "
      ]
     },
     "execution_count": 281,
     "metadata": {},
     "output_type": "execute_result"
    }
   ],
   "source": [
    "per_city.sort_values(by = 'Profit Per KM')"
   ]
  },
  {
   "cell_type": "code",
   "execution_count": 24,
   "id": "7e6dfce9-8e2b-466e-bae3-b43328b0c016",
   "metadata": {
    "tags": []
   },
   "outputs": [
    {
     "data": {
      "text/plain": [
       "Text(0, 0.5, 'Count')"
      ]
     },
     "execution_count": 24,
     "metadata": {},
     "output_type": "execute_result"
    },
    {
     "data": {
      "image/png": "[encoded data removed]",
      "text/plain": [
       "<Figure size 1900x500 with 2 Axes>"
      ]
     },
     "metadata": {},
     "output_type": "display_data"
    }
   ],
   "source": [
    "sns.set(rc={\"figure.figsize\":(19, 5)})\n",
    "sns.set_theme(style =\"white\")\n",
    "\n",
    "fig, axs = plt.subplots(ncols=2)\n",
    "\n",
    "# Yellow City Plot\n",
    "yellow_city = yellow_cab[\"Age Group\"].value_counts().plot(y='number', kind='bar', color = \"Yellow\", legend=False, ax=axs[1])\n",
    "yellow_city.set_xticklabels(yellow_city.get_xticklabels(), rotation=50, horizontalalignment='right')\n",
    "yellow_city.set_xlabel(\"City\")\n",
    "yellow_city.set_ylabel(\"Count\")\n",
    "\n",
    "# Pink City Plot\n",
    "pink_city = pink_cab[\"Age Group\"].value_counts().plot(y='number', kind='bar', color = \"Pink\", legend=False, ax=axs[0])\n",
    "pink_city.set_xticklabels(pink_city.get_xticklabels(), rotation=50, horizontalalignment='right')\n",
    "pink_city.set_xlabel(\"City\")\n",
    "pink_city.set_ylabel(\"Count\")"
   ]
  }
 ],
 "metadata": {
  "kernelspec": {
   "display_name": "Python 3 (ipykernel)",
   "language": "python",
   "name": "python3"
  },
  "language_info": {
   "codemirror_mode": {
    "name": "ipython",
    "version": 3
   },
   "file_extension": ".py",
   "mimetype": "text/x-python",
   "name": "python",
   "nbconvert_exporter": "python",
   "pygments_lexer": "ipython3",
   "version": "3.9.17"
  }
 },
 "nbformat": 4,
 "nbformat_minor": 5
}
