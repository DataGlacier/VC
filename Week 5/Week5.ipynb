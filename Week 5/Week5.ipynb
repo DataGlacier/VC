{
 "cells": [
  {
   "cell_type": "markdown",
   "id": "5893ec9f-5a74-4368-a154-185d37f17720",
   "metadata": {},
   "source": [
    "# Week 5: Model Deployment on Google Cloud by Connor Bryson"
   ]
  },
  {
   "cell_type": "markdown",
   "id": "90832e4b-a4af-4e61-96e2-03954841219f",
   "metadata": {},
   "source": [
    "## LISUM25"
   ]
  },
  {
   "cell_type": "markdown",
   "id": "b0891942-86f1-48d1-90e0-204b64827a99",
   "metadata": {},
   "source": [
    "### 10 5 23 Due Date"
   ]
  },
  {
   "cell_type": "markdown",
   "id": "6f667ea8-2643-4d41-a01b-dba22f7e0c79",
   "metadata": {},
   "source": [
    "## Steps for Deployment"
   ]
  },
  {
   "cell_type": "markdown",
   "id": "5615343d-6022-481e-b283-58d2bdd91b5e",
   "metadata": {},
   "source": [
    "# First I chose Google Cloud for my depolyment and set up an account"
   ]
  },
  {
   "cell_type": "markdown",
   "id": "0e1be8dd-30fb-44b1-90a2-c785011710eb",
   "metadata": {},
   "source": [
    "## Then I created my model on google cloud and installed the Google Cloud SDK Shell"
   ]
  },
  {
   "cell_type": "markdown",
   "id": "3961284a-1cec-45d1-9806-c3e8e4861100",
   "metadata": {},
   "source": [
    "![Number 1.JPG](Number1.JPG)"
   ]
  },
  {
   "cell_type": "markdown",
   "id": "51ca1e73-1c00-412f-a709-6672ae32fd4e",
   "metadata": {},
   "source": [
    "![2.JPG](2.JPG)"
   ]
  },
  {
   "cell_type": "markdown",
   "id": "004b50b6-3792-4038-b003-0f7912b89832",
   "metadata": {},
   "source": [
    "## After that I set the source of my model in the shell script for Google Cloud"
   ]
  },
  {
   "cell_type": "markdown",
   "id": "3a8beada-24e8-460b-8120-5616fb1636e9",
   "metadata": {},
   "source": [
    "![3.JPG](3.JPG)"
   ]
  },
  {
   "cell_type": "markdown",
   "id": "0b9069ec-2c26-4953-82c3-7209f9fef867",
   "metadata": {},
   "source": [
    "![4.JPG](4.JPG)"
   ]
  },
  {
   "cell_type": "markdown",
   "id": "b770b799-7662-4bee-94d6-4a18bf98853b",
   "metadata": {},
   "source": [
    "## Finally I set the model server up for google cloud and ran the model!"
   ]
  },
  {
   "cell_type": "markdown",
   "id": "0edb9920-692c-455b-ae70-0869bfcefae4",
   "metadata": {},
   "source": [
    "![5.JPG](5.JPG)"
   ]
  },
  {
   "cell_type": "markdown",
   "id": "fb3b677a-6c2a-44b2-b50c-930362f1a7d3",
   "metadata": {},
   "source": [
    "![6.JPG](6.JPG)"
   ]
  },
  {
   "cell_type": "markdown",
   "id": "5afa222d-c7ab-4b7e-a94c-c535f5407049",
   "metadata": {},
   "source": [
    "![8.JPG](8.JPG)"
   ]
  }
 ],
 "metadata": {
  "kernelspec": {
   "display_name": "Python 3 (ipykernel)",
   "language": "python",
   "name": "python3"
  },
  "language_info": {
   "codemirror_mode": {
    "name": "ipython",
    "version": 3
   },
   "file_extension": ".py",
   "mimetype": "text/x-python",
   "name": "python",
   "nbconvert_exporter": "python",
   "pygments_lexer": "ipython3",
   "version": "3.9.17"
  }
 },
 "nbformat": 4,
 "nbformat_minor": 5
}
