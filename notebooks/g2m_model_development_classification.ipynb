{
 "cells": [
  {
   "cell_type": "markdown",
   "id": "2ce8c4df",
   "metadata": {},
   "source": [
    "### Business Questions\n",
    "    G2M Strategy \n",
    "    \n",
    "- Market Segmentation\n",
    "- Product\n",
    "- Buyer\n",
    "- Routes to Market\n",
    "***\n",
    "**Pitfalls to Avoid** \n",
    "- Poor product market fit\n",
    "- Oversaturation\n",
    "***\n",
    "**Methodologies**\n",
    "- Funnel - Awareness, consideration, and decision stages of the customer’s journey\n",
    "- Flywheel - Attracting, engaging, and delighting prospects, leads, and customers\n",
    "***\n",
    "**Components**\n",
    "- **Product-Market Fit:** What problem(s) does your product solve?\n",
    "- **Target Audience:** Who is experiencing the problem that your product solves? How much are they willing to pay for a solution? What are the pain points and frustrations that you can alleviate?\n",
    "- **Competition and Demand:** Who already offers what you’re launching? Is there a demand for the product, or is the market oversaturated?\n",
    "- **Distribution:** Through what mediums will you sell the product or service? A website, an app, or a third-party distributor?\n"
   ]
  },
  {
   "cell_type": "markdown",
   "id": "6d3d0efe",
   "metadata": {},
   "source": [
    "# G2M Strategy - Model Development\n",
    "\n",
    "**Prediction**\n",
    "\n",
    "Given the results from our cleaned dataset, we have a good understanding of the data and the relationships that exist, and the insights gather will assist in determining the type of model in predicting future `profit`.\n",
    "\n",
    "Analysis will consist of traditional hypothesis testing to more advanced modeling and techniques.\n",
    "\n",
    "\n",
    "Time period of data is from **31/01/2016 to 31/12/2018**:\n",
    "\n",
    "\n",
    "**Resources:**<br>\n",
    "[G2M Strategy](https://blog.hubspot.com/sales/gtm-strategy)"
   ]
  },
  {
   "cell_type": "markdown",
   "id": "b6a93c91",
   "metadata": {},
   "source": [
    "### Building a G2M Strategy\n",
    "\n",
    "1. Identify the buying center and personas.\n",
    "2. Craft a value matrix to help identify messaging.\n",
    "3. Test your messaging.\n",
    "4. Optimize your ads based on the results of your tests before implementing them on a wide scale.\n",
    "5. Understand your buyer’s journey.\n",
    "6. Choose one (or more) of the four most common sales strategies.\n",
    "7. Build brand awareness and demand generation with inbound and/or outbound methods.\n",
    "8. Create content to get inbound leads.\n",
    "9. Find ways to optimize your pipeline and increase conversion rates.\n",
    "10. Analyze and shorten the sales cycle.\n",
    "11. Reduce customer acquisition cost.\n",
    "12. Strategize ways to tap into your existing customer base.\n",
    "13. Adjust and iterate as you go.\n",
    "14. Retain and delight your customers."
   ]
  },
  {
   "cell_type": "markdown",
   "id": "f231e008",
   "metadata": {},
   "source": [
    "As a company owner - Using the G2M strategy the focus will be considereably to that of its Customers/Users. Th\n",
    "\n",
    "1) Can we tell how much would be earned by quarter, period, year of a specific time period? (Predictive analysis, Time Series)\n",
    "\n",
    "2) What areas (city) generate greatest profit? (Using population and number of users as a reference)\n",
    "\n",
    "3) Customer preference over pink and yellow?\n",
    "\n",
    "4) Average age of user? (if applicable create age bins)\n",
    "\n",
    "5) Average income of user? (hist, highest income user - states)\n",
    "\n",
    "6) If company purchases a specific fleet of vehicles what is the time range for ROI? (Apply hypothesis testing and A/B Testing)\n",
    "\n",
    "7) What are users/consumers using more (cash or card)? Are prices equivalent - Upcharge if cash, card transaction is pre-pickup - lower rate?"
   ]
  },
  {
   "cell_type": "code",
   "execution_count": 2,
   "id": "6d82c669",
   "metadata": {},
   "outputs": [
    {
     "data": {
      "text/html": [
       "        <script type=\"text/javascript\">\n",
       "        window.PlotlyConfig = {MathJaxConfig: 'local'};\n",
       "        if (window.MathJax) {MathJax.Hub.Config({SVG: {font: \"STIX-Web\"}});}\n",
       "        if (typeof require !== 'undefined') {\n",
       "        require.undef(\"plotly\");\n",
       "        requirejs.config({\n",
       "            paths: {\n",
       "                'plotly': ['https://cdn.plot.ly/plotly-latest.min']\n",
       "            }\n",
       "        });\n",
       "        require(['plotly'], function(Plotly) {\n",
       "            window._Plotly = Plotly;\n",
       "        });\n",
       "        }\n",
       "        </script>\n",
       "        "
      ]
     },
     "metadata": {},
     "output_type": "display_data"
    }
   ],
   "source": [
    "import os\n",
    "import sys\n",
    "import pandas as pd\n",
    "import numpy as np\n",
    "\n",
    "# Visualizations\n",
    "import seaborn as sns\n",
    "import matplotlib.pyplot as plt\n",
    "plt.style.use('fivethirtyeight') \n",
    "%matplotlib inline\n",
    "import plotly.graph_objects as go\n",
    "import plotly.express as px\n",
    "from pylab import rcParams\n",
    "from plotly import tools\n",
    "import plotly\n",
    "from plotly.offline import init_notebook_mode, iplot\n",
    "init_notebook_mode(connected=True)\n",
    "import plotly.graph_objs as go\n",
    "import plotly.figure_factory as ff\n",
    "\n",
    "# Time Series\n",
    "from statsmodels.tsa import stattools as ts\n",
    "from statsmodels.tsa.stattools import adfuller\n",
    "from statsmodels.tsa.stattools import acf, pacf\n",
    "from statsmodels.tsa.arima_model import ARIMA\n",
    "from statsmodels.tsa.arima_model import ARIMAResults\n",
    "\n",
    "# Sklearn\n",
    "from sklearn.linear_model import LinearRegression\n",
    "from sklearn.model_selection import train_test_split\n",
    "from sklearn.model_selection import cross_val_score\n",
    "from sklearn.model_selection import cross_val_predict\n",
    "from sklearn.metrics import mean_squared_error\n",
    "from sklearn.metrics import r2_score\n",
    "\n",
    "# Function to display plotly in jupyter notebook\n",
    "def enable_plotly_in_cell():\n",
    "    import IPython\n",
    "    from plotly.offline import init_notebook_mode\n",
    "    display(IPython.core.display.HTML('''<script src=\"/static/components/requirejs/require.js\"></script>'''))\n",
    "    init_notebook_mode(connected=False)"
   ]
  },
  {
   "cell_type": "code",
   "execution_count": 3,
   "id": "fa04ce08",
   "metadata": {},
   "outputs": [],
   "source": [
    "cab_data = pd.read_csv('/Users/jasonrobinson/Desktop/VC/notebooks/cab_data_clean.csv')\n",
    "cab_yellow = pd.read_csv('/Users/jasonrobinson/Desktop/VC/notebooks/yellow_cab.csv')\n",
    "cab_pink = pd.read_csv('/Users/jasonrobinson/Desktop/VC/notebooks/pink_cab.csv')"
   ]
  },
  {
   "cell_type": "code",
   "execution_count": 7,
   "id": "713e0063",
   "metadata": {},
   "outputs": [
    {
     "data": {
      "text/html": [
       "<div>\n",
       "<style scoped>\n",
       "    .dataframe tbody tr th:only-of-type {\n",
       "        vertical-align: middle;\n",
       "    }\n",
       "\n",
       "    .dataframe tbody tr th {\n",
       "        vertical-align: top;\n",
       "    }\n",
       "\n",
       "    .dataframe thead th {\n",
       "        text-align: right;\n",
       "    }\n",
       "</style>\n",
       "<table border=\"1\" class=\"dataframe\">\n",
       "  <thead>\n",
       "    <tr style=\"text-align: right;\">\n",
       "      <th></th>\n",
       "      <th>travel_date</th>\n",
       "      <th>transact_id</th>\n",
       "      <th>company</th>\n",
       "      <th>city</th>\n",
       "      <th>km_travelled</th>\n",
       "      <th>price_charged</th>\n",
       "      <th>trip_cost</th>\n",
       "      <th>customer_id</th>\n",
       "      <th>payment_mode</th>\n",
       "      <th>gender</th>\n",
       "      <th>age</th>\n",
       "      <th>monthly_income</th>\n",
       "      <th>profit</th>\n",
       "    </tr>\n",
       "  </thead>\n",
       "  <tbody>\n",
       "    <tr>\n",
       "      <th>0</th>\n",
       "      <td>2016-02-06</td>\n",
       "      <td>10000011</td>\n",
       "      <td>Pink Cab</td>\n",
       "      <td>ATLANTA GA</td>\n",
       "      <td>30.45</td>\n",
       "      <td>370.95</td>\n",
       "      <td>313.635</td>\n",
       "      <td>29290</td>\n",
       "      <td>Card</td>\n",
       "      <td>Male</td>\n",
       "      <td>28</td>\n",
       "      <td>10813</td>\n",
       "      <td>57.315</td>\n",
       "    </tr>\n",
       "    <tr>\n",
       "      <th>1</th>\n",
       "      <td>2016-02-04</td>\n",
       "      <td>10000012</td>\n",
       "      <td>Pink Cab</td>\n",
       "      <td>ATLANTA GA</td>\n",
       "      <td>28.62</td>\n",
       "      <td>358.52</td>\n",
       "      <td>334.854</td>\n",
       "      <td>27703</td>\n",
       "      <td>Card</td>\n",
       "      <td>Male</td>\n",
       "      <td>27</td>\n",
       "      <td>9237</td>\n",
       "      <td>23.666</td>\n",
       "    </tr>\n",
       "    <tr>\n",
       "      <th>2</th>\n",
       "      <td>2018-11-25</td>\n",
       "      <td>10395626</td>\n",
       "      <td>Pink Cab</td>\n",
       "      <td>ATLANTA GA</td>\n",
       "      <td>13.39</td>\n",
       "      <td>167.03</td>\n",
       "      <td>141.934</td>\n",
       "      <td>27703</td>\n",
       "      <td>Card</td>\n",
       "      <td>Male</td>\n",
       "      <td>27</td>\n",
       "      <td>9237</td>\n",
       "      <td>25.096</td>\n",
       "    </tr>\n",
       "    <tr>\n",
       "      <th>3</th>\n",
       "      <td>2016-01-31</td>\n",
       "      <td>10000013</td>\n",
       "      <td>Pink Cab</td>\n",
       "      <td>ATLANTA GA</td>\n",
       "      <td>9.04</td>\n",
       "      <td>125.20</td>\n",
       "      <td>97.632</td>\n",
       "      <td>28712</td>\n",
       "      <td>Cash</td>\n",
       "      <td>Male</td>\n",
       "      <td>53</td>\n",
       "      <td>11242</td>\n",
       "      <td>27.568</td>\n",
       "    </tr>\n",
       "    <tr>\n",
       "      <th>4</th>\n",
       "      <td>2016-02-05</td>\n",
       "      <td>10000014</td>\n",
       "      <td>Pink Cab</td>\n",
       "      <td>ATLANTA GA</td>\n",
       "      <td>33.17</td>\n",
       "      <td>377.40</td>\n",
       "      <td>351.602</td>\n",
       "      <td>28020</td>\n",
       "      <td>Cash</td>\n",
       "      <td>Male</td>\n",
       "      <td>23</td>\n",
       "      <td>23327</td>\n",
       "      <td>25.798</td>\n",
       "    </tr>\n",
       "  </tbody>\n",
       "</table>\n",
       "</div>"
      ],
      "text/plain": [
       "  travel_date  transact_id   company        city  km_travelled  price_charged  \\\n",
       "0  2016-02-06     10000011  Pink Cab  ATLANTA GA         30.45         370.95   \n",
       "1  2016-02-04     10000012  Pink Cab  ATLANTA GA         28.62         358.52   \n",
       "2  2018-11-25     10395626  Pink Cab  ATLANTA GA         13.39         167.03   \n",
       "3  2016-01-31     10000013  Pink Cab  ATLANTA GA          9.04         125.20   \n",
       "4  2016-02-05     10000014  Pink Cab  ATLANTA GA         33.17         377.40   \n",
       "\n",
       "   trip_cost  customer_id payment_mode gender  age  monthly_income  profit  \n",
       "0    313.635        29290         Card   Male   28           10813  57.315  \n",
       "1    334.854        27703         Card   Male   27            9237  23.666  \n",
       "2    141.934        27703         Card   Male   27            9237  25.096  \n",
       "3     97.632        28712         Cash   Male   53           11242  27.568  \n",
       "4    351.602        28020         Cash   Male   23           23327  25.798  "
      ]
     },
     "execution_count": 7,
     "metadata": {},
     "output_type": "execute_result"
    }
   ],
   "source": [
    "cab_pink.head()"
   ]
  },
  {
   "cell_type": "markdown",
   "id": "ab52ab80",
   "metadata": {},
   "source": [
    "### Build on creating statistical analysis - answer business questions.\n",
    "\n",
    "Perform analysis and provide visualizations to gather further insights and recommendations for the next steps in the process of determing optimal investment following the G2M strategy.\n",
    "\n",
    "To achieve this we will apply machine learning techniques to predict future profit.\n",
    "\n",
    "We wil also use the data to determine the optimal investment strategy, related to time series analysis. \n",
    "        "
   ]
  },
  {
   "cell_type": "code",
   "execution_count": 8,
   "id": "d5cd0bb1",
   "metadata": {},
   "outputs": [
    {
     "data": {
      "text/plain": [
       "array(['Card', 'Cash'], dtype=object)"
      ]
     },
     "execution_count": 8,
     "metadata": {},
     "output_type": "execute_result"
    }
   ],
   "source": [
    "cab_pink['payment_mode'].unique()"
   ]
  },
  {
   "cell_type": "code",
   "execution_count": null,
   "id": "aa9caef7",
   "metadata": {},
   "outputs": [],
   "source": [
    "cab_data[['female', 'male']] = pd.get_dummies(cab_data[\"gender\"])\n",
    "cab_data[['yellow_cab', 'pink cab']] = pd.get_dummies(cab_data[\"company\"])\n",
    "cab_data[['card', 'cash']] = pd.get_dummies(cab_data[\"payment_mode\"])\n",
    "cab_data = cab_data.drop(['gender', 'company', 'payment_mode', 'customer_id'], axis=1)"
   ]
  },
  {
   "cell_type": "code",
   "execution_count": null,
   "id": "6edab5cd",
   "metadata": {},
   "outputs": [],
   "source": [
    "cab_data['monthly_income'].sort_values(ascending=False)[:3]"
   ]
  },
  {
   "cell_type": "code",
   "execution_count": null,
   "id": "e9e54d4b",
   "metadata": {},
   "outputs": [],
   "source": [
    "cab_data.sort_index(ascending=False)"
   ]
  },
  {
   "cell_type": "code",
   "execution_count": null,
   "id": "4a8b2fdf",
   "metadata": {},
   "outputs": [],
   "source": [
    "cab_data.columns"
   ]
  },
  {
   "cell_type": "code",
   "execution_count": null,
   "id": "482c8d63",
   "metadata": {},
   "outputs": [],
   "source": [
    "#cab_data['travel_date']= pd.to_datetime(cab_data['travel_date'], infer_datetime_format=True)"
   ]
  },
  {
   "cell_type": "code",
   "execution_count": null,
   "id": "80539767",
   "metadata": {},
   "outputs": [],
   "source": [
    "# 5-day, 4-week work month\n",
    "cab_data['daily_income'] = (cab_data['monthly_income'] / 20 ).round(2)"
   ]
  },
  {
   "cell_type": "code",
   "execution_count": null,
   "id": "724f4f16",
   "metadata": {},
   "outputs": [],
   "source": [
    "sns.displot(cab_data['monthly_income']);"
   ]
  },
  {
   "cell_type": "code",
   "execution_count": null,
   "id": "cd82e8be",
   "metadata": {},
   "outputs": [],
   "source": [
    "sns.displot(cab_data['trip_cost']);"
   ]
  },
  {
   "cell_type": "code",
   "execution_count": null,
   "id": "06cea89e",
   "metadata": {},
   "outputs": [],
   "source": [
    "# Remove outliers above count of 5000\n",
    "cab_data = cab_data[cab_data['trip_cost'] > 100]and\n",
    "cab_data = cab_data[cab_data['trip_cost'] < 600]\n"
   ]
  },
  {
   "cell_type": "code",
   "execution_count": null,
   "id": "b5f9d06d",
   "metadata": {},
   "outputs": [],
   "source": [
    "# Percentage of monthly income on cost of trip\n",
    "percentage_monthly_income = cab_data['trip_cost'] / cab_data['monthly_income']"
   ]
  },
  {
   "cell_type": "markdown",
   "id": "40d1e085",
   "metadata": {},
   "source": [
    "## Classification\n",
    "\n",
    "Another approach that can be taken with our dataset that will give us the ability to determine Users that use cash or card by conducting a classification using multivariate analysis."
   ]
  },
  {
   "cell_type": "code",
   "execution_count": null,
   "id": "a9c216ea",
   "metadata": {},
   "outputs": [],
   "source": [
    "# Majority class\n"
   ]
  },
  {
   "cell_type": "code",
   "execution_count": null,
   "id": "493cca16",
   "metadata": {},
   "outputs": [],
   "source": [
    "# Split data into train, val, and test\n",
    "train = cab_data.iloc[:int(len(cab_data) * 0.8)]\n",
    "val = cab_data.iloc[int(len(cab_data) * 0.8):int(len(cab_data) * 0.9)]\n",
    "test = cab_data.iloc[int(len(cab_data) * 0.9):]"
   ]
  },
  {
   "cell_type": "code",
   "execution_count": null,
   "id": "21d9d931",
   "metadata": {},
   "outputs": [],
   "source": [
    "target = 'trip_cost'\n",
    "features = cab_data.columns.drop('trip_cost')\n",
    "\n",
    "X_train = train[features]\n",
    "y_train = train[target]\n",
    "\n",
    "X_val = val[features]\n",
    "y_val = val[target]\n",
    "\n",
    "X_test = test[features]\n",
    "y_test = test[target]"
   ]
  }
 ],
 "metadata": {
  "kernelspec": {
   "display_name": "NNse",
   "language": "python",
   "name": "u4-s1-nns"
  },
  "language_info": {
   "codemirror_mode": {
    "name": "ipython",
    "version": 3
   },
   "file_extension": ".py",
   "mimetype": "text/x-python",
   "name": "python",
   "nbconvert_exporter": "python",
   "pygments_lexer": "ipython3",
   "version": "3.8.5"
  }
 },
 "nbformat": 4,
 "nbformat_minor": 5
}
