{
 "cells": [
  {
   "cell_type": "markdown",
   "id": "6d3d0efe",
   "metadata": {},
   "source": [
    "# G2M Insight for Cab Investment Firm\n",
    "\n",
    "XYZ is a private firm in US. Due to remarkable growth in the Cab Industry in last few years and multiple key players in the market, it is planning for an investment in Cab industry and as per their Go-to-Market(G2M) strategy they want to understand the market before taking final decision.\n",
    "\n",
    "- **Cab_Data** – this file includes details of transaction for 2 cab companies\n",
    "\n",
    "- **Customer_ID** – this is a mapping table that contains a unique identifier which links the customer’s demographic details\n",
    "\n",
    "- **Transaction_ID** – this is a mapping table that contains transaction to customer mapping and payment mode\n",
    "\n",
    "- **City** – this file contains list of US cities, their population and number of cab users\n"
   ]
  },
  {
   "cell_type": "code",
   "execution_count": null,
   "id": "6d82c669",
   "metadata": {},
   "outputs": [],
   "source": [
    "import os\n"
   ]
  }
 ],
 "metadata": {
  "kernelspec": {
   "display_name": "NNse",
   "language": "python",
   "name": "u4-s1-nns"
  },
  "language_info": {
   "codemirror_mode": {
    "name": "ipython",
    "version": 3
   },
   "file_extension": ".py",
   "mimetype": "text/x-python",
   "name": "python",
   "nbconvert_exporter": "python",
   "pygments_lexer": "ipython3",
   "version": "3.8.5"
  }
 },
 "nbformat": 4,
 "nbformat_minor": 5
}
