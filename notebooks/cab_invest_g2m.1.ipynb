{
 "cells": [
  {
   "cell_type": "markdown",
   "id": "f79867b4",
   "metadata": {},
   "source": [
    "\n",
    "# Cab Investment – G2M Strategy\n",
    "\n",
    "**Jason Robinson**\n",
    "\n",
    "**XYZ** in implementing its Go-to-market strategy we will examine specific features and their relationships to determine if investment would be profitable. Accompanying methods will incorporate statistical analysis using hypothesis (A/B) testing to measure principal features and outcomes\n"
   ]
  },
  {
   "cell_type": "code",
   "execution_count": null,
   "id": "e598e759",
   "metadata": {},
   "outputs": [],
   "source": [
    "# Basic Libraries\n",
    "import os\n",
    "import sys\n",
    "import pandas as pd\n",
    "import numpy as np\n",
    "\n",
    "# Time Series \n",
    "import statsmodels\n",
    "import statsmodels.api as sm\n",
    "from statsmodels.tsa import stattools as ts\n",
    "from statsmodels.tsa.stattools import adfuller\n",
    "from statsmodels.tsa.stattools import acf, pacf\n",
    "from statsmodels.tsa.arima_model import ARIMA\n",
    "from statsmodels.tsa.arima_model import ARIMAResults\n",
    "\n",
    "# Scientific\n",
    "import scipy\n",
    "\n",
    "# Matplotlib\n",
    "import matplotlib\n",
    "import matplotlib.pyplot as plt\n",
    "from pylab import rcParams\n",
    "plt.style.use('fivethirtyeight')\n",
    "%matplotlib inline\n",
    "\n",
    "# Visualizations\n",
    "import plotly\n",
    "import seaborn as sns\n",
    "import plotly.graph_objects as go\n",
    "import plotly.express as px\n",
    "from plotly import tools\n",
    "from plotly.offline import init_notebook_mode, iplot\n",
    "init_notebook_mode(connected=True)\n",
    "import plotly.graph_objs as go\n",
    "import plotly.figure_factory as ff\n",
    "\n",
    "# Function to display plotly in jupyter notebook\n",
    "def enable_plotly_in_cell():\n",
    "    import IPython\n",
    "    from plotly.offline import init_notebook_mode\n",
    "    display(IPython.core.display.HTML('''<script src=\"/static/components/requirejs/require.js\"></script>'''))\n",
    "    init_notebook_mode(connected=False)\n",
    "\n",
    "\n",
    "print('Matplotlib:',matplotlib.__version__)\n",
    "print('Pandas:',pd.__version__)\n",
    "print('Numpy:',np.__version__)\n",
    "print('StatsModel:',statsmodels.__version__)\n",
    "print('Scipy:',scipy.__version__)"
   ]
  },
  {
   "cell_type": "code",
   "execution_count": null,
   "id": "2ecc3f3d",
   "metadata": {},
   "outputs": [],
   "source": [
    "# Import the data by reeading multiple files\n",
    "city = pd.read_csv('/Users/jasonrobinson/Desktop/cab_dataset/City.csv')\n",
    "cab = pd.read_csv('/Users/jasonrobinson/Desktop/cab_dataset/Cab_Data.csv')\n",
    "customer = pd.read_csv('/Users/jasonrobinson/Desktop/cab_dataset/Customer_ID.csv')\n",
    "transaction = pd.read_csv('/Users/jasonrobinson/Desktop/cab_dataset/Transaction_ID.csv')\n"
   ]
  },
  {
   "cell_type": "code",
   "execution_count": null,
   "id": "b111ad06",
   "metadata": {},
   "outputs": [],
   "source": [
    "print('City:',city.shape)\n",
    "print('Cab:',cab.shape)\n",
    "print('Customer:',customer.shape)\n",
    "print('Transaction:',transaction.shape)"
   ]
  },
  {
   "cell_type": "markdown",
   "id": "8c510b3a",
   "metadata": {},
   "source": [
    "We will merge our datasets according to their primary keys. For this instance we are performing a left join on transaction id and a right join on customer id."
   ]
  },
  {
   "cell_type": "code",
   "execution_count": null,
   "id": "7130313b",
   "metadata": {},
   "outputs": [],
   "source": [
    "# Merge the datasets on primary keys\n",
    "cab_data = cab.merge(transaction, on='Transaction ID').merge(customer, on='Customer ID')\n",
    "print(cab_data.shape)\n",
    "cab_data.sample(5)"
   ]
  },
  {
   "cell_type": "code",
   "execution_count": null,
   "id": "f5841d03",
   "metadata": {},
   "outputs": [],
   "source": [
    "cab_data.info()"
   ]
  },
  {
   "cell_type": "code",
   "execution_count": null,
   "id": "efbb9141",
   "metadata": {},
   "outputs": [],
   "source": [
    "# Check for nan values in each dataset\n",
    "def check_nan(cab_data):\n",
    "    print(cab_data.isnull().sum()/len(cab_data)*100,'%','\\n')\n",
    "    return cab_data\n",
    "\n",
    "check_nan(cab_data)"
   ]
  },
  {
   "cell_type": "code",
   "execution_count": null,
   "id": "3a1d7501",
   "metadata": {},
   "outputs": [],
   "source": [
    "# Iterate through each dataset and format header to lowercase and join with ('_')\n",
    "def format_header(cab_data):\n",
    "    cab_data.columns = [x.lower().replace(' ', '_') for x in cab_data.columns]\n",
    "    cab_data.rename(columns={'cost_of_trip':'trip_cost', \n",
    "                            'income_(usd/month)':'monthly_income',\n",
    "                             'transaction_id':'transact_id'}, inplace=True)\n",
    "    return cab_data    \n",
    "\n",
    "\n",
    "cab_data = format_header(cab_data)\n",
    "cab_data.head(2)"
   ]
  },
  {
   "cell_type": "markdown",
   "id": "3eaed2d7",
   "metadata": {},
   "source": [
    "***\n",
    "Start Date Refactor"
   ]
  },
  {
   "cell_type": "code",
   "execution_count": null,
   "id": "94839a50",
   "metadata": {},
   "outputs": [],
   "source": [
    "# Convert date of travel string into datetime providing our \n",
    "# timestep function for begin\n",
    "\n",
    "begin = pd.Timestamp('1900-1-28')\n",
    "\n",
    "cab_data[\"travel_date\"] = pd.to_datetime(cab_data[\"date_of_travel\"], unit=\"D\", origin=begin)\n",
    "cab_data = cab_data.drop('date_of_travel', axis=1)\n",
    "\n",
    "cab_data.head()"
   ]
  },
  {
   "cell_type": "code",
   "execution_count": null,
   "id": "86c554f4",
   "metadata": {},
   "outputs": [],
   "source": [
    "\n",
    "cab_data = cab_data[cab_data['travel_date'] < '2019-1-1']\n",
    "cab_data['travel_date'].sort_values()"
   ]
  },
  {
   "cell_type": "code",
   "execution_count": null,
   "id": "97713263",
   "metadata": {},
   "outputs": [],
   "source": [
    "cab_data['travel_date'] = pd.to_datetime(cab_data['travel_date'])\n",
    "cab_data = cab_data.set_index('travel_date')"
   ]
  },
  {
   "cell_type": "code",
   "execution_count": null,
   "id": "56b89e6b",
   "metadata": {},
   "outputs": [],
   "source": [
    "cab_data.index"
   ]
  },
  {
   "cell_type": "code",
   "execution_count": null,
   "id": "678d3ae7",
   "metadata": {},
   "outputs": [],
   "source": [
    "# Filter to 31/01/2016 to 31/12/2018\n",
    "cab_column = cab_data[cab_data.index < '2019-01-01']\n",
    "cab_column.index.sort_values()"
   ]
  },
  {
   "cell_type": "code",
   "execution_count": null,
   "id": "003c78dd",
   "metadata": {},
   "outputs": [],
   "source": [
    "#def check_nan(cab_daa):\n",
    "#    print(cab_data.isnull().sum()/len(cab_data)*100,'%','\\n')\n",
    "#    return cab_data\n",
    "#\n",
    "#check_nan(cab_data)"
   ]
  },
  {
   "cell_type": "markdown",
   "id": "88054b41",
   "metadata": {},
   "source": [
    "***\n",
    "End Date Refactor"
   ]
  },
  {
   "cell_type": "code",
   "execution_count": null,
   "id": "6f62f208",
   "metadata": {},
   "outputs": [],
   "source": [
    "cab_data = cab_data.copy()"
   ]
  },
  {
   "cell_type": "code",
   "execution_count": null,
   "id": "8f547d44",
   "metadata": {},
   "outputs": [],
   "source": [
    "# Display a distribution City in cab data\n",
    "fig, ax = plt.subplots(figsize=(10,5))\n",
    "sns.histplot(cab_data['city'],\n",
    "             palette='Set1',\n",
    "             ax=ax)\n",
    "plt.show()"
   ]
  },
  {
   "cell_type": "code",
   "execution_count": null,
   "id": "d697d170",
   "metadata": {},
   "outputs": [],
   "source": [
    "# Display a distribution hist for users in city\n",
    "fig, ax = plt.subplots(figsize=(10,5))\n",
    "sns.histplot(city['Users'],\n",
    "            palette='Set3',\n",
    "            ax=ax)\n",
    "plt.show()"
   ]
  },
  {
   "cell_type": "code",
   "execution_count": null,
   "id": "ccdd0727",
   "metadata": {},
   "outputs": [],
   "source": [
    "# Distribution of the travel_date\n",
    "fig, ax = plt.subplots(figsize=(10,5))\n",
    "sns.histplot(cab_data.index,\n",
    "            palette='Set1',\n",
    "            ax=ax)\n",
    "plt.show()"
   ]
  },
  {
   "cell_type": "markdown",
   "id": "0d8d2530",
   "metadata": {},
   "source": [
    "A clear pattern of seasonality, with annual highs consistently for the time range, which helps us better predict future activity."
   ]
  },
  {
   "cell_type": "markdown",
   "id": "824490bc",
   "metadata": {},
   "source": [
    "### Summary Statistics"
   ]
  },
  {
   "cell_type": "code",
   "execution_count": null,
   "id": "776bdcaf",
   "metadata": {},
   "outputs": [],
   "source": [
    "# Display the min, max, mean, and median of each numeric column\n",
    "def min_max_mean_median(cab_data):\n",
    "    print(f'Min, Max, Mean, Median for the {cab_data.company} Company:')\n",
    "    print(cab_data.describe())\n",
    "    return cab_data\n",
    "#min_max_mean_median(cab_data)"
   ]
  },
  {
   "cell_type": "markdown",
   "id": "7cf87943",
   "metadata": {},
   "source": [
    "#### AGE"
   ]
  },
  {
   "cell_type": "code",
   "execution_count": null,
   "id": "6a658587",
   "metadata": {},
   "outputs": [],
   "source": [
    "print(f'Mean Age:-----------------------',cab_data.describe().at['mean','age'])\n",
    "print(f'Standard Deviation Age:---------',cab_data.describe().at['std', 'age'])\n",
    "print(f'Age within the (25th%):---------',cab_data.describe().at['25%', 'age'])\n",
    "print(f'Age within the (50th%):---------',cab_data.describe().at['50%', 'age'])\n",
    "print(f'Age within the (75th%):---------',cab_data.describe().at['75%', 'age'])"
   ]
  },
  {
   "cell_type": "markdown",
   "id": "344ba407",
   "metadata": {},
   "source": [
    "#### Price Charged"
   ]
  },
  {
   "cell_type": "code",
   "execution_count": null,
   "id": "f3c769f5",
   "metadata": {},
   "outputs": [],
   "source": [
    "print(f'Mean Price_Charged:-----------------------',cab_data.describe().at['mean','price_charged'])\n",
    "print(f'Standard Deviation Price_Charged:---------',cab_data.describe().at['std', 'price_charged'])\n",
    "print(f'Price_charged within the (25th%):---------',cab_data.describe().at['25%', 'price_charged'])\n",
    "print(f'Price_charged within the (50th%):---------',cab_data.describe().at['50%', 'price_charged'])\n",
    "print(f'Price_charged within the (75th%):---------',cab_data.describe().at['75%', 'price_charged'])"
   ]
  },
  {
   "cell_type": "markdown",
   "id": "d2498f25",
   "metadata": {},
   "source": [
    "#### KM Travelled"
   ]
  },
  {
   "cell_type": "code",
   "execution_count": null,
   "id": "495dbbf2",
   "metadata": {},
   "outputs": [],
   "source": [
    "print(f'Mean KM_Traveled:-----------------------',cab_data.describe().at['mean','km_travelled'])\n",
    "print(f'Standard Deviation KM_Traveled:---------',cab_data.describe().at['std', 'km_travelled'])\n",
    "print(f'KM_Traveled within the (25th%):---------',cab_data.describe().at['25%', 'km_travelled'])\n",
    "print(f'KM_Traveled within the (50th%):---------',cab_data.describe().at['50%', 'km_travelled'])\n",
    "print(f'KM_Traveled within the (75th%):---------',cab_data.describe().at['75%', 'km_travelled'])"
   ]
  },
  {
   "cell_type": "markdown",
   "id": "1538bfd2",
   "metadata": {},
   "source": [
    "#### Trip Cost"
   ]
  },
  {
   "cell_type": "code",
   "execution_count": null,
   "id": "f9bfd4fb",
   "metadata": {},
   "outputs": [],
   "source": [
    "print(f'Mean Trip_Cost:-----------------------',cab_data.describe().at['mean','trip_cost'])\n",
    "print(f'Standard Deviation Trip_Cost:---------',cab_data.describe().at['std', 'trip_cost'])\n",
    "print(f'Trip_Cost within the (25th%):---------',cab_data.describe().at['25%', 'trip_cost'])\n",
    "print(f'Trip_Cost within the (50th%):---------',cab_data.describe().at['50%', 'trip_cost'])\n",
    "print(f'Trip_Cost within the (75th%):---------',cab_data.describe().at['75%', 'trip_cost'])"
   ]
  },
  {
   "cell_type": "markdown",
   "id": "b3d39844",
   "metadata": {},
   "source": [
    "### Visualizations"
   ]
  },
  {
   "cell_type": "code",
   "execution_count": null,
   "id": "37ea6180",
   "metadata": {},
   "outputs": [],
   "source": []
  },
  {
   "cell_type": "markdown",
   "id": "82a55875",
   "metadata": {},
   "source": [
    "Split dataset up by company for comparison of data between companies."
   ]
  },
  {
   "cell_type": "code",
   "execution_count": null,
   "id": "c6cae3ef",
   "metadata": {},
   "outputs": [],
   "source": [
    "# Create a dataset for each company\n",
    "cab_yellow = cab_data[cab_data['company'] == 'Yellow Cab']\n",
    "cab_pink = cab_data[cab_data['company'] == 'Pink Cab']\n",
    "print(f'Shape of the Yellow Cab Company:', cab_yellow.shape)\n",
    "print(f'Shape of the Pink Cab Company:', cab_pink.shape)"
   ]
  },
  {
   "cell_type": "code",
   "execution_count": null,
   "id": "95ddf8fc",
   "metadata": {},
   "outputs": [],
   "source": [
    "# Display a count pink and yellow cab companies in reference to transactions\n",
    "sns.countplot(x='company', \n",
    "              data=cab_data, \n",
    "              palette='Set2', \n",
    "              order=['Yellow Cab', 'Pink Cab'],\n",
    "              hue='company');"
   ]
  },
  {
   "cell_type": "markdown",
   "id": "190b67ef",
   "metadata": {},
   "source": [
    "### Frequecy of Transactions"
   ]
  },
  {
   "cell_type": "code",
   "execution_count": null,
   "id": "59d6a526",
   "metadata": {},
   "outputs": [],
   "source": [
    "fig, ax = plt.subplots(figsize=(10,5))\n",
    "sns.histplot(cab_pink.index,\n",
    "            palette='Set1',\n",
    "            ax=ax)\n",
    "plt.show()"
   ]
  },
  {
   "cell_type": "code",
   "execution_count": null,
   "id": "6ce82273",
   "metadata": {},
   "outputs": [],
   "source": [
    "fig, ax = plt.subplots(figsize=(10,5))\n",
    "sns.histplot(cab_yellow.index,\n",
    "            palette='Set1',\n",
    "            ax=ax)\n",
    "plt.show()"
   ]
  },
  {
   "cell_type": "markdown",
   "id": "da8b0a1b",
   "metadata": {},
   "source": [
    "Follow some of our questions for **both** companies:\n",
    "\n",
    "1. How many transactions are there in the data?\n",
    "2. What is the mean age of the users in the data?\n",
    "3. What is the mean price charged for the transactions in the data?\n",
    "4. What is the mean KM traveled for the transactions in the data?\n",
    "5. What is the mean trip cost for the transactions in the data?"
   ]
  },
  {
   "cell_type": "code",
   "execution_count": null,
   "id": "5ad310e2",
   "metadata": {},
   "outputs": [],
   "source": [
    "print(f'Number of transactions:', cab_data.shape[0])\n",
    "print(f'Mean Age:--------------',cab_data.describe().at['mean','age'])\n",
    "print(f'Mean Price_Charged:----',cab_data.describe().at['mean','price_charged'])\n",
    "print(f'Mean KM_Traveled:------',cab_data.describe().at['mean','km_travelled'])\n",
    "print(f'Mean Trip_Cost:--------',cab_data.describe().at['mean','trip_cost'])"
   ]
  },
  {
   "cell_type": "markdown",
   "id": "47191898",
   "metadata": {},
   "source": [
    "Follow some of our questions for **each** company:\n",
    "\n",
    "1. How many transactions are there in the data?\n",
    "2. What is the mean age of the users in the data?\n",
    "3. What is the mean price charged for the transactions in the data?\n",
    "4. What is the mean KM traveled for the transactions in the data?\n",
    "5. What is the mean trip cost for the transactions in the data?"
   ]
  },
  {
   "cell_type": "code",
   "execution_count": null,
   "id": "b5655058",
   "metadata": {},
   "outputs": [],
   "source": [
    "print(f'Number of transactions:', cab_yellow.shape[0])\n",
    "print(f'Mean Age:--------------',cab_yellow.describe().at['mean','age'])\n",
    "print(f'Mean Price_Charged:----',cab_yellow.describe().at['mean','price_charged'])\n",
    "print(f'Mean KM_Traveled:------',cab_yellow.describe().at['mean','km_travelled'])\n",
    "print(f'Mean Trip_Cost:--------',cab_yellow.describe().at['mean','trip_cost'])"
   ]
  },
  {
   "cell_type": "code",
   "execution_count": null,
   "id": "10b9ec52",
   "metadata": {},
   "outputs": [],
   "source": [
    "print(f'Number of transactions:', cab_pink.shape[0])\n",
    "print(f'Mean Age:--------------',cab_pink.describe().at['mean','age'])\n",
    "print(f'Mean Price_Charged:----',cab_pink.describe().at['mean','price_charged'])\n",
    "print(f'Mean KM_Traveled:------',cab_pink.describe().at['mean','km_travelled'])\n",
    "print(f'Mean Trip_Cost:--------',cab_pink.describe().at['mean','trip_cost'])"
   ]
  },
  {
   "cell_type": "code",
   "execution_count": null,
   "id": "27c27741",
   "metadata": {},
   "outputs": [],
   "source": [
    "# Create a function to calculate the difference between the mean of the two companies\n",
    "def mean_difference(cab_data):\n",
    "    print(f'Mean Difference for Age:', cab_yellow.describe().at['mean','age'] - cab_pink.describe().at['mean','age'])\n",
    "    return cab_data"
   ]
  },
  {
   "cell_type": "code",
   "execution_count": null,
   "id": "fb4d6879",
   "metadata": {},
   "outputs": [],
   "source": [
    "\n",
    "# Print out the mean difference for each feature\n",
    "print(f'Yellow Cab Mean Difference for Age:',cab_yellow.describe().at['mean','age'] - cab_pink.describe().at['mean','age'])\n",
    "print(f'Yellow Cab Mean Difference for KM Travel:',cab_yellow.describe().at['mean','km_travelled'] - cab_pink.describe().at['mean','km_travelled'])\n",
    "print(f'Yellow Cab Mean Difference for Price Charged:',cab_yellow.describe().at['mean','price_charged'] - cab_pink.describe().at['mean','price_charged'])\n",
    "print(f'Yellow Cab Mean Difference for Trip Cost:',cab_yellow.describe().at['mean','trip_cost'] - cab_pink.describe().at['mean','age'])\n",
    "print(f'Yellow Cab Mean Difference for Monthly Income:',cab_yellow.describe().at['mean','monthly_income'] - cab_pink.describe().at['mean','monthly_income'])"
   ]
  },
  {
   "cell_type": "code",
   "execution_count": null,
   "id": "96f77752",
   "metadata": {},
   "outputs": [],
   "source": [
    "# Print out the standard deviation difference for each feature\n",
    "print(f'Yellow Cab Standard Deviation Difference for Age:',cab_yellow.describe().at['std','age'] - cab_pink.describe().at['std','age'])\n",
    "print(f'Yellow Cab Standard Deviation Difference for KM Travel:',cab_yellow.describe().at['std','km_travelled'] - cab_pink.describe().at['std','km_travelled'])\n",
    "print(f'Yellow Cab Standard Deviation Difference for Price Charged:',cab_yellow.describe().at['std','price_charged'] - cab_pink.describe().at['std','price_charged'])\n",
    "print(f'Yellow Cab Standard Deviation Difference for Trip Cost:',cab_yellow.describe().at['std','trip_cost'] - cab_pink.describe().at['std','trip_cost'])\n",
    "print(f'Yellow Cab Standard Deviation Difference for Monthly Income:',cab_yellow.describe().at['std','monthly_income'] - cab_pink.describe().at['std','monthly_income'])"
   ]
  },
  {
   "cell_type": "markdown",
   "id": "86562d4e",
   "metadata": {},
   "source": [
    "#### Insights \n",
    "\n",
    "The yellow company is consisting of more total number of transactions by an average of **1.5** times the number of transactions of the pink company. "
   ]
  },
  {
   "cell_type": "code",
   "execution_count": null,
   "id": "1e21f4e2",
   "metadata": {},
   "outputs": [],
   "source": [
    "cab_data_sub = sns.pairplot(cab_data[['km_travelled', 'price_charged', 'trip_cost', 'monthly_income']])"
   ]
  },
  {
   "cell_type": "markdown",
   "id": "f921d5c0",
   "metadata": {},
   "source": [
    "### Correlation Matrix Comparison\n",
    "\n",
    "Finding the correlation between the features of the two companies is useful to determine what features are most related to each other.  "
   ]
  },
  {
   "cell_type": "code",
   "execution_count": null,
   "id": "342a5284",
   "metadata": {},
   "outputs": [],
   "source": [
    "# Create a correlation matrix cab data using pearsonr\n",
    "corr = cab_data.corr()\n",
    "print(corr)\n",
    "\n",
    "\n",
    "# Create a heatmap of the correlation matrix\n",
    "sns.heatmap(corr,\n",
    "            xticklabels=corr.columns.values,\n",
    "            yticklabels=corr.columns.values,\n",
    "            annot=True,\n",
    "            cmap='RdBu_r',\n",
    "            vmin=-1,\n",
    "            vmax=1)\n",
    "plt.show()"
   ]
  },
  {
   "cell_type": "markdown",
   "id": "0c54bc8c",
   "metadata": {},
   "source": [
    "What we can determine from our measures and visuals from our Heatmap that distance or kilometers travelled is highly correlated with the cost of the trip and the price charged for the actual trip, and as such trip cost and price charged have a high level of correlation."
   ]
  },
  {
   "cell_type": "markdown",
   "id": "e6c868ed",
   "metadata": {},
   "source": [
    "#### What is the overall relation between the price charged and the km travelled?"
   ]
  },
  {
   "cell_type": "code",
   "execution_count": null,
   "id": "f3dcfa6c",
   "metadata": {},
   "outputs": [],
   "source": [
    "# What is the overall relation between the price charged and the km travelled?\n",
    "sns.lmplot(x='km_travelled',\n",
    "           y='price_charged',\n",
    "           data=cab_data,\n",
    "           fit_reg=False,\n",
    "           hue='price_charged',\n",
    "           palette='Set2',\n",
    "           scatter_kws={'s': 50})\n",
    "plt.show()\n"
   ]
  },
  {
   "cell_type": "code",
   "execution_count": null,
   "id": "9eae9597",
   "metadata": {},
   "outputs": [],
   "source": [
    "#import plotly.graph_objects as go\n",
    "#\n",
    "#\n",
    "## Create a scatter plot of the km travelled and price charged\n",
    "#fig = go.Figure(data=go.Scatter(x=cab_data['km_travelled'],\n",
    "#                                y=cab_data['price_charged'],\n",
    "#                                mode='markers',\n",
    "#                                marker=dict(size=10,\n",
    "#                                            color=cab_data['company'],\n",
    "#                                            colorscale='Viridis',\n",
    "#                                            showscale=True)))\n",
    "#fig.update_layout(title='KM Travelled vs Price Charged',\n",
    "#                    xaxis_title='KM Travelled',\n",
    "#                    yaxis_title='Price Charged')\n",
    "#fig.show()"
   ]
  },
  {
   "cell_type": "markdown",
   "id": "522a94a4",
   "metadata": {},
   "source": [
    "#### Is there a relationship between age and income?"
   ]
  },
  {
   "cell_type": "code",
   "execution_count": null,
   "id": "b890a934",
   "metadata": {},
   "outputs": [],
   "source": [
    "# Is there a relationship between age and income?\n",
    "sns.lmplot(x='age',\n",
    "              y='monthly_income',\n",
    "                data=cab_data,\n",
    "                fit_reg=False,\n",
    "                hue='company',\n",
    "                palette='Set2',\n",
    "                scatter_kws={'s': 50})\n",
    "plt.show()\n"
   ]
  },
  {
   "cell_type": "markdown",
   "id": "f5ecd800",
   "metadata": {},
   "source": [
    "#### What is the variance of price charged and trip cost?"
   ]
  },
  {
   "cell_type": "code",
   "execution_count": null,
   "id": "1f6b639f",
   "metadata": {},
   "outputs": [],
   "source": [
    "# What is the variance of price charged and trip cost?\n",
    "sns.lmplot(x='trip_cost',\n",
    "                y='price_charged',\n",
    "                data=cab_data,\n",
    "                fit_reg=False,\n",
    "                hue='gender',\n",
    "                palette='Set2',\n",
    "                scatter_kws={'s': 50})\n",
    "plt.show()"
   ]
  },
  {
   "cell_type": "markdown",
   "id": "9c42c6ea",
   "metadata": {},
   "source": [
    "#### Relation between travel date and trip cost? "
   ]
  },
  {
   "cell_type": "code",
   "execution_count": null,
   "id": "9f3de7a5",
   "metadata": {},
   "outputs": [],
   "source": [
    " # Relation between travel date and trip cost?\n",
    "#sns.lineplot(x=cab_data.index,\n",
    "#                y='trip_cost',\n",
    "#                data=cab_data,\n",
    "#                hue='company',\n",
    "#                palette='Set2')\n",
    "#plt.show()\n",
    "#"
   ]
  },
  {
   "cell_type": "code",
   "execution_count": null,
   "id": "d1a57db6",
   "metadata": {},
   "outputs": [],
   "source": [
    "def get_mean(cab_data):\n",
    "    return cab_data.resample('D').mean()\n",
    "\n",
    "cab_data['travel_date'] = cab_data.index\n",
    "\n",
    "# We can then use the .date_range to get the date range of the data.\n",
    "date_range = pd.date_range(start='2016-01-31', end='2018-12-31')\n",
    "\n",
    "# We can then use the .resample() method to get the mean of the data.\n",
    "mean_data = get_mean(cab_data['trip_cost'])\n",
    "\n",
    "# We can then use the .plot() method to plot the data.\n",
    "mean_data.plot()\n",
    "plt.show()"
   ]
  },
  {
   "cell_type": "code",
   "execution_count": null,
   "id": "42780206",
   "metadata": {},
   "outputs": [],
   "source": [
    "#def get_mean(cab_data):\n",
    "#    return cab_data.resample('D').mean()\n",
    "#\n",
    "#mean_data = get_mean(cab_data['trip_cost'])\n",
    "#mean_data.plot()\n",
    "#plt.show()"
   ]
  },
  {
   "cell_type": "code",
   "execution_count": null,
   "id": "65772e2e",
   "metadata": {},
   "outputs": [],
   "source": [
    "# Relation between travel date and trip cost?\n",
    "def travel_date_vs_trip_cost():\n",
    "    \"\"\"\n",
    "    Method:\n",
    "        Plot the travel date vs trip cost\n",
    "    \"\"\"\n",
    "    plt.figure(figsize=(8,5))\n",
    "    plt.scatter(cab_data['travel_date'], cab_data['trip_cost'])\n",
    "    plt.xlabel('Travel Date')\n",
    "    plt.ylabel('Trip Cost')\n",
    "    plt.title('Travel Date vs Trip Cost')\n",
    "    plt.show()\n",
    "    return\n",
    "\n",
    "travel_date_vs_trip_cost()"
   ]
  },
  {
   "cell_type": "code",
   "execution_count": null,
   "id": "d6626a79",
   "metadata": {},
   "outputs": [],
   "source": [
    "# Distribution of all features\n",
    "def distribution_all():\n",
    "    \"\"\"\n",
    "    Method:\n",
    "        Distribution of all features\n",
    "    \"\"\"\n",
    "    plt.figure(figsize=(10,6))\n",
    "    plt.hist(cab_data['price_charged'], bins=50)\n",
    "    plt.xlabel('Price Charged')\n",
    "    plt.ylabel('Frequency')\n",
    "    plt.title('Price Charged Distribution')\n",
    "    plt.show()\n",
    "    return\n",
    "\n",
    "\n",
    "distribution_all()"
   ]
  },
  {
   "cell_type": "code",
   "execution_count": null,
   "id": "339992b5",
   "metadata": {},
   "outputs": [],
   "source": [
    "city['Population'] = city['Population'].str.replace(',', '')"
   ]
  },
  {
   "cell_type": "code",
   "execution_count": null,
   "id": "ccb47b88",
   "metadata": {},
   "outputs": [],
   "source": [
    "city['Users'] = city['Users'].str.replace(',', '')"
   ]
  },
  {
   "cell_type": "markdown",
   "id": "89caf5e2",
   "metadata": {},
   "source": [
    "Incorporate our City dataset to answer questions surrounding number of users in the city and the population of the ciites."
   ]
  },
  {
   "cell_type": "code",
   "execution_count": null,
   "id": "2bd7384f",
   "metadata": {},
   "outputs": [],
   "source": [
    "city['Population'] = city['Population'].astype(int)\n",
    "city['Users'] = city['Users'].astype(int)"
   ]
  },
  {
   "cell_type": "code",
   "execution_count": null,
   "id": "ea849e5b",
   "metadata": {},
   "outputs": [],
   "source": [
    "# Drop the population column\n",
    "city = city.drop(columns=['population'])"
   ]
  },
  {
   "cell_type": "code",
   "execution_count": null,
   "id": "ef4eda8b",
   "metadata": {},
   "outputs": [],
   "source": [
    "city.head()"
   ]
  },
  {
   "cell_type": "code",
   "execution_count": null,
   "id": "6dddca77",
   "metadata": {},
   "outputs": [],
   "source": [
    "# Distribution of population per city\n",
    "def distribution_population(city):\n",
    "    \"\"\"\n",
    "    Method:\n",
    "        Distribution of population per city\n",
    "    \n",
    "    Args:\n",
    "        city: seaborn \n",
    "    \"\"\"\n",
    "    plt.figure(figsize=(10,6))\n",
    "    sns.barplot(x='City', y='Users', data=city, palette='Set2')\n",
    "    plt.title('Distribution of Users per Population of Each City')\n",
    "    plt.xticks(rotation=90)\n",
    "    plt.xlabel('City')\n",
    "    plt.show()\n",
    "\n",
    "distribution_population(city)"
   ]
  },
  {
   "cell_type": "code",
   "execution_count": null,
   "id": "7e3bccd9",
   "metadata": {},
   "outputs": [],
   "source": [
    "def get_percentage_users(city):\n",
    "    \"\"\"\n",
    "    Method:\n",
    "        Get the percentage of users per population of each city\n",
    "    \n",
    "    Args:\n",
    "        city: pandas dataframe \n",
    "    \"\"\"\n",
    "    city['Percentage_Users'] = city['Users'] / city['Population'] * 100\n",
    "    return city\n",
    "\n",
    "\n",
    "city = get_percentage_users(city)\n",
    "city"
   ]
  },
  {
   "cell_type": "code",
   "execution_count": null,
   "id": "d9d6bf53",
   "metadata": {},
   "outputs": [],
   "source": [
    "# Plot\n",
    "def plot_percentage_users(city):\n",
    "    \"\"\"\n",
    "    Method:\n",
    "        Plot the percentage of users per population of each city\n",
    "    \n",
    "    Args:\n",
    "        city: pandas dataframe \n",
    "    \"\"\"\n",
    "    plt.figure(figsize=(10,6))\n",
    "    sns.barplot(x='City', y='Percentage_Users', data=city, palette='Set2')\n",
    "    plt.title('Percentage of Users per Population of Each City')\n",
    "    plt.xticks(rotation=90)\n",
    "    plt.xlabel('City')\n",
    "    plt.show()\n",
    "    return\n",
    "\n",
    "\n",
    "plot_percentage_users(city)"
   ]
  },
  {
   "cell_type": "code",
   "execution_count": null,
   "id": "c07b1b81",
   "metadata": {},
   "outputs": [],
   "source": [
    "# Determine profit "
   ]
  },
  {
   "cell_type": "code",
   "execution_count": null,
   "id": "e43a78f2",
   "metadata": {},
   "outputs": [],
   "source": [
    "# Find total_cost and price_charged per company\n",
    "total_cost = cab_data.groupby('price_charged').sum()\n",
    "price_charged = cab_data.groupby('trip_cost').mean()"
   ]
  },
  {
   "cell_type": "code",
   "execution_count": null,
   "id": "8085a5a8",
   "metadata": {},
   "outputs": [],
   "source": [
    "total_cost"
   ]
  },
  {
   "cell_type": "code",
   "execution_count": null,
   "id": "0cb596ef",
   "metadata": {},
   "outputs": [],
   "source": [
    "# Determine our profit\n",
    "def get_profit(total_cost, price_charged):\n",
    "    \"\"\"\n",
    "    Method:\n",
    "        Get the profit per company\n",
    "    \n",
    "    Args:\n",
    "        total_cost: pandas dataframe \n",
    "        price_charged: pandas dataframe \n",
    "    \"\"\"\n",
    "    profit = total_cost['trip_cost'] - price_charged['price_charged']\n",
    "    return profit\n",
    "\n",
    "\n",
    "# Create a class that find total_cost and price_charged per company \n",
    "total_cost_per_company = TotalCostPerCompany(cab_data)\n",
    "\n",
    "\n",
    "# Get the profit per company    \n",
    "profit = get_profit(total_cost_per_company.total_cost, total_cost_per_company.price_charged)\n"
   ]
  },
  {
   "cell_type": "code",
   "execution_count": null,
   "id": "c7b52e6e",
   "metadata": {},
   "outputs": [],
   "source": [
    "get_profit(total_cost, price_charged)"
   ]
  },
  {
   "cell_type": "code",
   "execution_count": null,
   "id": "322374e6",
   "metadata": {},
   "outputs": [],
   "source": [
    "def get_profit_yellow(cab_yellow):\n",
    "\n",
    "    cab_yellow['profit'] = cab_yellow['price_charged'] - cab_yellow['trip_cost']\n",
    "    return cab_yellow\n",
    "\n",
    "get_profit_yellow(cab_yellow)"
   ]
  },
  {
   "cell_type": "code",
   "execution_count": null,
   "id": "3aeb0b94",
   "metadata": {},
   "outputs": [],
   "source": [
    "cab_yellow['profit'] = cab_yellow['price_charged'] - cab_yellow['trip_cost']\n",
    "cab_pink['profit'] = cab_pink['price_charged'] - cab_pink['trip_cost']"
   ]
  },
  {
   "cell_type": "code",
   "execution_count": null,
   "id": "55d90b72",
   "metadata": {},
   "outputs": [],
   "source": [
    "cab_yellow"
   ]
  },
  {
   "cell_type": "code",
   "execution_count": null,
   "id": "db3484e0",
   "metadata": {},
   "outputs": [],
   "source": [
    "cab_pink"
   ]
  },
  {
   "cell_type": "code",
   "execution_count": null,
   "id": "22332909",
   "metadata": {},
   "outputs": [],
   "source": [
    "def plot_profit_per_company(cab_data):\n",
    "    plt.figure(figsize=(10,6))\n",
    "    sns.barplot(x=cab_pink['company'], y=cab_pink['profit'], data=cab_pink, palette='Set2')\n",
    "    plt.title('Profit per Company')\n",
    "    plt.xlabel('Company')\n",
    "    plt.show()\n",
    "    return\n",
    "\n",
    "\n",
    "plot_profit_per_company(cab_data)"
   ]
  },
  {
   "cell_type": "code",
   "execution_count": null,
   "id": "ab07c40b",
   "metadata": {},
   "outputs": [],
   "source": [
    "def plot_profit_per_company(cab_data):\n",
    "    plt.figure(figsize=(10,6))\n",
    "    sns.barplot(x=cab_yellow['company'], y=cab_yellow['profit'], data=cab_yellow, palette='Set2')\n",
    "    plt.title('Profit per Company')\n",
    "    plt.xlabel('Company')\n",
    "    plt.show()\n",
    "    return\n",
    "\n",
    "\n",
    "plot_profit_per_company(cab_data)"
   ]
  },
  {
   "cell_type": "code",
   "execution_count": null,
   "id": "e3a8457d",
   "metadata": {},
   "outputs": [],
   "source": [
    "price_charged = np.array(cab_data[\"price_charged\"])\n",
    "travel_cost = np.array(cab_data[\"trip_cost\"])\n",
    "profit = np.subtract(price_charged,travel_cost)\n",
    "new = zip(city[\"City\"],profit)\n",
    "profit_df = (pd.DataFrame(new,columns = [\"City\",\"Profits\"]).groupby(\"City\").sum()).sort_values(by = \"Profits\",ascending=False)\n",
    "new_df = profit_df.round()\n",
    "\n",
    "plt.figure(figsize = (14,6))\n",
    "plt.bar(new_df.index,new_df.Profits)\n",
    "plt.xticks(rotation=\"90\")\n",
    "plt.ylabel(\"Profits\")\n",
    "plt.title(\"Profits per city\")\n",
    "plt.show()\n",
    "\n",
    "print(new_df)"
   ]
  },
  {
   "cell_type": "code",
   "execution_count": null,
   "id": "7b13799f",
   "metadata": {},
   "outputs": [],
   "source": []
  }
 ],
 "metadata": {
  "kernelspec": {
   "display_name": "Python 3 (ipykernel)",
   "language": "python",
   "name": "python3"
  },
  "language_info": {
   "codemirror_mode": {
    "name": "ipython",
    "version": 3
   },
   "file_extension": ".py",
   "mimetype": "text/x-python",
   "name": "python",
   "nbconvert_exporter": "python",
   "pygments_lexer": "ipython3",
   "version": "3.9.12"
  }
 },
 "nbformat": 4,
 "nbformat_minor": 5
}
