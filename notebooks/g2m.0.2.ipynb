{
 "cells": [
  {
   "cell_type": "markdown",
   "id": "9b9d03a7",
   "metadata": {},
   "source": [
    "# G2M Strategy for Prospectus Investment"
   ]
  },
  {
   "cell_type": "code",
   "execution_count": null,
   "id": "1d561b77",
   "metadata": {},
   "outputs": [],
   "source": [
    "# Import required libraries\n",
    "import pandas as pd\n",
    "import numpy as np"
   ]
  }
 ],
 "metadata": {
  "kernelspec": {
   "display_name": "NNse",
   "language": "python",
   "name": "u4-s1-nns"
  },
  "language_info": {
   "codemirror_mode": {
    "name": "ipython",
    "version": 3
   },
   "file_extension": ".py",
   "mimetype": "text/x-python",
   "name": "python",
   "nbconvert_exporter": "python",
   "pygments_lexer": "ipython3",
   "version": "3.8.5"
  }
 },
 "nbformat": 4,
 "nbformat_minor": 5
}
