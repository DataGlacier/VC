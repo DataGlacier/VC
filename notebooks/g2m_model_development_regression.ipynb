{
 "cells": [
  {
   "cell_type": "markdown",
   "id": "2ce8c4df",
   "metadata": {},
   "source": [
    "### Business Questions\n",
    "    G2M Strategy \n",
    "    \n",
    "- Market Segmentation\n",
    "- Product\n",
    "- Buyer\n",
    "- Routes to Market\n",
    "***\n",
    "**Pitfalls to Avoid** \n",
    "- Poor product market fit\n",
    "- Oversaturation\n",
    "***\n",
    "**Methodologies**\n",
    "- Funnel - Awareness, consideration, and decision stages of the customer’s journey\n",
    "- Flywheel - Attracting, engaging, and delighting prospects, leads, and customers\n",
    "***\n",
    "**Components**\n",
    "- **Product-Market Fit:** What problem(s) does your product solve?\n",
    "- **Target Audience:** Who is experiencing the problem that your product solves? How much are they willing to pay for a solution? What are the pain points and frustrations that you can alleviate?\n",
    "- **Competition and Demand:** Who already offers what you’re launching? Is there a demand for the product, or is the market oversaturated?\n",
    "- **Distribution:** Through what mediums will you sell the product or service? A website, an app, or a third-party distributor?\n"
   ]
  },
  {
   "cell_type": "markdown",
   "id": "6d3d0efe",
   "metadata": {},
   "source": [
    "# G2M Strategy - Model Development\n",
    "\n",
    "**Prediction**\n",
    "\n",
    "Given the results from our cleaned dataset, we have a good understanding of the data and the relationships that exist, and the insights gather will assist in determining the type of model in predicting future `profit`.\n",
    "\n",
    "Analysis will consist of traditional hypothesis testing to more advanced modeling and techniques.\n",
    "\n",
    "\n",
    "Time period of data is from **31/01/2016 to 31/12/2018**:\n",
    "\n",
    "\n",
    "**Resources:**<br>\n",
    "[G2M Strategy](https://blog.hubspot.com/sales/gtm-strategy)"
   ]
  },
  {
   "cell_type": "markdown",
   "id": "b6a93c91",
   "metadata": {},
   "source": [
    "### Building a G2M Strategy\n",
    "\n",
    "1. Identify the buying center and personas.\n",
    "2. Craft a value matrix to help identify messaging.\n",
    "3. Test your messaging.\n",
    "4. Optimize your ads based on the results of your tests before implementing them on a wide scale.\n",
    "5. Understand your buyer’s journey.\n",
    "6. Choose one (or more) of the four most common sales strategies.\n",
    "7. Build brand awareness and demand generation with inbound and/or outbound methods.\n",
    "8. Create content to get inbound leads.\n",
    "9. Find ways to optimize your pipeline and increase conversion rates.\n",
    "10. Analyze and shorten the sales cycle.\n",
    "11. Reduce customer acquisition cost.\n",
    "12. Strategize ways to tap into your existing customer base.\n",
    "13. Adjust and iterate as you go.\n",
    "14. Retain and delight your customers."
   ]
  },
  {
   "cell_type": "markdown",
   "id": "f231e008",
   "metadata": {},
   "source": [
    "As a company owner - Using the G2M strategy the focus will be considereably to that of its Customers/Users. Th\n",
    "\n",
    "1) Can we tell how much would be earned by quarter, period, year of a specific time period? (Predictive analysis, Time Series)\n",
    "\n",
    "2) What areas (city) generate greatest profit? (Using population and number of users as a reference)\n",
    "\n",
    "3) Customer preference over pink and yellow?\n",
    "\n",
    "4) Average age of user? (if applicable create age bins)\n",
    "\n",
    "5) Average income of user? (hist, highest income user - states)\n",
    "\n",
    "6) If company purchases a specific fleet of vehicles what is the time range for ROI? (Apply hypothesis testing and A/B Testing)\n",
    "\n",
    "7) What are users/consumers using more (cash or card)? Are prices equivalent - Upcharge if cash, card transaction is pre-pickup - lower rate?"
   ]
  },
  {
   "cell_type": "code",
   "execution_count": 10,
   "id": "6d82c669",
   "metadata": {},
   "outputs": [
    {
     "data": {
      "text/html": [
       "        <script type=\"text/javascript\">\n",
       "        window.PlotlyConfig = {MathJaxConfig: 'local'};\n",
       "        if (window.MathJax) {MathJax.Hub.Config({SVG: {font: \"STIX-Web\"}});}\n",
       "        if (typeof require !== 'undefined') {\n",
       "        require.undef(\"plotly\");\n",
       "        requirejs.config({\n",
       "            paths: {\n",
       "                'plotly': ['https://cdn.plot.ly/plotly-latest.min']\n",
       "            }\n",
       "        });\n",
       "        require(['plotly'], function(Plotly) {\n",
       "            window._Plotly = Plotly;\n",
       "        });\n",
       "        }\n",
       "        </script>\n",
       "        "
      ]
     },
     "metadata": {},
     "output_type": "display_data"
    },
    {
     "ename": "NameError",
     "evalue": "name 'matplotlib' is not defined",
     "output_type": "error",
     "traceback": [
      "\u001b[0;31m---------------------------------------------------------------------------\u001b[0m",
      "\u001b[0;31mNameError\u001b[0m                                 Traceback (most recent call last)",
      "\u001b[0;32m/var/folders/q3/0g1f31211lbgj741dfjd4r5c0000gn/T/ipykernel_28229/1492891276.py\u001b[0m in \u001b[0;36m<module>\u001b[0;34m\u001b[0m\n\u001b[1;32m     41\u001b[0m     \u001b[0minit_notebook_mode\u001b[0m\u001b[0;34m(\u001b[0m\u001b[0mconnected\u001b[0m\u001b[0;34m=\u001b[0m\u001b[0;32mFalse\u001b[0m\u001b[0;34m)\u001b[0m\u001b[0;34m\u001b[0m\u001b[0;34m\u001b[0m\u001b[0m\n\u001b[1;32m     42\u001b[0m \u001b[0;34m\u001b[0m\u001b[0m\n\u001b[0;32m---> 43\u001b[0;31m \u001b[0mprint\u001b[0m\u001b[0;34m(\u001b[0m\u001b[0;34m'Matplotlib:'\u001b[0m\u001b[0;34m,\u001b[0m\u001b[0mmatplotlib\u001b[0m\u001b[0;34m.\u001b[0m\u001b[0m__version__\u001b[0m\u001b[0;34m)\u001b[0m\u001b[0;34m\u001b[0m\u001b[0;34m\u001b[0m\u001b[0m\n\u001b[0m\u001b[1;32m     44\u001b[0m \u001b[0mprint\u001b[0m\u001b[0;34m(\u001b[0m\u001b[0;34m'Pandas:'\u001b[0m\u001b[0;34m,\u001b[0m\u001b[0mpd\u001b[0m\u001b[0;34m.\u001b[0m\u001b[0m__version__\u001b[0m\u001b[0;34m)\u001b[0m\u001b[0;34m\u001b[0m\u001b[0;34m\u001b[0m\u001b[0m\n\u001b[1;32m     45\u001b[0m \u001b[0mprint\u001b[0m\u001b[0;34m(\u001b[0m\u001b[0;34m'Numpy:'\u001b[0m\u001b[0;34m,\u001b[0m\u001b[0mnp\u001b[0m\u001b[0;34m.\u001b[0m\u001b[0m__version__\u001b[0m\u001b[0;34m)\u001b[0m\u001b[0;34m\u001b[0m\u001b[0;34m\u001b[0m\u001b[0m\n",
      "\u001b[0;31mNameError\u001b[0m: name 'matplotlib' is not defined"
     ]
    }
   ],
   "source": [
    "import os\n",
    "import sys\n",
    "import pandas as pd\n",
    "import numpy as np\n",
    "\n",
    "# Visualizations\n",
    "import seaborn as sns\n",
    "import p\n",
    "import matplotlib.pyplot as plt\n",
    "plt.style.use('fivethirtyeight') \n",
    "%matplotlib inline\n",
    "import plotly.graph_objects as go\n",
    "import plotly.express as px\n",
    "from pylab import rcParams\n",
    "from plotly import tools\n",
    "import plotly\n",
    "from plotly.offline import init_notebook_mode, iplot\n",
    "init_notebook_mode(connected=True)\n",
    "import plotly.graph_objs as go\n",
    "import plotly.figure_factory as ff\n",
    "\n",
    "# Time Series\n",
    "from statsmodels.tsa import stattools as ts\n",
    "from statsmodels.tsa.stattools import adfuller\n",
    "from statsmodels.tsa.stattools import acf, pacf\n",
    "from statsmodels.tsa.arima_model import ARIMA\n",
    "from statsmodels.tsa.arima_model import ARIMAResults\n",
    "\n",
    "# Sklearn\n",
    "from sklearn.linear_model import LinearRegression\n",
    "from sklearn.model_selection import train_test_split\n",
    "from sklearn.model_selection import cross_val_score\n",
    "from sklearn.model_selection import cross_val_predict\n",
    "from sklearn.metrics import mean_squared_error\n",
    "from sklearn.metrics import r2_score\n",
    "\n",
    "# Function to display plotly in jupyter notebook\n",
    "def enable_plotly_in_cell():\n",
    "    import IPython\n",
    "    from plotly.offline import init_notebook_mode\n",
    "    display(IPython.core.display.HTML('''<script src=\"/static/components/requirejs/require.js\"></script>'''))\n",
    "    init_notebook_mode(connected=False)\n",
    "    \n",
    "print('Matplotlib:',matplotlib.__version__)\n",
    "print('Pandas:',pd.__version__)\n",
    "print('Numpy:',np.__version__)\n",
    "print('StatsModel:',statsmodels.__version__)\n",
    "print('Scipy:',scipy.__version__)"
   ]
  },
  {
   "cell_type": "code",
   "execution_count": 9,
   "id": "fa04ce08",
   "metadata": {},
   "outputs": [
    {
     "ename": "FileNotFoundError",
     "evalue": "[Errno 2] No such file or directory: '/Users/jasonrobinson/Desktop/VC/notebooks/cab_data_clean.csv'",
     "output_type": "error",
     "traceback": [
      "\u001b[0;31m---------------------------------------------------------------------------\u001b[0m",
      "\u001b[0;31mFileNotFoundError\u001b[0m                         Traceback (most recent call last)",
      "\u001b[0;32m/var/folders/q3/0g1f31211lbgj741dfjd4r5c0000gn/T/ipykernel_28229/690946776.py\u001b[0m in \u001b[0;36m<module>\u001b[0;34m\u001b[0m\n\u001b[0;32m----> 1\u001b[0;31m \u001b[0mcab_data\u001b[0m \u001b[0;34m=\u001b[0m \u001b[0mpd\u001b[0m\u001b[0;34m.\u001b[0m\u001b[0mread_csv\u001b[0m\u001b[0;34m(\u001b[0m\u001b[0;34m'/Users/jasonrobinson/Desktop/VC/notebooks/cab_data_clean.csv'\u001b[0m\u001b[0;34m)\u001b[0m\u001b[0;34m\u001b[0m\u001b[0;34m\u001b[0m\u001b[0m\n\u001b[0m\u001b[1;32m      2\u001b[0m \u001b[0mcab_yellow\u001b[0m \u001b[0;34m=\u001b[0m \u001b[0mpd\u001b[0m\u001b[0;34m.\u001b[0m\u001b[0mread_csv\u001b[0m\u001b[0;34m(\u001b[0m\u001b[0;34m'/Users/jasonrobinson/Desktop/VC/notebooks/yellow_cab.csv'\u001b[0m\u001b[0;34m)\u001b[0m\u001b[0;34m\u001b[0m\u001b[0;34m\u001b[0m\u001b[0m\n\u001b[1;32m      3\u001b[0m \u001b[0mcab_pink\u001b[0m \u001b[0;34m=\u001b[0m \u001b[0mpd\u001b[0m\u001b[0;34m.\u001b[0m\u001b[0mread_csv\u001b[0m\u001b[0;34m(\u001b[0m\u001b[0;34m'/Users/jasonrobinson/Desktop/VC/notebooks/pink_cab.csv'\u001b[0m\u001b[0;34m)\u001b[0m\u001b[0;34m\u001b[0m\u001b[0;34m\u001b[0m\u001b[0m\n",
      "\u001b[0;32m/opt/anaconda3/envs/NNs/lib/python3.8/site-packages/pandas/io/parsers.py\u001b[0m in \u001b[0;36mread_csv\u001b[0;34m(filepath_or_buffer, sep, delimiter, header, names, index_col, usecols, squeeze, prefix, mangle_dupe_cols, dtype, engine, converters, true_values, false_values, skipinitialspace, skiprows, skipfooter, nrows, na_values, keep_default_na, na_filter, verbose, skip_blank_lines, parse_dates, infer_datetime_format, keep_date_col, date_parser, dayfirst, cache_dates, iterator, chunksize, compression, thousands, decimal, lineterminator, quotechar, quoting, doublequote, escapechar, comment, encoding, dialect, error_bad_lines, warn_bad_lines, delim_whitespace, low_memory, memory_map, float_precision)\u001b[0m\n\u001b[1;32m    684\u001b[0m     )\n\u001b[1;32m    685\u001b[0m \u001b[0;34m\u001b[0m\u001b[0m\n\u001b[0;32m--> 686\u001b[0;31m     \u001b[0;32mreturn\u001b[0m \u001b[0m_read\u001b[0m\u001b[0;34m(\u001b[0m\u001b[0mfilepath_or_buffer\u001b[0m\u001b[0;34m,\u001b[0m \u001b[0mkwds\u001b[0m\u001b[0;34m)\u001b[0m\u001b[0;34m\u001b[0m\u001b[0;34m\u001b[0m\u001b[0m\n\u001b[0m\u001b[1;32m    687\u001b[0m \u001b[0;34m\u001b[0m\u001b[0m\n\u001b[1;32m    688\u001b[0m \u001b[0;34m\u001b[0m\u001b[0m\n",
      "\u001b[0;32m/opt/anaconda3/envs/NNs/lib/python3.8/site-packages/pandas/io/parsers.py\u001b[0m in \u001b[0;36m_read\u001b[0;34m(filepath_or_buffer, kwds)\u001b[0m\n\u001b[1;32m    450\u001b[0m \u001b[0;34m\u001b[0m\u001b[0m\n\u001b[1;32m    451\u001b[0m     \u001b[0;31m# Create the parser.\u001b[0m\u001b[0;34m\u001b[0m\u001b[0;34m\u001b[0m\u001b[0;34m\u001b[0m\u001b[0m\n\u001b[0;32m--> 452\u001b[0;31m     \u001b[0mparser\u001b[0m \u001b[0;34m=\u001b[0m \u001b[0mTextFileReader\u001b[0m\u001b[0;34m(\u001b[0m\u001b[0mfp_or_buf\u001b[0m\u001b[0;34m,\u001b[0m \u001b[0;34m**\u001b[0m\u001b[0mkwds\u001b[0m\u001b[0;34m)\u001b[0m\u001b[0;34m\u001b[0m\u001b[0;34m\u001b[0m\u001b[0m\n\u001b[0m\u001b[1;32m    453\u001b[0m \u001b[0;34m\u001b[0m\u001b[0m\n\u001b[1;32m    454\u001b[0m     \u001b[0;32mif\u001b[0m \u001b[0mchunksize\u001b[0m \u001b[0;32mor\u001b[0m \u001b[0miterator\u001b[0m\u001b[0;34m:\u001b[0m\u001b[0;34m\u001b[0m\u001b[0;34m\u001b[0m\u001b[0m\n",
      "\u001b[0;32m/opt/anaconda3/envs/NNs/lib/python3.8/site-packages/pandas/io/parsers.py\u001b[0m in \u001b[0;36m__init__\u001b[0;34m(self, f, engine, **kwds)\u001b[0m\n\u001b[1;32m    944\u001b[0m             \u001b[0mself\u001b[0m\u001b[0;34m.\u001b[0m\u001b[0moptions\u001b[0m\u001b[0;34m[\u001b[0m\u001b[0;34m\"has_index_names\"\u001b[0m\u001b[0;34m]\u001b[0m \u001b[0;34m=\u001b[0m \u001b[0mkwds\u001b[0m\u001b[0;34m[\u001b[0m\u001b[0;34m\"has_index_names\"\u001b[0m\u001b[0;34m]\u001b[0m\u001b[0;34m\u001b[0m\u001b[0;34m\u001b[0m\u001b[0m\n\u001b[1;32m    945\u001b[0m \u001b[0;34m\u001b[0m\u001b[0m\n\u001b[0;32m--> 946\u001b[0;31m         \u001b[0mself\u001b[0m\u001b[0;34m.\u001b[0m\u001b[0m_make_engine\u001b[0m\u001b[0;34m(\u001b[0m\u001b[0mself\u001b[0m\u001b[0;34m.\u001b[0m\u001b[0mengine\u001b[0m\u001b[0;34m)\u001b[0m\u001b[0;34m\u001b[0m\u001b[0;34m\u001b[0m\u001b[0m\n\u001b[0m\u001b[1;32m    947\u001b[0m \u001b[0;34m\u001b[0m\u001b[0m\n\u001b[1;32m    948\u001b[0m     \u001b[0;32mdef\u001b[0m \u001b[0mclose\u001b[0m\u001b[0;34m(\u001b[0m\u001b[0mself\u001b[0m\u001b[0;34m)\u001b[0m\u001b[0;34m:\u001b[0m\u001b[0;34m\u001b[0m\u001b[0;34m\u001b[0m\u001b[0m\n",
      "\u001b[0;32m/opt/anaconda3/envs/NNs/lib/python3.8/site-packages/pandas/io/parsers.py\u001b[0m in \u001b[0;36m_make_engine\u001b[0;34m(self, engine)\u001b[0m\n\u001b[1;32m   1176\u001b[0m     \u001b[0;32mdef\u001b[0m \u001b[0m_make_engine\u001b[0m\u001b[0;34m(\u001b[0m\u001b[0mself\u001b[0m\u001b[0;34m,\u001b[0m \u001b[0mengine\u001b[0m\u001b[0;34m=\u001b[0m\u001b[0;34m\"c\"\u001b[0m\u001b[0;34m)\u001b[0m\u001b[0;34m:\u001b[0m\u001b[0;34m\u001b[0m\u001b[0;34m\u001b[0m\u001b[0m\n\u001b[1;32m   1177\u001b[0m         \u001b[0;32mif\u001b[0m \u001b[0mengine\u001b[0m \u001b[0;34m==\u001b[0m \u001b[0;34m\"c\"\u001b[0m\u001b[0;34m:\u001b[0m\u001b[0;34m\u001b[0m\u001b[0;34m\u001b[0m\u001b[0m\n\u001b[0;32m-> 1178\u001b[0;31m             \u001b[0mself\u001b[0m\u001b[0;34m.\u001b[0m\u001b[0m_engine\u001b[0m \u001b[0;34m=\u001b[0m \u001b[0mCParserWrapper\u001b[0m\u001b[0;34m(\u001b[0m\u001b[0mself\u001b[0m\u001b[0;34m.\u001b[0m\u001b[0mf\u001b[0m\u001b[0;34m,\u001b[0m \u001b[0;34m**\u001b[0m\u001b[0mself\u001b[0m\u001b[0;34m.\u001b[0m\u001b[0moptions\u001b[0m\u001b[0;34m)\u001b[0m\u001b[0;34m\u001b[0m\u001b[0;34m\u001b[0m\u001b[0m\n\u001b[0m\u001b[1;32m   1179\u001b[0m         \u001b[0;32melse\u001b[0m\u001b[0;34m:\u001b[0m\u001b[0;34m\u001b[0m\u001b[0;34m\u001b[0m\u001b[0m\n\u001b[1;32m   1180\u001b[0m             \u001b[0;32mif\u001b[0m \u001b[0mengine\u001b[0m \u001b[0;34m==\u001b[0m \u001b[0;34m\"python\"\u001b[0m\u001b[0;34m:\u001b[0m\u001b[0;34m\u001b[0m\u001b[0;34m\u001b[0m\u001b[0m\n",
      "\u001b[0;32m/opt/anaconda3/envs/NNs/lib/python3.8/site-packages/pandas/io/parsers.py\u001b[0m in \u001b[0;36m__init__\u001b[0;34m(self, src, **kwds)\u001b[0m\n\u001b[1;32m   2006\u001b[0m         \u001b[0mkwds\u001b[0m\u001b[0;34m[\u001b[0m\u001b[0;34m\"usecols\"\u001b[0m\u001b[0;34m]\u001b[0m \u001b[0;34m=\u001b[0m \u001b[0mself\u001b[0m\u001b[0;34m.\u001b[0m\u001b[0musecols\u001b[0m\u001b[0;34m\u001b[0m\u001b[0;34m\u001b[0m\u001b[0m\n\u001b[1;32m   2007\u001b[0m \u001b[0;34m\u001b[0m\u001b[0m\n\u001b[0;32m-> 2008\u001b[0;31m         \u001b[0mself\u001b[0m\u001b[0;34m.\u001b[0m\u001b[0m_reader\u001b[0m \u001b[0;34m=\u001b[0m \u001b[0mparsers\u001b[0m\u001b[0;34m.\u001b[0m\u001b[0mTextReader\u001b[0m\u001b[0;34m(\u001b[0m\u001b[0msrc\u001b[0m\u001b[0;34m,\u001b[0m \u001b[0;34m**\u001b[0m\u001b[0mkwds\u001b[0m\u001b[0;34m)\u001b[0m\u001b[0;34m\u001b[0m\u001b[0;34m\u001b[0m\u001b[0m\n\u001b[0m\u001b[1;32m   2009\u001b[0m         \u001b[0mself\u001b[0m\u001b[0;34m.\u001b[0m\u001b[0munnamed_cols\u001b[0m \u001b[0;34m=\u001b[0m \u001b[0mself\u001b[0m\u001b[0;34m.\u001b[0m\u001b[0m_reader\u001b[0m\u001b[0;34m.\u001b[0m\u001b[0munnamed_cols\u001b[0m\u001b[0;34m\u001b[0m\u001b[0;34m\u001b[0m\u001b[0m\n\u001b[1;32m   2010\u001b[0m \u001b[0;34m\u001b[0m\u001b[0m\n",
      "\u001b[0;32mpandas/_libs/parsers.pyx\u001b[0m in \u001b[0;36mpandas._libs.parsers.TextReader.__cinit__\u001b[0;34m()\u001b[0m\n",
      "\u001b[0;32mpandas/_libs/parsers.pyx\u001b[0m in \u001b[0;36mpandas._libs.parsers.TextReader._setup_parser_source\u001b[0;34m()\u001b[0m\n",
      "\u001b[0;31mFileNotFoundError\u001b[0m: [Errno 2] No such file or directory: '/Users/jasonrobinson/Desktop/VC/notebooks/cab_data_clean.csv'"
     ]
    }
   ],
   "source": [
    "cab_data = pd.read_csv('/Users/jasonrobinson/Desktop/VC/notebooks/cab_data_clean.csv')\n",
    "cab_yellow = pd.read_csv('/Users/jasonrobinson/Desktop/VC/notebooks/yellow_cab.csv')\n",
    "cab_pink = pd.read_csv('/Users/jasonrobinson/Desktop/VC/notebooks/pink_cab.csv')"
   ]
  },
  {
   "cell_type": "markdown",
   "id": "ab52ab80",
   "metadata": {},
   "source": [
    "### Build on creating statistical analysis - answer business questions.\n",
    "\n",
    "Perform analysis and provide visualizations to gather further insights and recommendations for the next steps in the process of determing optimal investment following the G2M strategy.\n",
    "\n",
    "To achieve this we will apply machine learning techniques to predict future profit.\n",
    "\n",
    "We wil also use the data to determine the optimal investment strategy, related to time series analysis. \n",
    "        "
   ]
  },
  {
   "cell_type": "code",
   "execution_count": null,
   "id": "aa9caef7",
   "metadata": {},
   "outputs": [],
   "source": [
    "#cab_data[['female', 'male']] = pd.get_dummies(cab_data[\"gender\"])\n",
    "#cab_data[['yellow_cab', 'pink cab']] = pd.get_dummies(cab_data[\"company\"])\n",
    "#cab_data[['card', 'cash']] = pd.get_dummies(cab_data[\"payment_mode\"])\n",
    "#cab_data = cab_data.drop(['gender', 'company', 'payment_mode', 'customer_id'], axis=1)"
   ]
  },
  {
   "cell_type": "code",
   "execution_count": 8,
   "id": "6dfc30a7",
   "metadata": {},
   "outputs": [
    {
     "data": {
      "text/html": [
       "<div>\n",
       "<style scoped>\n",
       "    .dataframe tbody tr th:only-of-type {\n",
       "        vertical-align: middle;\n",
       "    }\n",
       "\n",
       "    .dataframe tbody tr th {\n",
       "        vertical-align: top;\n",
       "    }\n",
       "\n",
       "    .dataframe thead th {\n",
       "        text-align: right;\n",
       "    }\n",
       "</style>\n",
       "<table border=\"1\" class=\"dataframe\">\n",
       "  <thead>\n",
       "    <tr style=\"text-align: right;\">\n",
       "      <th></th>\n",
       "      <th>travel_date</th>\n",
       "      <th>transact_id</th>\n",
       "      <th>company</th>\n",
       "      <th>city</th>\n",
       "      <th>km_travelled</th>\n",
       "      <th>price_charged</th>\n",
       "      <th>trip_cost</th>\n",
       "      <th>customer_id</th>\n",
       "      <th>payment_mode</th>\n",
       "      <th>gender</th>\n",
       "      <th>age</th>\n",
       "      <th>monthly_income</th>\n",
       "      <th>profit</th>\n",
       "    </tr>\n",
       "  </thead>\n",
       "  <tbody>\n",
       "    <tr>\n",
       "      <th>0</th>\n",
       "      <td>2016-02-06</td>\n",
       "      <td>10000011</td>\n",
       "      <td>Pink Cab</td>\n",
       "      <td>ATLANTA GA</td>\n",
       "      <td>30.45</td>\n",
       "      <td>370.95</td>\n",
       "      <td>313.6350</td>\n",
       "      <td>29290</td>\n",
       "      <td>Card</td>\n",
       "      <td>Male</td>\n",
       "      <td>28</td>\n",
       "      <td>10813</td>\n",
       "      <td>57.3150</td>\n",
       "    </tr>\n",
       "    <tr>\n",
       "      <th>1</th>\n",
       "      <td>2018-08-19</td>\n",
       "      <td>10351127</td>\n",
       "      <td>Yellow Cab</td>\n",
       "      <td>ATLANTA GA</td>\n",
       "      <td>26.19</td>\n",
       "      <td>598.70</td>\n",
       "      <td>317.4228</td>\n",
       "      <td>29290</td>\n",
       "      <td>Cash</td>\n",
       "      <td>Male</td>\n",
       "      <td>28</td>\n",
       "      <td>10813</td>\n",
       "      <td>281.2772</td>\n",
       "    </tr>\n",
       "    <tr>\n",
       "      <th>2</th>\n",
       "      <td>2018-12-22</td>\n",
       "      <td>10412921</td>\n",
       "      <td>Yellow Cab</td>\n",
       "      <td>ATLANTA GA</td>\n",
       "      <td>42.55</td>\n",
       "      <td>792.05</td>\n",
       "      <td>597.4020</td>\n",
       "      <td>29290</td>\n",
       "      <td>Card</td>\n",
       "      <td>Male</td>\n",
       "      <td>28</td>\n",
       "      <td>10813</td>\n",
       "      <td>194.6480</td>\n",
       "    </tr>\n",
       "    <tr>\n",
       "      <th>3</th>\n",
       "      <td>2016-02-04</td>\n",
       "      <td>10000012</td>\n",
       "      <td>Pink Cab</td>\n",
       "      <td>ATLANTA GA</td>\n",
       "      <td>28.62</td>\n",
       "      <td>358.52</td>\n",
       "      <td>334.8540</td>\n",
       "      <td>27703</td>\n",
       "      <td>Card</td>\n",
       "      <td>Male</td>\n",
       "      <td>27</td>\n",
       "      <td>9237</td>\n",
       "      <td>23.6660</td>\n",
       "    </tr>\n",
       "    <tr>\n",
       "      <th>4</th>\n",
       "      <td>2018-05-20</td>\n",
       "      <td>10320494</td>\n",
       "      <td>Yellow Cab</td>\n",
       "      <td>ATLANTA GA</td>\n",
       "      <td>36.38</td>\n",
       "      <td>721.10</td>\n",
       "      <td>467.1192</td>\n",
       "      <td>27703</td>\n",
       "      <td>Card</td>\n",
       "      <td>Male</td>\n",
       "      <td>27</td>\n",
       "      <td>9237</td>\n",
       "      <td>253.9808</td>\n",
       "    </tr>\n",
       "  </tbody>\n",
       "</table>\n",
       "</div>"
      ],
      "text/plain": [
       "  travel_date  transact_id     company        city  km_travelled  \\\n",
       "0  2016-02-06     10000011    Pink Cab  ATLANTA GA         30.45   \n",
       "1  2018-08-19     10351127  Yellow Cab  ATLANTA GA         26.19   \n",
       "2  2018-12-22     10412921  Yellow Cab  ATLANTA GA         42.55   \n",
       "3  2016-02-04     10000012    Pink Cab  ATLANTA GA         28.62   \n",
       "4  2018-05-20     10320494  Yellow Cab  ATLANTA GA         36.38   \n",
       "\n",
       "   price_charged  trip_cost  customer_id payment_mode gender  age  \\\n",
       "0         370.95   313.6350        29290         Card   Male   28   \n",
       "1         598.70   317.4228        29290         Cash   Male   28   \n",
       "2         792.05   597.4020        29290         Card   Male   28   \n",
       "3         358.52   334.8540        27703         Card   Male   27   \n",
       "4         721.10   467.1192        27703         Card   Male   27   \n",
       "\n",
       "   monthly_income    profit  \n",
       "0           10813   57.3150  \n",
       "1           10813  281.2772  \n",
       "2           10813  194.6480  \n",
       "3            9237   23.6660  \n",
       "4            9237  253.9808  "
      ]
     },
     "execution_count": 8,
     "metadata": {},
     "output_type": "execute_result"
    }
   ],
   "source": [
    "# Create a price increase for price_charged by .5%\n",
    "cab_data['price_inc_05'] = cab_data['price_charged'] * 1.05\n",
    "\n",
    "# Create a price increase for price_charged by .10%\n",
    "cab_data['price_inc_10'] = cab_data['price_charged'] * 1.10\n",
    "\n",
    "# Difference of price charged and trip cost to get profit\n",
    "cab_data['profit'] = cab_data['price_charged'] - cab_data['trip_cost']\n",
    "cab_data.head()"
   ]
  },
  {
   "cell_type": "code",
   "execution_count": null,
   "id": "6edab5cd",
   "metadata": {},
   "outputs": [],
   "source": [
    "cab_data['monthly_income'].sort_values(ascending=False)[:3]"
   ]
  },
  {
   "cell_type": "code",
   "execution_count": null,
   "id": "e9e54d4b",
   "metadata": {},
   "outputs": [],
   "source": [
    "cab_data.sort_index(ascending=False)"
   ]
  },
  {
   "cell_type": "code",
   "execution_count": null,
   "id": "4a8b2fdf",
   "metadata": {},
   "outputs": [],
   "source": [
    "cab_data.columns"
   ]
  },
  {
   "cell_type": "code",
   "execution_count": null,
   "id": "482c8d63",
   "metadata": {},
   "outputs": [],
   "source": [
    "#cab_data['travel_date']= pd.to_datetime(cab_data['travel_date'], infer_datetime_format=True)"
   ]
  },
  {
   "cell_type": "code",
   "execution_count": null,
   "id": "80539767",
   "metadata": {},
   "outputs": [],
   "source": [
    "# 5-day, 4-week work month\n",
    "cab_data['daily_income'] = (cab_data['monthly_income'] / 20 ).round(2)"
   ]
  },
  {
   "cell_type": "code",
   "execution_count": null,
   "id": "724f4f16",
   "metadata": {},
   "outputs": [],
   "source": [
    "sns.displot(cab_data['monthly_income']);"
   ]
  },
  {
   "cell_type": "code",
   "execution_count": null,
   "id": "cd82e8be",
   "metadata": {},
   "outputs": [],
   "source": [
    "sns.displot(cab_data['trip_cost']);"
   ]
  },
  {
   "cell_type": "code",
   "execution_count": null,
   "id": "06cea89e",
   "metadata": {},
   "outputs": [],
   "source": [
    "# Remove outliers above count of 5000\n",
    "cab_data = cab_data[cab_data['trip_cost'] > 100]and\n",
    "cab_data = cab_data[cab_data['trip_cost'] < 600]\n"
   ]
  },
  {
   "cell_type": "code",
   "execution_count": null,
   "id": "b5f9d06d",
   "metadata": {},
   "outputs": [],
   "source": [
    "# Percentage of monthly income on cost of trip\n",
    "percentage_monthly_income = cab_data['trip_cost'] / cab_data['monthly_income']"
   ]
  },
  {
   "cell_type": "markdown",
   "id": "40d1e085",
   "metadata": {},
   "source": [
    "## Model builing - Regression"
   ]
  },
  {
   "cell_type": "code",
   "execution_count": null,
   "id": "493cca16",
   "metadata": {},
   "outputs": [],
   "source": [
    "# Split data into train, val, and test\n",
    "train = cab_data.iloc[:int(len(cab_data) * 0.8)]\n",
    "val = cab_data.iloc[int(len(cab_data) * 0.8):int(len(cab_data) * 0.9)]\n",
    "test = cab_data.iloc[int(len(cab_data) * 0.9):]"
   ]
  },
  {
   "cell_type": "code",
   "execution_count": null,
   "id": "21d9d931",
   "metadata": {},
   "outputs": [],
   "source": [
    "target = 'trip_cost'\n",
    "features = cab_data.columns.drop('trip_cost')\n",
    "\n",
    "X_train = train[features]\n",
    "y_train = train[target]\n",
    "\n",
    "X_val = val[features]\n",
    "y_val = val[target]\n",
    "\n",
    "X_test = test[features]\n",
    "y_test = test[target]"
   ]
  },
  {
   "cell_type": "code",
   "execution_count": null,
   "id": "48a58a25",
   "metadata": {},
   "outputs": [],
   "source": [
    "import category_encoders as ce\n",
    "from sklearn.linear_model import LinearRegression\n",
    "from sklearn.pipeline import make_pipeline\n",
    "from sklearn.preprocessing import StandardScaler\n",
    "\n",
    "lr = make_pipeline(\n",
    "    ce.TargetEncoder(),  \n",
    "    LinearRegression()\n",
    ")\n",
    "\n",
    "lr.fit(X_train, y_train)\n",
    "print('Linear Regression R^2', lr.score(X_val, y_val))"
   ]
  },
  {
   "cell_type": "code",
   "execution_count": null,
   "id": "7ebcc45b",
   "metadata": {},
   "outputs": [],
   "source": [
    "coefficients = lr.named_steps['linearregression'].coef_\n",
    "pd.Series(coefficients, features)"
   ]
  },
  {
   "cell_type": "code",
   "execution_count": null,
   "id": "9c231723",
   "metadata": {},
   "outputs": [],
   "source": [
    "from sklearn.metrics import r2_score\n",
    "from xgboost import XGBRegressor\n",
    "\n",
    "gb = make_pipeline(\n",
    "    ce.OrdinalEncoder(), \n",
    "    XGBRegressor(n_estimators=100, objective='reg:squarederror', n_jobs=1)\n",
    ")\n",
    "\n",
    "gb.fit(X_train, y_train)\n",
    "y_pred = gb.predict(X_val)\n",
    "print('Gradient Boosting R^2', r2_score(y_val, y_pred))"
   ]
  },
  {
   "cell_type": "code",
   "execution_count": null,
   "id": "6ebef2f2",
   "metadata": {},
   "outputs": [],
   "source": [
    "# Get a scatterplot of the predictions vs actual values\n",
    "fig = go.Figure()\n",
    "fig.add_trace(go.Scatter(x=y_val, y=y_pred, mode='markers', name='predictions'))\n",
    "fig.add_trace(go.Scatter(x=y_val, y=y_val, mode='markers', name='actual'))\n",
    "fig.update_layout(title='Gradient Boosting Predictions vs Actual', xaxis_title='Actual', yaxis_title='Predicted')\n",
    "iplot(fig)\n",
    "\n"
   ]
  },
  {
   "cell_type": "code",
   "execution_count": null,
   "id": "d485c38b",
   "metadata": {},
   "outputs": [],
   "source": [
    "import plotly.express as px\n",
    "\n",
    "px.scatter(\n",
    "    X_train,\n",
    "    y_train,\n",
    "    x='monthly_income',\n",
    "    y='trip_cost',\n",
    "    color='price_charged'\n",
    "    title='Gradient Boosting Predictions vs Actual',    \n",
    "    xaxis_title='Actual',\n",
    "    yaxis_title='Predicted'\n",
    "\n",
    ")"
   ]
  },
  {
   "cell_type": "code",
   "execution_count": 5,
   "id": "7dc7c022",
   "metadata": {},
   "outputs": [],
   "source": [
    "cab_yellow = pd.read_csv('/Users/jasonrobinson/Desktop/VC/notebooks/yellow_cab.csv')\n",
    "cab_pink = pd.read_csv('/Users/jasonrobinson/Desktop/VC/notebooks/pink_cab.csv')"
   ]
  },
  {
   "cell_type": "code",
   "execution_count": null,
   "id": "fb02137b",
   "metadata": {},
   "outputs": [],
   "source": [
    "# Convert string to datetime\n",
    "X_train['travel_date'] = pd.to_datetime(X_train['travel_date'], infer_datetime_format=True)"
   ]
  },
  {
   "cell_type": "code",
   "execution_count": null,
   "id": "2b9f2af0",
   "metadata": {},
   "outputs": [],
   "source": [
    "#pip install pdpbox"
   ]
  },
  {
   "cell_type": "code",
   "execution_count": null,
   "id": "0fd0fbf5",
   "metadata": {},
   "outputs": [],
   "source": [
    "#pip install --upgrade pip"
   ]
  },
  {
   "cell_type": "code",
   "execution_count": null,
   "id": "98e9cf8f",
   "metadata": {},
   "outputs": [],
   "source": [
    "#from pdpbox import pdp\n",
    "#pdp = pdp_interact.pivot_table(\n",
    "#    values='preds', \n",
    "#    columns=features[0], \n",
    "#    index=features[1]\n",
    "#)[::-1]"
   ]
  },
  {
   "cell_type": "code",
   "execution_count": null,
   "id": "72e4da48",
   "metadata": {},
   "outputs": [],
   "source": [
    "# Predicted values\n",
    "y_pred"
   ]
  },
  {
   "cell_type": "markdown",
   "id": "62b4248e",
   "metadata": {},
   "source": [
    "Take the price charged out,because it is calculataing future data?"
   ]
  },
  {
   "cell_type": "markdown",
   "id": "c49cb5b1",
   "metadata": {},
   "source": [
    "### Time Series Analysis\n",
    "\n",
    "We can use statsmodels to perform time series analysis and get a general idea of the data over time."
   ]
  },
  {
   "cell_type": "code",
   "execution_count": null,
   "id": "2e8918cf",
   "metadata": {},
   "outputs": [],
   "source": [
    "# Create an univariate time series dataset indexed by the travel date\n",
    "ts_data = pd.DataFrame(cab_data['trip_cost'], index=cab_data['travel_date'])\n",
    "\n",
    "# Create a function to determine the autocorrelation of the time series\n",
    "def autocorrelation(ts_data):\n",
    "    \"\"\"\n",
    "    Method:\n",
    "        Create a function to determine the autocorrelation of the time series\n",
    "    \"\"\"\n",
    "    # Calculate the autocorrelation of the time series\n",
    "    acf_data = ts.acf(ts_data)\n",
    "    \n",
    "    # Plot the autocorrelation of the time series\n",
    "    plt.figure(figsize=(10,6))\n",
    "    plt.plot(acf_data)\n",
    "    plt.xlabel('Lag')\n",
    "    plt.ylabel('Autocorrelation')\n",
    "    plt.title('Autocorrelation of Trip Cost')\n",
    "    plt.show()\n",
    "    return\n",
    "\n",
    "\n",
    "autocorrelation(ts_data)"
   ]
  },
  {
   "cell_type": "code",
   "execution_count": null,
   "id": "10b03d8a",
   "metadata": {},
   "outputs": [],
   "source": [
    "# Create a function to determine the partial autocorrelation of the time series\n",
    "def partial_autocorrelation(ts_data):\n",
    "    \"\"\"\n",
    "    Method:\n",
    "        Create a function to determine the partial autocorrelation of the time series\n",
    "    \"\"\"\n",
    "    # Calculate the partial autocorrelation of the time series\n",
    "    pacf_data = ts.pacf(ts_data)\n",
    "    # Plot the partial autocorrelation of the time series\n",
    "    plt.figure(figsize=(10,6))\n",
    "    plt.plot(pacf_data)\n",
    "    plt.xlabel('Lag')\n",
    "    plt.ylabel('Partial Autocorrelation')\n",
    "    plt.title('Partial Autocorrelation of Trip Cost')\n",
    "    plt.show()\n",
    "    return"
   ]
  },
  {
   "cell_type": "code",
   "execution_count": null,
   "id": "cb28e49b",
   "metadata": {},
   "outputs": [],
   "source": [
    "# Create a function to determine the ADF test of the time series\n",
    "def adf_test(ts_data):\n",
    "    \"\"\"\n",
    "    Method:\n",
    "        Create a function to determine the ADF test of the time series\n",
    "    \"\"\"\n",
    "    # Calculate the ADF test of the time series\n",
    "    adf_data = adfuller(ts_data)\n",
    "    # Plot the ADF test of the time series\n",
    "    plt.figure(figsize=(10,6))\n",
    "    plt.plot(adf_data)\n",
    "    plt.xlabel('Lag')\n",
    "    plt.ylabel('ADF Test')\n",
    "    plt.title('ADF Test of Trip Cost')\n",
    "    plt.show()\n",
    "    return\n",
    "    "
   ]
  },
  {
   "cell_type": "code",
   "execution_count": null,
   "id": "949e6add",
   "metadata": {},
   "outputs": [],
   "source": [
    "# Create a function to determine the ARIMA model of the time series\n",
    "def arima_model(ts_data):\n",
    "    \"\"\"\n",
    "    Method:\n",
    "        Create a function to determine the ARIMA model of the time series\n",
    "    \"\"\"\n",
    "    # Calculate the ARIMA model of the time series\n",
    "    arima_data = ARIMA(ts_data, order=(1,1,1)).fit()\n",
    "    # Plot the ARIMA model of the time series\n",
    "    plt.figure(figsize=(10,6))\n",
    "    plt.plot(arima_data.fittedvalues)\n",
    "    plt.xlabel('Date')\n",
    "    plt.ylabel('Trip Cost')\n",
    "    plt.title('ARIMA Model of Trip Cost')\n",
    "    print(arima_data.summary())\n",
    "    plt.show()\n",
    "    return"
   ]
  },
  {
   "cell_type": "code",
   "execution_count": null,
   "id": "f310dd78",
   "metadata": {},
   "outputs": [],
   "source": []
  }
 ],
 "metadata": {
  "kernelspec": {
   "display_name": "NNse",
   "language": "python",
   "name": "u4-s1-nns"
  },
  "language_info": {
   "codemirror_mode": {
    "name": "ipython",
    "version": 3
   },
   "file_extension": ".py",
   "mimetype": "text/x-python",
   "name": "python",
   "nbconvert_exporter": "python",
   "pygments_lexer": "ipython3",
   "version": "3.8.5"
  }
 },
 "nbformat": 4,
 "nbformat_minor": 5
}
