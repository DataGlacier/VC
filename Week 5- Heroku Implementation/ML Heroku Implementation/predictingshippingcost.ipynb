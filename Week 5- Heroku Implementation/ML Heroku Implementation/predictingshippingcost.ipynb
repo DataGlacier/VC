{
 "cells": [
  {
   "cell_type": "code",
   "execution_count": 1,
   "metadata": {
    "_cell_guid": "b1076dfc-b9ad-4769-8c92-a6c4dae69d19",
    "_uuid": "8f2839f25d086af736a60e9eeb907d3b93b6e0e5",
    "execution": {
     "iopub.execute_input": "2023-03-21T23:35:16.122395Z",
     "iopub.status.busy": "2023-03-21T23:35:16.121636Z",
     "iopub.status.idle": "2023-03-21T23:35:19.118472Z",
     "shell.execute_reply": "2023-03-21T23:35:19.116516Z",
     "shell.execute_reply.started": "2023-03-21T23:35:16.122245Z"
    }
   },
   "outputs": [],
   "source": [
    "import numpy as np\n",
    "import pandas as pd\n",
    "pd.set_option('display.max_columns', None)\n",
    "import matplotlib.pyplot as plt\n",
    "import os\n",
    "from sklearn.impute import SimpleImputer\n",
    "from sklearn.preprocessing import OneHotEncoder\n",
    "from sklearn.preprocessing import MinMaxScaler\n",
    "from sklearn import metrics\n",
    "from sklearn.model_selection import train_test_split\n",
    "from sklearn.pipeline import Pipeline\n",
    "from sklearn.compose import ColumnTransformer\n",
    "from sklearn.ensemble import ExtraTreesRegressor\n",
    "from sklearn.feature_selection import SelectFromModel\n",
    "\n",
    "from sklearn.ensemble import RandomForestRegressor\n",
    "from sklearn.model_selection import RandomizedSearchCV"
   ]
  },
  {
   "cell_type": "code",
   "execution_count": 2,
   "metadata": {
    "execution": {
     "iopub.execute_input": "2023-03-21T23:35:19.121795Z",
     "iopub.status.busy": "2023-03-21T23:35:19.121235Z",
     "iopub.status.idle": "2023-03-21T23:35:19.244450Z",
     "shell.execute_reply": "2023-03-21T23:35:19.242982Z",
     "shell.execute_reply.started": "2023-03-21T23:35:19.121743Z"
    }
   },
   "outputs": [
    {
     "name": "stdout",
     "output_type": "stream",
     "text": [
      "(6500, 20)\n",
      "(3500, 19)\n"
     ]
    }
   ],
   "source": [
    "train_path = os.path.join('..', 'data', 'train.csv')\n",
    "test_path = os.path.join('..', 'data', 'test.csv')\n",
    "train = pd.read_csv(train_path)\n",
    "test = pd.read_csv(test_path)\n",
    "print(train.shape)\n",
    "print(test.shape)"
   ]
  },
  {
   "cell_type": "code",
   "execution_count": 3,
   "metadata": {
    "execution": {
     "iopub.execute_input": "2023-03-21T23:35:19.246972Z",
     "iopub.status.busy": "2023-03-21T23:35:19.246156Z",
     "iopub.status.idle": "2023-03-21T23:35:19.301007Z",
     "shell.execute_reply": "2023-03-21T23:35:19.299994Z",
     "shell.execute_reply.started": "2023-03-21T23:35:19.246927Z"
    }
   },
   "outputs": [
    {
     "data": {
      "text/html": [
       "<div>\n",
       "<style scoped>\n",
       "    .dataframe tbody tr th:only-of-type {\n",
       "        vertical-align: middle;\n",
       "    }\n",
       "\n",
       "    .dataframe tbody tr th {\n",
       "        vertical-align: top;\n",
       "    }\n",
       "\n",
       "    .dataframe thead th {\n",
       "        text-align: right;\n",
       "    }\n",
       "</style>\n",
       "<table border=\"1\" class=\"dataframe\">\n",
       "  <thead>\n",
       "    <tr style=\"text-align: right;\">\n",
       "      <th></th>\n",
       "      <th>Customer Id</th>\n",
       "      <th>Artist Name</th>\n",
       "      <th>Artist Reputation</th>\n",
       "      <th>Height</th>\n",
       "      <th>Width</th>\n",
       "      <th>Weight</th>\n",
       "      <th>Material</th>\n",
       "      <th>Price Of Sculpture</th>\n",
       "      <th>Base Shipping Price</th>\n",
       "      <th>International</th>\n",
       "      <th>Express Shipment</th>\n",
       "      <th>Installation Included</th>\n",
       "      <th>Transport</th>\n",
       "      <th>Fragile</th>\n",
       "      <th>Customer Information</th>\n",
       "      <th>Remote Location</th>\n",
       "      <th>Scheduled Date</th>\n",
       "      <th>Delivery Date</th>\n",
       "      <th>Customer Location</th>\n",
       "      <th>Cost</th>\n",
       "    </tr>\n",
       "  </thead>\n",
       "  <tbody>\n",
       "    <tr>\n",
       "      <th>0</th>\n",
       "      <td>fffe3900350033003300</td>\n",
       "      <td>Billy Jenkins</td>\n",
       "      <td>0.26</td>\n",
       "      <td>17.0</td>\n",
       "      <td>6.0</td>\n",
       "      <td>4128.0</td>\n",
       "      <td>Brass</td>\n",
       "      <td>13.91</td>\n",
       "      <td>16.27</td>\n",
       "      <td>Yes</td>\n",
       "      <td>Yes</td>\n",
       "      <td>No</td>\n",
       "      <td>Airways</td>\n",
       "      <td>No</td>\n",
       "      <td>Working Class</td>\n",
       "      <td>No</td>\n",
       "      <td>06/07/15</td>\n",
       "      <td>06/03/15</td>\n",
       "      <td>New Michelle, OH 50777</td>\n",
       "      <td>-283.29</td>\n",
       "    </tr>\n",
       "    <tr>\n",
       "      <th>1</th>\n",
       "      <td>fffe3800330031003900</td>\n",
       "      <td>Jean Bryant</td>\n",
       "      <td>0.28</td>\n",
       "      <td>3.0</td>\n",
       "      <td>3.0</td>\n",
       "      <td>61.0</td>\n",
       "      <td>Brass</td>\n",
       "      <td>6.83</td>\n",
       "      <td>15.00</td>\n",
       "      <td>No</td>\n",
       "      <td>No</td>\n",
       "      <td>No</td>\n",
       "      <td>Roadways</td>\n",
       "      <td>No</td>\n",
       "      <td>Working Class</td>\n",
       "      <td>No</td>\n",
       "      <td>03/06/17</td>\n",
       "      <td>03/05/17</td>\n",
       "      <td>New Michaelport, WY 12072</td>\n",
       "      <td>-159.96</td>\n",
       "    </tr>\n",
       "    <tr>\n",
       "      <th>2</th>\n",
       "      <td>fffe3600370035003100</td>\n",
       "      <td>Laura Miller</td>\n",
       "      <td>0.07</td>\n",
       "      <td>8.0</td>\n",
       "      <td>5.0</td>\n",
       "      <td>237.0</td>\n",
       "      <td>Clay</td>\n",
       "      <td>4.96</td>\n",
       "      <td>21.18</td>\n",
       "      <td>No</td>\n",
       "      <td>No</td>\n",
       "      <td>No</td>\n",
       "      <td>Roadways</td>\n",
       "      <td>Yes</td>\n",
       "      <td>Working Class</td>\n",
       "      <td>Yes</td>\n",
       "      <td>03/09/15</td>\n",
       "      <td>03/08/15</td>\n",
       "      <td>Bowmanshire, WA 19241</td>\n",
       "      <td>-154.29</td>\n",
       "    </tr>\n",
       "    <tr>\n",
       "      <th>3</th>\n",
       "      <td>fffe350031003300</td>\n",
       "      <td>Robert Chaires</td>\n",
       "      <td>0.12</td>\n",
       "      <td>9.0</td>\n",
       "      <td>NaN</td>\n",
       "      <td>NaN</td>\n",
       "      <td>Aluminium</td>\n",
       "      <td>5.81</td>\n",
       "      <td>16.31</td>\n",
       "      <td>No</td>\n",
       "      <td>No</td>\n",
       "      <td>No</td>\n",
       "      <td>NaN</td>\n",
       "      <td>No</td>\n",
       "      <td>Wealthy</td>\n",
       "      <td>Yes</td>\n",
       "      <td>05/24/15</td>\n",
       "      <td>05/20/15</td>\n",
       "      <td>East Robyn, KY 86375</td>\n",
       "      <td>-161.16</td>\n",
       "    </tr>\n",
       "    <tr>\n",
       "      <th>4</th>\n",
       "      <td>fffe3900320038003400</td>\n",
       "      <td>Rosalyn Krol</td>\n",
       "      <td>0.15</td>\n",
       "      <td>17.0</td>\n",
       "      <td>6.0</td>\n",
       "      <td>324.0</td>\n",
       "      <td>Aluminium</td>\n",
       "      <td>3.18</td>\n",
       "      <td>11.94</td>\n",
       "      <td>Yes</td>\n",
       "      <td>Yes</td>\n",
       "      <td>Yes</td>\n",
       "      <td>Airways</td>\n",
       "      <td>No</td>\n",
       "      <td>Working Class</td>\n",
       "      <td>No</td>\n",
       "      <td>12/18/16</td>\n",
       "      <td>12/14/16</td>\n",
       "      <td>Aprilside, PA 52793</td>\n",
       "      <td>-159.23</td>\n",
       "    </tr>\n",
       "  </tbody>\n",
       "</table>\n",
       "</div>"
      ],
      "text/plain": [
       "            Customer Id     Artist Name  Artist Reputation  Height  Width  \\\n",
       "0  fffe3900350033003300   Billy Jenkins               0.26    17.0    6.0   \n",
       "1  fffe3800330031003900     Jean Bryant               0.28     3.0    3.0   \n",
       "2  fffe3600370035003100    Laura Miller               0.07     8.0    5.0   \n",
       "3      fffe350031003300  Robert Chaires               0.12     9.0    NaN   \n",
       "4  fffe3900320038003400    Rosalyn Krol               0.15    17.0    6.0   \n",
       "\n",
       "   Weight   Material  Price Of Sculpture  Base Shipping Price International  \\\n",
       "0  4128.0      Brass               13.91                16.27           Yes   \n",
       "1    61.0      Brass                6.83                15.00            No   \n",
       "2   237.0       Clay                4.96                21.18            No   \n",
       "3     NaN  Aluminium                5.81                16.31            No   \n",
       "4   324.0  Aluminium                3.18                11.94           Yes   \n",
       "\n",
       "  Express Shipment Installation Included Transport Fragile  \\\n",
       "0              Yes                    No   Airways      No   \n",
       "1               No                    No  Roadways      No   \n",
       "2               No                    No  Roadways     Yes   \n",
       "3               No                    No       NaN      No   \n",
       "4              Yes                   Yes   Airways      No   \n",
       "\n",
       "  Customer Information Remote Location Scheduled Date Delivery Date  \\\n",
       "0        Working Class              No       06/07/15      06/03/15   \n",
       "1        Working Class              No       03/06/17      03/05/17   \n",
       "2        Working Class             Yes       03/09/15      03/08/15   \n",
       "3              Wealthy             Yes       05/24/15      05/20/15   \n",
       "4        Working Class              No       12/18/16      12/14/16   \n",
       "\n",
       "           Customer Location    Cost  \n",
       "0     New Michelle, OH 50777 -283.29  \n",
       "1  New Michaelport, WY 12072 -159.96  \n",
       "2      Bowmanshire, WA 19241 -154.29  \n",
       "3       East Robyn, KY 86375 -161.16  \n",
       "4        Aprilside, PA 52793 -159.23  "
      ]
     },
     "execution_count": 3,
     "metadata": {},
     "output_type": "execute_result"
    }
   ],
   "source": [
    "train.head()"
   ]
  },
  {
   "cell_type": "code",
   "execution_count": 4,
   "metadata": {
    "execution": {
     "iopub.execute_input": "2023-03-21T23:35:19.304608Z",
     "iopub.status.busy": "2023-03-21T23:35:19.302771Z",
     "iopub.status.idle": "2023-03-21T23:35:19.360552Z",
     "shell.execute_reply": "2023-03-21T23:35:19.359270Z",
     "shell.execute_reply.started": "2023-03-21T23:35:19.304551Z"
    }
   },
   "outputs": [
    {
     "name": "stdout",
     "output_type": "stream",
     "text": [
      "Dataset Shape: (6500, 5)\n"
     ]
    },
    {
     "data": {
      "text/html": [
       "<div>\n",
       "<style scoped>\n",
       "    .dataframe tbody tr th:only-of-type {\n",
       "        vertical-align: middle;\n",
       "    }\n",
       "\n",
       "    .dataframe tbody tr th {\n",
       "        vertical-align: top;\n",
       "    }\n",
       "\n",
       "    .dataframe thead th {\n",
       "        text-align: right;\n",
       "    }\n",
       "</style>\n",
       "<table border=\"1\" class=\"dataframe\">\n",
       "  <thead>\n",
       "    <tr style=\"text-align: right;\">\n",
       "      <th></th>\n",
       "      <th>Feature Name</th>\n",
       "      <th>dtypes</th>\n",
       "      <th>missing</th>\n",
       "      <th>Uniques</th>\n",
       "    </tr>\n",
       "  </thead>\n",
       "  <tbody>\n",
       "    <tr>\n",
       "      <th>0</th>\n",
       "      <td>Artist Reputation</td>\n",
       "      <td>float64</td>\n",
       "      <td>750</td>\n",
       "      <td>101</td>\n",
       "    </tr>\n",
       "    <tr>\n",
       "      <th>1</th>\n",
       "      <td>Weight</td>\n",
       "      <td>float64</td>\n",
       "      <td>587</td>\n",
       "      <td>4410</td>\n",
       "    </tr>\n",
       "    <tr>\n",
       "      <th>2</th>\n",
       "      <td>Price Of Sculpture</td>\n",
       "      <td>float64</td>\n",
       "      <td>0</td>\n",
       "      <td>3424</td>\n",
       "    </tr>\n",
       "    <tr>\n",
       "      <th>3</th>\n",
       "      <td>Base Shipping Price</td>\n",
       "      <td>float64</td>\n",
       "      <td>0</td>\n",
       "      <td>3732</td>\n",
       "    </tr>\n",
       "    <tr>\n",
       "      <th>4</th>\n",
       "      <td>State</td>\n",
       "      <td>object</td>\n",
       "      <td>0</td>\n",
       "      <td>54</td>\n",
       "    </tr>\n",
       "  </tbody>\n",
       "</table>\n",
       "</div>"
      ],
      "text/plain": [
       "          Feature Name   dtypes  missing  Uniques\n",
       "0    Artist Reputation  float64      750      101\n",
       "1               Weight  float64      587     4410\n",
       "2   Price Of Sculpture  float64        0     3424\n",
       "3  Base Shipping Price  float64        0     3732\n",
       "4                State   object        0       54"
      ]
     },
     "execution_count": 4,
     "metadata": {},
     "output_type": "execute_result"
    }
   ],
   "source": [
    "def manipulation(df):\n",
    "    df['State']= df['Customer Location'].str.split(\" \").str[-2]\n",
    "manipulation(train)\n",
    "\n",
    "df = train.drop(columns=[col for col in train.columns if col not in \n",
    "                      ['Price Of Sculpture', 'State', 'Artist Reputation',\n",
    "                       'Base Shipping Price', 'Weight']])\n",
    "   \n",
    "\n",
    "def summary(df):\n",
    "    print(f\"Dataset Shape: {df.shape}\")\n",
    "    summary= pd.DataFrame(df.dtypes, columns=['dtypes'])\n",
    "    summary= summary.reset_index()\n",
    "    summary['Feature Name'] = summary['index']\n",
    "    summary = summary[['Feature Name', 'dtypes']]\n",
    "    summary['missing'] = df.isnull().sum().values\n",
    "    summary['Uniques'] = df.nunique().values\n",
    "    return summary\n",
    "\n",
    "summary(df)"
   ]
  },
  {
   "cell_type": "code",
   "execution_count": 5,
   "metadata": {
    "execution": {
     "iopub.execute_input": "2023-03-21T23:35:21.771530Z",
     "iopub.status.busy": "2023-03-21T23:35:21.770951Z",
     "iopub.status.idle": "2023-03-21T23:35:21.782718Z",
     "shell.execute_reply": "2023-03-21T23:35:21.781513Z",
     "shell.execute_reply.started": "2023-03-21T23:35:21.771471Z"
    }
   },
   "outputs": [],
   "source": [
    "y = train['Cost'].abs()\n",
    "X = train.drop(['Cost'], axis =1)"
   ]
  },
  {
   "cell_type": "code",
   "execution_count": 6,
   "metadata": {
    "execution": {
     "iopub.execute_input": "2023-03-21T23:35:21.784854Z",
     "iopub.status.busy": "2023-03-21T23:35:21.784134Z",
     "iopub.status.idle": "2023-03-21T23:35:21.858695Z",
     "shell.execute_reply": "2023-03-21T23:35:21.857264Z",
     "shell.execute_reply.started": "2023-03-21T23:35:21.784817Z"
    },
    "scrolled": true
   },
   "outputs": [
    {
     "name": "stdout",
     "output_type": "stream",
     "text": [
      "(6500, 6)\n",
      "(6500, 22849)\n"
     ]
    }
   ],
   "source": [
    "num_df = X.select_dtypes(exclude=object)\n",
    "imp_median = SimpleImputer(missing_values=np.nan, strategy='median')\n",
    "num_df = pd.DataFrame(imp_median.fit_transform(num_df), columns=num_df.columns)\n",
    "num_scaled = pd.DataFrame(MinMaxScaler().fit_transform(num_df), columns = num_df.columns)\n",
    "print(num_scaled.shape)\n",
    "\n",
    "\n",
    "# Filtering categorical data\n",
    "cat_df = X.select_dtypes(include=object)\n",
    "# Filling missing values by most frequent value for categorical columns\n",
    "imp_mode = SimpleImputer(missing_values=np.nan, strategy='most_frequent')\n",
    "cat_new = pd.DataFrame(imp_mode.fit_transform(cat_df), columns=cat_df.columns)\n",
    "cat_df = pd.get_dummies(cat_new)\n",
    "print(cat_df.shape)"
   ]
  },
  {
   "cell_type": "markdown",
   "metadata": {},
   "source": [
    "## Modeling"
   ]
  },
  {
   "cell_type": "code",
   "execution_count": 7,
   "metadata": {
    "execution": {
     "iopub.execute_input": "2023-03-21T23:58:27.650391Z",
     "iopub.status.busy": "2023-03-21T23:58:27.650010Z",
     "iopub.status.idle": "2023-03-21T23:58:27.662110Z",
     "shell.execute_reply": "2023-03-21T23:58:27.661101Z",
     "shell.execute_reply.started": "2023-03-21T23:58:27.650352Z"
    }
   },
   "outputs": [],
   "source": [
    "X = pd.concat([num_scaled, cat_df], axis=1)\n",
    "X_train, X_test, y_train, y_test = train_test_split(X, y, test_size = 0.3, random_state = 42)"
   ]
  },
  {
   "cell_type": "code",
   "execution_count": 8,
   "metadata": {},
   "outputs": [
    {
     "name": "stdout",
     "output_type": "stream",
     "text": [
      "MAE Score:  9160.599193435895\n"
     ]
    }
   ],
   "source": [
    "rf = RandomForestRegressor()\n",
    "rf.fit(X_train, y_train)\n",
    "y_pred = rf.predict(X_test)\n",
    "print('MAE Score: ', metrics.mean_absolute_error(y_test, y_pred))"
   ]
  },
  {
   "cell_type": "markdown",
   "metadata": {},
   "source": [
    "## Pipeline"
   ]
  },
  {
   "cell_type": "code",
   "execution_count": 15,
   "metadata": {
    "scrolled": true
   },
   "outputs": [
    {
     "name": "stdout",
     "output_type": "stream",
     "text": [
      "Artist Reputation :  102\n",
      "Height :  66\n",
      "Width :  41\n",
      "Weight :  4411\n",
      "Material :  8\n",
      "Price Of Sculpture :  3424\n",
      "Base Shipping Price :  3732\n",
      "International :  2\n",
      "Express Shipment :  2\n",
      "Installation Included :  2\n",
      "Transport :  4\n",
      "Fragile :  2\n",
      "Customer Information :  2\n",
      "Remote Location :  3\n",
      "Cost :  6356\n",
      "State :  54\n",
      "Days Interval :  9\n"
     ]
    },
    {
     "data": {
      "text/plain": [
       "Pipeline(steps=[('preprocessor',\n",
       "                 ColumnTransformer(transformers=[('num',\n",
       "                                                  Pipeline(steps=[('Num '\n",
       "                                                                   'Imputer',\n",
       "                                                                   SimpleImputer(strategy='median')),\n",
       "                                                                  ('Scaler',\n",
       "                                                                   MinMaxScaler())]),\n",
       "                                                  Index(['Artist Reputation', 'Weight', 'Price Of Sculpture',\n",
       "       'Base Shipping Price'],\n",
       "      dtype='object')),\n",
       "                                                 ('cat',\n",
       "                                                  Pipeline(steps=[('Cat '\n",
       "                                                                   'Imputer',\n",
       "                                                                   SimpleImputer(strategy='most_frequent')),\n",
       "                                                                  ('onehot',\n",
       "                                                                   OneHotEncoder(handle_unknown='ignore'))]),\n",
       "                                                  Index(['State'], dtype='object'))])),\n",
       "                ('RandomForest', RandomForestRegressor())])"
      ]
     },
     "execution_count": 15,
     "metadata": {},
     "output_type": "execute_result"
    }
   ],
   "source": [
    "train = pd.read_csv(train_path)\n",
    "train = manipulation(train)\n",
    "train = train.drop(columns=[col for col in train.columns if col not in \n",
    "                      ['Price Of Sculpture', 'State', 'Artist Reputation',\n",
    "                       'Base Shipping Price', 'Weight', 'Cost']])\n",
    "y = train['Cost'].abs()\n",
    "X = train.drop(['Cost'], axis =1)\n",
    "X_train, X_test, y_train, y_test = train_test_split(X, y, test_size = 0.3, random_state = 42)\n",
    "\n",
    "num_df = X_train.select_dtypes(include=np.number).columns\n",
    "# Numerical Preprocessing\n",
    "num_pre = Pipeline(steps =\n",
    "                   [(\"Num Imputer\", SimpleImputer(missing_values=np.nan, strategy='median')),\n",
    "                    (\"Scaler\", MinMaxScaler())])\n",
    "\n",
    "\n",
    "cat_df = X_train.select_dtypes(exclude=np.number).columns\n",
    "# Categorical Preprocessing\n",
    "cat_pre = Pipeline(steps =\n",
    "                   [(\"Cat Imputer\", SimpleImputer(missing_values=np.nan, strategy='most_frequent')),\n",
    "                    (\"onehot\", OneHotEncoder(handle_unknown='ignore'))])\n",
    "# Joining Categorical and Numerical Columns\n",
    "preprocessor = ColumnTransformer(transformers=[\n",
    "                                ('num', num_pre, num_df),\n",
    "                                ('cat', cat_pre, cat_df)])\n",
    "\n",
    "#Modeling Pipeline\n",
    "pipe = Pipeline(steps = \n",
    "                [('preprocessor', preprocessor),\n",
    "                 ('RandomForest', RandomForestRegressor())])\n",
    "\n",
    "pipe.fit(X_train, y_train)"
   ]
  },
  {
   "cell_type": "code",
   "execution_count": 16,
   "metadata": {},
   "outputs": [],
   "source": [
    "import pandas as pd\n",
    "import numpy as np\n",
    "from sklearn.compose import ColumnTransformer\n",
    "from sklearn.ensemble import RandomForestRegressor\n",
    "from sklearn.impute import SimpleImputer\n",
    "from sklearn.pipeline import Pipeline\n",
    "from sklearn.preprocessing import MinMaxScaler, OneHotEncoder\n",
    "from sklearn.model_selection import train_test_split\n",
    "import pickle\n",
    "\n",
    "# Read the training data\n",
    "train = pd.read_csv(train_path)\n",
    "\n",
    "# Perform manipulation on the data\n",
    "def manipulation(df):\n",
    "    df['State']= df['Customer Location'].str.split(\" \").str[-2]\n",
    "    return df\n",
    "\n",
    "train = manipulation(train)\n",
    "\n",
    "# Drop unwanted columns\n",
    "train = train.drop(columns=[col for col in train.columns if col not in \n",
    "                      ['Price Of Sculpture', 'State', 'Artist Reputation',\n",
    "                       'Base Shipping Price', 'Weight', 'Cost']])\n",
    "\n",
    "# Separate the target variable and features\n",
    "y = train['Cost'].abs()\n",
    "X = train.drop(['Cost'], axis =1)\n",
    "\n",
    "# Split the data into training and testing sets\n",
    "X_train, X_test, y_train, y_test = train_test_split(X, y, test_size = 0.3, random_state = 42)\n",
    "\n",
    "# Define the numerical columns for preprocessing\n",
    "num_df = X_train.select_dtypes(include=np.number).columns\n",
    "\n",
    "# Define the numerical preprocessing steps\n",
    "num_pre = Pipeline(steps=[\n",
    "                   (\"Num Imputer\", SimpleImputer(missing_values=np.nan, strategy='median')),\n",
    "                   (\"Scaler\", MinMaxScaler())\n",
    "                 ])\n",
    "\n",
    "# Define the categorical columns for preprocessing\n",
    "cat_df = X_train.select_dtypes(exclude=np.number).columns\n",
    "\n",
    "# Define the categorical preprocessing steps\n",
    "cat_pre = Pipeline(steps=[\n",
    "                   (\"Cat Imputer\", SimpleImputer(missing_values=np.nan, strategy='most_frequent')),\n",
    "                   (\"onehot\", OneHotEncoder(handle_unknown='ignore'))\n",
    "                 ])\n",
    "\n",
    "# Combine the preprocessing steps for both numerical and categorical columns\n",
    "preprocessor = ColumnTransformer(transformers=[\n",
    "                  ('num', num_pre, num_df),\n",
    "                  ('cat', cat_pre, cat_df)\n",
    "                ])\n",
    "\n",
    "# Define the modeling pipeline\n",
    "pipe = Pipeline(steps=[\n",
    "          ('preprocessor', preprocessor),\n",
    "          ('RandomForest', RandomForestRegressor())\n",
    "        ])\n",
    "\n",
    "# Fit the model on the training data\n",
    "pipe.fit(X_train, y_train)\n",
    "\n",
    "# Save the model using pickle\n",
    "with open('model.pkl', 'wb') as f:\n",
    "    pickle.dump(pipe, f)"
   ]
  }
 ],
 "metadata": {
  "kernelspec": {
   "display_name": "Python 3 (ipykernel)",
   "language": "python",
   "name": "python3"
  },
  "language_info": {
   "codemirror_mode": {
    "name": "ipython",
    "version": 3
   },
   "file_extension": ".py",
   "mimetype": "text/x-python",
   "name": "python",
   "nbconvert_exporter": "python",
   "pygments_lexer": "ipython3",
   "version": "3.9.13"
  }
 },
 "nbformat": 4,
 "nbformat_minor": 4
}
