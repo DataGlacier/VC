{
  "nbformat": 4,
  "nbformat_minor": 0,
  "metadata": {
    "colab": {
      "provenance": [],
      "authorship_tag": "ABX9TyNl20ym3vH/0sgjM8a2cEmV",
      "include_colab_link": true
    },
    "kernelspec": {
      "name": "python3",
      "display_name": "Python 3"
    },
    "language_info": {
      "name": "python"
    }
  },
  "cells": [
    {
      "cell_type": "markdown",
      "metadata": {
        "id": "view-in-github",
        "colab_type": "text"
      },
      "source": [
        "<a href=\"https://colab.research.google.com/github/achyutbenz19/VC/blob/week_1/week1.ipynb\" target=\"_parent\"><img src=\"https://colab.research.google.com/assets/colab-badge.svg\" alt=\"Open In Colab\"/></a>"
      ]
    },
    {
      "cell_type": "code",
      "execution_count": 1,
      "metadata": {
        "id": "EdFIU6QMCqYq"
      },
      "outputs": [],
      "source": [
        "import warnings\n",
        "import numpy as np\n",
        "import pandas as pd\n",
        "import seaborn as sns\n",
        "from scipy import stats\n",
        "import matplotlib.pyplot as plt\n",
        "\n",
        "warnings.filterwarnings(\"ignore\")"
      ]
    },
    {
      "cell_type": "code",
      "source": [
        "cab_df = pd.read_csv('Cab_Data.csv')\n",
        "cab_df.head(3)"
      ],
      "metadata": {
        "id": "lDeTHj-yC9Ov"
      },
      "execution_count": null,
      "outputs": []
    },
    {
      "cell_type": "code",
      "source": [
        "cab_df.info()"
      ],
      "metadata": {
        "id": "A9c-ngJmHVsb"
      },
      "execution_count": null,
      "outputs": []
    },
    {
      "cell_type": "code",
      "source": [
        "cab_df.dtypes"
      ],
      "metadata": {
        "id": "XTIC1WMyHWuD"
      },
      "execution_count": null,
      "outputs": []
    },
    {
      "cell_type": "code",
      "source": [
        "# change the type of Date of Travel datatype into DateTime \n",
        "a = cab_df['Date of Travel'].to_list()\n",
        "base_date = pd.Timestamp('1899-12-29')\n",
        "dates = [base_date + pd.DateOffset(date_offset) for date_offset in a]\n",
        "cab_df['Date of Travel'] = pd.to_datetime(dates, format='%y/%m/%d')"
      ],
      "metadata": {
        "id": "tBEX32GZHZR2"
      },
      "execution_count": null,
      "outputs": []
    },
    {
      "cell_type": "code",
      "source": [
        "cab_df.describe()"
      ],
      "metadata": {
        "id": "XVlin4xPHhsb"
      },
      "execution_count": null,
      "outputs": []
    },
    {
      "cell_type": "code",
      "source": [
        "cab_df['Company'].unique()"
      ],
      "metadata": {
        "id": "IvZ31FXYHjxe"
      },
      "execution_count": null,
      "outputs": []
    },
    {
      "cell_type": "code",
      "source": [
        "cab_df['City'].unique()"
      ],
      "metadata": {
        "id": "4x4gZDqaHpXT"
      },
      "execution_count": null,
      "outputs": []
    },
    {
      "cell_type": "code",
      "source": [
        "city_df = pd.read_csv('Dataset/City.csv')\n",
        "city_df.head(3)"
      ],
      "metadata": {
        "id": "qwioJw4tHsxi"
      },
      "execution_count": null,
      "outputs": []
    },
    {
      "cell_type": "code",
      "source": [
        "city_df.info()"
      ],
      "metadata": {
        "id": "i4m1vNGsHvR8"
      },
      "execution_count": null,
      "outputs": []
    },
    {
      "cell_type": "code",
      "source": [
        "# Attribute 'Population' should be an integer\n",
        "city_df['Population'] = [x.replace(',','') for x in city_df['Population']]\n",
        "city_df['Population'] = city_df['Population'].astype(float)\n",
        "\n",
        "# Attribute 'Users' should be an integer\n",
        "city_df['Users'] = [x.replace(',','') for x in city_df['Users']]\n",
        "city_df['Users'] = city_df['Users'].astype(float)"
      ],
      "metadata": {
        "id": "SzA5YeAeHxXi"
      },
      "execution_count": null,
      "outputs": []
    },
    {
      "cell_type": "code",
      "source": [
        "city_df.describe()"
      ],
      "metadata": {
        "id": "JMwfR_UmHzni"
      },
      "execution_count": null,
      "outputs": []
    },
    {
      "cell_type": "code",
      "source": [
        "transaction_id_df = pd.read_csv('Dataset/Transaction_ID.csv')\n",
        "transaction_id_df.head()\n"
      ],
      "metadata": {
        "id": "5TE_0C_xH22D"
      },
      "execution_count": null,
      "outputs": []
    },
    {
      "cell_type": "code",
      "source": [
        "transaction_id_df.info()"
      ],
      "metadata": {
        "id": "DhsYz2IlH5gH"
      },
      "execution_count": null,
      "outputs": []
    },
    {
      "cell_type": "code",
      "source": [
        "transaction_id_df.describe(include = 'all', datetime_is_numeric=True)"
      ],
      "metadata": {
        "id": "SnHw2D_bH7Oh"
      },
      "execution_count": null,
      "outputs": []
    },
    {
      "cell_type": "code",
      "source": [
        "customer_id_df = pd.read_csv('Dataset/Customer_ID.csv')\n",
        "customer_id_df.head()"
      ],
      "metadata": {
        "id": "wumo7RsDH9SS"
      },
      "execution_count": null,
      "outputs": []
    },
    {
      "cell_type": "code",
      "source": [
        "customer_id_df.info()"
      ],
      "metadata": {
        "id": "-G5rQ-xUH_EW"
      },
      "execution_count": null,
      "outputs": []
    },
    {
      "cell_type": "code",
      "source": [
        "customer_id_df.describe( include = 'all')\n"
      ],
      "metadata": {
        "id": "Ixkyfy2jIBlj"
      },
      "execution_count": null,
      "outputs": []
    },
    {
      "cell_type": "code",
      "source": [
        "df= cab_df.merge(transaction_id_df, on= 'Transaction ID').merge(customer_id_df, on ='Customer ID').merge(city_df, on = 'City')\n",
        "df.head(2)"
      ],
      "metadata": {
        "id": "QF4kCyzTIDLr"
      },
      "execution_count": null,
      "outputs": []
    },
    {
      "cell_type": "code",
      "source": [
        "sns.pairplot(df.head(1000), hue = 'Company')"
      ],
      "metadata": {
        "id": "88EajFFqIM8Y"
      },
      "execution_count": null,
      "outputs": []
    },
    {
      "cell_type": "code",
      "source": [
        "data_corr = df.corr()\n",
        "data_corr\n"
      ],
      "metadata": {
        "id": "kHexzwcqIPnN"
      },
      "execution_count": null,
      "outputs": []
    },
    {
      "cell_type": "code",
      "source": [
        "# Define the figure size\n",
        "plt.figure(figsize = (16, 9))\n",
        "\n",
        "# Cutomize the annot\n",
        "annot_kws={'fontsize':10,                      # To change the size of the font\n",
        "           'fontstyle':'italic',               # To change the style of font \n",
        "           'fontfamily': 'serif',              # To change the family of font \n",
        "           'alpha':1 }                         # To change the transparency of the text  \n",
        "\n",
        "\n",
        "# Customize the cbar\n",
        "cbar_kws = {\"shrink\":1,                        # To change the size of the color bar\n",
        "            'extend':'min',                    # To change the end of the color bar like pointed\n",
        "            'extendfrac':0.1,                  # To adjust the extension of the color bar\n",
        "            \"drawedges\":True,                  # To draw lines (edges) on the color bar\n",
        "           }\n",
        "\n",
        "# take upper correlation matrix\n",
        "matrix = np.triu(data_corr)\n",
        "\n",
        "# Generate heatmap correlation\n",
        "ax = sns.heatmap(data_corr, mask = matrix, cmap = 'rainbow', annot = True, linewidth = 1.5 ,annot_kws= annot_kws, cbar_kws=cbar_kws)\n",
        "\n",
        "# Set the title etc\n",
        "plt.title('Correlation Heatmap of \"G2M Insight for Cab Investment\", fontsize = 20')\n",
        "\n",
        "# Set the size of text\n",
        "sns.set(font_scale = 1.2)"
      ],
      "metadata": {
        "id": "CGkeOtjXIRIm"
      },
      "execution_count": null,
      "outputs": []
    },
    {
      "cell_type": "code",
      "source": [
        "user=df.groupby('Company')\n",
        "avg_user = user.Users.mean()\n",
        "index = avg_user.index\n",
        "value = avg_user.values \n",
        "figp, axp = plt.subplots(figsize=(10,7))\n",
        "axp.pie(value , labels=index, autopct='%1.1f%%',shadow=True, startangle=90,)\n",
        "axp.axis('equal')\n",
        "\n",
        "plt.title('Users Travel', fontsize = 15)\n",
        "plt.show()"
      ],
      "metadata": {
        "id": "R_vWyZdIITdC"
      },
      "execution_count": null,
      "outputs": []
    },
    {
      "cell_type": "code",
      "source": [
        "sns.set(style = 'darkgrid')\n",
        "\n",
        "plt.figure(figsize = (16, 9))\n",
        "\n",
        "sns.boxplot(df['Company'], df['Price Charged'])\n",
        "plt.title('Price Charged of Both Companies', fontsize=20)\n",
        "plt.show()\n"
      ],
      "metadata": {
        "id": "rZ9pXU1sIV2b"
      },
      "execution_count": null,
      "outputs": []
    },
    {
      "cell_type": "code",
      "source": [
        "plt.figure(figsize = (16, 9))\n",
        "plt.hist(df['KM Travelled'], bins = 40)\n",
        "plt.title('Km Travelled Distribution', fontsize=20)\n",
        "plt.ylabel('Frequency')\n",
        "plt.xlabel('Km Travelled')\n",
        "plt.show()"
      ],
      "metadata": {
        "id": "tYIi-j9GIX9l"
      },
      "execution_count": null,
      "outputs": []
    },
    {
      "cell_type": "code",
      "source": [
        "plt.figure(figsize = (16, 9))\n",
        "ax = sns.countplot(x=\"Company\", hue=\"Payment_Mode\", data=df)\n",
        "plt.title('Payment Mode in both companies', fontsize=25)\n",
        "plt.show()\n"
      ],
      "metadata": {
        "id": "ww1kdaP3IZ87"
      },
      "execution_count": null,
      "outputs": []
    },
    {
      "cell_type": "code",
      "source": [
        "gender_cab=df.groupby(['Company','Gender'])\n",
        "gender_cab  = gender_cab['Customer ID'].nunique()\n",
        "print(gender_cab)"
      ],
      "metadata": {
        "id": "eVLwHhofIbpQ"
      },
      "execution_count": null,
      "outputs": []
    },
    {
      "cell_type": "code",
      "source": [
        "labs = gender_cab.index\n",
        "vals = gender_cab.values\n",
        "figp, axp = plt.subplots(figsize=(10,7))\n",
        "axp.pie(vals , labels=labs, autopct='%1.1f%%',shadow=True, startangle=90,)\n",
        "axp.axis('equal')\n",
        "\n",
        "plt.title('Customer share per gender per cab', fontsize = 15)\n",
        "plt.show()\n"
      ],
      "metadata": {
        "id": "2KSJTHdWIdb2"
      },
      "execution_count": null,
      "outputs": []
    },
    {
      "cell_type": "code",
      "source": [
        "city_users = df.groupby('City')\n",
        "city_users = city_users.Users.count()\n",
        "labs = city_users.index\n",
        "vals = city_users.values\n",
        "\n",
        "plt.style.use('fivethirtyeight')\n",
        "figp, axp = plt.subplots(figsize=(18,13))\n",
        "axp.pie(vals , labels=labs, autopct='%1.1f%%',shadow=True, startangle=90,)\n",
        "axp.axis('equal')\n",
        "plt.title('Users per City')\n",
        "plt.show()"
      ],
      "metadata": {
        "id": "okbnc3SJIfU8"
      },
      "execution_count": null,
      "outputs": []
    },
    {
      "cell_type": "code",
      "source": [
        "\n",
        "company = df.groupby('Company')\n",
        "price_charged = company['Price Charged'].mean()\n",
        "cost_trip = company['Cost of Trip'].mean()\n",
        "c = cost_trip.index\n",
        "c_v = cost_trip.values\n",
        "c_p = price_charged.values\n",
        "plt.style.use('fivethirtyeight')\n",
        "plt.figure(figsize = (16, 9))\n",
        "plt.bar(c, c_p, edgecolor='black', label=\"Revenue\")\n",
        "plt.bar(c, c_v, edgecolor='black', label=\"Profit\")\n",
        "plt.title('Profit Margin')\n",
        "plt.ylabel('Price Charged')\n",
        "plt.xlabel('Cost of Trip')\n",
        "plt.legend()\n",
        "plt.show()\n"
      ],
      "metadata": {
        "id": "tjLbqqCVIilQ"
      },
      "execution_count": null,
      "outputs": []
    },
    {
      "cell_type": "code",
      "source": [
        "df['Year'] = df['Date of Travel'].dt.year\n",
        "df['Month'] = df['Date of Travel'].dt.month\n",
        "df['Day'] = df['Date of Travel'].dt.day\n",
        "df['Profit'] = df['Price Charged'] - df['Cost of Trip']\n",
        "plt.figure(figsize = (16, 9))\n",
        "sns.lineplot(x='Year', y='Profit', hue=\"Company\", data=df, marker='o')\n",
        "plt.xlabel(\"Year\", size=14)\n",
        "plt.ylabel(\"Profit %\", size=14)\n",
        "plt.title(\"Profit % per year\")\n",
        "plt.show()\n"
      ],
      "metadata": {
        "id": "6b9JSUq_IkM6"
      },
      "execution_count": null,
      "outputs": []
    },
    {
      "cell_type": "code",
      "source": [
        "plt.figure(figsize = (16, 9))\n",
        "sns.lineplot(x='Month', y='Profit', hue=\"Company\", data=df, marker='o')\n",
        "plt.xlabel(\"Month\", size=14)\n",
        "plt.ylabel(\"Profit %\", size=14)\n",
        "plt.title(\"Profit % per month\")\n",
        "plt.show()"
      ],
      "metadata": {
        "id": "Vaxcno68Il-E"
      },
      "execution_count": null,
      "outputs": []
    },
    {
      "cell_type": "code",
      "source": [
        "urp = (city_df['Users'] /city_df['Population']) * 100 \n",
        "city = city_df['City']\n",
        "# Get the list of color\n",
        "from random import randint\n",
        "\n",
        "colors = []\n",
        "n = 16\n",
        "\n",
        "for i in range(n):\n",
        "    colors.append('#%06X' % randint(0, 0xFFFFFF))\n",
        "plt.figure(figsize = (16, 9))\n",
        "plt.bar(city, urp, edgecolor='black', color = colors)\n",
        "plt.gcf().autofmt_xdate()\n",
        "plt.title('Users Respective Population')\n",
        "plt.ylabel('Percentage (%)')\n",
        "plt.xlabel('Cities')\n",
        "plt.show()"
      ],
      "metadata": {
        "id": "eem-ypyDIn-l"
      },
      "execution_count": null,
      "outputs": []
    },
    {
      "cell_type": "code",
      "source": [
        "sns.set(style = 'darkgrid') \n",
        "\n",
        "plt.figure(figsize = (16, 9))\n",
        "\n",
        "sns.violinplot(df['Gender'], df['Age'], hue = df['Company'], palette = 'husl', inner = 'quartiles')\n",
        "plt.title('Avg age of users', fontsize=20)\n",
        "plt.show()\n"
      ],
      "metadata": {
        "id": "wGzE5IgcIqGy"
      },
      "execution_count": null,
      "outputs": []
    },
    {
      "cell_type": "code",
      "source": [
        "sns.set(style = 'darkgrid')\n",
        "\n",
        "plt.figure(figsize = (16, 9))\n",
        "\n",
        "sns.boxplot(df['Company'], df['Income (USD/Month)'])\n",
        "plt.title('User Income', fontsize=20)\n",
        "plt.show()"
      ],
      "metadata": {
        "id": "PZLaA5SbIr-J"
      },
      "execution_count": null,
      "outputs": []
    },
    {
      "cell_type": "code",
      "source": [
        "plt.figure(figsize = (16, 9))\n",
        "\n",
        "sns.scatterplot(data=df, x=\"KM Travelled\", y='Price Charged', hue='Company')\n",
        "plt.title('Price Charged w.r.t Distance',fontsize = 20)\n",
        "plt.ylabel('Price Charged',fontsize = 14)\n",
        "plt.xlabel('KM Travelled',fontsize = 14)\n",
        "plt.show()\n"
      ],
      "metadata": {
        "id": "YDRr9Q78It-l"
      },
      "execution_count": null,
      "outputs": []
    },
    {
      "cell_type": "code",
      "source": [
        "a = df[(df.Gender=='Male')&(df.Company=='Pink Cab')].groupby('Transaction ID').Profit.mean()\n",
        "b = df[(df.Gender=='Female')&(df.Company=='Pink Cab')].groupby('Transaction ID').Profit.mean()\n",
        "print(a.shape[0],b.shape[0])\n",
        "\n",
        "_, p_value = stats.ttest_ind(a.values,\n",
        "                             b.values,\n",
        "                             equal_var=True)\n",
        "\n",
        "print('P value is ', p_value)\n",
        "\n",
        "if(p_value<0.05):\n",
        "    print('We accept alternative hypothesis (H1) that there is a difference regarding gender for Pink Cab')\n",
        "else:\n",
        "    print('We accept null hypothesis (H0) that there is no difference regarding gender for Pink Cab')\n",
        "    "
      ],
      "metadata": {
        "id": "shhxPnABIwAN"
      },
      "execution_count": null,
      "outputs": []
    },
    {
      "cell_type": "code",
      "source": [
        "a = df[(df.Gender=='Male')&(df.Company=='Yellow Cab')].groupby('Transaction ID').Profit.mean()\n",
        "b = df[(df.Gender=='Female')&(df.Company=='Yellow Cab')].groupby('Transaction ID').Profit.mean()\n",
        "print(a.shape[0],b.shape[0])\n",
        "\n",
        "_, p_value = stats.ttest_ind(a.values,\n",
        "                             b.values,\n",
        "                             equal_var=True)\n",
        "\n",
        "print('P value is ', p_value)\n",
        "\n",
        "if(p_value<0.05):\n",
        "    print('We accept alternative hypothesis (H1) that there is a difference regarding gender for Yellow Cab')\n",
        "else:\n",
        "    print('We accept null hypothesis (H0) that there is no difference regarding gender for Yellow Cab')"
      ],
      "metadata": {
        "id": "qg8C2YH0I6_P"
      },
      "execution_count": null,
      "outputs": []
    },
    {
      "cell_type": "code",
      "source": [
        "a = df[(df.Age <= 60)&(df.Company=='Pink Cab')].groupby('Transaction ID').Profit.mean()\n",
        "b = df[(df.Age >= 60)&(df.Company=='Pink Cab')].groupby('Transaction ID').Profit.mean()\n",
        "print(a.shape[0],b.shape[0])\n",
        "\n",
        "_, p_value = stats.ttest_ind(a.values,\n",
        "                             b.values,\n",
        "                             equal_var=True)\n",
        "\n",
        "print('P value is ', p_value)\n",
        "\n",
        "if(p_value<0.05):\n",
        "    print('We accept alternative hypothesis (H1) that there is a difference regarding age for Pink Cab')\n",
        "else:\n",
        "    print('We accept null hypothesis (H0) that there is no difference regarding age for Pink Cab')"
      ],
      "metadata": {
        "id": "FThFgXsRI9YI"
      },
      "execution_count": null,
      "outputs": []
    },
    {
      "cell_type": "code",
      "source": [
        "a = df[(df.Age <= 60)&(df.Company=='Yellow Cab')].groupby('Transaction ID').Profit.mean()\n",
        "b = df[(df.Age >= 60)&(df.Company=='Yellow Cab')].groupby('Transaction ID').Profit.mean()\n",
        "print(a.shape[0],b.shape[0])\n",
        "\n",
        "_, p_value = stats.ttest_ind(a.values,\n",
        "                             b.values,\n",
        "                             equal_var=True)\n",
        "\n",
        "print('P value is ', p_value)\n",
        "\n",
        "if(p_value<0.05):\n",
        "    print('We accept alternative hypothesis (H1) that there is a difference regarding age for Yellow Cab')\n",
        "else:\n",
        "    print('We accept null hypothesis (H0) that there is no difference regarding age for Yellow Cab')"
      ],
      "metadata": {
        "id": "6TTjkw1hJHh2"
      },
      "execution_count": null,
      "outputs": []
    },
    {
      "cell_type": "code",
      "source": [
        "\n",
        "a = df[(df['Payment_Mode']=='Cash')&(df.Company=='Pink Cab')].groupby('Transaction ID').Profit.mean()\n",
        "b = df[(df['Payment_Mode']=='Card')&(df.Company=='Pink Cab')].groupby('Transaction ID').Profit.mean()\n",
        "\n",
        "_, p_value = stats.ttest_ind(a.values,\n",
        "                             b.values,\n",
        "                             equal_var=True)\n",
        "\n",
        "print('P value is ', p_value)\n",
        "\n",
        "if(p_value<0.05):\n",
        "    print('We accept alternative hypothesis (H1) that there is a difference in payment mode for Pink Cab')\n",
        "else:\n",
        "    print('We accept null hypothesis (H0) that there is no difference in payment mode for Pink Cab')"
      ],
      "metadata": {
        "id": "XHh5KsY1JLfx"
      },
      "execution_count": null,
      "outputs": []
    },
    {
      "cell_type": "code",
      "source": [
        "a = df[(df['Payment_Mode']=='Cash')&(df.Company=='Yellow Cab')].groupby('Transaction ID').Profit.mean()\n",
        "b = df[(df['Payment_Mode']=='Card')&(df.Company=='Yellow Cab')].groupby('Transaction ID').Profit.mean()\n",
        "\n",
        "_, p_value = stats.ttest_ind(a.values,\n",
        "                             b.values,\n",
        "                             equal_var=True)\n",
        "\n",
        "print('P value is ', p_value)\n",
        "\n",
        "if(p_value<0.05):\n",
        "    print('We accept alternative hypothesis (H1) that there is a difference in payment mode for Yellow Cab')\n",
        "else:\n",
        "    print('We accept null hypothesis (H0) that there is no difference in payment mode for Yellow Cab')"
      ],
      "metadata": {
        "id": "OVxrM7v5JNvp"
      },
      "execution_count": null,
      "outputs": []
    }
  ]
}